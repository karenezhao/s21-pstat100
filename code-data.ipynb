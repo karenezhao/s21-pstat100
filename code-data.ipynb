{
 "cells": [
  {
   "cell_type": "markdown",
   "source": "# This pynb is for code that will not appear in our report",
   "metadata": {
    "cell_id": "00000-a92ed5a4-7d64-44a9-ac05-02039945d84d",
    "deepnote_cell_type": "markdown"
   }
  },
  {
   "cell_type": "code",
   "metadata": {
    "deepnote_to_be_reexecuted": false,
    "source_hash": "7baafd37",
    "execution_start": 1622349426057,
    "execution_millis": 98,
    "cell_id": "00001-b24963b6-fca9-495d-a32d-5fd167661e6b",
    "deepnote_cell_type": "code"
   },
   "source": "import numpy as np\nimport pandas as pd\nimport altair as alt",
   "execution_count": 1,
   "outputs": []
  },
  {
   "cell_type": "code",
   "metadata": {
    "deepnote_to_be_reexecuted": false,
    "source_hash": "e0d59ddf",
    "execution_start": 1622349426211,
    "execution_millis": 230,
    "cell_id": "00002-cbb197ef-532c-451f-ae71-9c65aa69b5ea",
    "deepnote_cell_type": "code"
   },
   "source": "# import human-freedom-index raw data\nhfi_raw = pd.read_csv('data/human-freedom-index-2020.csv')\nhfi_raw.head()",
   "execution_count": 2,
   "outputs": [
    {
     "output_type": "execute_result",
     "execution_count": 2,
     "data": {
      "application/vnd.deepnote.dataframe.v2+json": {
       "row_count": 5,
       "column_count": 113,
       "columns": [
        {
         "name": "Unnamed: 0",
         "dtype": "int64",
         "stats": {
          "unique_count": 5,
          "nan_count": 0,
          "min": "0",
          "max": "4",
          "histogram": [
           {
            "bin_start": 0,
            "bin_end": 0.4,
            "count": 1
           },
           {
            "bin_start": 0.4,
            "bin_end": 0.8,
            "count": 0
           },
           {
            "bin_start": 0.8,
            "bin_end": 1.2000000000000002,
            "count": 1
           },
           {
            "bin_start": 1.2000000000000002,
            "bin_end": 1.6,
            "count": 0
           },
           {
            "bin_start": 1.6,
            "bin_end": 2,
            "count": 0
           },
           {
            "bin_start": 2,
            "bin_end": 2.4000000000000004,
            "count": 1
           },
           {
            "bin_start": 2.4000000000000004,
            "bin_end": 2.8000000000000003,
            "count": 0
           },
           {
            "bin_start": 2.8000000000000003,
            "bin_end": 3.2,
            "count": 1
           },
           {
            "bin_start": 3.2,
            "bin_end": 3.6,
            "count": 0
           },
           {
            "bin_start": 3.6,
            "bin_end": 4,
            "count": 1
           }
          ]
         }
        },
        {
         "name": "year",
         "dtype": "int64",
         "stats": {
          "unique_count": 5,
          "nan_count": 0,
          "min": "2014",
          "max": "2018",
          "histogram": [
           {
            "bin_start": 2014,
            "bin_end": 2014.4,
            "count": 1
           },
           {
            "bin_start": 2014.4,
            "bin_end": 2014.8,
            "count": 0
           },
           {
            "bin_start": 2014.8,
            "bin_end": 2015.2,
            "count": 1
           },
           {
            "bin_start": 2015.2,
            "bin_end": 2015.6,
            "count": 0
           },
           {
            "bin_start": 2015.6,
            "bin_end": 2016,
            "count": 0
           },
           {
            "bin_start": 2016,
            "bin_end": 2016.4,
            "count": 1
           },
           {
            "bin_start": 2016.4,
            "bin_end": 2016.8,
            "count": 0
           },
           {
            "bin_start": 2016.8,
            "bin_end": 2017.2,
            "count": 1
           },
           {
            "bin_start": 2017.2,
            "bin_end": 2017.6,
            "count": 0
           },
           {
            "bin_start": 2017.6,
            "bin_end": 2018,
            "count": 1
           }
          ]
         }
        },
        {
         "name": "ISO_code",
         "dtype": "object",
         "stats": {
          "unique_count": 1,
          "nan_count": 0,
          "categories": [
           {
            "name": "ALB",
            "count": 5
           }
          ]
         }
        },
        {
         "name": "countries",
         "dtype": "object",
         "stats": {
          "unique_count": 1,
          "nan_count": 0,
          "categories": [
           {
            "name": "Albania",
            "count": 5
           }
          ]
         }
        },
        {
         "name": "region",
         "dtype": "object",
         "stats": {
          "unique_count": 1,
          "nan_count": 0,
          "categories": [
           {
            "name": "Eastern Europe",
            "count": 5
           }
          ]
         }
        },
        {
         "name": "hf_score",
         "dtype": "float64",
         "stats": {
          "unique_count": 5,
          "nan_count": 0,
          "min": "7.55",
          "max": "7.81",
          "histogram": [
           {
            "bin_start": 7.55,
            "bin_end": 7.576,
            "count": 1
           },
           {
            "bin_start": 7.576,
            "bin_end": 7.601999999999999,
            "count": 0
           },
           {
            "bin_start": 7.601999999999999,
            "bin_end": 7.628,
            "count": 0
           },
           {
            "bin_start": 7.628,
            "bin_end": 7.654,
            "count": 2
           },
           {
            "bin_start": 7.654,
            "bin_end": 7.68,
            "count": 0
           },
           {
            "bin_start": 7.68,
            "bin_end": 7.7059999999999995,
            "count": 0
           },
           {
            "bin_start": 7.7059999999999995,
            "bin_end": 7.731999999999999,
            "count": 0
           },
           {
            "bin_start": 7.731999999999999,
            "bin_end": 7.758,
            "count": 0
           },
           {
            "bin_start": 7.758,
            "bin_end": 7.784,
            "count": 1
           },
           {
            "bin_start": 7.784,
            "bin_end": 7.81,
            "count": 1
           }
          ]
         }
        },
        {
         "name": "hf_rank",
         "dtype": "float64",
         "stats": {
          "unique_count": 5,
          "nan_count": 0,
          "min": "43.0",
          "max": "52.0",
          "histogram": [
           {
            "bin_start": 43,
            "bin_end": 43.9,
            "count": 1
           },
           {
            "bin_start": 43.9,
            "bin_end": 44.8,
            "count": 1
           },
           {
            "bin_start": 44.8,
            "bin_end": 45.7,
            "count": 0
           },
           {
            "bin_start": 45.7,
            "bin_end": 46.6,
            "count": 0
           },
           {
            "bin_start": 46.6,
            "bin_end": 47.5,
            "count": 0
           },
           {
            "bin_start": 47.5,
            "bin_end": 48.4,
            "count": 1
           },
           {
            "bin_start": 48.4,
            "bin_end": 49.3,
            "count": 0
           },
           {
            "bin_start": 49.3,
            "bin_end": 50.2,
            "count": 1
           },
           {
            "bin_start": 50.2,
            "bin_end": 51.1,
            "count": 0
           },
           {
            "bin_start": 51.1,
            "bin_end": 52,
            "count": 1
           }
          ]
         }
        },
        {
         "name": "hf_quartile",
         "dtype": "float64",
         "stats": {
          "unique_count": 1,
          "nan_count": 0,
          "min": "2.0",
          "max": "2.0",
          "histogram": [
           {
            "bin_start": 1.5,
            "bin_end": 1.6,
            "count": 0
           },
           {
            "bin_start": 1.6,
            "bin_end": 1.7,
            "count": 0
           },
           {
            "bin_start": 1.7,
            "bin_end": 1.8,
            "count": 0
           },
           {
            "bin_start": 1.8,
            "bin_end": 1.9,
            "count": 0
           },
           {
            "bin_start": 1.9,
            "bin_end": 2,
            "count": 0
           },
           {
            "bin_start": 2,
            "bin_end": 2.1,
            "count": 5
           },
           {
            "bin_start": 2.1,
            "bin_end": 2.2,
            "count": 0
           },
           {
            "bin_start": 2.2,
            "bin_end": 2.3,
            "count": 0
           },
           {
            "bin_start": 2.3,
            "bin_end": 2.4,
            "count": 0
           },
           {
            "bin_start": 2.4,
            "bin_end": 2.5,
            "count": 0
           }
          ]
         }
        },
        {
         "name": "pf_rol_procedural",
         "dtype": "float64",
         "stats": {
          "unique_count": 4,
          "nan_count": 0,
          "min": "6.0",
          "max": "6.7",
          "histogram": [
           {
            "bin_start": 6,
            "bin_end": 6.07,
            "count": 1
           },
           {
            "bin_start": 6.07,
            "bin_end": 6.14,
            "count": 1
           },
           {
            "bin_start": 6.14,
            "bin_end": 6.21,
            "count": 0
           },
           {
            "bin_start": 6.21,
            "bin_end": 6.28,
            "count": 0
           },
           {
            "bin_start": 6.28,
            "bin_end": 6.35,
            "count": 1
           },
           {
            "bin_start": 6.35,
            "bin_end": 6.42,
            "count": 0
           },
           {
            "bin_start": 6.42,
            "bin_end": 6.49,
            "count": 0
           },
           {
            "bin_start": 6.49,
            "bin_end": 6.5600000000000005,
            "count": 0
           },
           {
            "bin_start": 6.5600000000000005,
            "bin_end": 6.63,
            "count": 0
           },
           {
            "bin_start": 6.63,
            "bin_end": 6.7,
            "count": 2
           }
          ]
         }
        },
        {
         "name": "pf_rol_civil",
         "dtype": "float64",
         "stats": {
          "unique_count": 3,
          "nan_count": 0,
          "min": "4.4",
          "max": "4.8",
          "histogram": [
           {
            "bin_start": 4.4,
            "bin_end": 4.44,
            "count": 1
           },
           {
            "bin_start": 4.44,
            "bin_end": 4.48,
            "count": 0
           },
           {
            "bin_start": 4.48,
            "bin_end": 4.5200000000000005,
            "count": 2
           },
           {
            "bin_start": 4.5200000000000005,
            "bin_end": 4.5600000000000005,
            "count": 0
           },
           {
            "bin_start": 4.5600000000000005,
            "bin_end": 4.6,
            "count": 0
           },
           {
            "bin_start": 4.6,
            "bin_end": 4.64,
            "count": 0
           },
           {
            "bin_start": 4.64,
            "bin_end": 4.68,
            "count": 0
           },
           {
            "bin_start": 4.68,
            "bin_end": 4.72,
            "count": 0
           },
           {
            "bin_start": 4.72,
            "bin_end": 4.76,
            "count": 0
           },
           {
            "bin_start": 4.76,
            "bin_end": 4.8,
            "count": 2
           }
          ]
         }
        },
        {
         "name": "pf_rol_criminal",
         "dtype": "float64",
         "stats": {
          "unique_count": 3,
          "nan_count": 0,
          "min": "4.3",
          "max": "4.7",
          "histogram": [
           {
            "bin_start": 4.3,
            "bin_end": 4.34,
            "count": 1
           },
           {
            "bin_start": 4.34,
            "bin_end": 4.38,
            "count": 0
           },
           {
            "bin_start": 4.38,
            "bin_end": 4.42,
            "count": 0
           },
           {
            "bin_start": 4.42,
            "bin_end": 4.46,
            "count": 0
           },
           {
            "bin_start": 4.46,
            "bin_end": 4.5,
            "count": 0
           },
           {
            "bin_start": 4.5,
            "bin_end": 4.54,
            "count": 0
           },
           {
            "bin_start": 4.54,
            "bin_end": 4.58,
            "count": 0
           },
           {
            "bin_start": 4.58,
            "bin_end": 4.62,
            "count": 1
           },
           {
            "bin_start": 4.62,
            "bin_end": 4.66,
            "count": 0
           },
           {
            "bin_start": 4.66,
            "bin_end": 4.7,
            "count": 3
           }
          ]
         }
        },
        {
         "name": "pf_rol",
         "dtype": "float64",
         "stats": {
          "unique_count": 3,
          "nan_count": 0,
          "min": "5.0",
          "max": "5.3",
          "histogram": [
           {
            "bin_start": 5,
            "bin_end": 5.03,
            "count": 2
           },
           {
            "bin_start": 5.03,
            "bin_end": 5.06,
            "count": 0
           },
           {
            "bin_start": 5.06,
            "bin_end": 5.09,
            "count": 0
           },
           {
            "bin_start": 5.09,
            "bin_end": 5.12,
            "count": 0
           },
           {
            "bin_start": 5.12,
            "bin_end": 5.15,
            "count": 0
           },
           {
            "bin_start": 5.15,
            "bin_end": 5.18,
            "count": 0
           },
           {
            "bin_start": 5.18,
            "bin_end": 5.21,
            "count": 1
           },
           {
            "bin_start": 5.21,
            "bin_end": 5.24,
            "count": 0
           },
           {
            "bin_start": 5.24,
            "bin_end": 5.27,
            "count": 0
           },
           {
            "bin_start": 5.27,
            "bin_end": 5.3,
            "count": 2
           }
          ]
         }
        },
        {
         "name": "pf_ss_homicide",
         "dtype": "float64",
         "stats": {
          "unique_count": 4,
          "nan_count": 0,
          "min": "8.4",
          "max": "9.1",
          "histogram": [
           {
            "bin_start": 8.4,
            "bin_end": 8.47,
            "count": 1
           },
           {
            "bin_start": 8.47,
            "bin_end": 8.540000000000001,
            "count": 0
           },
           {
            "bin_start": 8.540000000000001,
            "bin_end": 8.61,
            "count": 1
           },
           {
            "bin_start": 8.61,
            "bin_end": 8.68,
            "count": 0
           },
           {
            "bin_start": 8.68,
            "bin_end": 8.75,
            "count": 0
           },
           {
            "bin_start": 8.75,
            "bin_end": 8.82,
            "count": 0
           },
           {
            "bin_start": 8.82,
            "bin_end": 8.89,
            "count": 0
           },
           {
            "bin_start": 8.89,
            "bin_end": 8.959999999999999,
            "count": 1
           },
           {
            "bin_start": 8.959999999999999,
            "bin_end": 9.03,
            "count": 0
           },
           {
            "bin_start": 9.03,
            "bin_end": 9.1,
            "count": 2
           }
          ]
         }
        },
        {
         "name": "pf_ss_disappearances_disap",
         "dtype": "float64",
         "stats": {
          "unique_count": 1,
          "nan_count": 0,
          "min": "10.0",
          "max": "10.0",
          "histogram": [
           {
            "bin_start": 9.5,
            "bin_end": 9.6,
            "count": 0
           },
           {
            "bin_start": 9.6,
            "bin_end": 9.7,
            "count": 0
           },
           {
            "bin_start": 9.7,
            "bin_end": 9.8,
            "count": 0
           },
           {
            "bin_start": 9.8,
            "bin_end": 9.9,
            "count": 0
           },
           {
            "bin_start": 9.9,
            "bin_end": 10,
            "count": 0
           },
           {
            "bin_start": 10,
            "bin_end": 10.1,
            "count": 5
           },
           {
            "bin_start": 10.1,
            "bin_end": 10.2,
            "count": 0
           },
           {
            "bin_start": 10.2,
            "bin_end": 10.3,
            "count": 0
           },
           {
            "bin_start": 10.3,
            "bin_end": 10.4,
            "count": 0
           },
           {
            "bin_start": 10.4,
            "bin_end": 10.5,
            "count": 0
           }
          ]
         }
        },
        {
         "name": "pf_ss_disappearances_violent",
         "dtype": "float64",
         "stats": {
          "unique_count": 1,
          "nan_count": 0,
          "min": "10.0",
          "max": "10.0",
          "histogram": [
           {
            "bin_start": 9.5,
            "bin_end": 9.6,
            "count": 0
           },
           {
            "bin_start": 9.6,
            "bin_end": 9.7,
            "count": 0
           },
           {
            "bin_start": 9.7,
            "bin_end": 9.8,
            "count": 0
           },
           {
            "bin_start": 9.8,
            "bin_end": 9.9,
            "count": 0
           },
           {
            "bin_start": 9.9,
            "bin_end": 10,
            "count": 0
           },
           {
            "bin_start": 10,
            "bin_end": 10.1,
            "count": 5
           },
           {
            "bin_start": 10.1,
            "bin_end": 10.2,
            "count": 0
           },
           {
            "bin_start": 10.2,
            "bin_end": 10.3,
            "count": 0
           },
           {
            "bin_start": 10.3,
            "bin_end": 10.4,
            "count": 0
           },
           {
            "bin_start": 10.4,
            "bin_end": 10.5,
            "count": 0
           }
          ]
         }
        },
        {
         "name": "pf_ss_disappearances_organized",
         "dtype": "float64",
         "stats": {
          "unique_count": 1,
          "nan_count": 0,
          "min": "10.0",
          "max": "10.0",
          "histogram": [
           {
            "bin_start": 9.5,
            "bin_end": 9.6,
            "count": 0
           },
           {
            "bin_start": 9.6,
            "bin_end": 9.7,
            "count": 0
           },
           {
            "bin_start": 9.7,
            "bin_end": 9.8,
            "count": 0
           },
           {
            "bin_start": 9.8,
            "bin_end": 9.9,
            "count": 0
           },
           {
            "bin_start": 9.9,
            "bin_end": 10,
            "count": 0
           },
           {
            "bin_start": 10,
            "bin_end": 10.1,
            "count": 5
           },
           {
            "bin_start": 10.1,
            "bin_end": 10.2,
            "count": 0
           },
           {
            "bin_start": 10.2,
            "bin_end": 10.3,
            "count": 0
           },
           {
            "bin_start": 10.3,
            "bin_end": 10.4,
            "count": 0
           },
           {
            "bin_start": 10.4,
            "bin_end": 10.5,
            "count": 0
           }
          ]
         }
        },
        {
         "name": "pf_ss_disappearances_fatalities",
         "dtype": "float64",
         "stats": {
          "unique_count": 2,
          "nan_count": 0,
          "min": "9.9",
          "max": "10.0",
          "histogram": [
           {
            "bin_start": 9.9,
            "bin_end": 9.91,
            "count": 1
           },
           {
            "bin_start": 9.91,
            "bin_end": 9.92,
            "count": 0
           },
           {
            "bin_start": 9.92,
            "bin_end": 9.93,
            "count": 0
           },
           {
            "bin_start": 9.93,
            "bin_end": 9.94,
            "count": 0
           },
           {
            "bin_start": 9.94,
            "bin_end": 9.95,
            "count": 0
           },
           {
            "bin_start": 9.95,
            "bin_end": 9.96,
            "count": 0
           },
           {
            "bin_start": 9.96,
            "bin_end": 9.97,
            "count": 0
           },
           {
            "bin_start": 9.97,
            "bin_end": 9.98,
            "count": 0
           },
           {
            "bin_start": 9.98,
            "bin_end": 9.99,
            "count": 0
           },
           {
            "bin_start": 9.99,
            "bin_end": 10,
            "count": 4
           }
          ]
         }
        },
        {
         "name": "pf_ss_disappearances_injuries",
         "dtype": "float64",
         "stats": {
          "unique_count": 2,
          "nan_count": 0,
          "min": "9.9",
          "max": "10.0",
          "histogram": [
           {
            "bin_start": 9.9,
            "bin_end": 9.91,
            "count": 1
           },
           {
            "bin_start": 9.91,
            "bin_end": 9.92,
            "count": 0
           },
           {
            "bin_start": 9.92,
            "bin_end": 9.93,
            "count": 0
           },
           {
            "bin_start": 9.93,
            "bin_end": 9.94,
            "count": 0
           },
           {
            "bin_start": 9.94,
            "bin_end": 9.95,
            "count": 0
           },
           {
            "bin_start": 9.95,
            "bin_end": 9.96,
            "count": 0
           },
           {
            "bin_start": 9.96,
            "bin_end": 9.97,
            "count": 0
           },
           {
            "bin_start": 9.97,
            "bin_end": 9.98,
            "count": 0
           },
           {
            "bin_start": 9.98,
            "bin_end": 9.99,
            "count": 0
           },
           {
            "bin_start": 9.99,
            "bin_end": 10,
            "count": 4
           }
          ]
         }
        },
        {
         "name": "pf_ss_disappearances",
         "dtype": "float64",
         "stats": {
          "unique_count": 2,
          "nan_count": 0,
          "min": "9.9",
          "max": "10.0",
          "histogram": [
           {
            "bin_start": 9.9,
            "bin_end": 9.91,
            "count": 1
           },
           {
            "bin_start": 9.91,
            "bin_end": 9.92,
            "count": 0
           },
           {
            "bin_start": 9.92,
            "bin_end": 9.93,
            "count": 0
           },
           {
            "bin_start": 9.93,
            "bin_end": 9.94,
            "count": 0
           },
           {
            "bin_start": 9.94,
            "bin_end": 9.95,
            "count": 0
           },
           {
            "bin_start": 9.95,
            "bin_end": 9.96,
            "count": 0
           },
           {
            "bin_start": 9.96,
            "bin_end": 9.97,
            "count": 0
           },
           {
            "bin_start": 9.97,
            "bin_end": 9.98,
            "count": 0
           },
           {
            "bin_start": 9.98,
            "bin_end": 9.99,
            "count": 0
           },
           {
            "bin_start": 9.99,
            "bin_end": 10,
            "count": 4
           }
          ]
         }
        },
        {
         "name": "pf_ss_women_fgm",
         "dtype": "float64",
         "stats": {
          "unique_count": 1,
          "nan_count": 0,
          "min": "10.0",
          "max": "10.0",
          "histogram": [
           {
            "bin_start": 9.5,
            "bin_end": 9.6,
            "count": 0
           },
           {
            "bin_start": 9.6,
            "bin_end": 9.7,
            "count": 0
           },
           {
            "bin_start": 9.7,
            "bin_end": 9.8,
            "count": 0
           },
           {
            "bin_start": 9.8,
            "bin_end": 9.9,
            "count": 0
           },
           {
            "bin_start": 9.9,
            "bin_end": 10,
            "count": 0
           },
           {
            "bin_start": 10,
            "bin_end": 10.1,
            "count": 5
           },
           {
            "bin_start": 10.1,
            "bin_end": 10.2,
            "count": 0
           },
           {
            "bin_start": 10.2,
            "bin_end": 10.3,
            "count": 0
           },
           {
            "bin_start": 10.3,
            "bin_end": 10.4,
            "count": 0
           },
           {
            "bin_start": 10.4,
            "bin_end": 10.5,
            "count": 0
           }
          ]
         }
        },
        {
         "name": "pf_ss_women_inheritance",
         "dtype": "float64",
         "stats": {
          "unique_count": 2,
          "nan_count": 0,
          "min": "5.0",
          "max": "7.5",
          "histogram": [
           {
            "bin_start": 5,
            "bin_end": 5.25,
            "count": 3
           },
           {
            "bin_start": 5.25,
            "bin_end": 5.5,
            "count": 0
           },
           {
            "bin_start": 5.5,
            "bin_end": 5.75,
            "count": 0
           },
           {
            "bin_start": 5.75,
            "bin_end": 6,
            "count": 0
           },
           {
            "bin_start": 6,
            "bin_end": 6.25,
            "count": 0
           },
           {
            "bin_start": 6.25,
            "bin_end": 6.5,
            "count": 0
           },
           {
            "bin_start": 6.5,
            "bin_end": 6.75,
            "count": 0
           },
           {
            "bin_start": 6.75,
            "bin_end": 7,
            "count": 0
           },
           {
            "bin_start": 7,
            "bin_end": 7.25,
            "count": 0
           },
           {
            "bin_start": 7.25,
            "bin_end": 7.5,
            "count": 2
           }
          ]
         }
        },
        {
         "name": "pf_ss_women",
         "dtype": "float64",
         "stats": {
          "unique_count": 2,
          "nan_count": 0,
          "min": "7.5",
          "max": "8.8",
          "histogram": [
           {
            "bin_start": 7.5,
            "bin_end": 7.63,
            "count": 3
           },
           {
            "bin_start": 7.63,
            "bin_end": 7.76,
            "count": 0
           },
           {
            "bin_start": 7.76,
            "bin_end": 7.890000000000001,
            "count": 0
           },
           {
            "bin_start": 7.890000000000001,
            "bin_end": 8.02,
            "count": 0
           },
           {
            "bin_start": 8.02,
            "bin_end": 8.15,
            "count": 0
           },
           {
            "bin_start": 8.15,
            "bin_end": 8.280000000000001,
            "count": 0
           },
           {
            "bin_start": 8.280000000000001,
            "bin_end": 8.41,
            "count": 0
           },
           {
            "bin_start": 8.41,
            "bin_end": 8.540000000000001,
            "count": 0
           },
           {
            "bin_start": 8.540000000000001,
            "bin_end": 8.67,
            "count": 0
           },
           {
            "bin_start": 8.67,
            "bin_end": 8.8,
            "count": 2
           }
          ]
         }
        },
        {
         "name": "pf_ss",
         "dtype": "float64",
         "stats": {
          "unique_count": 4,
          "nan_count": 0,
          "min": "8.6",
          "max": "9.3",
          "histogram": [
           {
            "bin_start": 8.6,
            "bin_end": 8.67,
            "count": 1
           },
           {
            "bin_start": 8.67,
            "bin_end": 8.74,
            "count": 1
           },
           {
            "bin_start": 8.74,
            "bin_end": 8.81,
            "count": 1
           },
           {
            "bin_start": 8.81,
            "bin_end": 8.88,
            "count": 0
           },
           {
            "bin_start": 8.88,
            "bin_end": 8.95,
            "count": 0
           },
           {
            "bin_start": 8.95,
            "bin_end": 9.02,
            "count": 0
           },
           {
            "bin_start": 9.02,
            "bin_end": 9.09,
            "count": 0
           },
           {
            "bin_start": 9.09,
            "bin_end": 9.16,
            "count": 0
           },
           {
            "bin_start": 9.16,
            "bin_end": 9.23,
            "count": 0
           },
           {
            "bin_start": 9.23,
            "bin_end": 9.3,
            "count": 2
           }
          ]
         }
        },
        {
         "name": "pf_movement_domestic",
         "dtype": "float64",
         "stats": {
          "unique_count": 2,
          "nan_count": 0,
          "min": "5.0",
          "max": "10.0",
          "histogram": [
           {
            "bin_start": 5,
            "bin_end": 5.5,
            "count": 2
           },
           {
            "bin_start": 5.5,
            "bin_end": 6,
            "count": 0
           },
           {
            "bin_start": 6,
            "bin_end": 6.5,
            "count": 0
           },
           {
            "bin_start": 6.5,
            "bin_end": 7,
            "count": 0
           },
           {
            "bin_start": 7,
            "bin_end": 7.5,
            "count": 0
           },
           {
            "bin_start": 7.5,
            "bin_end": 8,
            "count": 0
           },
           {
            "bin_start": 8,
            "bin_end": 8.5,
            "count": 0
           },
           {
            "bin_start": 8.5,
            "bin_end": 9,
            "count": 0
           },
           {
            "bin_start": 9,
            "bin_end": 9.5,
            "count": 0
           },
           {
            "bin_start": 9.5,
            "bin_end": 10,
            "count": 3
           }
          ]
         }
        },
        {
         "name": "pf_movement_foreign",
         "dtype": "float64",
         "stats": {
          "unique_count": 1,
          "nan_count": 0,
          "min": "10.0",
          "max": "10.0",
          "histogram": [
           {
            "bin_start": 9.5,
            "bin_end": 9.6,
            "count": 0
           },
           {
            "bin_start": 9.6,
            "bin_end": 9.7,
            "count": 0
           },
           {
            "bin_start": 9.7,
            "bin_end": 9.8,
            "count": 0
           },
           {
            "bin_start": 9.8,
            "bin_end": 9.9,
            "count": 0
           },
           {
            "bin_start": 9.9,
            "bin_end": 10,
            "count": 0
           },
           {
            "bin_start": 10,
            "bin_end": 10.1,
            "count": 5
           },
           {
            "bin_start": 10.1,
            "bin_end": 10.2,
            "count": 0
           },
           {
            "bin_start": 10.2,
            "bin_end": 10.3,
            "count": 0
           },
           {
            "bin_start": 10.3,
            "bin_end": 10.4,
            "count": 0
           },
           {
            "bin_start": 10.4,
            "bin_end": 10.5,
            "count": 0
           }
          ]
         }
        },
        {
         "name": "pf_movement_women",
         "dtype": "float64",
         "stats": {
          "unique_count": 2,
          "nan_count": 0,
          "min": "5.0",
          "max": "10.0",
          "histogram": [
           {
            "bin_start": 5,
            "bin_end": 5.5,
            "count": 3
           },
           {
            "bin_start": 5.5,
            "bin_end": 6,
            "count": 0
           },
           {
            "bin_start": 6,
            "bin_end": 6.5,
            "count": 0
           },
           {
            "bin_start": 6.5,
            "bin_end": 7,
            "count": 0
           },
           {
            "bin_start": 7,
            "bin_end": 7.5,
            "count": 0
           },
           {
            "bin_start": 7.5,
            "bin_end": 8,
            "count": 0
           },
           {
            "bin_start": 8,
            "bin_end": 8.5,
            "count": 0
           },
           {
            "bin_start": 8.5,
            "bin_end": 9,
            "count": 0
           },
           {
            "bin_start": 9,
            "bin_end": 9.5,
            "count": 0
           },
           {
            "bin_start": 9.5,
            "bin_end": 10,
            "count": 2
           }
          ]
         }
        },
        {
         "name": "pf_movement",
         "dtype": "float64",
         "stats": {
          "unique_count": 3,
          "nan_count": 0,
          "min": "6.7",
          "max": "10.0",
          "histogram": [
           {
            "bin_start": 6.7,
            "bin_end": 7.03,
            "count": 2
           },
           {
            "bin_start": 7.03,
            "bin_end": 7.36,
            "count": 0
           },
           {
            "bin_start": 7.36,
            "bin_end": 7.69,
            "count": 0
           },
           {
            "bin_start": 7.69,
            "bin_end": 8.02,
            "count": 0
           },
           {
            "bin_start": 8.02,
            "bin_end": 8.35,
            "count": 1
           },
           {
            "bin_start": 8.35,
            "bin_end": 8.68,
            "count": 0
           },
           {
            "bin_start": 8.68,
            "bin_end": 9.01,
            "count": 0
           },
           {
            "bin_start": 9.01,
            "bin_end": 9.34,
            "count": 0
           },
           {
            "bin_start": 9.34,
            "bin_end": 9.67,
            "count": 0
           },
           {
            "bin_start": 9.67,
            "bin_end": 10,
            "count": 2
           }
          ]
         }
        },
        {
         "name": "pf_religion_freedom",
         "dtype": "float64",
         "stats": {
          "unique_count": 2,
          "nan_count": 0,
          "min": "8.2",
          "max": "9.0",
          "histogram": [
           {
            "bin_start": 8.2,
            "bin_end": 8.28,
            "count": 1
           },
           {
            "bin_start": 8.28,
            "bin_end": 8.36,
            "count": 0
           },
           {
            "bin_start": 8.36,
            "bin_end": 8.44,
            "count": 0
           },
           {
            "bin_start": 8.44,
            "bin_end": 8.52,
            "count": 0
           },
           {
            "bin_start": 8.52,
            "bin_end": 8.6,
            "count": 0
           },
           {
            "bin_start": 8.6,
            "bin_end": 8.68,
            "count": 0
           },
           {
            "bin_start": 8.68,
            "bin_end": 8.76,
            "count": 0
           },
           {
            "bin_start": 8.76,
            "bin_end": 8.84,
            "count": 0
           },
           {
            "bin_start": 8.84,
            "bin_end": 8.92,
            "count": 0
           },
           {
            "bin_start": 8.92,
            "bin_end": 9,
            "count": 4
           }
          ]
         }
        },
        {
         "name": "pf_religion_repression",
         "dtype": "float64",
         "stats": {
          "unique_count": 2,
          "nan_count": 0,
          "min": "8.9",
          "max": "9.0",
          "histogram": [
           {
            "bin_start": 8.9,
            "bin_end": 8.91,
            "count": 3
           },
           {
            "bin_start": 8.91,
            "bin_end": 8.92,
            "count": 0
           },
           {
            "bin_start": 8.92,
            "bin_end": 8.93,
            "count": 0
           },
           {
            "bin_start": 8.93,
            "bin_end": 8.94,
            "count": 0
           },
           {
            "bin_start": 8.94,
            "bin_end": 8.95,
            "count": 0
           },
           {
            "bin_start": 8.95,
            "bin_end": 8.96,
            "count": 0
           },
           {
            "bin_start": 8.96,
            "bin_end": 8.97,
            "count": 0
           },
           {
            "bin_start": 8.97,
            "bin_end": 8.98,
            "count": 0
           },
           {
            "bin_start": 8.98,
            "bin_end": 8.99,
            "count": 0
           },
           {
            "bin_start": 8.99,
            "bin_end": 9,
            "count": 2
           }
          ]
         }
        },
        {
         "name": "pf_religion_harassment",
         "dtype": "float64",
         "stats": {
          "unique_count": 3,
          "nan_count": 0,
          "min": "9.2",
          "max": "9.7",
          "histogram": [
           {
            "bin_start": 9.2,
            "bin_end": 9.25,
            "count": 1
           },
           {
            "bin_start": 9.25,
            "bin_end": 9.299999999999999,
            "count": 0
           },
           {
            "bin_start": 9.299999999999999,
            "bin_end": 9.35,
            "count": 0
           },
           {
            "bin_start": 9.35,
            "bin_end": 9.399999999999999,
            "count": 0
           },
           {
            "bin_start": 9.399999999999999,
            "bin_end": 9.45,
            "count": 0
           },
           {
            "bin_start": 9.45,
            "bin_end": 9.5,
            "count": 0
           },
           {
            "bin_start": 9.5,
            "bin_end": 9.549999999999999,
            "count": 0
           },
           {
            "bin_start": 9.549999999999999,
            "bin_end": 9.6,
            "count": 0
           },
           {
            "bin_start": 9.6,
            "bin_end": 9.649999999999999,
            "count": 3
           },
           {
            "bin_start": 9.649999999999999,
            "bin_end": 9.7,
            "count": 1
           }
          ]
         }
        },
        {
         "name": "pf_religion_restrictions",
         "dtype": "float64",
         "stats": {
          "unique_count": 3,
          "nan_count": 0,
          "min": "8.0",
          "max": "9.9",
          "histogram": [
           {
            "bin_start": 8,
            "bin_end": 8.19,
            "count": 3
           },
           {
            "bin_start": 8.19,
            "bin_end": 8.38,
            "count": 0
           },
           {
            "bin_start": 8.38,
            "bin_end": 8.57,
            "count": 1
           },
           {
            "bin_start": 8.57,
            "bin_end": 8.76,
            "count": 0
           },
           {
            "bin_start": 8.76,
            "bin_end": 8.95,
            "count": 0
           },
           {
            "bin_start": 8.95,
            "bin_end": 9.14,
            "count": 0
           },
           {
            "bin_start": 9.14,
            "bin_end": 9.33,
            "count": 0
           },
           {
            "bin_start": 9.33,
            "bin_end": 9.52,
            "count": 0
           },
           {
            "bin_start": 9.52,
            "bin_end": 9.71,
            "count": 0
           },
           {
            "bin_start": 9.71,
            "bin_end": 9.9,
            "count": 1
           }
          ]
         }
        },
        {
         "name": "pf_religion",
         "dtype": "float64",
         "stats": {
          "unique_count": 3,
          "nan_count": 0,
          "min": "8.7",
          "max": "9.4",
          "histogram": [
           {
            "bin_start": 8.7,
            "bin_end": 8.77,
            "count": 1
           },
           {
            "bin_start": 8.77,
            "bin_end": 8.84,
            "count": 0
           },
           {
            "bin_start": 8.84,
            "bin_end": 8.91,
            "count": 3
           },
           {
            "bin_start": 8.91,
            "bin_end": 8.98,
            "count": 0
           },
           {
            "bin_start": 8.98,
            "bin_end": 9.05,
            "count": 0
           },
           {
            "bin_start": 9.05,
            "bin_end": 9.12,
            "count": 0
           },
           {
            "bin_start": 9.12,
            "bin_end": 9.19,
            "count": 0
           },
           {
            "bin_start": 9.19,
            "bin_end": 9.26,
            "count": 0
           },
           {
            "bin_start": 9.26,
            "bin_end": 9.33,
            "count": 0
           },
           {
            "bin_start": 9.33,
            "bin_end": 9.4,
            "count": 1
           }
          ]
         }
        },
        {
         "name": "pf_association_entry",
         "dtype": "float64",
         "stats": {
          "unique_count": 2,
          "nan_count": 0,
          "min": "7.9",
          "max": "8.8",
          "histogram": [
           {
            "bin_start": 7.9,
            "bin_end": 7.99,
            "count": 4
           },
           {
            "bin_start": 7.99,
            "bin_end": 8.08,
            "count": 0
           },
           {
            "bin_start": 8.08,
            "bin_end": 8.17,
            "count": 0
           },
           {
            "bin_start": 8.17,
            "bin_end": 8.26,
            "count": 0
           },
           {
            "bin_start": 8.26,
            "bin_end": 8.350000000000001,
            "count": 0
           },
           {
            "bin_start": 8.350000000000001,
            "bin_end": 8.440000000000001,
            "count": 0
           },
           {
            "bin_start": 8.440000000000001,
            "bin_end": 8.530000000000001,
            "count": 0
           },
           {
            "bin_start": 8.530000000000001,
            "bin_end": 8.620000000000001,
            "count": 0
           },
           {
            "bin_start": 8.620000000000001,
            "bin_end": 8.71,
            "count": 0
           },
           {
            "bin_start": 8.71,
            "bin_end": 8.8,
            "count": 1
           }
          ]
         }
        },
        {
         "name": "pf_association_assembly",
         "dtype": "float64",
         "stats": {
          "unique_count": 1,
          "nan_count": 0,
          "min": "10.0",
          "max": "10.0",
          "histogram": [
           {
            "bin_start": 9.5,
            "bin_end": 9.6,
            "count": 0
           },
           {
            "bin_start": 9.6,
            "bin_end": 9.7,
            "count": 0
           },
           {
            "bin_start": 9.7,
            "bin_end": 9.8,
            "count": 0
           },
           {
            "bin_start": 9.8,
            "bin_end": 9.9,
            "count": 0
           },
           {
            "bin_start": 9.9,
            "bin_end": 10,
            "count": 0
           },
           {
            "bin_start": 10,
            "bin_end": 10.1,
            "count": 5
           },
           {
            "bin_start": 10.1,
            "bin_end": 10.2,
            "count": 0
           },
           {
            "bin_start": 10.2,
            "bin_end": 10.3,
            "count": 0
           },
           {
            "bin_start": 10.3,
            "bin_end": 10.4,
            "count": 0
           },
           {
            "bin_start": 10.4,
            "bin_end": 10.5,
            "count": 0
           }
          ]
         }
        },
        {
         "name": "pf_association_barries",
         "dtype": "float64",
         "stats": {
          "unique_count": 2,
          "nan_count": 0,
          "min": "7.8",
          "max": "8.0",
          "histogram": [
           {
            "bin_start": 7.8,
            "bin_end": 7.82,
            "count": 1
           },
           {
            "bin_start": 7.82,
            "bin_end": 7.84,
            "count": 0
           },
           {
            "bin_start": 7.84,
            "bin_end": 7.859999999999999,
            "count": 0
           },
           {
            "bin_start": 7.859999999999999,
            "bin_end": 7.88,
            "count": 0
           },
           {
            "bin_start": 7.88,
            "bin_end": 7.9,
            "count": 0
           },
           {
            "bin_start": 7.9,
            "bin_end": 7.92,
            "count": 0
           },
           {
            "bin_start": 7.92,
            "bin_end": 7.9399999999999995,
            "count": 0
           },
           {
            "bin_start": 7.9399999999999995,
            "bin_end": 7.96,
            "count": 0
           },
           {
            "bin_start": 7.96,
            "bin_end": 7.98,
            "count": 0
           },
           {
            "bin_start": 7.98,
            "bin_end": 8,
            "count": 4
           }
          ]
         }
        },
        {
         "name": "pf_association_bans",
         "dtype": "float64",
         "stats": {
          "unique_count": 1,
          "nan_count": 0,
          "min": "8.2",
          "max": "8.2",
          "histogram": [
           {
            "bin_start": 7.699999999999999,
            "bin_end": 7.799999999999999,
            "count": 0
           },
           {
            "bin_start": 7.799999999999999,
            "bin_end": 7.8999999999999995,
            "count": 0
           },
           {
            "bin_start": 7.8999999999999995,
            "bin_end": 7.999999999999999,
            "count": 0
           },
           {
            "bin_start": 7.999999999999999,
            "bin_end": 8.1,
            "count": 0
           },
           {
            "bin_start": 8.1,
            "bin_end": 8.2,
            "count": 0
           },
           {
            "bin_start": 8.2,
            "bin_end": 8.299999999999999,
            "count": 5
           },
           {
            "bin_start": 8.299999999999999,
            "bin_end": 8.399999999999999,
            "count": 0
           },
           {
            "bin_start": 8.399999999999999,
            "bin_end": 8.5,
            "count": 0
           },
           {
            "bin_start": 8.5,
            "bin_end": 8.6,
            "count": 0
           },
           {
            "bin_start": 8.6,
            "bin_end": 8.7,
            "count": 0
           }
          ]
         }
        },
        {
         "name": "pf_association_estopparties",
         "dtype": "float64",
         "stats": {
          "unique_count": 2,
          "nan_count": 0,
          "min": "8.0",
          "max": "8.1",
          "histogram": [
           {
            "bin_start": 8,
            "bin_end": 8.01,
            "count": 1
           },
           {
            "bin_start": 8.01,
            "bin_end": 8.02,
            "count": 0
           },
           {
            "bin_start": 8.02,
            "bin_end": 8.03,
            "count": 0
           },
           {
            "bin_start": 8.03,
            "bin_end": 8.04,
            "count": 0
           },
           {
            "bin_start": 8.04,
            "bin_end": 8.05,
            "count": 0
           },
           {
            "bin_start": 8.05,
            "bin_end": 8.06,
            "count": 0
           },
           {
            "bin_start": 8.06,
            "bin_end": 8.07,
            "count": 0
           },
           {
            "bin_start": 8.07,
            "bin_end": 8.08,
            "count": 0
           },
           {
            "bin_start": 8.08,
            "bin_end": 8.09,
            "count": 0
           },
           {
            "bin_start": 8.09,
            "bin_end": 8.1,
            "count": 4
           }
          ]
         }
        },
        {
         "name": "pf_association_opposition",
         "dtype": "float64",
         "stats": {
          "unique_count": 3,
          "nan_count": 0,
          "min": "7.8",
          "max": "8.0",
          "histogram": [
           {
            "bin_start": 7.8,
            "bin_end": 7.82,
            "count": 1
           },
           {
            "bin_start": 7.82,
            "bin_end": 7.84,
            "count": 0
           },
           {
            "bin_start": 7.84,
            "bin_end": 7.859999999999999,
            "count": 0
           },
           {
            "bin_start": 7.859999999999999,
            "bin_end": 7.88,
            "count": 0
           },
           {
            "bin_start": 7.88,
            "bin_end": 7.9,
            "count": 0
           },
           {
            "bin_start": 7.9,
            "bin_end": 7.92,
            "count": 1
           },
           {
            "bin_start": 7.92,
            "bin_end": 7.9399999999999995,
            "count": 0
           },
           {
            "bin_start": 7.9399999999999995,
            "bin_end": 7.96,
            "count": 0
           },
           {
            "bin_start": 7.96,
            "bin_end": 7.98,
            "count": 0
           },
           {
            "bin_start": 7.98,
            "bin_end": 8,
            "count": 3
           }
          ]
         }
        },
        {
         "name": "pf_association_civilrepression",
         "dtype": "float64",
         "stats": {
          "unique_count": 2,
          "nan_count": 0,
          "min": "8.2",
          "max": "8.3",
          "histogram": [
           {
            "bin_start": 8.2,
            "bin_end": 8.209999999999999,
            "count": 1
           },
           {
            "bin_start": 8.209999999999999,
            "bin_end": 8.219999999999999,
            "count": 0
           },
           {
            "bin_start": 8.219999999999999,
            "bin_end": 8.23,
            "count": 0
           },
           {
            "bin_start": 8.23,
            "bin_end": 8.24,
            "count": 0
           },
           {
            "bin_start": 8.24,
            "bin_end": 8.25,
            "count": 0
           },
           {
            "bin_start": 8.25,
            "bin_end": 8.26,
            "count": 0
           },
           {
            "bin_start": 8.26,
            "bin_end": 8.27,
            "count": 0
           },
           {
            "bin_start": 8.27,
            "bin_end": 8.280000000000001,
            "count": 0
           },
           {
            "bin_start": 8.280000000000001,
            "bin_end": 8.290000000000001,
            "count": 0
           },
           {
            "bin_start": 8.290000000000001,
            "bin_end": 8.3,
            "count": 4
           }
          ]
         }
        },
        {
         "name": "pf_association",
         "dtype": "float64",
         "stats": {
          "unique_count": 3,
          "nan_count": 0,
          "min": "8.4",
          "max": "8.6",
          "histogram": [
           {
            "bin_start": 8.4,
            "bin_end": 8.42,
            "count": 1
           },
           {
            "bin_start": 8.42,
            "bin_end": 8.44,
            "count": 0
           },
           {
            "bin_start": 8.44,
            "bin_end": 8.46,
            "count": 0
           },
           {
            "bin_start": 8.46,
            "bin_end": 8.48,
            "count": 0
           },
           {
            "bin_start": 8.48,
            "bin_end": 8.5,
            "count": 0
           },
           {
            "bin_start": 8.5,
            "bin_end": 8.52,
            "count": 3
           },
           {
            "bin_start": 8.52,
            "bin_end": 8.54,
            "count": 0
           },
           {
            "bin_start": 8.54,
            "bin_end": 8.56,
            "count": 0
           },
           {
            "bin_start": 8.56,
            "bin_end": 8.58,
            "count": 0
           },
           {
            "bin_start": 8.58,
            "bin_end": 8.6,
            "count": 1
           }
          ]
         }
        },
        {
         "name": "pf_expression_killed",
         "dtype": "float64",
         "stats": {
          "unique_count": 1,
          "nan_count": 0,
          "min": "10.0",
          "max": "10.0",
          "histogram": [
           {
            "bin_start": 9.5,
            "bin_end": 9.6,
            "count": 0
           },
           {
            "bin_start": 9.6,
            "bin_end": 9.7,
            "count": 0
           },
           {
            "bin_start": 9.7,
            "bin_end": 9.8,
            "count": 0
           },
           {
            "bin_start": 9.8,
            "bin_end": 9.9,
            "count": 0
           },
           {
            "bin_start": 9.9,
            "bin_end": 10,
            "count": 0
           },
           {
            "bin_start": 10,
            "bin_end": 10.1,
            "count": 5
           },
           {
            "bin_start": 10.1,
            "bin_end": 10.2,
            "count": 0
           },
           {
            "bin_start": 10.2,
            "bin_end": 10.3,
            "count": 0
           },
           {
            "bin_start": 10.3,
            "bin_end": 10.4,
            "count": 0
           },
           {
            "bin_start": 10.4,
            "bin_end": 10.5,
            "count": 0
           }
          ]
         }
        },
        {
         "name": "pf_expression_jailed",
         "dtype": "float64",
         "stats": {
          "unique_count": 1,
          "nan_count": 0,
          "min": "10.0",
          "max": "10.0",
          "histogram": [
           {
            "bin_start": 9.5,
            "bin_end": 9.6,
            "count": 0
           },
           {
            "bin_start": 9.6,
            "bin_end": 9.7,
            "count": 0
           },
           {
            "bin_start": 9.7,
            "bin_end": 9.8,
            "count": 0
           },
           {
            "bin_start": 9.8,
            "bin_end": 9.9,
            "count": 0
           },
           {
            "bin_start": 9.9,
            "bin_end": 10,
            "count": 0
           },
           {
            "bin_start": 10,
            "bin_end": 10.1,
            "count": 5
           },
           {
            "bin_start": 10.1,
            "bin_end": 10.2,
            "count": 0
           },
           {
            "bin_start": 10.2,
            "bin_end": 10.3,
            "count": 0
           },
           {
            "bin_start": 10.3,
            "bin_end": 10.4,
            "count": 0
           },
           {
            "bin_start": 10.4,
            "bin_end": 10.5,
            "count": 0
           }
          ]
         }
        },
        {
         "name": "pf_expression_media",
         "dtype": "float64",
         "stats": {
          "unique_count": 4,
          "nan_count": 0,
          "min": "5.0",
          "max": "5.4",
          "histogram": [
           {
            "bin_start": 5,
            "bin_end": 5.04,
            "count": 2
           },
           {
            "bin_start": 5.04,
            "bin_end": 5.08,
            "count": 0
           },
           {
            "bin_start": 5.08,
            "bin_end": 5.12,
            "count": 1
           },
           {
            "bin_start": 5.12,
            "bin_end": 5.16,
            "count": 0
           },
           {
            "bin_start": 5.16,
            "bin_end": 5.2,
            "count": 0
           },
           {
            "bin_start": 5.2,
            "bin_end": 5.24,
            "count": 0
           },
           {
            "bin_start": 5.24,
            "bin_end": 5.28,
            "count": 0
           },
           {
            "bin_start": 5.28,
            "bin_end": 5.32,
            "count": 1
           },
           {
            "bin_start": 5.32,
            "bin_end": 5.36,
            "count": 0
           },
           {
            "bin_start": 5.36,
            "bin_end": 5.4,
            "count": 1
           }
          ]
         }
        },
        {
         "name": "pf_expression_cable",
         "dtype": "float64",
         "stats": {
          "unique_count": 1,
          "nan_count": 0,
          "min": "10.0",
          "max": "10.0",
          "histogram": [
           {
            "bin_start": 9.5,
            "bin_end": 9.6,
            "count": 0
           },
           {
            "bin_start": 9.6,
            "bin_end": 9.7,
            "count": 0
           },
           {
            "bin_start": 9.7,
            "bin_end": 9.8,
            "count": 0
           },
           {
            "bin_start": 9.8,
            "bin_end": 9.9,
            "count": 0
           },
           {
            "bin_start": 9.9,
            "bin_end": 10,
            "count": 0
           },
           {
            "bin_start": 10,
            "bin_end": 10.1,
            "count": 5
           },
           {
            "bin_start": 10.1,
            "bin_end": 10.2,
            "count": 0
           },
           {
            "bin_start": 10.2,
            "bin_end": 10.3,
            "count": 0
           },
           {
            "bin_start": 10.3,
            "bin_end": 10.4,
            "count": 0
           },
           {
            "bin_start": 10.4,
            "bin_end": 10.5,
            "count": 0
           }
          ]
         }
        },
        {
         "name": "pf_expression_newspapers",
         "dtype": "float64",
         "stats": {
          "unique_count": 1,
          "nan_count": 0,
          "min": "10.0",
          "max": "10.0",
          "histogram": [
           {
            "bin_start": 9.5,
            "bin_end": 9.6,
            "count": 0
           },
           {
            "bin_start": 9.6,
            "bin_end": 9.7,
            "count": 0
           },
           {
            "bin_start": 9.7,
            "bin_end": 9.8,
            "count": 0
           },
           {
            "bin_start": 9.8,
            "bin_end": 9.9,
            "count": 0
           },
           {
            "bin_start": 9.9,
            "bin_end": 10,
            "count": 0
           },
           {
            "bin_start": 10,
            "bin_end": 10.1,
            "count": 5
           },
           {
            "bin_start": 10.1,
            "bin_end": 10.2,
            "count": 0
           },
           {
            "bin_start": 10.2,
            "bin_end": 10.3,
            "count": 0
           },
           {
            "bin_start": 10.3,
            "bin_end": 10.4,
            "count": 0
           },
           {
            "bin_start": 10.4,
            "bin_end": 10.5,
            "count": 0
           }
          ]
         }
        },
        {
         "name": "pf_expression_control",
         "dtype": "float64",
         "stats": {
          "unique_count": 1,
          "nan_count": 0,
          "min": "10.0",
          "max": "10.0",
          "histogram": [
           {
            "bin_start": 9.5,
            "bin_end": 9.6,
            "count": 0
           },
           {
            "bin_start": 9.6,
            "bin_end": 9.7,
            "count": 0
           },
           {
            "bin_start": 9.7,
            "bin_end": 9.8,
            "count": 0
           },
           {
            "bin_start": 9.8,
            "bin_end": 9.9,
            "count": 0
           },
           {
            "bin_start": 9.9,
            "bin_end": 10,
            "count": 0
           },
           {
            "bin_start": 10,
            "bin_end": 10.1,
            "count": 5
           },
           {
            "bin_start": 10.1,
            "bin_end": 10.2,
            "count": 0
           },
           {
            "bin_start": 10.2,
            "bin_end": 10.3,
            "count": 0
           },
           {
            "bin_start": 10.3,
            "bin_end": 10.4,
            "count": 0
           },
           {
            "bin_start": 10.4,
            "bin_end": 10.5,
            "count": 0
           }
          ]
         }
        },
        {
         "name": "pf_expression",
         "dtype": "float64",
         "stats": {
          "unique_count": 1,
          "nan_count": 0,
          "min": "9.2",
          "max": "9.2",
          "histogram": [
           {
            "bin_start": 8.7,
            "bin_end": 8.799999999999999,
            "count": 0
           },
           {
            "bin_start": 8.799999999999999,
            "bin_end": 8.899999999999999,
            "count": 0
           },
           {
            "bin_start": 8.899999999999999,
            "bin_end": 9,
            "count": 0
           },
           {
            "bin_start": 9,
            "bin_end": 9.1,
            "count": 0
           },
           {
            "bin_start": 9.1,
            "bin_end": 9.2,
            "count": 0
           },
           {
            "bin_start": 9.2,
            "bin_end": 9.299999999999999,
            "count": 5
           },
           {
            "bin_start": 9.299999999999999,
            "bin_end": 9.399999999999999,
            "count": 0
           },
           {
            "bin_start": 9.399999999999999,
            "bin_end": 9.5,
            "count": 0
           },
           {
            "bin_start": 9.5,
            "bin_end": 9.6,
            "count": 0
           },
           {
            "bin_start": 9.6,
            "bin_end": 9.7,
            "count": 0
           }
          ]
         }
        },
        {
         "name": "pf_identity_legal",
         "dtype": "float64",
         "stats": {
          "unique_count": 1,
          "nan_count": 1,
          "min": "0.0",
          "max": "0.0",
          "histogram": [
           {
            "bin_start": -0.5,
            "bin_end": -0.4,
            "count": 0
           },
           {
            "bin_start": -0.4,
            "bin_end": -0.3,
            "count": 0
           },
           {
            "bin_start": -0.3,
            "bin_end": -0.19999999999999996,
            "count": 0
           },
           {
            "bin_start": -0.19999999999999996,
            "bin_end": -0.09999999999999998,
            "count": 0
           },
           {
            "bin_start": -0.09999999999999998,
            "bin_end": 0,
            "count": 0
           },
           {
            "bin_start": 0,
            "bin_end": 0.10000000000000009,
            "count": 4
           },
           {
            "bin_start": 0.10000000000000009,
            "bin_end": 0.20000000000000007,
            "count": 0
           },
           {
            "bin_start": 0.20000000000000007,
            "bin_end": 0.30000000000000004,
            "count": 0
           },
           {
            "bin_start": 0.30000000000000004,
            "bin_end": 0.4,
            "count": 0
           },
           {
            "bin_start": 0.4,
            "bin_end": 0.5,
            "count": 0
           }
          ]
         }
        },
        {
         "name": "pf_identity_sex_male",
         "dtype": "float64",
         "stats": {
          "unique_count": 1,
          "nan_count": 0,
          "min": "10.0",
          "max": "10.0",
          "histogram": [
           {
            "bin_start": 9.5,
            "bin_end": 9.6,
            "count": 0
           },
           {
            "bin_start": 9.6,
            "bin_end": 9.7,
            "count": 0
           },
           {
            "bin_start": 9.7,
            "bin_end": 9.8,
            "count": 0
           },
           {
            "bin_start": 9.8,
            "bin_end": 9.9,
            "count": 0
           },
           {
            "bin_start": 9.9,
            "bin_end": 10,
            "count": 0
           },
           {
            "bin_start": 10,
            "bin_end": 10.1,
            "count": 5
           },
           {
            "bin_start": 10.1,
            "bin_end": 10.2,
            "count": 0
           },
           {
            "bin_start": 10.2,
            "bin_end": 10.3,
            "count": 0
           },
           {
            "bin_start": 10.3,
            "bin_end": 10.4,
            "count": 0
           },
           {
            "bin_start": 10.4,
            "bin_end": 10.5,
            "count": 0
           }
          ]
         }
        },
        {
         "name": "pf_identity_sex_female",
         "dtype": "float64",
         "stats": {
          "unique_count": 1,
          "nan_count": 0,
          "min": "10.0",
          "max": "10.0",
          "histogram": [
           {
            "bin_start": 9.5,
            "bin_end": 9.6,
            "count": 0
           },
           {
            "bin_start": 9.6,
            "bin_end": 9.7,
            "count": 0
           },
           {
            "bin_start": 9.7,
            "bin_end": 9.8,
            "count": 0
           },
           {
            "bin_start": 9.8,
            "bin_end": 9.9,
            "count": 0
           },
           {
            "bin_start": 9.9,
            "bin_end": 10,
            "count": 0
           },
           {
            "bin_start": 10,
            "bin_end": 10.1,
            "count": 5
           },
           {
            "bin_start": 10.1,
            "bin_end": 10.2,
            "count": 0
           },
           {
            "bin_start": 10.2,
            "bin_end": 10.3,
            "count": 0
           },
           {
            "bin_start": 10.3,
            "bin_end": 10.4,
            "count": 0
           },
           {
            "bin_start": 10.4,
            "bin_end": 10.5,
            "count": 0
           }
          ]
         }
        },
        {
         "name": "pf_identity_sex",
         "dtype": "float64",
         "stats": {
          "unique_count": 1,
          "nan_count": 0,
          "min": "10.0",
          "max": "10.0",
          "histogram": [
           {
            "bin_start": 9.5,
            "bin_end": 9.6,
            "count": 0
           },
           {
            "bin_start": 9.6,
            "bin_end": 9.7,
            "count": 0
           },
           {
            "bin_start": 9.7,
            "bin_end": 9.8,
            "count": 0
           },
           {
            "bin_start": 9.8,
            "bin_end": 9.9,
            "count": 0
           },
           {
            "bin_start": 9.9,
            "bin_end": 10,
            "count": 0
           },
           {
            "bin_start": 10,
            "bin_end": 10.1,
            "count": 5
           },
           {
            "bin_start": 10.1,
            "bin_end": 10.2,
            "count": 0
           },
           {
            "bin_start": 10.2,
            "bin_end": 10.3,
            "count": 0
           },
           {
            "bin_start": 10.3,
            "bin_end": 10.4,
            "count": 0
           },
           {
            "bin_start": 10.4,
            "bin_end": 10.5,
            "count": 0
           }
          ]
         }
        },
        {
         "name": "pf_identity_divorce",
         "dtype": "float64",
         "stats": {
          "unique_count": 1,
          "nan_count": 0,
          "min": "7.5",
          "max": "7.5",
          "histogram": [
           {
            "bin_start": 7,
            "bin_end": 7.1,
            "count": 0
           },
           {
            "bin_start": 7.1,
            "bin_end": 7.2,
            "count": 0
           },
           {
            "bin_start": 7.2,
            "bin_end": 7.3,
            "count": 0
           },
           {
            "bin_start": 7.3,
            "bin_end": 7.4,
            "count": 0
           },
           {
            "bin_start": 7.4,
            "bin_end": 7.5,
            "count": 0
           },
           {
            "bin_start": 7.5,
            "bin_end": 7.6,
            "count": 5
           },
           {
            "bin_start": 7.6,
            "bin_end": 7.7,
            "count": 0
           },
           {
            "bin_start": 7.7,
            "bin_end": 7.8,
            "count": 0
           },
           {
            "bin_start": 7.8,
            "bin_end": 7.9,
            "count": 0
           },
           {
            "bin_start": 7.9,
            "bin_end": 8,
            "count": 0
           }
          ]
         }
        },
        {
         "name": "pf_identity",
         "dtype": "float64",
         "stats": {
          "unique_count": 2,
          "nan_count": 0,
          "min": "5.8",
          "max": "8.8",
          "histogram": [
           {
            "bin_start": 5.8,
            "bin_end": 6.1,
            "count": 4
           },
           {
            "bin_start": 6.1,
            "bin_end": 6.4,
            "count": 0
           },
           {
            "bin_start": 6.4,
            "bin_end": 6.7,
            "count": 0
           },
           {
            "bin_start": 6.7,
            "bin_end": 7,
            "count": 0
           },
           {
            "bin_start": 7,
            "bin_end": 7.300000000000001,
            "count": 0
           },
           {
            "bin_start": 7.300000000000001,
            "bin_end": 7.6000000000000005,
            "count": 0
           },
           {
            "bin_start": 7.6000000000000005,
            "bin_end": 7.9,
            "count": 0
           },
           {
            "bin_start": 7.9,
            "bin_end": 8.200000000000001,
            "count": 0
           },
           {
            "bin_start": 8.200000000000001,
            "bin_end": 8.5,
            "count": 0
           },
           {
            "bin_start": 8.5,
            "bin_end": 8.8,
            "count": 1
           }
          ]
         }
        },
        {
         "name": "pf_score",
         "dtype": "float64",
         "stats": {
          "unique_count": 5,
          "nan_count": 0,
          "min": "7.4",
          "max": "7.86",
          "histogram": [
           {
            "bin_start": 7.4,
            "bin_end": 7.446000000000001,
            "count": 1
           },
           {
            "bin_start": 7.446000000000001,
            "bin_end": 7.492,
            "count": 0
           },
           {
            "bin_start": 7.492,
            "bin_end": 7.538,
            "count": 0
           },
           {
            "bin_start": 7.538,
            "bin_end": 7.5840000000000005,
            "count": 1
           },
           {
            "bin_start": 7.5840000000000005,
            "bin_end": 7.630000000000001,
            "count": 0
           },
           {
            "bin_start": 7.630000000000001,
            "bin_end": 7.676,
            "count": 1
           },
           {
            "bin_start": 7.676,
            "bin_end": 7.722,
            "count": 0
           },
           {
            "bin_start": 7.722,
            "bin_end": 7.768000000000001,
            "count": 0
           },
           {
            "bin_start": 7.768000000000001,
            "bin_end": 7.814,
            "count": 1
           },
           {
            "bin_start": 7.814,
            "bin_end": 7.86,
            "count": 1
           }
          ]
         }
        },
        {
         "name": "pf_rank",
         "dtype": "float64",
         "stats": {
          "unique_count": 5,
          "nan_count": 0,
          "min": "47.0",
          "max": "68.0",
          "histogram": [
           {
            "bin_start": 47,
            "bin_end": 49.1,
            "count": 2
           },
           {
            "bin_start": 49.1,
            "bin_end": 51.2,
            "count": 0
           },
           {
            "bin_start": 51.2,
            "bin_end": 53.3,
            "count": 0
           },
           {
            "bin_start": 53.3,
            "bin_end": 55.4,
            "count": 0
           },
           {
            "bin_start": 55.4,
            "bin_end": 57.5,
            "count": 1
           },
           {
            "bin_start": 57.5,
            "bin_end": 59.6,
            "count": 0
           },
           {
            "bin_start": 59.6,
            "bin_end": 61.7,
            "count": 1
           },
           {
            "bin_start": 61.7,
            "bin_end": 63.8,
            "count": 0
           },
           {
            "bin_start": 63.8,
            "bin_end": 65.9,
            "count": 0
           },
           {
            "bin_start": 65.9,
            "bin_end": 68,
            "count": 1
           }
          ]
         }
        },
        {
         "name": "ef_government_consumption",
         "dtype": "float64",
         "stats": {
          "unique_count": 2,
          "nan_count": 0,
          "min": "8.1",
          "max": "8.2",
          "histogram": [
           {
            "bin_start": 8.1,
            "bin_end": 8.11,
            "count": 2
           },
           {
            "bin_start": 8.11,
            "bin_end": 8.12,
            "count": 0
           },
           {
            "bin_start": 8.12,
            "bin_end": 8.129999999999999,
            "count": 0
           },
           {
            "bin_start": 8.129999999999999,
            "bin_end": 8.139999999999999,
            "count": 0
           },
           {
            "bin_start": 8.139999999999999,
            "bin_end": 8.149999999999999,
            "count": 0
           },
           {
            "bin_start": 8.149999999999999,
            "bin_end": 8.16,
            "count": 0
           },
           {
            "bin_start": 8.16,
            "bin_end": 8.17,
            "count": 0
           },
           {
            "bin_start": 8.17,
            "bin_end": 8.18,
            "count": 0
           },
           {
            "bin_start": 8.18,
            "bin_end": 8.19,
            "count": 0
           },
           {
            "bin_start": 8.19,
            "bin_end": 8.2,
            "count": 3
           }
          ]
         }
        },
        {
         "name": "ef_government_transfers",
         "dtype": "float64",
         "stats": {
          "unique_count": 3,
          "nan_count": 0,
          "min": "6.7",
          "max": "7.0",
          "histogram": [
           {
            "bin_start": 6.7,
            "bin_end": 6.73,
            "count": 3
           },
           {
            "bin_start": 6.73,
            "bin_end": 6.76,
            "count": 0
           },
           {
            "bin_start": 6.76,
            "bin_end": 6.79,
            "count": 0
           },
           {
            "bin_start": 6.79,
            "bin_end": 6.82,
            "count": 0
           },
           {
            "bin_start": 6.82,
            "bin_end": 6.85,
            "count": 0
           },
           {
            "bin_start": 6.85,
            "bin_end": 6.88,
            "count": 0
           },
           {
            "bin_start": 6.88,
            "bin_end": 6.91,
            "count": 1
           },
           {
            "bin_start": 6.91,
            "bin_end": 6.94,
            "count": 0
           },
           {
            "bin_start": 6.94,
            "bin_end": 6.97,
            "count": 0
           },
           {
            "bin_start": 6.97,
            "bin_end": 7,
            "count": 1
           }
          ]
         }
        },
        {
         "name": "ef_government_enterprises",
         "dtype": "float64",
         "stats": {
          "unique_count": 4,
          "nan_count": 0,
          "min": "7.6",
          "max": "8.4",
          "histogram": [
           {
            "bin_start": 7.6,
            "bin_end": 7.68,
            "count": 1
           },
           {
            "bin_start": 7.68,
            "bin_end": 7.76,
            "count": 0
           },
           {
            "bin_start": 7.76,
            "bin_end": 7.84,
            "count": 0
           },
           {
            "bin_start": 7.84,
            "bin_end": 7.92,
            "count": 0
           },
           {
            "bin_start": 7.92,
            "bin_end": 8,
            "count": 0
           },
           {
            "bin_start": 8,
            "bin_end": 8.08,
            "count": 2
           },
           {
            "bin_start": 8.08,
            "bin_end": 8.16,
            "count": 1
           },
           {
            "bin_start": 8.16,
            "bin_end": 8.24,
            "count": 0
           },
           {
            "bin_start": 8.24,
            "bin_end": 8.32,
            "count": 0
           },
           {
            "bin_start": 8.32,
            "bin_end": 8.4,
            "count": 1
           }
          ]
         }
        },
        {
         "name": "ef_government_tax_income",
         "dtype": "float64",
         "stats": {
          "unique_count": 1,
          "nan_count": 0,
          "min": "9.0",
          "max": "9.0",
          "histogram": [
           {
            "bin_start": 8.5,
            "bin_end": 8.6,
            "count": 0
           },
           {
            "bin_start": 8.6,
            "bin_end": 8.7,
            "count": 0
           },
           {
            "bin_start": 8.7,
            "bin_end": 8.8,
            "count": 0
           },
           {
            "bin_start": 8.8,
            "bin_end": 8.9,
            "count": 0
           },
           {
            "bin_start": 8.9,
            "bin_end": 9,
            "count": 0
           },
           {
            "bin_start": 9,
            "bin_end": 9.1,
            "count": 5
           },
           {
            "bin_start": 9.1,
            "bin_end": 9.2,
            "count": 0
           },
           {
            "bin_start": 9.2,
            "bin_end": 9.3,
            "count": 0
           },
           {
            "bin_start": 9.3,
            "bin_end": 9.4,
            "count": 0
           },
           {
            "bin_start": 9.4,
            "bin_end": 9.5,
            "count": 0
           }
          ]
         }
        },
        {
         "name": "ef_government_tax_payroll",
         "dtype": "float64",
         "stats": {
          "unique_count": 1,
          "nan_count": 0,
          "min": "7.0",
          "max": "7.0",
          "histogram": [
           {
            "bin_start": 6.5,
            "bin_end": 6.6,
            "count": 0
           },
           {
            "bin_start": 6.6,
            "bin_end": 6.7,
            "count": 0
           },
           {
            "bin_start": 6.7,
            "bin_end": 6.8,
            "count": 0
           },
           {
            "bin_start": 6.8,
            "bin_end": 6.9,
            "count": 0
           },
           {
            "bin_start": 6.9,
            "bin_end": 7,
            "count": 0
           },
           {
            "bin_start": 7,
            "bin_end": 7.1,
            "count": 5
           },
           {
            "bin_start": 7.1,
            "bin_end": 7.2,
            "count": 0
           },
           {
            "bin_start": 7.2,
            "bin_end": 7.3,
            "count": 0
           },
           {
            "bin_start": 7.3,
            "bin_end": 7.4,
            "count": 0
           },
           {
            "bin_start": 7.4,
            "bin_end": 7.5,
            "count": 0
           }
          ]
         }
        },
        {
         "name": "ef_government_tax",
         "dtype": "float64",
         "stats": {
          "unique_count": 1,
          "nan_count": 0,
          "min": "8.0",
          "max": "8.0",
          "histogram": [
           {
            "bin_start": 7.5,
            "bin_end": 7.6,
            "count": 0
           },
           {
            "bin_start": 7.6,
            "bin_end": 7.7,
            "count": 0
           },
           {
            "bin_start": 7.7,
            "bin_end": 7.8,
            "count": 0
           },
           {
            "bin_start": 7.8,
            "bin_end": 7.9,
            "count": 0
           },
           {
            "bin_start": 7.9,
            "bin_end": 8,
            "count": 0
           },
           {
            "bin_start": 8,
            "bin_end": 8.1,
            "count": 5
           },
           {
            "bin_start": 8.1,
            "bin_end": 8.2,
            "count": 0
           },
           {
            "bin_start": 8.2,
            "bin_end": 8.3,
            "count": 0
           },
           {
            "bin_start": 8.3,
            "bin_end": 8.4,
            "count": 0
           },
           {
            "bin_start": 8.4,
            "bin_end": 8.5,
            "count": 0
           }
          ]
         }
        },
        {
         "name": "ef_government_soa",
         "dtype": "float64",
         "stats": {
          "unique_count": 3,
          "nan_count": 0,
          "min": "6.2",
          "max": "9.5",
          "histogram": [
           {
            "bin_start": 6.2,
            "bin_end": 6.53,
            "count": 1
           },
           {
            "bin_start": 6.53,
            "bin_end": 6.86,
            "count": 0
           },
           {
            "bin_start": 6.86,
            "bin_end": 7.19,
            "count": 0
           },
           {
            "bin_start": 7.19,
            "bin_end": 7.52,
            "count": 0
           },
           {
            "bin_start": 7.52,
            "bin_end": 7.85,
            "count": 3
           },
           {
            "bin_start": 7.85,
            "bin_end": 8.18,
            "count": 0
           },
           {
            "bin_start": 8.18,
            "bin_end": 8.51,
            "count": 0
           },
           {
            "bin_start": 8.51,
            "bin_end": 8.84,
            "count": 0
           },
           {
            "bin_start": 8.84,
            "bin_end": 9.17,
            "count": 0
           },
           {
            "bin_start": 9.17,
            "bin_end": 9.5,
            "count": 1
           }
          ]
         }
        },
        {
         "name": "ef_government",
         "dtype": "float64",
         "stats": {
          "unique_count": 4,
          "nan_count": 0,
          "min": "7.4",
          "max": "8.1",
          "histogram": [
           {
            "bin_start": 7.4,
            "bin_end": 7.470000000000001,
            "count": 1
           },
           {
            "bin_start": 7.470000000000001,
            "bin_end": 7.54,
            "count": 0
           },
           {
            "bin_start": 7.54,
            "bin_end": 7.61,
            "count": 0
           },
           {
            "bin_start": 7.61,
            "bin_end": 7.68,
            "count": 0
           },
           {
            "bin_start": 7.68,
            "bin_end": 7.75,
            "count": 1
           },
           {
            "bin_start": 7.75,
            "bin_end": 7.82,
            "count": 2
           },
           {
            "bin_start": 7.82,
            "bin_end": 7.89,
            "count": 0
           },
           {
            "bin_start": 7.89,
            "bin_end": 7.96,
            "count": 0
           },
           {
            "bin_start": 7.96,
            "bin_end": 8.03,
            "count": 0
           },
           {
            "bin_start": 8.03,
            "bin_end": 8.1,
            "count": 1
           }
          ]
         }
        },
        {
         "name": "ef_legal_judicial",
         "dtype": "float64",
         "stats": {
          "unique_count": 3,
          "nan_count": 0,
          "min": "3.6",
          "max": "4.0",
          "histogram": [
           {
            "bin_start": 3.6,
            "bin_end": 3.64,
            "count": 1
           },
           {
            "bin_start": 3.64,
            "bin_end": 3.68,
            "count": 0
           },
           {
            "bin_start": 3.68,
            "bin_end": 3.72,
            "count": 0
           },
           {
            "bin_start": 3.72,
            "bin_end": 3.7600000000000002,
            "count": 0
           },
           {
            "bin_start": 3.7600000000000002,
            "bin_end": 3.8,
            "count": 0
           },
           {
            "bin_start": 3.8,
            "bin_end": 3.84,
            "count": 1
           },
           {
            "bin_start": 3.84,
            "bin_end": 3.88,
            "count": 0
           },
           {
            "bin_start": 3.88,
            "bin_end": 3.92,
            "count": 0
           },
           {
            "bin_start": 3.92,
            "bin_end": 3.96,
            "count": 0
           },
           {
            "bin_start": 3.96,
            "bin_end": 4,
            "count": 3
           }
          ]
         }
        },
        {
         "name": "ef_legal_courts",
         "dtype": "float64",
         "stats": {
          "unique_count": 2,
          "nan_count": 0,
          "min": "3.7",
          "max": "3.9",
          "histogram": [
           {
            "bin_start": 3.7,
            "bin_end": 3.72,
            "count": 1
           },
           {
            "bin_start": 3.72,
            "bin_end": 3.74,
            "count": 0
           },
           {
            "bin_start": 3.74,
            "bin_end": 3.7600000000000002,
            "count": 0
           },
           {
            "bin_start": 3.7600000000000002,
            "bin_end": 3.7800000000000002,
            "count": 0
           },
           {
            "bin_start": 3.7800000000000002,
            "bin_end": 3.8,
            "count": 0
           },
           {
            "bin_start": 3.8,
            "bin_end": 3.82,
            "count": 0
           },
           {
            "bin_start": 3.82,
            "bin_end": 3.84,
            "count": 0
           },
           {
            "bin_start": 3.84,
            "bin_end": 3.86,
            "count": 0
           },
           {
            "bin_start": 3.86,
            "bin_end": 3.88,
            "count": 0
           },
           {
            "bin_start": 3.88,
            "bin_end": 3.9,
            "count": 4
           }
          ]
         }
        },
        {
         "name": "ef_legal_protection",
         "dtype": "float64",
         "stats": {
          "unique_count": 3,
          "nan_count": 0,
          "min": "4.5",
          "max": "5.1",
          "histogram": [
           {
            "bin_start": 4.5,
            "bin_end": 4.56,
            "count": 1
           },
           {
            "bin_start": 4.56,
            "bin_end": 4.62,
            "count": 0
           },
           {
            "bin_start": 4.62,
            "bin_end": 4.68,
            "count": 0
           },
           {
            "bin_start": 4.68,
            "bin_end": 4.74,
            "count": 0
           },
           {
            "bin_start": 4.74,
            "bin_end": 4.8,
            "count": 0
           },
           {
            "bin_start": 4.8,
            "bin_end": 4.859999999999999,
            "count": 0
           },
           {
            "bin_start": 4.859999999999999,
            "bin_end": 4.92,
            "count": 2
           },
           {
            "bin_start": 4.92,
            "bin_end": 4.9799999999999995,
            "count": 0
           },
           {
            "bin_start": 4.9799999999999995,
            "bin_end": 5.04,
            "count": 0
           },
           {
            "bin_start": 5.04,
            "bin_end": 5.1,
            "count": 2
           }
          ]
         }
        },
        {
         "name": "ef_legal_military",
         "dtype": "float64",
         "stats": {
          "unique_count": 1,
          "nan_count": 0,
          "min": "8.3",
          "max": "8.3",
          "histogram": [
           {
            "bin_start": 7.800000000000001,
            "bin_end": 7.9,
            "count": 0
           },
           {
            "bin_start": 7.9,
            "bin_end": 8,
            "count": 0
           },
           {
            "bin_start": 8,
            "bin_end": 8.100000000000001,
            "count": 0
           },
           {
            "bin_start": 8.100000000000001,
            "bin_end": 8.200000000000001,
            "count": 0
           },
           {
            "bin_start": 8.200000000000001,
            "bin_end": 8.3,
            "count": 0
           },
           {
            "bin_start": 8.3,
            "bin_end": 8.4,
            "count": 5
           },
           {
            "bin_start": 8.4,
            "bin_end": 8.5,
            "count": 0
           },
           {
            "bin_start": 8.5,
            "bin_end": 8.600000000000001,
            "count": 0
           },
           {
            "bin_start": 8.600000000000001,
            "bin_end": 8.700000000000001,
            "count": 0
           },
           {
            "bin_start": 8.700000000000001,
            "bin_end": 8.8,
            "count": 0
           }
          ]
         }
        },
        {
         "name": "ef_legal_integrity",
         "dtype": "float64",
         "stats": {
          "unique_count": 3,
          "nan_count": 0,
          "min": "5.5",
          "max": "5.7",
          "histogram": [
           {
            "bin_start": 5.5,
            "bin_end": 5.52,
            "count": 1
           },
           {
            "bin_start": 5.52,
            "bin_end": 5.54,
            "count": 0
           },
           {
            "bin_start": 5.54,
            "bin_end": 5.5600000000000005,
            "count": 0
           },
           {
            "bin_start": 5.5600000000000005,
            "bin_end": 5.58,
            "count": 0
           },
           {
            "bin_start": 5.58,
            "bin_end": 5.6,
            "count": 0
           },
           {
            "bin_start": 5.6,
            "bin_end": 5.62,
            "count": 3
           },
           {
            "bin_start": 5.62,
            "bin_end": 5.640000000000001,
            "count": 0
           },
           {
            "bin_start": 5.640000000000001,
            "bin_end": 5.66,
            "count": 0
           },
           {
            "bin_start": 5.66,
            "bin_end": 5.68,
            "count": 0
           },
           {
            "bin_start": 5.68,
            "bin_end": 5.7,
            "count": 1
           }
          ]
         }
        },
        {
         "name": "ef_legal_enforcement",
         "dtype": "float64",
         "stats": {
          "unique_count": 2,
          "nan_count": 0,
          "min": "3.9",
          "max": "4.4",
          "histogram": [
           {
            "bin_start": 3.9,
            "bin_end": 3.95,
            "count": 1
           },
           {
            "bin_start": 3.95,
            "bin_end": 4,
            "count": 0
           },
           {
            "bin_start": 4,
            "bin_end": 4.05,
            "count": 0
           },
           {
            "bin_start": 4.05,
            "bin_end": 4.1,
            "count": 0
           },
           {
            "bin_start": 4.1,
            "bin_end": 4.15,
            "count": 0
           },
           {
            "bin_start": 4.15,
            "bin_end": 4.2,
            "count": 0
           },
           {
            "bin_start": 4.2,
            "bin_end": 4.25,
            "count": 0
           },
           {
            "bin_start": 4.25,
            "bin_end": 4.300000000000001,
            "count": 0
           },
           {
            "bin_start": 4.300000000000001,
            "bin_end": 4.3500000000000005,
            "count": 0
           },
           {
            "bin_start": 4.3500000000000005,
            "bin_end": 4.4,
            "count": 4
           }
          ]
         }
        },
        {
         "name": "ef_legal_regulatory",
         "dtype": "float64",
         "stats": {
          "unique_count": 5,
          "nan_count": 0,
          "min": "6.2",
          "max": "6.7",
          "histogram": [
           {
            "bin_start": 6.2,
            "bin_end": 6.25,
            "count": 1
           },
           {
            "bin_start": 6.25,
            "bin_end": 6.3,
            "count": 0
           },
           {
            "bin_start": 6.3,
            "bin_end": 6.3500000000000005,
            "count": 0
           },
           {
            "bin_start": 6.3500000000000005,
            "bin_end": 6.4,
            "count": 0
           },
           {
            "bin_start": 6.4,
            "bin_end": 6.45,
            "count": 1
           },
           {
            "bin_start": 6.45,
            "bin_end": 6.5,
            "count": 0
           },
           {
            "bin_start": 6.5,
            "bin_end": 6.55,
            "count": 1
           },
           {
            "bin_start": 6.55,
            "bin_end": 6.6000000000000005,
            "count": 1
           },
           {
            "bin_start": 6.6000000000000005,
            "bin_end": 6.65,
            "count": 0
           },
           {
            "bin_start": 6.65,
            "bin_end": 6.7,
            "count": 1
           }
          ]
         }
        },
        {
         "name": "ef_legal_police",
         "dtype": "float64",
         "stats": {
          "unique_count": 5,
          "nan_count": 0,
          "min": "4.5",
          "max": "6.9",
          "histogram": [
           {
            "bin_start": 4.5,
            "bin_end": 4.74,
            "count": 1
           },
           {
            "bin_start": 4.74,
            "bin_end": 4.98,
            "count": 0
           },
           {
            "bin_start": 4.98,
            "bin_end": 5.220000000000001,
            "count": 0
           },
           {
            "bin_start": 5.220000000000001,
            "bin_end": 5.46,
            "count": 0
           },
           {
            "bin_start": 5.46,
            "bin_end": 5.7,
            "count": 1
           },
           {
            "bin_start": 5.7,
            "bin_end": 5.94,
            "count": 0
           },
           {
            "bin_start": 5.94,
            "bin_end": 6.180000000000001,
            "count": 0
           },
           {
            "bin_start": 6.180000000000001,
            "bin_end": 6.42,
            "count": 0
           },
           {
            "bin_start": 6.42,
            "bin_end": 6.66,
            "count": 0
           },
           {
            "bin_start": 6.66,
            "bin_end": 6.9,
            "count": 3
           }
          ]
         }
        },
        {
         "name": "ef_legal_gender",
         "dtype": "float64",
         "stats": {
          "unique_count": 2,
          "nan_count": 0,
          "min": "0.9",
          "max": "1.0",
          "histogram": [
           {
            "bin_start": 0.9,
            "bin_end": 0.91,
            "count": 3
           },
           {
            "bin_start": 0.91,
            "bin_end": 0.92,
            "count": 0
           },
           {
            "bin_start": 0.92,
            "bin_end": 0.93,
            "count": 0
           },
           {
            "bin_start": 0.93,
            "bin_end": 0.9400000000000001,
            "count": 0
           },
           {
            "bin_start": 0.9400000000000001,
            "bin_end": 0.95,
            "count": 0
           },
           {
            "bin_start": 0.95,
            "bin_end": 0.96,
            "count": 0
           },
           {
            "bin_start": 0.96,
            "bin_end": 0.97,
            "count": 0
           },
           {
            "bin_start": 0.97,
            "bin_end": 0.98,
            "count": 0
           },
           {
            "bin_start": 0.98,
            "bin_end": 0.99,
            "count": 0
           },
           {
            "bin_start": 0.99,
            "bin_end": 1,
            "count": 2
           }
          ]
         }
        },
        {
         "name": "ef_legal",
         "dtype": "float64",
         "stats": {
          "unique_count": 4,
          "nan_count": 0,
          "min": "5.1",
          "max": "5.5",
          "histogram": [
           {
            "bin_start": 5.1,
            "bin_end": 5.14,
            "count": 1
           },
           {
            "bin_start": 5.14,
            "bin_end": 5.18,
            "count": 0
           },
           {
            "bin_start": 5.18,
            "bin_end": 5.22,
            "count": 1
           },
           {
            "bin_start": 5.22,
            "bin_end": 5.26,
            "count": 0
           },
           {
            "bin_start": 5.26,
            "bin_end": 5.3,
            "count": 0
           },
           {
            "bin_start": 5.3,
            "bin_end": 5.34,
            "count": 0
           },
           {
            "bin_start": 5.34,
            "bin_end": 5.38,
            "count": 0
           },
           {
            "bin_start": 5.38,
            "bin_end": 5.42,
            "count": 2
           },
           {
            "bin_start": 5.42,
            "bin_end": 5.46,
            "count": 0
           },
           {
            "bin_start": 5.46,
            "bin_end": 5.5,
            "count": 1
           }
          ]
         }
        },
        {
         "name": "ef_money_growth",
         "dtype": "float64",
         "stats": {
          "unique_count": 5,
          "nan_count": 0,
          "min": "9.0",
          "max": "10.0",
          "histogram": [
           {
            "bin_start": 9,
            "bin_end": 9.1,
            "count": 1
           },
           {
            "bin_start": 9.1,
            "bin_end": 9.2,
            "count": 0
           },
           {
            "bin_start": 9.2,
            "bin_end": 9.3,
            "count": 1
           },
           {
            "bin_start": 9.3,
            "bin_end": 9.4,
            "count": 1
           },
           {
            "bin_start": 9.4,
            "bin_end": 9.5,
            "count": 1
           },
           {
            "bin_start": 9.5,
            "bin_end": 9.6,
            "count": 0
           },
           {
            "bin_start": 9.6,
            "bin_end": 9.7,
            "count": 0
           },
           {
            "bin_start": 9.7,
            "bin_end": 9.8,
            "count": 0
           },
           {
            "bin_start": 9.8,
            "bin_end": 9.9,
            "count": 0
           },
           {
            "bin_start": 9.9,
            "bin_end": 10,
            "count": 1
           }
          ]
         }
        },
        {
         "name": "ef_money_sd",
         "dtype": "float64",
         "stats": {
          "unique_count": 3,
          "nan_count": 0,
          "min": "9.4",
          "max": "9.7",
          "histogram": [
           {
            "bin_start": 9.4,
            "bin_end": 9.43,
            "count": 2
           },
           {
            "bin_start": 9.43,
            "bin_end": 9.46,
            "count": 0
           },
           {
            "bin_start": 9.46,
            "bin_end": 9.49,
            "count": 0
           },
           {
            "bin_start": 9.49,
            "bin_end": 9.52,
            "count": 1
           },
           {
            "bin_start": 9.52,
            "bin_end": 9.55,
            "count": 0
           },
           {
            "bin_start": 9.55,
            "bin_end": 9.58,
            "count": 0
           },
           {
            "bin_start": 9.58,
            "bin_end": 9.61,
            "count": 0
           },
           {
            "bin_start": 9.61,
            "bin_end": 9.639999999999999,
            "count": 0
           },
           {
            "bin_start": 9.639999999999999,
            "bin_end": 9.67,
            "count": 0
           },
           {
            "bin_start": 9.67,
            "bin_end": 9.7,
            "count": 2
           }
          ]
         }
        },
        {
         "name": "ef_money_inflation",
         "dtype": "float64",
         "stats": {
          "unique_count": 2,
          "nan_count": 0,
          "min": "9.6",
          "max": "9.7",
          "histogram": [
           {
            "bin_start": 9.6,
            "bin_end": 9.61,
            "count": 3
           },
           {
            "bin_start": 9.61,
            "bin_end": 9.62,
            "count": 0
           },
           {
            "bin_start": 9.62,
            "bin_end": 9.629999999999999,
            "count": 0
           },
           {
            "bin_start": 9.629999999999999,
            "bin_end": 9.639999999999999,
            "count": 0
           },
           {
            "bin_start": 9.639999999999999,
            "bin_end": 9.649999999999999,
            "count": 0
           },
           {
            "bin_start": 9.649999999999999,
            "bin_end": 9.66,
            "count": 0
           },
           {
            "bin_start": 9.66,
            "bin_end": 9.67,
            "count": 0
           },
           {
            "bin_start": 9.67,
            "bin_end": 9.68,
            "count": 0
           },
           {
            "bin_start": 9.68,
            "bin_end": 9.69,
            "count": 0
           },
           {
            "bin_start": 9.69,
            "bin_end": 9.7,
            "count": 2
           }
          ]
         }
        },
        {
         "name": "ef_money_currency",
         "dtype": "float64",
         "stats": {
          "unique_count": 1,
          "nan_count": 0,
          "min": "10.0",
          "max": "10.0",
          "histogram": [
           {
            "bin_start": 9.5,
            "bin_end": 9.6,
            "count": 0
           },
           {
            "bin_start": 9.6,
            "bin_end": 9.7,
            "count": 0
           },
           {
            "bin_start": 9.7,
            "bin_end": 9.8,
            "count": 0
           },
           {
            "bin_start": 9.8,
            "bin_end": 9.9,
            "count": 0
           },
           {
            "bin_start": 9.9,
            "bin_end": 10,
            "count": 0
           },
           {
            "bin_start": 10,
            "bin_end": 10.1,
            "count": 5
           },
           {
            "bin_start": 10.1,
            "bin_end": 10.2,
            "count": 0
           },
           {
            "bin_start": 10.2,
            "bin_end": 10.3,
            "count": 0
           },
           {
            "bin_start": 10.3,
            "bin_end": 10.4,
            "count": 0
           },
           {
            "bin_start": 10.4,
            "bin_end": 10.5,
            "count": 0
           }
          ]
         }
        },
        {
         "name": "ef_money",
         "dtype": "float64",
         "stats": {
          "unique_count": 2,
          "nan_count": 0,
          "min": "9.6",
          "max": "9.8",
          "histogram": [
           {
            "bin_start": 9.6,
            "bin_end": 9.62,
            "count": 4
           },
           {
            "bin_start": 9.62,
            "bin_end": 9.64,
            "count": 0
           },
           {
            "bin_start": 9.64,
            "bin_end": 9.66,
            "count": 0
           },
           {
            "bin_start": 9.66,
            "bin_end": 9.68,
            "count": 0
           },
           {
            "bin_start": 9.68,
            "bin_end": 9.7,
            "count": 0
           },
           {
            "bin_start": 9.7,
            "bin_end": 9.72,
            "count": 0
           },
           {
            "bin_start": 9.72,
            "bin_end": 9.74,
            "count": 0
           },
           {
            "bin_start": 9.74,
            "bin_end": 9.76,
            "count": 0
           },
           {
            "bin_start": 9.76,
            "bin_end": 9.780000000000001,
            "count": 0
           },
           {
            "bin_start": 9.780000000000001,
            "bin_end": 9.8,
            "count": 1
           }
          ]
         }
        },
        {
         "name": "ef_trade_tariffs_revenue",
         "dtype": "float64",
         "stats": {
          "unique_count": 4,
          "nan_count": 0,
          "min": "9.3",
          "max": "9.7",
          "histogram": [
           {
            "bin_start": 9.3,
            "bin_end": 9.34,
            "count": 1
           },
           {
            "bin_start": 9.34,
            "bin_end": 9.38,
            "count": 0
           },
           {
            "bin_start": 9.38,
            "bin_end": 9.42,
            "count": 1
           },
           {
            "bin_start": 9.42,
            "bin_end": 9.46,
            "count": 0
           },
           {
            "bin_start": 9.46,
            "bin_end": 9.5,
            "count": 0
           },
           {
            "bin_start": 9.5,
            "bin_end": 9.54,
            "count": 0
           },
           {
            "bin_start": 9.54,
            "bin_end": 9.58,
            "count": 0
           },
           {
            "bin_start": 9.58,
            "bin_end": 9.62,
            "count": 2
           },
           {
            "bin_start": 9.62,
            "bin_end": 9.66,
            "count": 0
           },
           {
            "bin_start": 9.66,
            "bin_end": 9.7,
            "count": 1
           }
          ]
         }
        },
        {
         "name": "ef_trade_tariffs_mean",
         "dtype": "float64",
         "stats": {
          "unique_count": 2,
          "nan_count": 0,
          "min": "9.2",
          "max": "9.3",
          "histogram": [
           {
            "bin_start": 9.2,
            "bin_end": 9.209999999999999,
            "count": 3
           },
           {
            "bin_start": 9.209999999999999,
            "bin_end": 9.219999999999999,
            "count": 0
           },
           {
            "bin_start": 9.219999999999999,
            "bin_end": 9.23,
            "count": 0
           },
           {
            "bin_start": 9.23,
            "bin_end": 9.24,
            "count": 0
           },
           {
            "bin_start": 9.24,
            "bin_end": 9.25,
            "count": 0
           },
           {
            "bin_start": 9.25,
            "bin_end": 9.26,
            "count": 0
           },
           {
            "bin_start": 9.26,
            "bin_end": 9.27,
            "count": 0
           },
           {
            "bin_start": 9.27,
            "bin_end": 9.280000000000001,
            "count": 0
           },
           {
            "bin_start": 9.280000000000001,
            "bin_end": 9.290000000000001,
            "count": 0
           },
           {
            "bin_start": 9.290000000000001,
            "bin_end": 9.3,
            "count": 2
           }
          ]
         }
        },
        {
         "name": "ef_trade_tariffs_sd",
         "dtype": "float64",
         "stats": {
          "unique_count": 2,
          "nan_count": 0,
          "min": "8.0",
          "max": "8.1",
          "histogram": [
           {
            "bin_start": 8,
            "bin_end": 8.01,
            "count": 3
           },
           {
            "bin_start": 8.01,
            "bin_end": 8.02,
            "count": 0
           },
           {
            "bin_start": 8.02,
            "bin_end": 8.03,
            "count": 0
           },
           {
            "bin_start": 8.03,
            "bin_end": 8.04,
            "count": 0
           },
           {
            "bin_start": 8.04,
            "bin_end": 8.05,
            "count": 0
           },
           {
            "bin_start": 8.05,
            "bin_end": 8.06,
            "count": 0
           },
           {
            "bin_start": 8.06,
            "bin_end": 8.07,
            "count": 0
           },
           {
            "bin_start": 8.07,
            "bin_end": 8.08,
            "count": 0
           },
           {
            "bin_start": 8.08,
            "bin_end": 8.09,
            "count": 0
           },
           {
            "bin_start": 8.09,
            "bin_end": 8.1,
            "count": 2
           }
          ]
         }
        },
        {
         "name": "ef_trade_tariffs",
         "dtype": "float64",
         "stats": {
          "unique_count": 2,
          "nan_count": 0,
          "min": "8.9",
          "max": "9.0",
          "histogram": [
           {
            "bin_start": 8.9,
            "bin_end": 8.91,
            "count": 2
           },
           {
            "bin_start": 8.91,
            "bin_end": 8.92,
            "count": 0
           },
           {
            "bin_start": 8.92,
            "bin_end": 8.93,
            "count": 0
           },
           {
            "bin_start": 8.93,
            "bin_end": 8.94,
            "count": 0
           },
           {
            "bin_start": 8.94,
            "bin_end": 8.95,
            "count": 0
           },
           {
            "bin_start": 8.95,
            "bin_end": 8.96,
            "count": 0
           },
           {
            "bin_start": 8.96,
            "bin_end": 8.97,
            "count": 0
           },
           {
            "bin_start": 8.97,
            "bin_end": 8.98,
            "count": 0
           },
           {
            "bin_start": 8.98,
            "bin_end": 8.99,
            "count": 0
           },
           {
            "bin_start": 8.99,
            "bin_end": 9,
            "count": 3
           }
          ]
         }
        },
        {
         "name": "ef_trade_regulatory_nontariff",
         "dtype": "float64",
         "stats": {
          "unique_count": 5,
          "nan_count": 0,
          "min": "5.4",
          "max": "6.8",
          "histogram": [
           {
            "bin_start": 5.4,
            "bin_end": 5.54,
            "count": 1
           },
           {
            "bin_start": 5.54,
            "bin_end": 5.680000000000001,
            "count": 1
           },
           {
            "bin_start": 5.680000000000001,
            "bin_end": 5.82,
            "count": 0
           },
           {
            "bin_start": 5.82,
            "bin_end": 5.96,
            "count": 0
           },
           {
            "bin_start": 5.96,
            "bin_end": 6.1,
            "count": 1
           },
           {
            "bin_start": 6.1,
            "bin_end": 6.24,
            "count": 0
           },
           {
            "bin_start": 6.24,
            "bin_end": 6.38,
            "count": 1
           },
           {
            "bin_start": 6.38,
            "bin_end": 6.52,
            "count": 0
           },
           {
            "bin_start": 6.52,
            "bin_end": 6.66,
            "count": 0
           },
           {
            "bin_start": 6.66,
            "bin_end": 6.8,
            "count": 1
           }
          ]
         }
        },
        {
         "name": "ef_trade_regulatory_compliance",
         "dtype": "float64",
         "stats": {
          "unique_count": 2,
          "nan_count": 0,
          "min": "9.2",
          "max": "9.4",
          "histogram": [
           {
            "bin_start": 9.2,
            "bin_end": 9.219999999999999,
            "count": 1
           },
           {
            "bin_start": 9.219999999999999,
            "bin_end": 9.24,
            "count": 0
           },
           {
            "bin_start": 9.24,
            "bin_end": 9.26,
            "count": 0
           },
           {
            "bin_start": 9.26,
            "bin_end": 9.28,
            "count": 0
           },
           {
            "bin_start": 9.28,
            "bin_end": 9.3,
            "count": 0
           },
           {
            "bin_start": 9.3,
            "bin_end": 9.32,
            "count": 0
           },
           {
            "bin_start": 9.32,
            "bin_end": 9.34,
            "count": 0
           },
           {
            "bin_start": 9.34,
            "bin_end": 9.36,
            "count": 0
           },
           {
            "bin_start": 9.36,
            "bin_end": 9.38,
            "count": 0
           },
           {
            "bin_start": 9.38,
            "bin_end": 9.4,
            "count": 4
           }
          ]
         }
        },
        {
         "name": "ef_trade_regulatory",
         "dtype": "float64",
         "stats": {
          "unique_count": 4,
          "nan_count": 0,
          "min": "7.4",
          "max": "8.1",
          "histogram": [
           {
            "bin_start": 7.4,
            "bin_end": 7.470000000000001,
            "count": 1
           },
           {
            "bin_start": 7.470000000000001,
            "bin_end": 7.54,
            "count": 1
           },
           {
            "bin_start": 7.54,
            "bin_end": 7.61,
            "count": 0
           },
           {
            "bin_start": 7.61,
            "bin_end": 7.68,
            "count": 0
           },
           {
            "bin_start": 7.68,
            "bin_end": 7.75,
            "count": 2
           },
           {
            "bin_start": 7.75,
            "bin_end": 7.82,
            "count": 0
           },
           {
            "bin_start": 7.82,
            "bin_end": 7.89,
            "count": 0
           },
           {
            "bin_start": 7.89,
            "bin_end": 7.96,
            "count": 0
           },
           {
            "bin_start": 7.96,
            "bin_end": 8.03,
            "count": 0
           },
           {
            "bin_start": 8.03,
            "bin_end": 8.1,
            "count": 1
           }
          ]
         }
        },
        {
         "name": "ef_trade_black",
         "dtype": "float64",
         "stats": {
          "unique_count": 1,
          "nan_count": 0,
          "min": "10.0",
          "max": "10.0",
          "histogram": [
           {
            "bin_start": 9.5,
            "bin_end": 9.6,
            "count": 0
           },
           {
            "bin_start": 9.6,
            "bin_end": 9.7,
            "count": 0
           },
           {
            "bin_start": 9.7,
            "bin_end": 9.8,
            "count": 0
           },
           {
            "bin_start": 9.8,
            "bin_end": 9.9,
            "count": 0
           },
           {
            "bin_start": 9.9,
            "bin_end": 10,
            "count": 0
           },
           {
            "bin_start": 10,
            "bin_end": 10.1,
            "count": 5
           },
           {
            "bin_start": 10.1,
            "bin_end": 10.2,
            "count": 0
           },
           {
            "bin_start": 10.2,
            "bin_end": 10.3,
            "count": 0
           },
           {
            "bin_start": 10.3,
            "bin_end": 10.4,
            "count": 0
           },
           {
            "bin_start": 10.4,
            "bin_end": 10.5,
            "count": 0
           }
          ]
         }
        },
        {
         "name": "ef_trade_movement_foreign",
         "dtype": "float64",
         "stats": {
          "unique_count": 1,
          "nan_count": 0,
          "min": "4.2",
          "max": "4.2",
          "histogram": [
           {
            "bin_start": 3.7,
            "bin_end": 3.8000000000000003,
            "count": 0
           },
           {
            "bin_start": 3.8000000000000003,
            "bin_end": 3.9000000000000004,
            "count": 0
           },
           {
            "bin_start": 3.9000000000000004,
            "bin_end": 4,
            "count": 0
           },
           {
            "bin_start": 4,
            "bin_end": 4.1000000000000005,
            "count": 0
           },
           {
            "bin_start": 4.1000000000000005,
            "bin_end": 4.2,
            "count": 0
           },
           {
            "bin_start": 4.2,
            "bin_end": 4.300000000000001,
            "count": 5
           },
           {
            "bin_start": 4.300000000000001,
            "bin_end": 4.4,
            "count": 0
           },
           {
            "bin_start": 4.4,
            "bin_end": 4.5,
            "count": 0
           },
           {
            "bin_start": 4.5,
            "bin_end": 4.6000000000000005,
            "count": 0
           },
           {
            "bin_start": 4.6000000000000005,
            "bin_end": 4.7,
            "count": 0
           }
          ]
         }
        },
        {
         "name": "ef_trade_movement_capital",
         "dtype": "float64",
         "stats": {
          "unique_count": 2,
          "nan_count": 0,
          "min": "4.6",
          "max": "5.4",
          "histogram": [
           {
            "bin_start": 4.6,
            "bin_end": 4.68,
            "count": 4
           },
           {
            "bin_start": 4.68,
            "bin_end": 4.76,
            "count": 0
           },
           {
            "bin_start": 4.76,
            "bin_end": 4.84,
            "count": 0
           },
           {
            "bin_start": 4.84,
            "bin_end": 4.92,
            "count": 0
           },
           {
            "bin_start": 4.92,
            "bin_end": 5,
            "count": 0
           },
           {
            "bin_start": 5,
            "bin_end": 5.08,
            "count": 0
           },
           {
            "bin_start": 5.08,
            "bin_end": 5.16,
            "count": 0
           },
           {
            "bin_start": 5.16,
            "bin_end": 5.24,
            "count": 0
           },
           {
            "bin_start": 5.24,
            "bin_end": 5.32,
            "count": 0
           },
           {
            "bin_start": 5.32,
            "bin_end": 5.4,
            "count": 1
           }
          ]
         }
        },
        {
         "name": "ef_trade_movement_visit",
         "dtype": "float64",
         "stats": {
          "unique_count": 1,
          "nan_count": 0,
          "min": "8.3",
          "max": "8.3",
          "histogram": [
           {
            "bin_start": 7.800000000000001,
            "bin_end": 7.9,
            "count": 0
           },
           {
            "bin_start": 7.9,
            "bin_end": 8,
            "count": 0
           },
           {
            "bin_start": 8,
            "bin_end": 8.100000000000001,
            "count": 0
           },
           {
            "bin_start": 8.100000000000001,
            "bin_end": 8.200000000000001,
            "count": 0
           },
           {
            "bin_start": 8.200000000000001,
            "bin_end": 8.3,
            "count": 0
           },
           {
            "bin_start": 8.3,
            "bin_end": 8.4,
            "count": 5
           },
           {
            "bin_start": 8.4,
            "bin_end": 8.5,
            "count": 0
           },
           {
            "bin_start": 8.5,
            "bin_end": 8.600000000000001,
            "count": 0
           },
           {
            "bin_start": 8.600000000000001,
            "bin_end": 8.700000000000001,
            "count": 0
           },
           {
            "bin_start": 8.700000000000001,
            "bin_end": 8.8,
            "count": 0
           }
          ]
         }
        },
        {
         "name": "ef_trade_movement",
         "dtype": "float64",
         "stats": {
          "unique_count": 2,
          "nan_count": 0,
          "min": "5.7",
          "max": "5.9",
          "histogram": [
           {
            "bin_start": 5.7,
            "bin_end": 5.720000000000001,
            "count": 4
           },
           {
            "bin_start": 5.720000000000001,
            "bin_end": 5.74,
            "count": 0
           },
           {
            "bin_start": 5.74,
            "bin_end": 5.76,
            "count": 0
           },
           {
            "bin_start": 5.76,
            "bin_end": 5.78,
            "count": 0
           },
           {
            "bin_start": 5.78,
            "bin_end": 5.800000000000001,
            "count": 0
           },
           {
            "bin_start": 5.800000000000001,
            "bin_end": 5.82,
            "count": 0
           },
           {
            "bin_start": 5.82,
            "bin_end": 5.84,
            "count": 0
           },
           {
            "bin_start": 5.84,
            "bin_end": 5.86,
            "count": 0
           },
           {
            "bin_start": 5.86,
            "bin_end": 5.880000000000001,
            "count": 0
           },
           {
            "bin_start": 5.880000000000001,
            "bin_end": 5.9,
            "count": 1
           }
          ]
         }
        },
        {
         "name": "ef_trade",
         "dtype": "float64",
         "stats": {
          "unique_count": 3,
          "nan_count": 0,
          "min": "8.0",
          "max": "8.2",
          "histogram": [
           {
            "bin_start": 8,
            "bin_end": 8.02,
            "count": 2
           },
           {
            "bin_start": 8.02,
            "bin_end": 8.04,
            "count": 0
           },
           {
            "bin_start": 8.04,
            "bin_end": 8.06,
            "count": 0
           },
           {
            "bin_start": 8.06,
            "bin_end": 8.08,
            "count": 0
           },
           {
            "bin_start": 8.08,
            "bin_end": 8.1,
            "count": 0
           },
           {
            "bin_start": 8.1,
            "bin_end": 8.12,
            "count": 1
           },
           {
            "bin_start": 8.12,
            "bin_end": 8.139999999999999,
            "count": 0
           },
           {
            "bin_start": 8.139999999999999,
            "bin_end": 8.16,
            "count": 0
           },
           {
            "bin_start": 8.16,
            "bin_end": 8.18,
            "count": 0
           },
           {
            "bin_start": 8.18,
            "bin_end": 8.2,
            "count": 2
           }
          ]
         }
        },
        {
         "name": "ef_regulation_credit_ownership",
         "dtype": "float64",
         "stats": {
          "unique_count": 1,
          "nan_count": 0,
          "min": "10.0",
          "max": "10.0",
          "histogram": [
           {
            "bin_start": 9.5,
            "bin_end": 9.6,
            "count": 0
           },
           {
            "bin_start": 9.6,
            "bin_end": 9.7,
            "count": 0
           },
           {
            "bin_start": 9.7,
            "bin_end": 9.8,
            "count": 0
           },
           {
            "bin_start": 9.8,
            "bin_end": 9.9,
            "count": 0
           },
           {
            "bin_start": 9.9,
            "bin_end": 10,
            "count": 0
           },
           {
            "bin_start": 10,
            "bin_end": 10.1,
            "count": 5
           },
           {
            "bin_start": 10.1,
            "bin_end": 10.2,
            "count": 0
           },
           {
            "bin_start": 10.2,
            "bin_end": 10.3,
            "count": 0
           },
           {
            "bin_start": 10.3,
            "bin_end": 10.4,
            "count": 0
           },
           {
            "bin_start": 10.4,
            "bin_end": 10.5,
            "count": 0
           }
          ]
         }
        },
        {
         "name": "ef_regulation_credit_private",
         "dtype": "float64",
         "stats": {
          "unique_count": 5,
          "nan_count": 0,
          "min": "7.3",
          "max": "9.2",
          "histogram": [
           {
            "bin_start": 7.3,
            "bin_end": 7.49,
            "count": 1
           },
           {
            "bin_start": 7.49,
            "bin_end": 7.68,
            "count": 1
           },
           {
            "bin_start": 7.68,
            "bin_end": 7.869999999999999,
            "count": 0
           },
           {
            "bin_start": 7.869999999999999,
            "bin_end": 8.059999999999999,
            "count": 1
           },
           {
            "bin_start": 8.059999999999999,
            "bin_end": 8.25,
            "count": 0
           },
           {
            "bin_start": 8.25,
            "bin_end": 8.44,
            "count": 0
           },
           {
            "bin_start": 8.44,
            "bin_end": 8.629999999999999,
            "count": 0
           },
           {
            "bin_start": 8.629999999999999,
            "bin_end": 8.82,
            "count": 0
           },
           {
            "bin_start": 8.82,
            "bin_end": 9.01,
            "count": 0
           },
           {
            "bin_start": 9.01,
            "bin_end": 9.2,
            "count": 2
           }
          ]
         }
        },
        {
         "name": "ef_regulation_credit_interest",
         "dtype": "float64",
         "stats": {
          "unique_count": 2,
          "nan_count": 0,
          "min": "9.0",
          "max": "10.0",
          "histogram": [
           {
            "bin_start": 9,
            "bin_end": 9.1,
            "count": 1
           },
           {
            "bin_start": 9.1,
            "bin_end": 9.2,
            "count": 0
           },
           {
            "bin_start": 9.2,
            "bin_end": 9.3,
            "count": 0
           },
           {
            "bin_start": 9.3,
            "bin_end": 9.4,
            "count": 0
           },
           {
            "bin_start": 9.4,
            "bin_end": 9.5,
            "count": 0
           },
           {
            "bin_start": 9.5,
            "bin_end": 9.6,
            "count": 0
           },
           {
            "bin_start": 9.6,
            "bin_end": 9.7,
            "count": 0
           },
           {
            "bin_start": 9.7,
            "bin_end": 9.8,
            "count": 0
           },
           {
            "bin_start": 9.8,
            "bin_end": 9.9,
            "count": 0
           },
           {
            "bin_start": 9.9,
            "bin_end": 10,
            "count": 4
           }
          ]
         }
        },
        {
         "name": "ef_regulation_credit",
         "dtype": "float64",
         "stats": {
          "unique_count": 4,
          "nan_count": 0,
          "min": "8.8",
          "max": "9.7",
          "histogram": [
           {
            "bin_start": 8.8,
            "bin_end": 8.89,
            "count": 1
           },
           {
            "bin_start": 8.89,
            "bin_end": 8.98,
            "count": 0
           },
           {
            "bin_start": 8.98,
            "bin_end": 9.07,
            "count": 0
           },
           {
            "bin_start": 9.07,
            "bin_end": 9.16,
            "count": 0
           },
           {
            "bin_start": 9.16,
            "bin_end": 9.25,
            "count": 1
           },
           {
            "bin_start": 9.25,
            "bin_end": 9.34,
            "count": 1
           },
           {
            "bin_start": 9.34,
            "bin_end": 9.43,
            "count": 0
           },
           {
            "bin_start": 9.43,
            "bin_end": 9.52,
            "count": 0
           },
           {
            "bin_start": 9.52,
            "bin_end": 9.61,
            "count": 0
           },
           {
            "bin_start": 9.61,
            "bin_end": 9.7,
            "count": 2
           }
          ]
         }
        },
        {
         "name": "ef_regulation_labor_minwage",
         "dtype": "float64",
         "stats": {
          "unique_count": 1,
          "nan_count": 0,
          "min": "5.6",
          "max": "5.6",
          "histogram": [
           {
            "bin_start": 5.1,
            "bin_end": 5.199999999999999,
            "count": 0
           },
           {
            "bin_start": 5.199999999999999,
            "bin_end": 5.3,
            "count": 0
           },
           {
            "bin_start": 5.3,
            "bin_end": 5.3999999999999995,
            "count": 0
           },
           {
            "bin_start": 5.3999999999999995,
            "bin_end": 5.5,
            "count": 0
           },
           {
            "bin_start": 5.5,
            "bin_end": 5.6,
            "count": 0
           },
           {
            "bin_start": 5.6,
            "bin_end": 5.699999999999999,
            "count": 5
           },
           {
            "bin_start": 5.699999999999999,
            "bin_end": 5.8,
            "count": 0
           },
           {
            "bin_start": 5.8,
            "bin_end": 5.8999999999999995,
            "count": 0
           },
           {
            "bin_start": 5.8999999999999995,
            "bin_end": 6,
            "count": 0
           },
           {
            "bin_start": 6,
            "bin_end": 6.1,
            "count": 0
           }
          ]
         }
        },
        {
         "name": "ef_regulation_labor_firing",
         "dtype": "float64",
         "stats": {
          "unique_count": 4,
          "nan_count": 0,
          "min": "4.9",
          "max": "6.1",
          "histogram": [
           {
            "bin_start": 4.9,
            "bin_end": 5.0200000000000005,
            "count": 2
           },
           {
            "bin_start": 5.0200000000000005,
            "bin_end": 5.140000000000001,
            "count": 0
           },
           {
            "bin_start": 5.140000000000001,
            "bin_end": 5.26,
            "count": 0
           },
           {
            "bin_start": 5.26,
            "bin_end": 5.38,
            "count": 0
           },
           {
            "bin_start": 5.38,
            "bin_end": 5.5,
            "count": 2
           },
           {
            "bin_start": 5.5,
            "bin_end": 5.62,
            "count": 0
           },
           {
            "bin_start": 5.62,
            "bin_end": 5.74,
            "count": 0
           },
           {
            "bin_start": 5.74,
            "bin_end": 5.859999999999999,
            "count": 0
           },
           {
            "bin_start": 5.859999999999999,
            "bin_end": 5.9799999999999995,
            "count": 0
           },
           {
            "bin_start": 5.9799999999999995,
            "bin_end": 6.1,
            "count": 1
           }
          ]
         }
        },
        {
         "name": "ef_regulation_labor_bargain",
         "dtype": "float64",
         "stats": {
          "unique_count": 5,
          "nan_count": 0,
          "min": "5.6",
          "max": "7.2",
          "histogram": [
           {
            "bin_start": 5.6,
            "bin_end": 5.76,
            "count": 1
           },
           {
            "bin_start": 5.76,
            "bin_end": 5.92,
            "count": 0
           },
           {
            "bin_start": 5.92,
            "bin_end": 6.08,
            "count": 0
           },
           {
            "bin_start": 6.08,
            "bin_end": 6.24,
            "count": 2
           },
           {
            "bin_start": 6.24,
            "bin_end": 6.4,
            "count": 0
           },
           {
            "bin_start": 6.4,
            "bin_end": 6.5600000000000005,
            "count": 1
           },
           {
            "bin_start": 6.5600000000000005,
            "bin_end": 6.72,
            "count": 0
           },
           {
            "bin_start": 6.72,
            "bin_end": 6.88,
            "count": 0
           },
           {
            "bin_start": 6.88,
            "bin_end": 7.04,
            "count": 0
           },
           {
            "bin_start": 7.04,
            "bin_end": 7.2,
            "count": 1
           }
          ]
         }
        },
        {
         "name": "ef_regulation_labor_hours",
         "dtype": "float64",
         "stats": {
          "unique_count": 1,
          "nan_count": 0,
          "min": "8.0",
          "max": "8.0",
          "histogram": [
           {
            "bin_start": 7.5,
            "bin_end": 7.6,
            "count": 0
           },
           {
            "bin_start": 7.6,
            "bin_end": 7.7,
            "count": 0
           },
           {
            "bin_start": 7.7,
            "bin_end": 7.8,
            "count": 0
           },
           {
            "bin_start": 7.8,
            "bin_end": 7.9,
            "count": 0
           },
           {
            "bin_start": 7.9,
            "bin_end": 8,
            "count": 0
           },
           {
            "bin_start": 8,
            "bin_end": 8.1,
            "count": 5
           },
           {
            "bin_start": 8.1,
            "bin_end": 8.2,
            "count": 0
           },
           {
            "bin_start": 8.2,
            "bin_end": 8.3,
            "count": 0
           },
           {
            "bin_start": 8.3,
            "bin_end": 8.4,
            "count": 0
           },
           {
            "bin_start": 8.4,
            "bin_end": 8.5,
            "count": 0
           }
          ]
         }
        },
        {
         "name": "ef_regulation_labor_dismissal",
         "dtype": "float64",
         "stats": {
          "unique_count": 1,
          "nan_count": 0,
          "min": "6.3",
          "max": "6.3",
          "histogram": [
           {
            "bin_start": 5.8,
            "bin_end": 5.8999999999999995,
            "count": 0
           },
           {
            "bin_start": 5.8999999999999995,
            "bin_end": 6,
            "count": 0
           },
           {
            "bin_start": 6,
            "bin_end": 6.1,
            "count": 0
           },
           {
            "bin_start": 6.1,
            "bin_end": 6.2,
            "count": 0
           },
           {
            "bin_start": 6.2,
            "bin_end": 6.3,
            "count": 0
           },
           {
            "bin_start": 6.3,
            "bin_end": 6.4,
            "count": 5
           },
           {
            "bin_start": 6.4,
            "bin_end": 6.5,
            "count": 0
           },
           {
            "bin_start": 6.5,
            "bin_end": 6.6,
            "count": 0
           },
           {
            "bin_start": 6.6,
            "bin_end": 6.7,
            "count": 0
           },
           {
            "bin_start": 6.7,
            "bin_end": 6.8,
            "count": 0
           }
          ]
         }
        },
        {
         "name": "ef_regulation_labor_conscription",
         "dtype": "float64",
         "stats": {
          "unique_count": 1,
          "nan_count": 0,
          "min": "10.0",
          "max": "10.0",
          "histogram": [
           {
            "bin_start": 9.5,
            "bin_end": 9.6,
            "count": 0
           },
           {
            "bin_start": 9.6,
            "bin_end": 9.7,
            "count": 0
           },
           {
            "bin_start": 9.7,
            "bin_end": 9.8,
            "count": 0
           },
           {
            "bin_start": 9.8,
            "bin_end": 9.9,
            "count": 0
           },
           {
            "bin_start": 9.9,
            "bin_end": 10,
            "count": 0
           },
           {
            "bin_start": 10,
            "bin_end": 10.1,
            "count": 5
           },
           {
            "bin_start": 10.1,
            "bin_end": 10.2,
            "count": 0
           },
           {
            "bin_start": 10.2,
            "bin_end": 10.3,
            "count": 0
           },
           {
            "bin_start": 10.3,
            "bin_end": 10.4,
            "count": 0
           },
           {
            "bin_start": 10.4,
            "bin_end": 10.5,
            "count": 0
           }
          ]
         }
        },
        {
         "name": "ef_regulation_labor",
         "dtype": "float64",
         "stats": {
          "unique_count": 4,
          "nan_count": 0,
          "min": "6.7",
          "max": "7.2",
          "histogram": [
           {
            "bin_start": 6.7,
            "bin_end": 6.75,
            "count": 1
           },
           {
            "bin_start": 6.75,
            "bin_end": 6.8,
            "count": 0
           },
           {
            "bin_start": 6.8,
            "bin_end": 6.8500000000000005,
            "count": 1
           },
           {
            "bin_start": 6.8500000000000005,
            "bin_end": 6.9,
            "count": 0
           },
           {
            "bin_start": 6.9,
            "bin_end": 6.95,
            "count": 2
           },
           {
            "bin_start": 6.95,
            "bin_end": 7,
            "count": 0
           },
           {
            "bin_start": 7,
            "bin_end": 7.05,
            "count": 0
           },
           {
            "bin_start": 7.05,
            "bin_end": 7.1000000000000005,
            "count": 0
           },
           {
            "bin_start": 7.1000000000000005,
            "bin_end": 7.15,
            "count": 0
           },
           {
            "bin_start": 7.15,
            "bin_end": 7.2,
            "count": 1
           }
          ]
         }
        },
        {
         "name": "ef_regulation_business_adm",
         "dtype": "float64",
         "stats": {
          "unique_count": 4,
          "nan_count": 0,
          "min": "5.7",
          "max": "6.3",
          "histogram": [
           {
            "bin_start": 5.7,
            "bin_end": 5.76,
            "count": 1
           },
           {
            "bin_start": 5.76,
            "bin_end": 5.82,
            "count": 0
           },
           {
            "bin_start": 5.82,
            "bin_end": 5.88,
            "count": 0
           },
           {
            "bin_start": 5.88,
            "bin_end": 5.94,
            "count": 1
           },
           {
            "bin_start": 5.94,
            "bin_end": 6,
            "count": 0
           },
           {
            "bin_start": 6,
            "bin_end": 6.06,
            "count": 0
           },
           {
            "bin_start": 6.06,
            "bin_end": 6.12,
            "count": 2
           },
           {
            "bin_start": 6.12,
            "bin_end": 6.18,
            "count": 0
           },
           {
            "bin_start": 6.18,
            "bin_end": 6.24,
            "count": 0
           },
           {
            "bin_start": 6.24,
            "bin_end": 6.3,
            "count": 1
           }
          ]
         }
        },
        {
         "name": "ef_regulation_business_bureaucracy",
         "dtype": "float64",
         "stats": {
          "unique_count": 2,
          "nan_count": 0,
          "min": "6.0",
          "max": "6.7",
          "histogram": [
           {
            "bin_start": 6,
            "bin_end": 6.07,
            "count": 3
           },
           {
            "bin_start": 6.07,
            "bin_end": 6.14,
            "count": 0
           },
           {
            "bin_start": 6.14,
            "bin_end": 6.21,
            "count": 0
           },
           {
            "bin_start": 6.21,
            "bin_end": 6.28,
            "count": 0
           },
           {
            "bin_start": 6.28,
            "bin_end": 6.35,
            "count": 0
           },
           {
            "bin_start": 6.35,
            "bin_end": 6.42,
            "count": 0
           },
           {
            "bin_start": 6.42,
            "bin_end": 6.49,
            "count": 0
           },
           {
            "bin_start": 6.49,
            "bin_end": 6.5600000000000005,
            "count": 0
           },
           {
            "bin_start": 6.5600000000000005,
            "bin_end": 6.63,
            "count": 0
           },
           {
            "bin_start": 6.63,
            "bin_end": 6.7,
            "count": 2
           }
          ]
         }
        },
        {
         "name": "ef_regulation_business_start",
         "dtype": "float64",
         "stats": {
          "unique_count": 1,
          "nan_count": 0,
          "min": "9.7",
          "max": "9.7",
          "histogram": [
           {
            "bin_start": 9.2,
            "bin_end": 9.299999999999999,
            "count": 0
           },
           {
            "bin_start": 9.299999999999999,
            "bin_end": 9.399999999999999,
            "count": 0
           },
           {
            "bin_start": 9.399999999999999,
            "bin_end": 9.5,
            "count": 0
           },
           {
            "bin_start": 9.5,
            "bin_end": 9.6,
            "count": 0
           },
           {
            "bin_start": 9.6,
            "bin_end": 9.7,
            "count": 0
           },
           {
            "bin_start": 9.7,
            "bin_end": 9.799999999999999,
            "count": 5
           },
           {
            "bin_start": 9.799999999999999,
            "bin_end": 9.899999999999999,
            "count": 0
           },
           {
            "bin_start": 9.899999999999999,
            "bin_end": 10,
            "count": 0
           },
           {
            "bin_start": 10,
            "bin_end": 10.1,
            "count": 0
           },
           {
            "bin_start": 10.1,
            "bin_end": 10.2,
            "count": 0
           }
          ]
         }
        },
        {
         "name": "ef_regulation_business_bribes",
         "dtype": "float64",
         "stats": {
          "unique_count": 2,
          "nan_count": 0,
          "min": "5.4",
          "max": "6.0",
          "histogram": [
           {
            "bin_start": 5.4,
            "bin_end": 5.46,
            "count": 1
           },
           {
            "bin_start": 5.46,
            "bin_end": 5.5200000000000005,
            "count": 0
           },
           {
            "bin_start": 5.5200000000000005,
            "bin_end": 5.58,
            "count": 0
           },
           {
            "bin_start": 5.58,
            "bin_end": 5.640000000000001,
            "count": 0
           },
           {
            "bin_start": 5.640000000000001,
            "bin_end": 5.7,
            "count": 0
           },
           {
            "bin_start": 5.7,
            "bin_end": 5.76,
            "count": 0
           },
           {
            "bin_start": 5.76,
            "bin_end": 5.82,
            "count": 0
           },
           {
            "bin_start": 5.82,
            "bin_end": 5.88,
            "count": 0
           },
           {
            "bin_start": 5.88,
            "bin_end": 5.94,
            "count": 0
           },
           {
            "bin_start": 5.94,
            "bin_end": 6,
            "count": 4
           }
          ]
         }
        },
        {
         "name": "ef_regulation_business_licensing",
         "dtype": "float64",
         "stats": {
          "unique_count": 4,
          "nan_count": 0,
          "min": "5.6",
          "max": "7.3",
          "histogram": [
           {
            "bin_start": 5.6,
            "bin_end": 5.77,
            "count": 1
           },
           {
            "bin_start": 5.77,
            "bin_end": 5.9399999999999995,
            "count": 0
           },
           {
            "bin_start": 5.9399999999999995,
            "bin_end": 6.109999999999999,
            "count": 1
           },
           {
            "bin_start": 6.109999999999999,
            "bin_end": 6.279999999999999,
            "count": 0
           },
           {
            "bin_start": 6.279999999999999,
            "bin_end": 6.449999999999999,
            "count": 0
           },
           {
            "bin_start": 6.449999999999999,
            "bin_end": 6.619999999999999,
            "count": 0
           },
           {
            "bin_start": 6.619999999999999,
            "bin_end": 6.79,
            "count": 0
           },
           {
            "bin_start": 6.79,
            "bin_end": 6.96,
            "count": 0
           },
           {
            "bin_start": 6.96,
            "bin_end": 7.13,
            "count": 0
           },
           {
            "bin_start": 7.13,
            "bin_end": 7.3,
            "count": 3
           }
          ]
         }
        },
        {
         "name": "ef_regulation_business_compliance",
         "dtype": "float64",
         "stats": {
          "unique_count": 3,
          "nan_count": 0,
          "min": "6.0",
          "max": "7.2",
          "histogram": [
           {
            "bin_start": 6,
            "bin_end": 6.12,
            "count": 1
           },
           {
            "bin_start": 6.12,
            "bin_end": 6.24,
            "count": 0
           },
           {
            "bin_start": 6.24,
            "bin_end": 6.36,
            "count": 0
           },
           {
            "bin_start": 6.36,
            "bin_end": 6.48,
            "count": 0
           },
           {
            "bin_start": 6.48,
            "bin_end": 6.6,
            "count": 0
           },
           {
            "bin_start": 6.6,
            "bin_end": 6.720000000000001,
            "count": 0
           },
           {
            "bin_start": 6.720000000000001,
            "bin_end": 6.84,
            "count": 0
           },
           {
            "bin_start": 6.84,
            "bin_end": 6.96,
            "count": 0
           },
           {
            "bin_start": 6.96,
            "bin_end": 7.08,
            "count": 0
           },
           {
            "bin_start": 7.08,
            "bin_end": 7.2,
            "count": 4
           }
          ]
         }
        },
        {
         "name": "ef_regulation_business",
         "dtype": "float64",
         "stats": {
          "unique_count": 3,
          "nan_count": 0,
          "min": "6.7",
          "max": "7.0",
          "histogram": [
           {
            "bin_start": 6.7,
            "bin_end": 6.73,
            "count": 1
           },
           {
            "bin_start": 6.73,
            "bin_end": 6.76,
            "count": 0
           },
           {
            "bin_start": 6.76,
            "bin_end": 6.79,
            "count": 0
           },
           {
            "bin_start": 6.79,
            "bin_end": 6.82,
            "count": 1
           },
           {
            "bin_start": 6.82,
            "bin_end": 6.85,
            "count": 0
           },
           {
            "bin_start": 6.85,
            "bin_end": 6.88,
            "count": 0
           },
           {
            "bin_start": 6.88,
            "bin_end": 6.91,
            "count": 0
           },
           {
            "bin_start": 6.91,
            "bin_end": 6.94,
            "count": 0
           },
           {
            "bin_start": 6.94,
            "bin_end": 6.97,
            "count": 0
           },
           {
            "bin_start": 6.97,
            "bin_end": 7,
            "count": 3
           }
          ]
         }
        },
        {
         "name": "ef_regulation",
         "dtype": "float64",
         "stats": {
          "unique_count": 4,
          "nan_count": 0,
          "min": "7.6",
          "max": "7.9",
          "histogram": [
           {
            "bin_start": 7.6,
            "bin_end": 7.63,
            "count": 1
           },
           {
            "bin_start": 7.63,
            "bin_end": 7.66,
            "count": 0
           },
           {
            "bin_start": 7.66,
            "bin_end": 7.6899999999999995,
            "count": 0
           },
           {
            "bin_start": 7.6899999999999995,
            "bin_end": 7.72,
            "count": 2
           },
           {
            "bin_start": 7.72,
            "bin_end": 7.75,
            "count": 0
           },
           {
            "bin_start": 7.75,
            "bin_end": 7.78,
            "count": 0
           },
           {
            "bin_start": 7.78,
            "bin_end": 7.8100000000000005,
            "count": 1
           },
           {
            "bin_start": 7.8100000000000005,
            "bin_end": 7.84,
            "count": 0
           },
           {
            "bin_start": 7.84,
            "bin_end": 7.87,
            "count": 0
           },
           {
            "bin_start": 7.87,
            "bin_end": 7.9,
            "count": 1
           }
          ]
         }
        },
        {
         "name": "ef_score",
         "dtype": "float64",
         "stats": {
          "unique_count": 4,
          "nan_count": 0,
          "min": "7.65",
          "max": "7.8",
          "histogram": [
           {
            "bin_start": 7.65,
            "bin_end": 7.665,
            "count": 1
           },
           {
            "bin_start": 7.665,
            "bin_end": 7.680000000000001,
            "count": 0
           },
           {
            "bin_start": 7.680000000000001,
            "bin_end": 7.695,
            "count": 1
           },
           {
            "bin_start": 7.695,
            "bin_end": 7.71,
            "count": 2
           },
           {
            "bin_start": 7.71,
            "bin_end": 7.725,
            "count": 0
           },
           {
            "bin_start": 7.725,
            "bin_end": 7.74,
            "count": 0
           },
           {
            "bin_start": 7.74,
            "bin_end": 7.755,
            "count": 0
           },
           {
            "bin_start": 7.755,
            "bin_end": 7.77,
            "count": 0
           },
           {
            "bin_start": 7.77,
            "bin_end": 7.785,
            "count": 0
           },
           {
            "bin_start": 7.785,
            "bin_end": 7.8,
            "count": 1
           }
          ]
         }
        },
        {
         "name": "ef_rank",
         "dtype": "float64",
         "stats": {
          "unique_count": 4,
          "nan_count": 0,
          "min": "26.0",
          "max": "37.0",
          "histogram": [
           {
            "bin_start": 26,
            "bin_end": 27.1,
            "count": 1
           },
           {
            "bin_start": 27.1,
            "bin_end": 28.2,
            "count": 0
           },
           {
            "bin_start": 28.2,
            "bin_end": 29.3,
            "count": 0
           },
           {
            "bin_start": 29.3,
            "bin_end": 30.4,
            "count": 0
           },
           {
            "bin_start": 30.4,
            "bin_end": 31.5,
            "count": 0
           },
           {
            "bin_start": 31.5,
            "bin_end": 32.6,
            "count": 0
           },
           {
            "bin_start": 32.6,
            "bin_end": 33.7,
            "count": 0
           },
           {
            "bin_start": 33.7,
            "bin_end": 34.8,
            "count": 1
           },
           {
            "bin_start": 34.8,
            "bin_end": 35.9,
            "count": 0
           },
           {
            "bin_start": 35.9,
            "bin_end": 37,
            "count": 3
           }
          ]
         }
        },
        {
         "name": "womens_freedom",
         "dtype": "float64",
         "stats": {
          "unique_count": 2,
          "nan_count": 0,
          "min": "7.5",
          "max": "9.26",
          "histogram": [
           {
            "bin_start": 7.5,
            "bin_end": 7.676,
            "count": 3
           },
           {
            "bin_start": 7.676,
            "bin_end": 7.852,
            "count": 0
           },
           {
            "bin_start": 7.852,
            "bin_end": 8.028,
            "count": 0
           },
           {
            "bin_start": 8.028,
            "bin_end": 8.204,
            "count": 0
           },
           {
            "bin_start": 8.204,
            "bin_end": 8.379999999999999,
            "count": 0
           },
           {
            "bin_start": 8.379999999999999,
            "bin_end": 8.556000000000001,
            "count": 0
           },
           {
            "bin_start": 8.556000000000001,
            "bin_end": 8.732,
            "count": 0
           },
           {
            "bin_start": 8.732,
            "bin_end": 8.908,
            "count": 0
           },
           {
            "bin_start": 8.908,
            "bin_end": 9.084,
            "count": 0
           },
           {
            "bin_start": 9.084,
            "bin_end": 9.26,
            "count": 2
           }
          ]
         }
        },
        {
         "name": "_deepnote_index_column",
         "dtype": "int64"
        }
       ],
       "rows_top": [
        {
         "Unnamed: 0": 0,
         "year": 2018,
         "ISO_code": "ALB",
         "countries": "Albania",
         "region": "Eastern Europe",
         "hf_score": 7.81,
         "hf_rank": 43,
         "hf_quartile": 2,
         "pf_rol_procedural": 6,
         "pf_rol_civil": 4.8,
         "pf_rol_criminal": 4.3,
         "pf_rol": 5,
         "pf_ss_homicide": 9.1,
         "pf_ss_disappearances_disap": 10,
         "pf_ss_disappearances_violent": 10,
         "pf_ss_disappearances_organized": 10,
         "pf_ss_disappearances_fatalities": 10,
         "pf_ss_disappearances_injuries": 10,
         "pf_ss_disappearances": 10,
         "pf_ss_women_fgm": 10,
         "pf_ss_women_inheritance": 7.5,
         "pf_ss_women": 8.8,
         "pf_ss": 9.3,
         "pf_movement_domestic": 10,
         "pf_movement_foreign": 10,
         "pf_movement_women": 10,
         "pf_movement": 10,
         "pf_religion_freedom": 9,
         "pf_religion_repression": 9,
         "pf_religion_harassment": 9.6,
         "pf_religion_restrictions": 8,
         "pf_religion": 8.9,
         "pf_association_entry": 8.8,
         "pf_association_assembly": 10,
         "pf_association_barries": 7.8,
         "pf_association_bans": 8.2,
         "pf_association_estopparties": 8,
         "pf_association_opposition": 7.8,
         "pf_association_civilrepression": 8.2,
         "pf_association": 8.6,
         "pf_expression_killed": 10,
         "pf_expression_jailed": 10,
         "pf_expression_media": 5,
         "pf_expression_cable": 10,
         "pf_expression_newspapers": 10,
         "pf_expression_control": 10,
         "pf_expression": 9.2,
         "pf_identity_legal": 0,
         "pf_identity_sex_male": 10,
         "pf_identity_sex_female": 10,
         "pf_identity_sex": 10,
         "pf_identity_divorce": 7.5,
         "pf_identity": 5.8,
         "pf_score": 7.81,
         "pf_rank": 49,
         "ef_government_consumption": 8.2,
         "ef_government_transfers": 6.7,
         "ef_government_enterprises": 8,
         "ef_government_tax_income": 9,
         "ef_government_tax_payroll": 7,
         "ef_government_tax": 8,
         "ef_government_soa": 9.5,
         "ef_government": 8.1,
         "ef_legal_judicial": 3.6,
         "ef_legal_courts": 3.7,
         "ef_legal_protection": 4.9,
         "ef_legal_military": 8.3,
         "ef_legal_integrity": 5.7,
         "ef_legal_enforcement": 3.9,
         "ef_legal_regulatory": 6.7,
         "ef_legal_police": 5.6,
         "ef_legal_gender": 1,
         "ef_legal": 5.2,
         "ef_money_growth": 10,
         "ef_money_sd": 9.7,
         "ef_money_inflation": 9.6,
         "ef_money_currency": 10,
         "ef_money": 9.8,
         "ef_trade_tariffs_revenue": 9.7,
         "ef_trade_tariffs_mean": 9.3,
         "ef_trade_tariffs_sd": 8.1,
         "ef_trade_tariffs": 9,
         "ef_trade_regulatory_nontariff": 6.8,
         "ef_trade_regulatory_compliance": 9.4,
         "ef_trade_regulatory": 8.1,
         "ef_trade_black": 10,
         "ef_trade_movement_foreign": 4.2,
         "ef_trade_movement_capital": 4.6,
         "ef_trade_movement_visit": 8.3,
         "ef_trade_movement": 5.7,
         "ef_trade": 8.2,
         "ef_regulation_credit_ownership": 10,
         "ef_regulation_credit_private": 9.2,
         "ef_regulation_credit_interest": 10,
         "ef_regulation_credit": 9.7,
         "ef_regulation_labor_minwage": 5.6,
         "ef_regulation_labor_firing": 4.9,
         "ef_regulation_labor_bargain": 5.6,
         "ef_regulation_labor_hours": 8,
         "ef_regulation_labor_dismissal": 6.3,
         "ef_regulation_labor_conscription": 10,
         "ef_regulation_labor": 6.7,
         "ef_regulation_business_adm": 5.7,
         "ef_regulation_business_bureaucracy": 6.7,
         "ef_regulation_business_start": 9.7,
         "ef_regulation_business_bribes": 5.4,
         "ef_regulation_business_licensing": 5.6,
         "ef_regulation_business_compliance": 7.2,
         "ef_regulation_business": 6.7,
         "ef_regulation": 7.7,
         "ef_score": 7.8,
         "ef_rank": 26,
         "womens_freedom": 9.26,
         "_deepnote_index_column": 0
        },
        {
         "Unnamed: 0": 1,
         "year": 2017,
         "ISO_code": "ALB",
         "countries": "Albania",
         "region": "Eastern Europe",
         "hf_score": 7.78,
         "hf_rank": 44,
         "hf_quartile": 2,
         "pf_rol_procedural": 6.3,
         "pf_rol_civil": 4.4,
         "pf_rol_criminal": 4.7,
         "pf_rol": 5.3,
         "pf_ss_homicide": 9.1,
         "pf_ss_disappearances_disap": 10,
         "pf_ss_disappearances_violent": 10,
         "pf_ss_disappearances_organized": 10,
         "pf_ss_disappearances_fatalities": 10,
         "pf_ss_disappearances_injuries": 10,
         "pf_ss_disappearances": 10,
         "pf_ss_women_fgm": 10,
         "pf_ss_women_inheritance": 7.5,
         "pf_ss_women": 8.8,
         "pf_ss": 9.3,
         "pf_movement_domestic": 10,
         "pf_movement_foreign": 10,
         "pf_movement_women": 10,
         "pf_movement": 10,
         "pf_religion_freedom": 8.2,
         "pf_religion_repression": 9,
         "pf_religion_harassment": 9.6,
         "pf_religion_restrictions": 8,
         "pf_religion": 8.7,
         "pf_association_entry": 7.9,
         "pf_association_assembly": 10,
         "pf_association_barries": 8,
         "pf_association_bans": 8.2,
         "pf_association_estopparties": 8.1,
         "pf_association_opposition": 7.9,
         "pf_association_civilrepression": 8.3,
         "pf_association": 8.4,
         "pf_expression_killed": 10,
         "pf_expression_jailed": 10,
         "pf_expression_media": 5,
         "pf_expression_cable": 10,
         "pf_expression_newspapers": 10,
         "pf_expression_control": 10,
         "pf_expression": 9.2,
         "pf_identity_legal": 0,
         "pf_identity_sex_male": 10,
         "pf_identity_sex_female": 10,
         "pf_identity_sex": 10,
         "pf_identity_divorce": 7.5,
         "pf_identity": 5.8,
         "pf_score": 7.86,
         "pf_rank": 47,
         "ef_government_consumption": 8.1,
         "ef_government_transfers": 6.7,
         "ef_government_enterprises": 8,
         "ef_government_tax_income": 9,
         "ef_government_tax_payroll": 7,
         "ef_government_tax": 8,
         "ef_government_soa": 6.2,
         "ef_government": 7.4,
         "ef_legal_judicial": 3.8,
         "ef_legal_courts": 3.9,
         "ef_legal_protection": 5.1,
         "ef_legal_military": 8.3,
         "ef_legal_integrity": 5.5,
         "ef_legal_enforcement": 4.4,
         "ef_legal_regulatory": 6.6,
         "ef_legal_police": 6.8,
         "ef_legal_gender": 1,
         "ef_legal": 5.4,
         "ef_money_growth": 9.2,
         "ef_money_sd": 9.7,
         "ef_money_inflation": 9.6,
         "ef_money_currency": 10,
         "ef_money": 9.6,
         "ef_trade_tariffs_revenue": 9.6,
         "ef_trade_tariffs_mean": 9.3,
         "ef_trade_tariffs_sd": 8.1,
         "ef_trade_tariffs": 9,
         "ef_trade_regulatory_nontariff": 6,
         "ef_trade_regulatory_compliance": 9.4,
         "ef_trade_regulatory": 7.7,
         "ef_trade_black": 10,
         "ef_trade_movement_foreign": 4.2,
         "ef_trade_movement_capital": 5.4,
         "ef_trade_movement_visit": 8.3,
         "ef_trade_movement": 5.9,
         "ef_trade": 8.2,
         "ef_regulation_credit_ownership": 10,
         "ef_regulation_credit_private": 9.1,
         "ef_regulation_credit_interest": 10,
         "ef_regulation_credit": 9.7,
         "ef_regulation_labor_minwage": 5.6,
         "ef_regulation_labor_firing": 5.4,
         "ef_regulation_labor_bargain": 6.4,
         "ef_regulation_labor_hours": 8,
         "ef_regulation_labor_dismissal": 6.3,
         "ef_regulation_labor_conscription": 10,
         "ef_regulation_labor": 6.9,
         "ef_regulation_business_adm": 6.3,
         "ef_regulation_business_bureaucracy": 6.7,
         "ef_regulation_business_start": 9.7,
         "ef_regulation_business_bribes": 6,
         "ef_regulation_business_licensing": 6,
         "ef_regulation_business_compliance": 7.2,
         "ef_regulation_business": 7,
         "ef_regulation": 7.9,
         "ef_score": 7.7,
         "ef_rank": 36,
         "womens_freedom": 9.26,
         "_deepnote_index_column": 1
        },
        {
         "Unnamed: 0": 2,
         "year": 2016,
         "ISO_code": "ALB",
         "countries": "Albania",
         "region": "Eastern Europe",
         "hf_score": 7.63,
         "hf_rank": 50,
         "hf_quartile": 2,
         "pf_rol_procedural": 6.7,
         "pf_rol_civil": 4.5,
         "pf_rol_criminal": 4.7,
         "pf_rol": 5.3,
         "pf_ss_homicide": 8.6,
         "pf_ss_disappearances_disap": 10,
         "pf_ss_disappearances_violent": 10,
         "pf_ss_disappearances_organized": 10,
         "pf_ss_disappearances_fatalities": 10,
         "pf_ss_disappearances_injuries": 10,
         "pf_ss_disappearances": 10,
         "pf_ss_women_fgm": 10,
         "pf_ss_women_inheritance": 5,
         "pf_ss_women": 7.5,
         "pf_ss": 8.7,
         "pf_movement_domestic": 10,
         "pf_movement_foreign": 10,
         "pf_movement_women": 5,
         "pf_movement": 8.3,
         "pf_religion_freedom": 9,
         "pf_religion_repression": 8.9,
         "pf_religion_harassment": 9.6,
         "pf_religion_restrictions": 8,
         "pf_religion": 8.9,
         "pf_association_entry": 7.9,
         "pf_association_assembly": 10,
         "pf_association_barries": 8,
         "pf_association_bans": 8.2,
         "pf_association_estopparties": 8.1,
         "pf_association_opposition": 8,
         "pf_association_civilrepression": 8.3,
         "pf_association": 8.5,
         "pf_expression_killed": 10,
         "pf_expression_jailed": 10,
         "pf_expression_media": 5.1,
         "pf_expression_cable": 10,
         "pf_expression_newspapers": 10,
         "pf_expression_control": 10,
         "pf_expression": 9.2,
         "pf_identity_legal": 0,
         "pf_identity_sex_male": 10,
         "pf_identity_sex_female": 10,
         "pf_identity_sex": 10,
         "pf_identity_divorce": 7.5,
         "pf_identity": 5.8,
         "pf_score": 7.57,
         "pf_rank": 60,
         "ef_government_consumption": 8.2,
         "ef_government_transfers": 6.7,
         "ef_government_enterprises": 8.4,
         "ef_government_tax_income": 9,
         "ef_government_tax_payroll": 7,
         "ef_government_tax": 8,
         "ef_government_soa": 7.8,
         "ef_government": 7.8,
         "ef_legal_judicial": 4,
         "ef_legal_courts": 3.9,
         "ef_legal_protection": 5.1,
         "ef_legal_military": 8.3,
         "ef_legal_integrity": 5.6,
         "ef_legal_enforcement": 4.4,
         "ef_legal_regulatory": 6.5,
         "ef_legal_police": 6.9,
         "ef_legal_gender": 0.9,
         "ef_legal": 5.5,
         "ef_money_growth": 9,
         "ef_money_sd": 9.5,
         "ef_money_inflation": 9.7,
         "ef_money_currency": 10,
         "ef_money": 9.6,
         "ef_trade_tariffs_revenue": 9.6,
         "ef_trade_tariffs_mean": 9.2,
         "ef_trade_tariffs_sd": 8,
         "ef_trade_tariffs": 9,
         "ef_trade_regulatory_nontariff": 5.6,
         "ef_trade_regulatory_compliance": 9.4,
         "ef_trade_regulatory": 7.5,
         "ef_trade_black": 10,
         "ef_trade_movement_foreign": 4.2,
         "ef_trade_movement_capital": 4.6,
         "ef_trade_movement_visit": 8.3,
         "ef_trade_movement": 5.7,
         "ef_trade": 8,
         "ef_regulation_credit_ownership": 10,
         "ef_regulation_credit_private": 7.3,
         "ef_regulation_credit_interest": 9,
         "ef_regulation_credit": 8.8,
         "ef_regulation_labor_minwage": 5.6,
         "ef_regulation_labor_firing": 5.4,
         "ef_regulation_labor_bargain": 6.2,
         "ef_regulation_labor_hours": 8,
         "ef_regulation_labor_dismissal": 6.3,
         "ef_regulation_labor_conscription": 10,
         "ef_regulation_labor": 6.9,
         "ef_regulation_business_adm": 6.1,
         "ef_regulation_business_bureaucracy": 6,
         "ef_regulation_business_start": 9.7,
         "ef_regulation_business_bribes": 6,
         "ef_regulation_business_licensing": 7.3,
         "ef_regulation_business_compliance": 7.1,
         "ef_regulation_business": 7,
         "ef_regulation": 7.6,
         "ef_score": 7.69,
         "ef_rank": 36,
         "womens_freedom": 7.5,
         "_deepnote_index_column": 2
        },
        {
         "Unnamed: 0": 3,
         "year": 2015,
         "ISO_code": "ALB",
         "countries": "Albania",
         "region": "Eastern Europe",
         "hf_score": 7.55,
         "hf_rank": 52,
         "hf_quartile": 2,
         "pf_rol_procedural": 6.7,
         "pf_rol_civil": 4.5,
         "pf_rol_criminal": 4.7,
         "pf_rol": 5.2,
         "pf_ss_homicide": 8.9,
         "pf_ss_disappearances_disap": 10,
         "pf_ss_disappearances_violent": 10,
         "pf_ss_disappearances_organized": 10,
         "pf_ss_disappearances_fatalities": 10,
         "pf_ss_disappearances_injuries": 10,
         "pf_ss_disappearances": 10,
         "pf_ss_women_fgm": 10,
         "pf_ss_women_inheritance": 5,
         "pf_ss_women": 7.5,
         "pf_ss": 8.8,
         "pf_movement_domestic": 5,
         "pf_movement_foreign": 10,
         "pf_movement_women": 5,
         "pf_movement": 6.7,
         "pf_religion_freedom": 9,
         "pf_religion_repression": 8.9,
         "pf_religion_harassment": 9.2,
         "pf_religion_restrictions": 8.5,
         "pf_religion": 8.9,
         "pf_association_entry": 7.9,
         "pf_association_assembly": 10,
         "pf_association_barries": 8,
         "pf_association_bans": 8.2,
         "pf_association_estopparties": 8.1,
         "pf_association_opposition": 8,
         "pf_association_civilrepression": 8.3,
         "pf_association": 8.5,
         "pf_expression_killed": 10,
         "pf_expression_jailed": 10,
         "pf_expression_media": 5.3,
         "pf_expression_cable": 10,
         "pf_expression_newspapers": 10,
         "pf_expression_control": 10,
         "pf_expression": 9.2,
         "pf_identity_legal": 0,
         "pf_identity_sex_male": 10,
         "pf_identity_sex_female": 10,
         "pf_identity_sex": 10,
         "pf_identity_divorce": 7.5,
         "pf_identity": 5.8,
         "pf_score": 7.4,
         "pf_rank": 68,
         "ef_government_consumption": 8.2,
         "ef_government_transfers": 7,
         "ef_government_enterprises": 8.1,
         "ef_government_tax_income": 9,
         "ef_government_tax_payroll": 7,
         "ef_government_tax": 8,
         "ef_government_soa": 7.8,
         "ef_government": 7.8,
         "ef_legal_judicial": 4,
         "ef_legal_courts": 3.9,
         "ef_legal_protection": 4.9,
         "ef_legal_military": 8.3,
         "ef_legal_integrity": 5.6,
         "ef_legal_enforcement": 4.4,
         "ef_legal_regulatory": 6.4,
         "ef_legal_police": 6.7,
         "ef_legal_gender": 0.9,
         "ef_legal": 5.4,
         "ef_money_growth": 9.3,
         "ef_money_sd": 9.4,
         "ef_money_inflation": 9.6,
         "ef_money_currency": 10,
         "ef_money": 9.6,
         "ef_trade_tariffs_revenue": 9.3,
         "ef_trade_tariffs_mean": 9.2,
         "ef_trade_tariffs_sd": 8,
         "ef_trade_tariffs": 8.9,
         "ef_trade_regulatory_nontariff": 5.4,
         "ef_trade_regulatory_compliance": 9.4,
         "ef_trade_regulatory": 7.4,
         "ef_trade_black": 10,
         "ef_trade_movement_foreign": 4.2,
         "ef_trade_movement_capital": 4.6,
         "ef_trade_movement_visit": 8.3,
         "ef_trade_movement": 5.7,
         "ef_trade": 8,
         "ef_regulation_credit_ownership": 10,
         "ef_regulation_credit_private": 7.6,
         "ef_regulation_credit_interest": 10,
         "ef_regulation_credit": 9.2,
         "ef_regulation_labor_minwage": 5.6,
         "ef_regulation_labor_firing": 5,
         "ef_regulation_labor_bargain": 6.1,
         "ef_regulation_labor_hours": 8,
         "ef_regulation_labor_dismissal": 6.3,
         "ef_regulation_labor_conscription": 10,
         "ef_regulation_labor": 6.8,
         "ef_regulation_business_adm": 6.1,
         "ef_regulation_business_bureaucracy": 6,
         "ef_regulation_business_start": 9.7,
         "ef_regulation_business_bribes": 6,
         "ef_regulation_business_licensing": 7.3,
         "ef_regulation_business_compliance": 7.1,
         "ef_regulation_business": 7,
         "ef_regulation": 7.7,
         "ef_score": 7.7,
         "ef_rank": 34,
         "womens_freedom": 7.5,
         "_deepnote_index_column": 3
        },
        {
         "Unnamed: 0": 4,
         "year": 2014,
         "ISO_code": "ALB",
         "countries": "Albania",
         "region": "Eastern Europe",
         "hf_score": 7.65,
         "hf_rank": 48,
         "hf_quartile": 2,
         "pf_rol_procedural": 6.1,
         "pf_rol_civil": 4.8,
         "pf_rol_criminal": 4.6,
         "pf_rol": 5,
         "pf_ss_homicide": 8.4,
         "pf_ss_disappearances_disap": 10,
         "pf_ss_disappearances_violent": 10,
         "pf_ss_disappearances_organized": 10,
         "pf_ss_disappearances_fatalities": 9.9,
         "pf_ss_disappearances_injuries": 9.9,
         "pf_ss_disappearances": 9.9,
         "pf_ss_women_fgm": 10,
         "pf_ss_women_inheritance": 5,
         "pf_ss_women": 7.5,
         "pf_ss": 8.6,
         "pf_movement_domestic": 5,
         "pf_movement_foreign": 10,
         "pf_movement_women": 5,
         "pf_movement": 6.7,
         "pf_religion_freedom": 9,
         "pf_religion_repression": 8.9,
         "pf_religion_harassment": 9.7,
         "pf_religion_restrictions": 9.9,
         "pf_religion": 9.4,
         "pf_association_entry": 7.9,
         "pf_association_assembly": 10,
         "pf_association_barries": 8,
         "pf_association_bans": 8.2,
         "pf_association_estopparties": 8.1,
         "pf_association_opposition": 8,
         "pf_association_civilrepression": 8.3,
         "pf_association": 8.5,
         "pf_expression_killed": 10,
         "pf_expression_jailed": 10,
         "pf_expression_media": 5.4,
         "pf_expression_cable": 10,
         "pf_expression_newspapers": 10,
         "pf_expression_control": 10,
         "pf_expression": 9.2,
         "pf_identity_legal": "nan",
         "pf_identity_sex_male": 10,
         "pf_identity_sex_female": 10,
         "pf_identity_sex": 10,
         "pf_identity_divorce": 7.5,
         "pf_identity": 8.8,
         "pf_score": 7.64,
         "pf_rank": 57,
         "ef_government_consumption": 8.1,
         "ef_government_transfers": 6.9,
         "ef_government_enterprises": 7.6,
         "ef_government_tax_income": 9,
         "ef_government_tax_payroll": 7,
         "ef_government_tax": 8,
         "ef_government_soa": 7.8,
         "ef_government": 7.7,
         "ef_legal_judicial": 4,
         "ef_legal_courts": 3.9,
         "ef_legal_protection": 4.5,
         "ef_legal_military": 8.3,
         "ef_legal_integrity": 5.6,
         "ef_legal_enforcement": 4.4,
         "ef_legal_regulatory": 6.2,
         "ef_legal_police": 4.5,
         "ef_legal_gender": 0.9,
         "ef_legal": 5.1,
         "ef_money_growth": 9.4,
         "ef_money_sd": 9.4,
         "ef_money_inflation": 9.7,
         "ef_money_currency": 10,
         "ef_money": 9.6,
         "ef_trade_tariffs_revenue": 9.4,
         "ef_trade_tariffs_mean": 9.2,
         "ef_trade_tariffs_sd": 8,
         "ef_trade_tariffs": 8.9,
         "ef_trade_regulatory_nontariff": 6.3,
         "ef_trade_regulatory_compliance": 9.2,
         "ef_trade_regulatory": 7.7,
         "ef_trade_black": 10,
         "ef_trade_movement_foreign": 4.2,
         "ef_trade_movement_capital": 4.6,
         "ef_trade_movement_visit": 8.3,
         "ef_trade_movement": 5.7,
         "ef_trade": 8.1,
         "ef_regulation_credit_ownership": 10,
         "ef_regulation_credit_private": 8,
         "ef_regulation_credit_interest": 10,
         "ef_regulation_credit": 9.3,
         "ef_regulation_labor_minwage": 5.6,
         "ef_regulation_labor_firing": 6.1,
         "ef_regulation_labor_bargain": 7.2,
         "ef_regulation_labor_hours": 8,
         "ef_regulation_labor_dismissal": 6.3,
         "ef_regulation_labor_conscription": 10,
         "ef_regulation_labor": 7.2,
         "ef_regulation_business_adm": 5.9,
         "ef_regulation_business_bureaucracy": 6,
         "ef_regulation_business_start": 9.7,
         "ef_regulation_business_bribes": 6,
         "ef_regulation_business_licensing": 7.2,
         "ef_regulation_business_compliance": 6,
         "ef_regulation_business": 6.8,
         "ef_regulation": 7.8,
         "ef_score": 7.65,
         "ef_rank": 37,
         "womens_freedom": 7.5,
         "_deepnote_index_column": 4
        }
       ],
       "rows_bottom": null
      },
      "text/plain": "   Unnamed: 0  year ISO_code countries          region  hf_score  hf_rank  \\\n0           0  2018      ALB   Albania  Eastern Europe      7.81     43.0   \n1           1  2017      ALB   Albania  Eastern Europe      7.78     44.0   \n2           2  2016      ALB   Albania  Eastern Europe      7.63     50.0   \n3           3  2015      ALB   Albania  Eastern Europe      7.55     52.0   \n4           4  2014      ALB   Albania  Eastern Europe      7.65     48.0   \n\n   hf_quartile  pf_rol_procedural  pf_rol_civil  ...  \\\n0          2.0                6.0           4.8  ...   \n1          2.0                6.3           4.4  ...   \n2          2.0                6.7           4.5  ...   \n3          2.0                6.7           4.5  ...   \n4          2.0                6.1           4.8  ...   \n\n   ef_regulation_business_bureaucracy  ef_regulation_business_start  \\\n0                                 6.7                           9.7   \n1                                 6.7                           9.7   \n2                                 6.0                           9.7   \n3                                 6.0                           9.7   \n4                                 6.0                           9.7   \n\n   ef_regulation_business_bribes  ef_regulation_business_licensing  \\\n0                            5.4                               5.6   \n1                            6.0                               6.0   \n2                            6.0                               7.3   \n3                            6.0                               7.3   \n4                            6.0                               7.2   \n\n   ef_regulation_business_compliance  ef_regulation_business  ef_regulation  \\\n0                                7.2                     6.7            7.7   \n1                                7.2                     7.0            7.9   \n2                                7.1                     7.0            7.6   \n3                                7.1                     7.0            7.7   \n4                                6.0                     6.8            7.8   \n\n   ef_score  ef_rank  womens_freedom  \n0      7.80     26.0            9.26  \n1      7.70     36.0            9.26  \n2      7.69     36.0            7.50  \n3      7.70     34.0            7.50  \n4      7.65     37.0            7.50  \n\n[5 rows x 113 columns]",
      "text/html": "<div>\n<style scoped>\n    .dataframe tbody tr th:only-of-type {\n        vertical-align: middle;\n    }\n\n    .dataframe tbody tr th {\n        vertical-align: top;\n    }\n\n    .dataframe thead th {\n        text-align: right;\n    }\n</style>\n<table border=\"1\" class=\"dataframe\">\n  <thead>\n    <tr style=\"text-align: right;\">\n      <th></th>\n      <th>Unnamed: 0</th>\n      <th>year</th>\n      <th>ISO_code</th>\n      <th>countries</th>\n      <th>region</th>\n      <th>hf_score</th>\n      <th>hf_rank</th>\n      <th>hf_quartile</th>\n      <th>pf_rol_procedural</th>\n      <th>pf_rol_civil</th>\n      <th>...</th>\n      <th>ef_regulation_business_bureaucracy</th>\n      <th>ef_regulation_business_start</th>\n      <th>ef_regulation_business_bribes</th>\n      <th>ef_regulation_business_licensing</th>\n      <th>ef_regulation_business_compliance</th>\n      <th>ef_regulation_business</th>\n      <th>ef_regulation</th>\n      <th>ef_score</th>\n      <th>ef_rank</th>\n      <th>womens_freedom</th>\n    </tr>\n  </thead>\n  <tbody>\n    <tr>\n      <th>0</th>\n      <td>0</td>\n      <td>2018</td>\n      <td>ALB</td>\n      <td>Albania</td>\n      <td>Eastern Europe</td>\n      <td>7.81</td>\n      <td>43.0</td>\n      <td>2.0</td>\n      <td>6.0</td>\n      <td>4.8</td>\n      <td>...</td>\n      <td>6.7</td>\n      <td>9.7</td>\n      <td>5.4</td>\n      <td>5.6</td>\n      <td>7.2</td>\n      <td>6.7</td>\n      <td>7.7</td>\n      <td>7.80</td>\n      <td>26.0</td>\n      <td>9.26</td>\n    </tr>\n    <tr>\n      <th>1</th>\n      <td>1</td>\n      <td>2017</td>\n      <td>ALB</td>\n      <td>Albania</td>\n      <td>Eastern Europe</td>\n      <td>7.78</td>\n      <td>44.0</td>\n      <td>2.0</td>\n      <td>6.3</td>\n      <td>4.4</td>\n      <td>...</td>\n      <td>6.7</td>\n      <td>9.7</td>\n      <td>6.0</td>\n      <td>6.0</td>\n      <td>7.2</td>\n      <td>7.0</td>\n      <td>7.9</td>\n      <td>7.70</td>\n      <td>36.0</td>\n      <td>9.26</td>\n    </tr>\n    <tr>\n      <th>2</th>\n      <td>2</td>\n      <td>2016</td>\n      <td>ALB</td>\n      <td>Albania</td>\n      <td>Eastern Europe</td>\n      <td>7.63</td>\n      <td>50.0</td>\n      <td>2.0</td>\n      <td>6.7</td>\n      <td>4.5</td>\n      <td>...</td>\n      <td>6.0</td>\n      <td>9.7</td>\n      <td>6.0</td>\n      <td>7.3</td>\n      <td>7.1</td>\n      <td>7.0</td>\n      <td>7.6</td>\n      <td>7.69</td>\n      <td>36.0</td>\n      <td>7.50</td>\n    </tr>\n    <tr>\n      <th>3</th>\n      <td>3</td>\n      <td>2015</td>\n      <td>ALB</td>\n      <td>Albania</td>\n      <td>Eastern Europe</td>\n      <td>7.55</td>\n      <td>52.0</td>\n      <td>2.0</td>\n      <td>6.7</td>\n      <td>4.5</td>\n      <td>...</td>\n      <td>6.0</td>\n      <td>9.7</td>\n      <td>6.0</td>\n      <td>7.3</td>\n      <td>7.1</td>\n      <td>7.0</td>\n      <td>7.7</td>\n      <td>7.70</td>\n      <td>34.0</td>\n      <td>7.50</td>\n    </tr>\n    <tr>\n      <th>4</th>\n      <td>4</td>\n      <td>2014</td>\n      <td>ALB</td>\n      <td>Albania</td>\n      <td>Eastern Europe</td>\n      <td>7.65</td>\n      <td>48.0</td>\n      <td>2.0</td>\n      <td>6.1</td>\n      <td>4.8</td>\n      <td>...</td>\n      <td>6.0</td>\n      <td>9.7</td>\n      <td>6.0</td>\n      <td>7.2</td>\n      <td>6.0</td>\n      <td>6.8</td>\n      <td>7.8</td>\n      <td>7.65</td>\n      <td>37.0</td>\n      <td>7.50</td>\n    </tr>\n  </tbody>\n</table>\n<p>5 rows × 113 columns</p>\n</div>"
     },
     "metadata": {}
    }
   ]
  },
  {
   "cell_type": "code",
   "metadata": {
    "deepnote_to_be_reexecuted": false,
    "source_hash": "6cbc790d",
    "execution_start": 1622349426435,
    "execution_millis": 694538425,
    "cell_id": "00003-421e58ce-de89-47a9-8e95-86da47b12f97",
    "deepnote_cell_type": "code"
   },
   "source": "column_names = ['year', 'ISO_code', 'countries', 'region', 'hf_score', \n                'pf_rol', 'pf_ss', 'pf_movement', 'pf_religion', \n                'pf_association', 'pf_expression', 'pf_identity', \n                'pf_score', 'ef_government', 'ef_legal', 'ef_money', \n                'ef_trade', 'ef_regulation', 'ef_score']\nlen(column_names)",
   "execution_count": 3,
   "outputs": [
    {
     "output_type": "execute_result",
     "execution_count": 3,
     "data": {
      "text/plain": "19"
     },
     "metadata": {}
    }
   ]
  },
  {
   "cell_type": "code",
   "metadata": {
    "scrolled": true,
    "deepnote_to_be_reexecuted": false,
    "source_hash": "34f61284",
    "execution_start": 1622349426439,
    "execution_millis": 88,
    "cell_id": "00004-79505229-72ee-4ef9-8cd0-30e024c77376",
    "deepnote_cell_type": "code"
   },
   "source": "# subset columns\nhfi_mod1 = hfi_raw.loc[:, column_names]\n# rename column names\nhfi_mod2 = hfi_mod1.rename(columns = {'countries': 'country'})\nhfi_mod2",
   "execution_count": 4,
   "outputs": [
    {
     "output_type": "execute_result",
     "execution_count": 4,
     "data": {
      "application/vnd.deepnote.dataframe.v2+json": {
       "row_count": 1782,
       "column_count": 19,
       "columns": [
        {
         "name": "year",
         "dtype": "int64",
         "stats": {
          "unique_count": 11,
          "nan_count": 0,
          "min": "2008",
          "max": "2018",
          "histogram": [
           {
            "bin_start": 2008,
            "bin_end": 2009,
            "count": 162
           },
           {
            "bin_start": 2009,
            "bin_end": 2010,
            "count": 162
           },
           {
            "bin_start": 2010,
            "bin_end": 2011,
            "count": 162
           },
           {
            "bin_start": 2011,
            "bin_end": 2012,
            "count": 162
           },
           {
            "bin_start": 2012,
            "bin_end": 2013,
            "count": 162
           },
           {
            "bin_start": 2013,
            "bin_end": 2014,
            "count": 162
           },
           {
            "bin_start": 2014,
            "bin_end": 2015,
            "count": 162
           },
           {
            "bin_start": 2015,
            "bin_end": 2016,
            "count": 162
           },
           {
            "bin_start": 2016,
            "bin_end": 2017,
            "count": 162
           },
           {
            "bin_start": 2017,
            "bin_end": 2018,
            "count": 324
           }
          ]
         }
        },
        {
         "name": "ISO_code",
         "dtype": "object",
         "stats": {
          "unique_count": 162,
          "nan_count": 0,
          "categories": [
           {
            "name": "ALB",
            "count": 11
           },
           {
            "name": "DZA",
            "count": 11
           },
           {
            "name": "160 others",
            "count": 1760
           }
          ]
         }
        },
        {
         "name": "country",
         "dtype": "object",
         "stats": {
          "unique_count": 162,
          "nan_count": 0,
          "categories": [
           {
            "name": "Albania",
            "count": 11
           },
           {
            "name": "Algeria",
            "count": 11
           },
           {
            "name": "160 others",
            "count": 1760
           }
          ]
         }
        },
        {
         "name": "region",
         "dtype": "object",
         "stats": {
          "unique_count": 10,
          "nan_count": 0,
          "categories": [
           {
            "name": "Sub-Saharan Africa",
            "count": 462
           },
           {
            "name": "Latin America & the Caribbean",
            "count": 286
           },
           {
            "name": "8 others",
            "count": 1034
           }
          ]
         }
        },
        {
         "name": "hf_score",
         "dtype": "float64",
         "stats": {
          "unique_count": 419,
          "nan_count": 80,
          "min": "3.6",
          "max": "8.99",
          "histogram": [
           {
            "bin_start": 3.6,
            "bin_end": 4.139,
            "count": 9
           },
           {
            "bin_start": 4.139,
            "bin_end": 4.678,
            "count": 21
           },
           {
            "bin_start": 4.678,
            "bin_end": 5.2170000000000005,
            "count": 54
           },
           {
            "bin_start": 5.2170000000000005,
            "bin_end": 5.756,
            "count": 141
           },
           {
            "bin_start": 5.756,
            "bin_end": 6.295,
            "count": 233
           },
           {
            "bin_start": 6.295,
            "bin_end": 6.834,
            "count": 275
           },
           {
            "bin_start": 6.834,
            "bin_end": 7.373,
            "count": 355
           },
           {
            "bin_start": 7.373,
            "bin_end": 7.912000000000001,
            "count": 173
           },
           {
            "bin_start": 7.912000000000001,
            "bin_end": 8.451,
            "count": 282
           },
           {
            "bin_start": 8.451,
            "bin_end": 8.99,
            "count": 159
           }
          ]
         }
        },
        {
         "name": "pf_rol",
         "dtype": "float64",
         "stats": {
          "unique_count": 71,
          "nan_count": 80,
          "min": "1.7",
          "max": "8.8",
          "histogram": [
           {
            "bin_start": 1.7,
            "bin_end": 2.41,
            "count": 17
           },
           {
            "bin_start": 2.41,
            "bin_end": 3.12,
            "count": 71
           },
           {
            "bin_start": 3.12,
            "bin_end": 3.83,
            "count": 228
           },
           {
            "bin_start": 3.83,
            "bin_end": 4.54,
            "count": 353
           },
           {
            "bin_start": 4.54,
            "bin_end": 5.25,
            "count": 289
           },
           {
            "bin_start": 5.25,
            "bin_end": 5.960000000000001,
            "count": 199
           },
           {
            "bin_start": 5.960000000000001,
            "bin_end": 6.670000000000001,
            "count": 168
           },
           {
            "bin_start": 6.670000000000001,
            "bin_end": 7.380000000000001,
            "count": 142
           },
           {
            "bin_start": 7.380000000000001,
            "bin_end": 8.09,
            "count": 149
           },
           {
            "bin_start": 8.09,
            "bin_end": 8.8,
            "count": 86
           }
          ]
         }
        },
        {
         "name": "pf_ss",
         "dtype": "float64",
         "stats": {
          "unique_count": 66,
          "nan_count": 80,
          "min": "3.5",
          "max": "10.0",
          "histogram": [
           {
            "bin_start": 3.5,
            "bin_end": 4.15,
            "count": 14
           },
           {
            "bin_start": 4.15,
            "bin_end": 4.8,
            "count": 30
           },
           {
            "bin_start": 4.8,
            "bin_end": 5.45,
            "count": 50
           },
           {
            "bin_start": 5.45,
            "bin_end": 6.1,
            "count": 78
           },
           {
            "bin_start": 6.1,
            "bin_end": 6.75,
            "count": 158
           },
           {
            "bin_start": 6.75,
            "bin_end": 7.4,
            "count": 143
           },
           {
            "bin_start": 7.4,
            "bin_end": 8.05,
            "count": 272
           },
           {
            "bin_start": 8.05,
            "bin_end": 8.7,
            "count": 232
           },
           {
            "bin_start": 8.7,
            "bin_end": 9.350000000000001,
            "count": 269
           },
           {
            "bin_start": 9.350000000000001,
            "bin_end": 10,
            "count": 456
           }
          ]
         }
        },
        {
         "name": "pf_movement",
         "dtype": "float64",
         "stats": {
          "unique_count": 13,
          "nan_count": 80,
          "min": "0.0",
          "max": "10.0",
          "histogram": [
           {
            "bin_start": 0,
            "bin_end": 1,
            "count": 33
           },
           {
            "bin_start": 1,
            "bin_end": 2,
            "count": 48
           },
           {
            "bin_start": 2,
            "bin_end": 3,
            "count": 4
           },
           {
            "bin_start": 3,
            "bin_end": 4,
            "count": 85
           },
           {
            "bin_start": 4,
            "bin_end": 5,
            "count": 24
           },
           {
            "bin_start": 5,
            "bin_end": 6,
            "count": 190
           },
           {
            "bin_start": 6,
            "bin_end": 7,
            "count": 221
           },
           {
            "bin_start": 7,
            "bin_end": 8,
            "count": 35
           },
           {
            "bin_start": 8,
            "bin_end": 9,
            "count": 271
           },
           {
            "bin_start": 9,
            "bin_end": 10,
            "count": 791
           }
          ]
         }
        },
        {
         "name": "pf_religion",
         "dtype": "float64",
         "stats": {
          "unique_count": 83,
          "nan_count": 11,
          "min": "0.6",
          "max": "9.9",
          "histogram": [
           {
            "bin_start": 0.6,
            "bin_end": 1.53,
            "count": 8
           },
           {
            "bin_start": 1.53,
            "bin_end": 2.46,
            "count": 7
           },
           {
            "bin_start": 2.46,
            "bin_end": 3.39,
            "count": 33
           },
           {
            "bin_start": 3.39,
            "bin_end": 4.32,
            "count": 66
           },
           {
            "bin_start": 4.32,
            "bin_end": 5.25,
            "count": 94
           },
           {
            "bin_start": 5.25,
            "bin_end": 6.18,
            "count": 139
           },
           {
            "bin_start": 6.18,
            "bin_end": 7.11,
            "count": 255
           },
           {
            "bin_start": 7.11,
            "bin_end": 8.040000000000001,
            "count": 370
           },
           {
            "bin_start": 8.040000000000001,
            "bin_end": 8.97,
            "count": 530
           },
           {
            "bin_start": 8.97,
            "bin_end": 9.9,
            "count": 269
           }
          ]
         }
        },
        {
         "name": "pf_association",
         "dtype": "float64",
         "stats": {
          "unique_count": 95,
          "nan_count": 33,
          "min": "0.5",
          "max": "10.0",
          "histogram": [
           {
            "bin_start": 0.5,
            "bin_end": 1.45,
            "count": 42
           },
           {
            "bin_start": 1.45,
            "bin_end": 2.4,
            "count": 63
           },
           {
            "bin_start": 2.4,
            "bin_end": 3.3499999999999996,
            "count": 53
           },
           {
            "bin_start": 3.3499999999999996,
            "bin_end": 4.3,
            "count": 71
           },
           {
            "bin_start": 4.3,
            "bin_end": 5.25,
            "count": 119
           },
           {
            "bin_start": 5.25,
            "bin_end": 6.199999999999999,
            "count": 99
           },
           {
            "bin_start": 6.199999999999999,
            "bin_end": 7.1499999999999995,
            "count": 200
           },
           {
            "bin_start": 7.1499999999999995,
            "bin_end": 8.1,
            "count": 256
           },
           {
            "bin_start": 8.1,
            "bin_end": 9.049999999999999,
            "count": 429
           },
           {
            "bin_start": 9.049999999999999,
            "bin_end": 10,
            "count": 417
           }
          ]
         }
        },
        {
         "name": "pf_expression",
         "dtype": "float64",
         "stats": {
          "unique_count": 70,
          "nan_count": 80,
          "min": "0.1",
          "max": "10.0",
          "histogram": [
           {
            "bin_start": 0.1,
            "bin_end": 1.09,
            "count": 1
           },
           {
            "bin_start": 1.09,
            "bin_end": 2.08,
            "count": 0
           },
           {
            "bin_start": 2.08,
            "bin_end": 3.07,
            "count": 4
           },
           {
            "bin_start": 3.07,
            "bin_end": 4.06,
            "count": 12
           },
           {
            "bin_start": 4.06,
            "bin_end": 5.05,
            "count": 35
           },
           {
            "bin_start": 5.05,
            "bin_end": 6.039999999999999,
            "count": 68
           },
           {
            "bin_start": 6.039999999999999,
            "bin_end": 7.029999999999999,
            "count": 137
           },
           {
            "bin_start": 7.029999999999999,
            "bin_end": 8.02,
            "count": 296
           },
           {
            "bin_start": 8.02,
            "bin_end": 9.01,
            "count": 422
           },
           {
            "bin_start": 9.01,
            "bin_end": 10,
            "count": 727
           }
          ]
         }
        },
        {
         "name": "pf_identity",
         "dtype": "float64",
         "stats": {
          "unique_count": 25,
          "nan_count": 80,
          "min": "0.0",
          "max": "10.0",
          "histogram": [
           {
            "bin_start": 0,
            "bin_end": 1,
            "count": 117
           },
           {
            "bin_start": 1,
            "bin_end": 2,
            "count": 44
           },
           {
            "bin_start": 2,
            "bin_end": 3,
            "count": 97
           },
           {
            "bin_start": 3,
            "bin_end": 4,
            "count": 65
           },
           {
            "bin_start": 4,
            "bin_end": 5,
            "count": 20
           },
           {
            "bin_start": 5,
            "bin_end": 6,
            "count": 165
           },
           {
            "bin_start": 6,
            "bin_end": 7,
            "count": 139
           },
           {
            "bin_start": 7,
            "bin_end": 8,
            "count": 130
           },
           {
            "bin_start": 8,
            "bin_end": 9,
            "count": 141
           },
           {
            "bin_start": 9,
            "bin_end": 10,
            "count": 784
           }
          ]
         }
        },
        {
         "name": "pf_score",
         "dtype": "float64",
         "stats": {
          "unique_count": 499,
          "nan_count": 80,
          "min": "2.31",
          "max": "9.59",
          "histogram": [
           {
            "bin_start": 2.31,
            "bin_end": 3.0380000000000003,
            "count": 9
           },
           {
            "bin_start": 3.0380000000000003,
            "bin_end": 3.766,
            "count": 9
           },
           {
            "bin_start": 3.766,
            "bin_end": 4.494,
            "count": 34
           },
           {
            "bin_start": 4.494,
            "bin_end": 5.2219999999999995,
            "count": 80
           },
           {
            "bin_start": 5.2219999999999995,
            "bin_end": 5.949999999999999,
            "count": 229
           },
           {
            "bin_start": 5.949999999999999,
            "bin_end": 6.678000000000001,
            "count": 281
           },
           {
            "bin_start": 6.678000000000001,
            "bin_end": 7.406000000000001,
            "count": 309
           },
           {
            "bin_start": 7.406000000000001,
            "bin_end": 8.134,
            "count": 260
           },
           {
            "bin_start": 8.134,
            "bin_end": 8.862,
            "count": 243
           },
           {
            "bin_start": 8.862,
            "bin_end": 9.59,
            "count": 248
           }
          ]
         }
        },
        {
         "name": "ef_government",
         "dtype": "float64",
         "stats": {
          "unique_count": 75,
          "nan_count": 6,
          "min": "0.1",
          "max": "9.5",
          "histogram": [
           {
            "bin_start": 0.1,
            "bin_end": 1.04,
            "count": 3
           },
           {
            "bin_start": 1.04,
            "bin_end": 1.9800000000000002,
            "count": 9
           },
           {
            "bin_start": 1.9800000000000002,
            "bin_end": 2.9200000000000004,
            "count": 12
           },
           {
            "bin_start": 2.9200000000000004,
            "bin_end": 3.8600000000000003,
            "count": 15
           },
           {
            "bin_start": 3.8600000000000003,
            "bin_end": 4.8,
            "count": 87
           },
           {
            "bin_start": 4.8,
            "bin_end": 5.74,
            "count": 329
           },
           {
            "bin_start": 5.74,
            "bin_end": 6.68,
            "count": 441
           },
           {
            "bin_start": 6.68,
            "bin_end": 7.62,
            "count": 513
           },
           {
            "bin_start": 7.62,
            "bin_end": 8.56,
            "count": 278
           },
           {
            "bin_start": 8.56,
            "bin_end": 9.5,
            "count": 89
           }
          ]
         }
        },
        {
         "name": "ef_legal",
         "dtype": "float64",
         "stats": {
          "unique_count": 109,
          "nan_count": 0,
          "min": "2.2",
          "max": "8.5",
          "histogram": [
           {
            "bin_start": 2.2,
            "bin_end": 2.83,
            "count": 30
           },
           {
            "bin_start": 2.83,
            "bin_end": 3.46,
            "count": 137
           },
           {
            "bin_start": 3.46,
            "bin_end": 4.09,
            "count": 200
           },
           {
            "bin_start": 4.09,
            "bin_end": 4.720000000000001,
            "count": 321
           },
           {
            "bin_start": 4.720000000000001,
            "bin_end": 5.35,
            "count": 310
           },
           {
            "bin_start": 5.35,
            "bin_end": 5.98,
            "count": 278
           },
           {
            "bin_start": 5.98,
            "bin_end": 6.61,
            "count": 192
           },
           {
            "bin_start": 6.61,
            "bin_end": 7.24,
            "count": 102
           },
           {
            "bin_start": 7.24,
            "bin_end": 7.87,
            "count": 99
           },
           {
            "bin_start": 7.87,
            "bin_end": 8.5,
            "count": 113
           }
          ]
         }
        },
        {
         "name": "ef_money",
         "dtype": "float64",
         "stats": {
          "unique_count": 70,
          "nan_count": 80,
          "min": "0.7",
          "max": "9.9",
          "histogram": [
           {
            "bin_start": 0.7,
            "bin_end": 1.62,
            "count": 5
           },
           {
            "bin_start": 1.62,
            "bin_end": 2.54,
            "count": 5
           },
           {
            "bin_start": 2.54,
            "bin_end": 3.460000000000001,
            "count": 1
           },
           {
            "bin_start": 3.460000000000001,
            "bin_end": 4.380000000000001,
            "count": 7
           },
           {
            "bin_start": 4.380000000000001,
            "bin_end": 5.300000000000001,
            "count": 31
           },
           {
            "bin_start": 5.300000000000001,
            "bin_end": 6.2200000000000015,
            "count": 88
           },
           {
            "bin_start": 6.2200000000000015,
            "bin_end": 7.1400000000000015,
            "count": 316
           },
           {
            "bin_start": 7.1400000000000015,
            "bin_end": 8.06,
            "count": 251
           },
           {
            "bin_start": 8.06,
            "bin_end": 8.98,
            "count": 309
           },
           {
            "bin_start": 8.98,
            "bin_end": 9.9,
            "count": 689
           }
          ]
         }
        },
        {
         "name": "ef_trade",
         "dtype": "float64",
         "stats": {
          "unique_count": 72,
          "nan_count": 81,
          "min": "1.8",
          "max": "9.6",
          "histogram": [
           {
            "bin_start": 1.8,
            "bin_end": 2.58,
            "count": 8
           },
           {
            "bin_start": 2.58,
            "bin_end": 3.3600000000000003,
            "count": 18
           },
           {
            "bin_start": 3.3600000000000003,
            "bin_end": 4.14,
            "count": 11
           },
           {
            "bin_start": 4.14,
            "bin_end": 4.92,
            "count": 54
           },
           {
            "bin_start": 4.92,
            "bin_end": 5.7,
            "count": 124
           },
           {
            "bin_start": 5.7,
            "bin_end": 6.4799999999999995,
            "count": 335
           },
           {
            "bin_start": 6.4799999999999995,
            "bin_end": 7.26,
            "count": 328
           },
           {
            "bin_start": 7.26,
            "bin_end": 8.040000000000001,
            "count": 348
           },
           {
            "bin_start": 8.040000000000001,
            "bin_end": 8.82,
            "count": 424
           },
           {
            "bin_start": 8.82,
            "bin_end": 9.6,
            "count": 51
           }
          ]
         }
        },
        {
         "name": "ef_regulation",
         "dtype": "float64",
         "stats": {
          "unique_count": 61,
          "nan_count": 67,
          "min": "2.5",
          "max": "9.5",
          "histogram": [
           {
            "bin_start": 2.5,
            "bin_end": 3.2,
            "count": 6
           },
           {
            "bin_start": 3.2,
            "bin_end": 3.9,
            "count": 2
           },
           {
            "bin_start": 3.9,
            "bin_end": 4.6,
            "count": 21
           },
           {
            "bin_start": 4.6,
            "bin_end": 5.3,
            "count": 79
           },
           {
            "bin_start": 5.3,
            "bin_end": 6,
            "count": 131
           },
           {
            "bin_start": 6,
            "bin_end": 6.699999999999999,
            "count": 293
           },
           {
            "bin_start": 6.699999999999999,
            "bin_end": 7.3999999999999995,
            "count": 467
           },
           {
            "bin_start": 7.3999999999999995,
            "bin_end": 8.1,
            "count": 444
           },
           {
            "bin_start": 8.1,
            "bin_end": 8.8,
            "count": 218
           },
           {
            "bin_start": 8.8,
            "bin_end": 9.5,
            "count": 54
           }
          ]
         }
        },
        {
         "name": "ef_score",
         "dtype": "float64",
         "stats": {
          "unique_count": 386,
          "nan_count": 80,
          "min": "2.72",
          "max": "8.97",
          "histogram": [
           {
            "bin_start": 2.72,
            "bin_end": 3.345,
            "count": 6
           },
           {
            "bin_start": 3.345,
            "bin_end": 3.97,
            "count": 6
           },
           {
            "bin_start": 3.97,
            "bin_end": 4.595000000000001,
            "count": 9
           },
           {
            "bin_start": 4.595000000000001,
            "bin_end": 5.220000000000001,
            "count": 66
           },
           {
            "bin_start": 5.220000000000001,
            "bin_end": 5.845000000000001,
            "count": 154
           },
           {
            "bin_start": 5.845000000000001,
            "bin_end": 6.470000000000001,
            "count": 319
           },
           {
            "bin_start": 6.470000000000001,
            "bin_end": 7.095000000000001,
            "count": 379
           },
           {
            "bin_start": 7.095000000000001,
            "bin_end": 7.720000000000001,
            "count": 465
           },
           {
            "bin_start": 7.720000000000001,
            "bin_end": 8.345,
            "count": 261
           },
           {
            "bin_start": 8.345,
            "bin_end": 8.97,
            "count": 37
           }
          ]
         }
        },
        {
         "name": "_deepnote_index_column",
         "dtype": "int64"
        }
       ],
       "rows_top": [
        {
         "year": 2018,
         "ISO_code": "ALB",
         "country": "Albania",
         "region": "Eastern Europe",
         "hf_score": 7.81,
         "pf_rol": 5,
         "pf_ss": 9.3,
         "pf_movement": 10,
         "pf_religion": 8.9,
         "pf_association": 8.6,
         "pf_expression": 9.2,
         "pf_identity": 5.8,
         "pf_score": 7.81,
         "ef_government": 8.1,
         "ef_legal": 5.2,
         "ef_money": 9.8,
         "ef_trade": 8.2,
         "ef_regulation": 7.7,
         "ef_score": 7.8,
         "_deepnote_index_column": 0
        },
        {
         "year": 2017,
         "ISO_code": "ALB",
         "country": "Albania",
         "region": "Eastern Europe",
         "hf_score": 7.78,
         "pf_rol": 5.3,
         "pf_ss": 9.3,
         "pf_movement": 10,
         "pf_religion": 8.7,
         "pf_association": 8.4,
         "pf_expression": 9.2,
         "pf_identity": 5.8,
         "pf_score": 7.86,
         "ef_government": 7.4,
         "ef_legal": 5.4,
         "ef_money": 9.6,
         "ef_trade": 8.2,
         "ef_regulation": 7.9,
         "ef_score": 7.7,
         "_deepnote_index_column": 1
        },
        {
         "year": 2016,
         "ISO_code": "ALB",
         "country": "Albania",
         "region": "Eastern Europe",
         "hf_score": 7.63,
         "pf_rol": 5.3,
         "pf_ss": 8.7,
         "pf_movement": 8.3,
         "pf_religion": 8.9,
         "pf_association": 8.5,
         "pf_expression": 9.2,
         "pf_identity": 5.8,
         "pf_score": 7.57,
         "ef_government": 7.8,
         "ef_legal": 5.5,
         "ef_money": 9.6,
         "ef_trade": 8,
         "ef_regulation": 7.6,
         "ef_score": 7.69,
         "_deepnote_index_column": 2
        },
        {
         "year": 2015,
         "ISO_code": "ALB",
         "country": "Albania",
         "region": "Eastern Europe",
         "hf_score": 7.55,
         "pf_rol": 5.2,
         "pf_ss": 8.8,
         "pf_movement": 6.7,
         "pf_religion": 8.9,
         "pf_association": 8.5,
         "pf_expression": 9.2,
         "pf_identity": 5.8,
         "pf_score": 7.4,
         "ef_government": 7.8,
         "ef_legal": 5.4,
         "ef_money": 9.6,
         "ef_trade": 8,
         "ef_regulation": 7.7,
         "ef_score": 7.7,
         "_deepnote_index_column": 3
        },
        {
         "year": 2014,
         "ISO_code": "ALB",
         "country": "Albania",
         "region": "Eastern Europe",
         "hf_score": 7.65,
         "pf_rol": 5,
         "pf_ss": 8.6,
         "pf_movement": 6.7,
         "pf_religion": 9.4,
         "pf_association": 8.5,
         "pf_expression": 9.2,
         "pf_identity": 8.8,
         "pf_score": 7.64,
         "ef_government": 7.7,
         "ef_legal": 5.1,
         "ef_money": 9.6,
         "ef_trade": 8.1,
         "ef_regulation": 7.8,
         "ef_score": 7.65,
         "_deepnote_index_column": 4
        },
        {
         "year": 2013,
         "ISO_code": "ALB",
         "country": "Albania",
         "region": "Eastern Europe",
         "hf_score": 7.52,
         "pf_rol": 4.5,
         "pf_ss": 8.6,
         "pf_movement": 6.7,
         "pf_religion": 9.1,
         "pf_association": 8.5,
         "pf_expression": 9.2,
         "pf_identity": 8.8,
         "pf_score": 7.49,
         "ef_government": 7.9,
         "ef_legal": 5,
         "ef_money": 9.7,
         "ef_trade": 7.7,
         "ef_regulation": 7.4,
         "ef_score": 7.55,
         "_deepnote_index_column": 5
        },
        {
         "year": 2012,
         "ISO_code": "ALB",
         "country": "Albania",
         "region": "Eastern Europe",
         "hf_score": 7.54,
         "pf_rol": 4.5,
         "pf_ss": 8.9,
         "pf_movement": 6.7,
         "pf_religion": 9.4,
         "pf_association": 8.8,
         "pf_expression": 9.2,
         "pf_identity": 8.8,
         "pf_score": 7.62,
         "ef_government": 8.2,
         "ef_legal": 4.9,
         "ef_money": 9.7,
         "ef_trade": 7,
         "ef_regulation": 7.5,
         "ef_score": 7.46,
         "_deepnote_index_column": 6
        },
        {
         "year": 2011,
         "ISO_code": "ALB",
         "country": "Albania",
         "region": "Eastern Europe",
         "hf_score": 7.63,
         "pf_rol": 4.9,
         "pf_ss": 8.9,
         "pf_movement": 6.7,
         "pf_religion": 9.2,
         "pf_association": 9,
         "pf_expression": 9.2,
         "pf_identity": 8.8,
         "pf_score": 7.74,
         "ef_government": 8.1,
         "ef_legal": 5.1,
         "ef_money": 9.8,
         "ef_trade": 7,
         "ef_regulation": 7.5,
         "ef_score": 7.51,
         "_deepnote_index_column": 7
        },
        {
         "year": 2010,
         "ISO_code": "ALB",
         "country": "Albania",
         "region": "Eastern Europe",
         "hf_score": 7.75,
         "pf_rol": 4.9,
         "pf_ss": 9.4,
         "pf_movement": 10,
         "pf_religion": 9.3,
         "pf_association": 8.7,
         "pf_expression": 8.4,
         "pf_identity": 8.8,
         "pf_score": 8.09,
         "ef_government": 8.1,
         "ef_legal": 5.3,
         "ef_money": 9.7,
         "ef_trade": 7.1,
         "ef_regulation": 6.8,
         "ef_score": 7.4,
         "_deepnote_index_column": 8
        },
        {
         "year": 2009,
         "ISO_code": "ALB",
         "country": "Albania",
         "region": "Eastern Europe",
         "hf_score": 7.72,
         "pf_rol": 4.9,
         "pf_ss": 9.6,
         "pf_movement": 10,
         "pf_religion": 9.5,
         "pf_association": 8.7,
         "pf_expression": 8.4,
         "pf_identity": 8.8,
         "pf_score": 8.16,
         "ef_government": 7.8,
         "ef_legal": 5.6,
         "ef_money": 9.6,
         "ef_trade": 6.9,
         "ef_regulation": 6.4,
         "ef_score": 7.27,
         "_deepnote_index_column": 9
        },
        {
         "year": 2008,
         "ISO_code": "ALB",
         "country": "Albania",
         "region": "Eastern Europe",
         "hf_score": 7.7,
         "pf_rol": 4.9,
         "pf_ss": 9.6,
         "pf_movement": 10,
         "pf_religion": 9.2,
         "pf_association": 8.7,
         "pf_expression": 8.4,
         "pf_identity": 8.8,
         "pf_score": 8.13,
         "ef_government": 8.3,
         "ef_legal": 5.5,
         "ef_money": 9.4,
         "ef_trade": 6.5,
         "ef_regulation": 6.7,
         "ef_score": 7.27,
         "_deepnote_index_column": 10
        },
        {
         "year": 2018,
         "ISO_code": "DZA",
         "country": "Algeria",
         "region": "Middle East & North Africa",
         "hf_score": 5.2,
         "pf_rol": 5.1,
         "pf_ss": 7.8,
         "pf_movement": 5.8,
         "pf_religion": 3.7,
         "pf_association": 4.6,
         "pf_expression": 7.9,
         "pf_identity": 0,
         "pf_score": 5.42,
         "ef_government": 4.2,
         "ef_legal": 4.5,
         "ef_money": 7.9,
         "ef_trade": 2.6,
         "ef_regulation": 5.6,
         "ef_score": 4.97,
         "_deepnote_index_column": 11
        },
        {
         "year": 2017,
         "ISO_code": "DZA",
         "country": "Algeria",
         "region": "Middle East & North Africa",
         "hf_score": 5.03,
         "pf_rol": 3.8,
         "pf_ss": 7.8,
         "pf_movement": 5.8,
         "pf_religion": 3.7,
         "pf_association": 4.5,
         "pf_expression": 7.8,
         "pf_identity": 0,
         "pf_score": 5.08,
         "ef_government": 4.5,
         "ef_legal": 4.5,
         "ef_money": 7.9,
         "ef_trade": 2.6,
         "ef_regulation": 5.4,
         "ef_score": 4.98,
         "_deepnote_index_column": 12
        },
        {
         "year": 2016,
         "ISO_code": "DZA",
         "country": "Algeria",
         "region": "Middle East & North Africa",
         "hf_score": 5.3,
         "pf_rol": 3.8,
         "pf_ss": 7.8,
         "pf_movement": 6.7,
         "pf_religion": 4,
         "pf_association": 4.4,
         "pf_expression": 8.1,
         "pf_identity": 1.3,
         "pf_score": 5.33,
         "ef_government": 4.5,
         "ef_legal": 4.5,
         "ef_money": 7.9,
         "ef_trade": 4,
         "ef_regulation": 5.5,
         "ef_score": 5.26,
         "_deepnote_index_column": 13
        },
        {
         "year": 2015,
         "ISO_code": "DZA",
         "country": "Algeria",
         "region": "Middle East & North Africa",
         "hf_score": 5.07,
         "pf_rol": 3.8,
         "pf_ss": 7.7,
         "pf_movement": 5,
         "pf_religion": 4.3,
         "pf_association": 4.6,
         "pf_expression": 8.1,
         "pf_identity": 1.3,
         "pf_score": 5.2,
         "ef_government": 3.6,
         "ef_legal": 4.4,
         "ef_money": 7.4,
         "ef_trade": 3.9,
         "ef_regulation": 5.4,
         "ef_score": 4.94,
         "_deepnote_index_column": 14
        },
        {
         "year": 2014,
         "ISO_code": "DZA",
         "country": "Algeria",
         "region": "Middle East & North Africa",
         "hf_score": 5.12,
         "pf_rol": 4,
         "pf_ss": 7.4,
         "pf_movement": 5,
         "pf_religion": 4.4,
         "pf_association": 4.5,
         "pf_expression": 8.1,
         "pf_identity": 1.3,
         "pf_score": 5.16,
         "ef_government": 3.8,
         "ef_legal": 4.3,
         "ef_money": 7.3,
         "ef_trade": 4.5,
         "ef_regulation": 5.5,
         "ef_score": 5.08,
         "_deepnote_index_column": 15
        },
        {
         "year": 2013,
         "ISO_code": "DZA",
         "country": "Algeria",
         "region": "Middle East & North Africa",
         "hf_score": 5.16,
         "pf_rol": 4.1,
         "pf_ss": 7.3,
         "pf_movement": 5,
         "pf_religion": 4.5,
         "pf_association": 4,
         "pf_expression": 8.2,
         "pf_identity": 1.3,
         "pf_score": 5.16,
         "ef_government": 4.2,
         "ef_legal": 4.3,
         "ef_money": 7.2,
         "ef_trade": 4.7,
         "ef_regulation": 5.4,
         "ef_score": 5.16,
         "_deepnote_index_column": 16
        },
        {
         "year": 2012,
         "ISO_code": "DZA",
         "country": "Algeria",
         "region": "Middle East & North Africa",
         "hf_score": 5.05,
         "pf_rol": 4.1,
         "pf_ss": 8.1,
         "pf_movement": 3.3,
         "pf_religion": 4.3,
         "pf_association": 4.1,
         "pf_expression": 8.1,
         "pf_identity": 1.3,
         "pf_score": 5.15,
         "ef_government": 3.3,
         "ef_legal": 3.9,
         "ef_money": 7,
         "ef_trade": 5.1,
         "ef_regulation": 5.4,
         "ef_score": 4.95,
         "_deepnote_index_column": 17
        },
        {
         "year": 2011,
         "ISO_code": "DZA",
         "country": "Algeria",
         "region": "Middle East & North Africa",
         "hf_score": 5.19,
         "pf_rol": 4.4,
         "pf_ss": 8.2,
         "pf_movement": 3.3,
         "pf_religion": 4.2,
         "pf_association": 4.1,
         "pf_expression": 8.1,
         "pf_identity": 1.3,
         "pf_score": 5.25,
         "ef_government": 3.9,
         "ef_legal": 3.7,
         "ef_money": 7.1,
         "ef_trade": 5.5,
         "ef_regulation": 5.3,
         "ef_score": 5.12,
         "_deepnote_index_column": 18
        },
        {
         "year": 2010,
         "ISO_code": "DZA",
         "country": "Algeria",
         "region": "Middle East & North Africa",
         "hf_score": 5.3,
         "pf_rol": 4.4,
         "pf_ss": 8.4,
         "pf_movement": 5,
         "pf_religion": 4.5,
         "pf_association": 4.6,
         "pf_expression": 7.2,
         "pf_identity": 1.3,
         "pf_score": 5.47,
         "ef_government": 3.8,
         "ef_legal": 3.9,
         "ef_money": 7.2,
         "ef_trade": 5.6,
         "ef_regulation": 5.2,
         "ef_score": 5.13,
         "_deepnote_index_column": 19
        },
        {
         "year": 2009,
         "ISO_code": "DZA",
         "country": "Algeria",
         "region": "Middle East & North Africa",
         "hf_score": 5.29,
         "pf_rol": 4.4,
         "pf_ss": 8.2,
         "pf_movement": 5,
         "pf_religion": 4.5,
         "pf_association": 4.6,
         "pf_expression": 7.2,
         "pf_identity": 1.3,
         "pf_score": 5.41,
         "ef_government": 3.3,
         "ef_legal": 4,
         "ef_money": 7,
         "ef_trade": 6,
         "ef_regulation": 5.6,
         "ef_score": 5.17,
         "_deepnote_index_column": 20
        },
        {
         "year": 2008,
         "ISO_code": "DZA",
         "country": "Algeria",
         "region": "Middle East & North Africa",
         "hf_score": 5.32,
         "pf_rol": 4.5,
         "pf_ss": 8.2,
         "pf_movement": 5,
         "pf_religion": 4.5,
         "pf_association": 4.6,
         "pf_expression": 7.2,
         "pf_identity": 1.3,
         "pf_score": 5.43,
         "ef_government": 3.3,
         "ef_legal": 4,
         "ef_money": 7.6,
         "ef_trade": 5.6,
         "ef_regulation": 5.5,
         "ef_score": 5.21,
         "_deepnote_index_column": 21
        },
        {
         "year": 2018,
         "ISO_code": "AGO",
         "country": "Angola",
         "region": "Sub-Saharan Africa",
         "hf_score": 5.48,
         "pf_rol": 3.6,
         "pf_ss": 8.4,
         "pf_movement": 6.7,
         "pf_religion": 6.5,
         "pf_association": 5.3,
         "pf_expression": 7.1,
         "pf_identity": 6.7,
         "pf_score": 6.21,
         "ef_government": 7.3,
         "ef_legal": 3.4,
         "ef_money": 4.7,
         "ef_trade": 2.9,
         "ef_regulation": 5.4,
         "ef_score": 4.75,
         "_deepnote_index_column": 22
        },
        {
         "year": 2017,
         "ISO_code": "AGO",
         "country": "Angola",
         "region": "Sub-Saharan Africa",
         "hf_score": 5.39,
         "pf_rol": 3.4,
         "pf_ss": 8.1,
         "pf_movement": 6.7,
         "pf_religion": 6.6,
         "pf_association": 4.9,
         "pf_expression": 7.1,
         "pf_identity": 5,
         "pf_score": 5.91,
         "ef_government": 7,
         "ef_legal": 3.3,
         "ef_money": 5.6,
         "ef_trade": 3,
         "ef_regulation": 5.5,
         "ef_score": 4.86,
         "_deepnote_index_column": 23
        },
        {
         "year": 2016,
         "ISO_code": "AGO",
         "country": "Angola",
         "region": "Sub-Saharan Africa",
         "hf_score": 5.85,
         "pf_rol": 3.4,
         "pf_ss": 8.4,
         "pf_movement": 8.3,
         "pf_religion": 6.6,
         "pf_association": 4.9,
         "pf_expression": 7.1,
         "pf_identity": 6.7,
         "pf_score": 6.3,
         "ef_government": 7.6,
         "ef_legal": 3.3,
         "ef_money": 5.6,
         "ef_trade": 5,
         "ef_regulation": 5.4,
         "ef_score": 5.39,
         "_deepnote_index_column": 24
        },
        {
         "year": 2015,
         "ISO_code": "AGO",
         "country": "Angola",
         "region": "Sub-Saharan Africa",
         "hf_score": 5.77,
         "pf_rol": 3.5,
         "pf_ss": 8,
         "pf_movement": 5,
         "pf_religion": 6.5,
         "pf_association": 4.9,
         "pf_expression": 7.2,
         "pf_identity": 6.7,
         "pf_score": 5.9,
         "ef_government": 7.3,
         "ef_legal": 3.3,
         "ef_money": 6.9,
         "ef_trade": 4.9,
         "ef_regulation": 5.8,
         "ef_score": 5.64,
         "_deepnote_index_column": 25
        }
       ],
       "rows_bottom": [
        {
         "year": 2011,
         "ISO_code": "YEM",
         "country": "Yemen, Rep.",
         "region": "Middle East & North Africa",
         "hf_score": 5.01,
         "pf_rol": 3.7,
         "pf_ss": 4.5,
         "pf_movement": 1.7,
         "pf_religion": 3.1,
         "pf_association": 6,
         "pf_expression": 5.5,
         "pf_identity": 0,
         "pf_score": 3.66,
         "ef_government": 7.6,
         "ef_legal": 3.4,
         "ef_money": 7.7,
         "ef_trade": 7.5,
         "ef_regulation": 5.6,
         "ef_score": 6.36,
         "_deepnote_index_column": 1756
        },
        {
         "year": 2010,
         "ISO_code": "YEM",
         "country": "Yemen, Rep.",
         "region": "Middle East & North Africa",
         "hf_score": 5.46,
         "pf_rol": 4,
         "pf_ss": 6.7,
         "pf_movement": 3.3,
         "pf_religion": 3.4,
         "pf_association": 5.7,
         "pf_expression": 6.6,
         "pf_identity": 0,
         "pf_score": 4.59,
         "ef_government": 7,
         "ef_legal": 3.6,
         "ef_money": 7.7,
         "ef_trade": 7.6,
         "ef_regulation": 5.7,
         "ef_score": 6.33,
         "_deepnote_index_column": 1757
        },
        {
         "year": 2009,
         "ISO_code": "YEM",
         "country": "Yemen, Rep.",
         "region": "Middle East & North Africa",
         "hf_score": "nan",
         "pf_rol": "nan",
         "pf_ss": "nan",
         "pf_movement": "nan",
         "pf_religion": 3.4,
         "pf_association": 5.9,
         "pf_expression": "nan",
         "pf_identity": "nan",
         "pf_score": "nan",
         "ef_government": "nan",
         "ef_legal": 3.5,
         "ef_money": "nan",
         "ef_trade": "nan",
         "ef_regulation": "nan",
         "ef_score": "nan",
         "_deepnote_index_column": 1758
        },
        {
         "year": 2008,
         "ISO_code": "YEM",
         "country": "Yemen, Rep.",
         "region": "Middle East & North Africa",
         "hf_score": "nan",
         "pf_rol": "nan",
         "pf_ss": "nan",
         "pf_movement": "nan",
         "pf_religion": 3.4,
         "pf_association": 5.9,
         "pf_expression": "nan",
         "pf_identity": "nan",
         "pf_score": "nan",
         "ef_government": "nan",
         "ef_legal": 3.4,
         "ef_money": "nan",
         "ef_trade": "nan",
         "ef_regulation": "nan",
         "ef_score": "nan",
         "_deepnote_index_column": 1759
        },
        {
         "year": 2018,
         "ISO_code": "ZMB",
         "country": "Zambia",
         "region": "Sub-Saharan Africa",
         "hf_score": 6.71,
         "pf_rol": 4,
         "pf_ss": 8.3,
         "pf_movement": 4.2,
         "pf_religion": 7.3,
         "pf_association": 6.8,
         "pf_expression": 7.5,
         "pf_identity": 5.8,
         "pf_score": 6.23,
         "ef_government": 7.5,
         "ef_legal": 5,
         "ef_money": 9.2,
         "ef_trade": 7.7,
         "ef_regulation": 6.5,
         "ef_score": 7.19,
         "_deepnote_index_column": 1760
        },
        {
         "year": 2017,
         "ISO_code": "ZMB",
         "country": "Zambia",
         "region": "Sub-Saharan Africa",
         "hf_score": 6.7,
         "pf_rol": 4.1,
         "pf_ss": 8.3,
         "pf_movement": 4.2,
         "pf_religion": 7.1,
         "pf_association": 6.3,
         "pf_expression": 7.5,
         "pf_identity": 5.8,
         "pf_score": 6.19,
         "ef_government": 7.8,
         "ef_legal": 5.2,
         "ef_money": 9.1,
         "ef_trade": 7.4,
         "ef_regulation": 6.6,
         "ef_score": 7.2,
         "_deepnote_index_column": 1761
        },
        {
         "year": 2016,
         "ISO_code": "ZMB",
         "country": "Zambia",
         "region": "Sub-Saharan Africa",
         "hf_score": 6.61,
         "pf_rol": 4.1,
         "pf_ss": 8.3,
         "pf_movement": 5,
         "pf_religion": 7.3,
         "pf_association": 6.7,
         "pf_expression": 7.7,
         "pf_identity": 5,
         "pf_score": 6.27,
         "ef_government": 7.4,
         "ef_legal": 5.3,
         "ef_money": 8.3,
         "ef_trade": 7.4,
         "ef_regulation": 6.4,
         "ef_score": 6.94,
         "_deepnote_index_column": 1762
        },
        {
         "year": 2015,
         "ISO_code": "ZMB",
         "country": "Zambia",
         "region": "Sub-Saharan Africa",
         "hf_score": 6.73,
         "pf_rol": 4.2,
         "pf_ss": 8.3,
         "pf_movement": 5,
         "pf_religion": 7.9,
         "pf_association": 7,
         "pf_expression": 8,
         "pf_identity": 5,
         "pf_score": 6.42,
         "ef_government": 7.4,
         "ef_legal": 5.3,
         "ef_money": 8.7,
         "ef_trade": 7.2,
         "ef_regulation": 6.5,
         "ef_score": 7.04,
         "_deepnote_index_column": 1763
        },
        {
         "year": 2014,
         "ISO_code": "ZMB",
         "country": "Zambia",
         "region": "Sub-Saharan Africa",
         "hf_score": 6.76,
         "pf_rol": 4,
         "pf_ss": 8.3,
         "pf_movement": 6.7,
         "pf_religion": 7.9,
         "pf_association": 7.1,
         "pf_expression": 8,
         "pf_identity": 2.5,
         "pf_score": 6.27,
         "ef_government": 7.5,
         "ef_legal": 5.3,
         "ef_money": 9,
         "ef_trade": 7.7,
         "ef_regulation": 6.7,
         "ef_score": 7.25,
         "_deepnote_index_column": 1764
        },
        {
         "year": 2013,
         "ISO_code": "ZMB",
         "country": "Zambia",
         "region": "Sub-Saharan Africa",
         "hf_score": 6.79,
         "pf_rol": 4.1,
         "pf_ss": 8.2,
         "pf_movement": 5,
         "pf_religion": 8,
         "pf_association": 7.2,
         "pf_expression": 7.8,
         "pf_identity": 5,
         "pf_score": 6.36,
         "ef_government": 7.5,
         "ef_legal": 5.3,
         "ef_money": 8.8,
         "ef_trade": 7.8,
         "ef_regulation": 6.6,
         "ef_score": 7.21,
         "_deepnote_index_column": 1765
        },
        {
         "year": 2012,
         "ISO_code": "ZMB",
         "country": "Zambia",
         "region": "Sub-Saharan Africa",
         "hf_score": 6.96,
         "pf_rol": 4.1,
         "pf_ss": 8.8,
         "pf_movement": 5,
         "pf_religion": 7.8,
         "pf_association": 7.7,
         "pf_expression": 7.8,
         "pf_identity": 5,
         "pf_score": 6.53,
         "ef_government": 8.1,
         "ef_legal": 5.6,
         "ef_money": 9,
         "ef_trade": 7.4,
         "ef_regulation": 6.9,
         "ef_score": 7.39,
         "_deepnote_index_column": 1766
        },
        {
         "year": 2011,
         "ISO_code": "ZMB",
         "country": "Zambia",
         "region": "Sub-Saharan Africa",
         "hf_score": 7,
         "pf_rol": 4.4,
         "pf_ss": 8.8,
         "pf_movement": 5,
         "pf_religion": 7.6,
         "pf_association": 7.5,
         "pf_expression": 7.8,
         "pf_identity": 5,
         "pf_score": 6.58,
         "ef_government": 8.3,
         "ef_legal": 5.7,
         "ef_money": 8.9,
         "ef_trade": 7.2,
         "ef_regulation": 6.9,
         "ef_score": 7.42,
         "_deepnote_index_column": 1767
        },
        {
         "year": 2010,
         "ISO_code": "ZMB",
         "country": "Zambia",
         "region": "Sub-Saharan Africa",
         "hf_score": 6.91,
         "pf_rol": 4.4,
         "pf_ss": 7.5,
         "pf_movement": 6.7,
         "pf_religion": 7.7,
         "pf_association": 7.1,
         "pf_expression": 7.9,
         "pf_identity": 5,
         "pf_score": 6.42,
         "ef_government": 8.4,
         "ef_legal": 5.6,
         "ef_money": 8.9,
         "ef_trade": 7.4,
         "ef_regulation": 6.8,
         "ef_score": 7.4,
         "_deepnote_index_column": 1768
        },
        {
         "year": 2009,
         "ISO_code": "ZMB",
         "country": "Zambia",
         "region": "Sub-Saharan Africa",
         "hf_score": 6.97,
         "pf_rol": 4.4,
         "pf_ss": 7.5,
         "pf_movement": 8.3,
         "pf_religion": 8.2,
         "pf_association": 7.3,
         "pf_expression": 7.8,
         "pf_identity": 5,
         "pf_score": 6.65,
         "ef_government": 7.9,
         "ef_legal": 5.7,
         "ef_money": 8.5,
         "ef_trade": 7.4,
         "ef_regulation": 6.9,
         "ef_score": 7.29,
         "_deepnote_index_column": 1769
        },
        {
         "year": 2008,
         "ISO_code": "ZMB",
         "country": "Zambia",
         "region": "Sub-Saharan Africa",
         "hf_score": 6.95,
         "pf_rol": 4.4,
         "pf_ss": 7.6,
         "pf_movement": 8.3,
         "pf_religion": 8.4,
         "pf_association": 7.4,
         "pf_expression": 7.8,
         "pf_identity": 5,
         "pf_score": 6.69,
         "ef_government": 8,
         "ef_legal": 5.8,
         "ef_money": 8.4,
         "ef_trade": 7.2,
         "ef_regulation": 6.8,
         "ef_score": 7.21,
         "_deepnote_index_column": 1770
        },
        {
         "year": 2018,
         "ISO_code": "ZWE",
         "country": "Zimbabwe",
         "region": "Sub-Saharan Africa",
         "hf_score": 5.59,
         "pf_rol": 3.5,
         "pf_ss": 8.3,
         "pf_movement": 6.7,
         "pf_religion": 7.3,
         "pf_association": 5.3,
         "pf_expression": 7.5,
         "pf_identity": 4.2,
         "pf_score": 6.06,
         "ef_government": 4.5,
         "ef_legal": 4.1,
         "ef_money": 5,
         "ef_trade": 5.7,
         "ef_regulation": 6.3,
         "ef_score": 5.12,
         "_deepnote_index_column": 1771
        },
        {
         "year": 2017,
         "ISO_code": "ZWE",
         "country": "Zimbabwe",
         "region": "Sub-Saharan Africa",
         "hf_score": 5.6,
         "pf_rol": 3.5,
         "pf_ss": 8.4,
         "pf_movement": 6.7,
         "pf_religion": 7.3,
         "pf_association": 5,
         "pf_expression": 7.5,
         "pf_identity": 4.2,
         "pf_score": 6.04,
         "ef_government": 4.3,
         "ef_legal": 4.1,
         "ef_money": 6.7,
         "ef_trade": 4,
         "ef_regulation": 6.7,
         "ef_score": 5.16,
         "_deepnote_index_column": 1772
        },
        {
         "year": 2016,
         "ISO_code": "ZWE",
         "country": "Zimbabwe",
         "region": "Sub-Saharan Africa",
         "hf_score": 5.77,
         "pf_rol": 3.5,
         "pf_ss": 7.9,
         "pf_movement": 5,
         "pf_religion": 6.9,
         "pf_association": 5,
         "pf_expression": 7.6,
         "pf_identity": 5,
         "pf_score": 5.82,
         "ef_government": 5.1,
         "ef_legal": 3.7,
         "ef_money": 7.4,
         "ef_trade": 5.8,
         "ef_regulation": 6.5,
         "ef_score": 5.72,
         "_deepnote_index_column": 1773
        },
        {
         "year": 2015,
         "ISO_code": "ZWE",
         "country": "Zimbabwe",
         "region": "Sub-Saharan Africa",
         "hf_score": 6.01,
         "pf_rol": 3.5,
         "pf_ss": 7.6,
         "pf_movement": 5,
         "pf_religion": 7.4,
         "pf_association": 5.1,
         "pf_expression": 7.6,
         "pf_identity": 5,
         "pf_score": 5.78,
         "ef_government": 6.8,
         "ef_legal": 3.8,
         "ef_money": 8.2,
         "ef_trade": 5.9,
         "ef_regulation": 6.6,
         "ef_score": 6.24,
         "_deepnote_index_column": 1774
        },
        {
         "year": 2014,
         "ISO_code": "ZWE",
         "country": "Zimbabwe",
         "region": "Sub-Saharan Africa",
         "hf_score": 5.91,
         "pf_rol": 3.4,
         "pf_ss": 7.6,
         "pf_movement": 5,
         "pf_religion": 7.3,
         "pf_association": 5.1,
         "pf_expression": 7.7,
         "pf_identity": 7.5,
         "pf_score": 6.01,
         "ef_government": 6.6,
         "ef_legal": 3.6,
         "ef_money": 8,
         "ef_trade": 5.8,
         "ef_regulation": 5,
         "ef_score": 5.8,
         "_deepnote_index_column": 1775
        },
        {
         "year": 2013,
         "ISO_code": "ZWE",
         "country": "Zimbabwe",
         "region": "Sub-Saharan Africa",
         "hf_score": 5.76,
         "pf_rol": 3.3,
         "pf_ss": 7.6,
         "pf_movement": 5,
         "pf_religion": 7.5,
         "pf_association": 5.8,
         "pf_expression": 7.6,
         "pf_identity": 7.5,
         "pf_score": 6.06,
         "ef_government": 6.5,
         "ef_legal": 3.5,
         "ef_money": 6.9,
         "ef_trade": 5.5,
         "ef_regulation": 4.9,
         "ef_score": 5.46,
         "_deepnote_index_column": 1776
        },
        {
         "year": 2012,
         "ISO_code": "ZWE",
         "country": "Zimbabwe",
         "region": "Sub-Saharan Africa",
         "hf_score": 5.38,
         "pf_rol": 3.3,
         "pf_ss": 7.4,
         "pf_movement": 1.7,
         "pf_religion": 7.3,
         "pf_association": 6,
         "pf_expression": 7.5,
         "pf_identity": 7.5,
         "pf_score": 5.68,
         "ef_government": 7,
         "ef_legal": 3.8,
         "ef_money": 5.4,
         "ef_trade": 5.2,
         "ef_regulation": 4.1,
         "ef_score": 5.08,
         "_deepnote_index_column": 1777
        },
        {
         "year": 2011,
         "ISO_code": "ZWE",
         "country": "Zimbabwe",
         "region": "Sub-Saharan Africa",
         "hf_score": 5.28,
         "pf_rol": 3.7,
         "pf_ss": 7.4,
         "pf_movement": 1.7,
         "pf_religion": 7.1,
         "pf_association": 6,
         "pf_expression": 7.5,
         "pf_identity": 7.5,
         "pf_score": 5.75,
         "ef_government": 6.5,
         "ef_legal": 3.7,
         "ef_money": 4.1,
         "ef_trade": 5.4,
         "ef_regulation": 4.3,
         "ef_score": 4.8,
         "_deepnote_index_column": 1778
        },
        {
         "year": 2010,
         "ISO_code": "ZWE",
         "country": "Zimbabwe",
         "region": "Sub-Saharan Africa",
         "hf_score": 4.97,
         "pf_rol": 3.5,
         "pf_ss": 7.2,
         "pf_movement": 1.7,
         "pf_religion": 6.9,
         "pf_association": 5.9,
         "pf_expression": 7,
         "pf_identity": 7.5,
         "pf_score": 5.59,
         "ef_government": 6.6,
         "ef_legal": 3.7,
         "ef_money": 2,
         "ef_trade": 4.9,
         "ef_regulation": 4.5,
         "ef_score": 4.34,
         "_deepnote_index_column": 1779
        },
        {
         "year": 2009,
         "ISO_code": "ZWE",
         "country": "Zimbabwe",
         "region": "Sub-Saharan Africa",
         "hf_score": 4.91,
         "pf_rol": 3.7,
         "pf_ss": 7.2,
         "pf_movement": 1.7,
         "pf_religion": 7.1,
         "pf_association": 5.7,
         "pf_expression": 7,
         "pf_identity": 7.5,
         "pf_score": 5.61,
         "ef_government": 7.4,
         "ef_legal": 3.6,
         "ef_money": 0.9,
         "ef_trade": 4.6,
         "ef_regulation": 4.6,
         "ef_score": 4.21,
         "_deepnote_index_column": 1780
        },
        {
         "year": 2008,
         "ISO_code": "ZWE",
         "country": "Zimbabwe",
         "region": "Sub-Saharan Africa",
         "hf_score": 4.97,
         "pf_rol": 3.5,
         "pf_ss": 7.1,
         "pf_movement": 1.7,
         "pf_religion": 7,
         "pf_association": 5.7,
         "pf_expression": 6.9,
         "pf_identity": 7.5,
         "pf_score": 5.54,
         "ef_government": 7.1,
         "ef_legal": 3.8,
         "ef_money": 2.4,
         "ef_trade": 4.3,
         "ef_regulation": 4.4,
         "ef_score": 4.39,
         "_deepnote_index_column": 1781
        }
       ]
      },
      "text/plain": "      year ISO_code   country              region  hf_score  pf_rol  pf_ss  \\\n0     2018      ALB   Albania      Eastern Europe      7.81     5.0    9.3   \n1     2017      ALB   Albania      Eastern Europe      7.78     5.3    9.3   \n2     2016      ALB   Albania      Eastern Europe      7.63     5.3    8.7   \n3     2015      ALB   Albania      Eastern Europe      7.55     5.2    8.8   \n4     2014      ALB   Albania      Eastern Europe      7.65     5.0    8.6   \n...    ...      ...       ...                 ...       ...     ...    ...   \n1777  2012      ZWE  Zimbabwe  Sub-Saharan Africa      5.38     3.3    7.4   \n1778  2011      ZWE  Zimbabwe  Sub-Saharan Africa      5.28     3.7    7.4   \n1779  2010      ZWE  Zimbabwe  Sub-Saharan Africa      4.97     3.5    7.2   \n1780  2009      ZWE  Zimbabwe  Sub-Saharan Africa      4.91     3.7    7.2   \n1781  2008      ZWE  Zimbabwe  Sub-Saharan Africa      4.97     3.5    7.1   \n\n      pf_movement  pf_religion  pf_association  pf_expression  pf_identity  \\\n0            10.0          8.9             8.6            9.2          5.8   \n1            10.0          8.7             8.4            9.2          5.8   \n2             8.3          8.9             8.5            9.2          5.8   \n3             6.7          8.9             8.5            9.2          5.8   \n4             6.7          9.4             8.5            9.2          8.8   \n...           ...          ...             ...            ...          ...   \n1777          1.7          7.3             6.0            7.5          7.5   \n1778          1.7          7.1             6.0            7.5          7.5   \n1779          1.7          6.9             5.9            7.0          7.5   \n1780          1.7          7.1             5.7            7.0          7.5   \n1781          1.7          7.0             5.7            6.9          7.5   \n\n      pf_score  ef_government  ef_legal  ef_money  ef_trade  ef_regulation  \\\n0         7.81            8.1       5.2       9.8       8.2            7.7   \n1         7.86            7.4       5.4       9.6       8.2            7.9   \n2         7.57            7.8       5.5       9.6       8.0            7.6   \n3         7.40            7.8       5.4       9.6       8.0            7.7   \n4         7.64            7.7       5.1       9.6       8.1            7.8   \n...        ...            ...       ...       ...       ...            ...   \n1777      5.68            7.0       3.8       5.4       5.2            4.1   \n1778      5.75            6.5       3.7       4.1       5.4            4.3   \n1779      5.59            6.6       3.7       2.0       4.9            4.5   \n1780      5.61            7.4       3.6       0.9       4.6            4.6   \n1781      5.54            7.1       3.8       2.4       4.3            4.4   \n\n      ef_score  \n0         7.80  \n1         7.70  \n2         7.69  \n3         7.70  \n4         7.65  \n...        ...  \n1777      5.08  \n1778      4.80  \n1779      4.34  \n1780      4.21  \n1781      4.39  \n\n[1782 rows x 19 columns]",
      "text/html": "<div>\n<style scoped>\n    .dataframe tbody tr th:only-of-type {\n        vertical-align: middle;\n    }\n\n    .dataframe tbody tr th {\n        vertical-align: top;\n    }\n\n    .dataframe thead th {\n        text-align: right;\n    }\n</style>\n<table border=\"1\" class=\"dataframe\">\n  <thead>\n    <tr style=\"text-align: right;\">\n      <th></th>\n      <th>year</th>\n      <th>ISO_code</th>\n      <th>country</th>\n      <th>region</th>\n      <th>hf_score</th>\n      <th>pf_rol</th>\n      <th>pf_ss</th>\n      <th>pf_movement</th>\n      <th>pf_religion</th>\n      <th>pf_association</th>\n      <th>pf_expression</th>\n      <th>pf_identity</th>\n      <th>pf_score</th>\n      <th>ef_government</th>\n      <th>ef_legal</th>\n      <th>ef_money</th>\n      <th>ef_trade</th>\n      <th>ef_regulation</th>\n      <th>ef_score</th>\n    </tr>\n  </thead>\n  <tbody>\n    <tr>\n      <th>0</th>\n      <td>2018</td>\n      <td>ALB</td>\n      <td>Albania</td>\n      <td>Eastern Europe</td>\n      <td>7.81</td>\n      <td>5.0</td>\n      <td>9.3</td>\n      <td>10.0</td>\n      <td>8.9</td>\n      <td>8.6</td>\n      <td>9.2</td>\n      <td>5.8</td>\n      <td>7.81</td>\n      <td>8.1</td>\n      <td>5.2</td>\n      <td>9.8</td>\n      <td>8.2</td>\n      <td>7.7</td>\n      <td>7.80</td>\n    </tr>\n    <tr>\n      <th>1</th>\n      <td>2017</td>\n      <td>ALB</td>\n      <td>Albania</td>\n      <td>Eastern Europe</td>\n      <td>7.78</td>\n      <td>5.3</td>\n      <td>9.3</td>\n      <td>10.0</td>\n      <td>8.7</td>\n      <td>8.4</td>\n      <td>9.2</td>\n      <td>5.8</td>\n      <td>7.86</td>\n      <td>7.4</td>\n      <td>5.4</td>\n      <td>9.6</td>\n      <td>8.2</td>\n      <td>7.9</td>\n      <td>7.70</td>\n    </tr>\n    <tr>\n      <th>2</th>\n      <td>2016</td>\n      <td>ALB</td>\n      <td>Albania</td>\n      <td>Eastern Europe</td>\n      <td>7.63</td>\n      <td>5.3</td>\n      <td>8.7</td>\n      <td>8.3</td>\n      <td>8.9</td>\n      <td>8.5</td>\n      <td>9.2</td>\n      <td>5.8</td>\n      <td>7.57</td>\n      <td>7.8</td>\n      <td>5.5</td>\n      <td>9.6</td>\n      <td>8.0</td>\n      <td>7.6</td>\n      <td>7.69</td>\n    </tr>\n    <tr>\n      <th>3</th>\n      <td>2015</td>\n      <td>ALB</td>\n      <td>Albania</td>\n      <td>Eastern Europe</td>\n      <td>7.55</td>\n      <td>5.2</td>\n      <td>8.8</td>\n      <td>6.7</td>\n      <td>8.9</td>\n      <td>8.5</td>\n      <td>9.2</td>\n      <td>5.8</td>\n      <td>7.40</td>\n      <td>7.8</td>\n      <td>5.4</td>\n      <td>9.6</td>\n      <td>8.0</td>\n      <td>7.7</td>\n      <td>7.70</td>\n    </tr>\n    <tr>\n      <th>4</th>\n      <td>2014</td>\n      <td>ALB</td>\n      <td>Albania</td>\n      <td>Eastern Europe</td>\n      <td>7.65</td>\n      <td>5.0</td>\n      <td>8.6</td>\n      <td>6.7</td>\n      <td>9.4</td>\n      <td>8.5</td>\n      <td>9.2</td>\n      <td>8.8</td>\n      <td>7.64</td>\n      <td>7.7</td>\n      <td>5.1</td>\n      <td>9.6</td>\n      <td>8.1</td>\n      <td>7.8</td>\n      <td>7.65</td>\n    </tr>\n    <tr>\n      <th>...</th>\n      <td>...</td>\n      <td>...</td>\n      <td>...</td>\n      <td>...</td>\n      <td>...</td>\n      <td>...</td>\n      <td>...</td>\n      <td>...</td>\n      <td>...</td>\n      <td>...</td>\n      <td>...</td>\n      <td>...</td>\n      <td>...</td>\n      <td>...</td>\n      <td>...</td>\n      <td>...</td>\n      <td>...</td>\n      <td>...</td>\n      <td>...</td>\n    </tr>\n    <tr>\n      <th>1777</th>\n      <td>2012</td>\n      <td>ZWE</td>\n      <td>Zimbabwe</td>\n      <td>Sub-Saharan Africa</td>\n      <td>5.38</td>\n      <td>3.3</td>\n      <td>7.4</td>\n      <td>1.7</td>\n      <td>7.3</td>\n      <td>6.0</td>\n      <td>7.5</td>\n      <td>7.5</td>\n      <td>5.68</td>\n      <td>7.0</td>\n      <td>3.8</td>\n      <td>5.4</td>\n      <td>5.2</td>\n      <td>4.1</td>\n      <td>5.08</td>\n    </tr>\n    <tr>\n      <th>1778</th>\n      <td>2011</td>\n      <td>ZWE</td>\n      <td>Zimbabwe</td>\n      <td>Sub-Saharan Africa</td>\n      <td>5.28</td>\n      <td>3.7</td>\n      <td>7.4</td>\n      <td>1.7</td>\n      <td>7.1</td>\n      <td>6.0</td>\n      <td>7.5</td>\n      <td>7.5</td>\n      <td>5.75</td>\n      <td>6.5</td>\n      <td>3.7</td>\n      <td>4.1</td>\n      <td>5.4</td>\n      <td>4.3</td>\n      <td>4.80</td>\n    </tr>\n    <tr>\n      <th>1779</th>\n      <td>2010</td>\n      <td>ZWE</td>\n      <td>Zimbabwe</td>\n      <td>Sub-Saharan Africa</td>\n      <td>4.97</td>\n      <td>3.5</td>\n      <td>7.2</td>\n      <td>1.7</td>\n      <td>6.9</td>\n      <td>5.9</td>\n      <td>7.0</td>\n      <td>7.5</td>\n      <td>5.59</td>\n      <td>6.6</td>\n      <td>3.7</td>\n      <td>2.0</td>\n      <td>4.9</td>\n      <td>4.5</td>\n      <td>4.34</td>\n    </tr>\n    <tr>\n      <th>1780</th>\n      <td>2009</td>\n      <td>ZWE</td>\n      <td>Zimbabwe</td>\n      <td>Sub-Saharan Africa</td>\n      <td>4.91</td>\n      <td>3.7</td>\n      <td>7.2</td>\n      <td>1.7</td>\n      <td>7.1</td>\n      <td>5.7</td>\n      <td>7.0</td>\n      <td>7.5</td>\n      <td>5.61</td>\n      <td>7.4</td>\n      <td>3.6</td>\n      <td>0.9</td>\n      <td>4.6</td>\n      <td>4.6</td>\n      <td>4.21</td>\n    </tr>\n    <tr>\n      <th>1781</th>\n      <td>2008</td>\n      <td>ZWE</td>\n      <td>Zimbabwe</td>\n      <td>Sub-Saharan Africa</td>\n      <td>4.97</td>\n      <td>3.5</td>\n      <td>7.1</td>\n      <td>1.7</td>\n      <td>7.0</td>\n      <td>5.7</td>\n      <td>6.9</td>\n      <td>7.5</td>\n      <td>5.54</td>\n      <td>7.1</td>\n      <td>3.8</td>\n      <td>2.4</td>\n      <td>4.3</td>\n      <td>4.4</td>\n      <td>4.39</td>\n    </tr>\n  </tbody>\n</table>\n<p>1782 rows × 19 columns</p>\n</div>"
     },
     "metadata": {}
    }
   ]
  },
  {
   "cell_type": "code",
   "metadata": {
    "deepnote_to_be_reexecuted": false,
    "source_hash": "68f5d734",
    "execution_start": 1622349426521,
    "execution_millis": 7,
    "cell_id": "00005-bdcecbda-ba9a-4979-8211-cdb6f4dd6747",
    "deepnote_cell_type": "code"
   },
   "source": "hfi_mod2.region.unique()",
   "execution_count": 5,
   "outputs": [
    {
     "output_type": "execute_result",
     "execution_count": 5,
     "data": {
      "text/plain": "array(['Eastern Europe', 'Middle East & North Africa',\n       'Sub-Saharan Africa', 'Latin America & the Caribbean',\n       'Caucasus & Central Asia', 'Oceania', 'Western Europe',\n       'South Asia', 'North America', 'East Asia'], dtype=object)"
     },
     "metadata": {}
    }
   ]
  },
  {
   "cell_type": "code",
   "metadata": {
    "deepnote_to_be_reexecuted": false,
    "source_hash": "28bd0787",
    "execution_start": 1622349426525,
    "execution_millis": 57,
    "cell_id": "00006-cf391300-4d12-45d4-8299-7de100dfa8cd",
    "deepnote_cell_type": "code"
   },
   "source": "# add income group\nincome_group = pd.read_csv('data/income.csv', encoding='latin1', skiprows=5).iloc[:, 0:35]\nincome_group = income_group.drop (columns = income_group.iloc[:, 1:22]).rename({'Unnamed: 0': \"ISO_code\"}, axis=1)\nincome_group = income_group.melt(id_vars='ISO_code', var_name='year', value_name='income')\nincome_group.year = income_group.year.astype(int)\nincome_group",
   "execution_count": 6,
   "outputs": [
    {
     "output_type": "execute_result",
     "execution_count": 6,
     "data": {
      "application/vnd.deepnote.dataframe.v2+json": {
       "row_count": 2977,
       "column_count": 3,
       "columns": [
        {
         "name": "ISO_code",
         "dtype": "object",
         "stats": {
          "unique_count": 224,
          "nan_count": 65,
          "categories": [
           {
            "name": "AFG",
            "count": 13
           },
           {
            "name": "223 others",
            "count": 2899
           },
           {
            "name": "Missing",
            "count": 65
           }
          ]
         }
        },
        {
         "name": "year",
         "dtype": "int64",
         "stats": {
          "unique_count": 13,
          "nan_count": 0,
          "min": "2007",
          "max": "2019",
          "histogram": [
           {
            "bin_start": 2007,
            "bin_end": 2008.2,
            "count": 458
           },
           {
            "bin_start": 2008.2,
            "bin_end": 2009.4,
            "count": 229
           },
           {
            "bin_start": 2009.4,
            "bin_end": 2010.6,
            "count": 229
           },
           {
            "bin_start": 2010.6,
            "bin_end": 2011.8,
            "count": 229
           },
           {
            "bin_start": 2011.8,
            "bin_end": 2013,
            "count": 229
           },
           {
            "bin_start": 2013,
            "bin_end": 2014.2,
            "count": 458
           },
           {
            "bin_start": 2014.2,
            "bin_end": 2015.4,
            "count": 229
           },
           {
            "bin_start": 2015.4,
            "bin_end": 2016.6,
            "count": 229
           },
           {
            "bin_start": 2016.6,
            "bin_end": 2017.8,
            "count": 229
           },
           {
            "bin_start": 2017.8,
            "bin_end": 2019,
            "count": 458
           }
          ]
         }
        },
        {
         "name": "income",
         "dtype": "object",
         "stats": {
          "unique_count": 5,
          "nan_count": 136,
          "categories": [
           {
            "name": "H",
            "count": 978
           },
           {
            "name": "4 others",
            "count": 1863
           },
           {
            "name": "Missing",
            "count": 136
           }
          ]
         }
        },
        {
         "name": "_deepnote_index_column",
         "dtype": "int64"
        }
       ],
       "rows_top": [
        {
         "ISO_code": "AFG",
         "year": 2007,
         "income": "L",
         "_deepnote_index_column": 0
        },
        {
         "ISO_code": "ALB",
         "year": 2007,
         "income": "LM",
         "_deepnote_index_column": 1
        },
        {
         "ISO_code": "DZA",
         "year": 2007,
         "income": "LM",
         "_deepnote_index_column": 2
        },
        {
         "ISO_code": "ASM",
         "year": 2007,
         "income": "UM",
         "_deepnote_index_column": 3
        },
        {
         "ISO_code": "AND",
         "year": 2007,
         "income": "H",
         "_deepnote_index_column": 4
        },
        {
         "ISO_code": "AGO",
         "year": 2007,
         "income": "LM",
         "_deepnote_index_column": 5
        },
        {
         "ISO_code": "ATG",
         "year": 2007,
         "income": "H",
         "_deepnote_index_column": 6
        },
        {
         "ISO_code": "ARG",
         "year": 2007,
         "income": "UM",
         "_deepnote_index_column": 7
        },
        {
         "ISO_code": "ARM",
         "year": 2007,
         "income": "LM",
         "_deepnote_index_column": 8
        },
        {
         "ISO_code": "ABW",
         "year": 2007,
         "income": "H",
         "_deepnote_index_column": 9
        },
        {
         "ISO_code": "AUS",
         "year": 2007,
         "income": "H",
         "_deepnote_index_column": 10
        },
        {
         "ISO_code": "AUT",
         "year": 2007,
         "income": "H",
         "_deepnote_index_column": 11
        },
        {
         "ISO_code": "AZE",
         "year": 2007,
         "income": "LM",
         "_deepnote_index_column": 12
        },
        {
         "ISO_code": "BHS",
         "year": 2007,
         "income": "H",
         "_deepnote_index_column": 13
        },
        {
         "ISO_code": "BHR",
         "year": 2007,
         "income": "H",
         "_deepnote_index_column": 14
        },
        {
         "ISO_code": "BGD",
         "year": 2007,
         "income": "L",
         "_deepnote_index_column": 15
        },
        {
         "ISO_code": "BRB",
         "year": 2007,
         "income": "H",
         "_deepnote_index_column": 16
        },
        {
         "ISO_code": "BLR",
         "year": 2007,
         "income": "UM",
         "_deepnote_index_column": 17
        },
        {
         "ISO_code": "BEL",
         "year": 2007,
         "income": "H",
         "_deepnote_index_column": 18
        },
        {
         "ISO_code": "BLZ",
         "year": 2007,
         "income": "UM",
         "_deepnote_index_column": 19
        },
        {
         "ISO_code": "BEN",
         "year": 2007,
         "income": "L",
         "_deepnote_index_column": 20
        },
        {
         "ISO_code": "BMU",
         "year": 2007,
         "income": "H",
         "_deepnote_index_column": 21
        },
        {
         "ISO_code": "BTN",
         "year": 2007,
         "income": "LM",
         "_deepnote_index_column": 22
        },
        {
         "ISO_code": "BOL",
         "year": 2007,
         "income": "LM",
         "_deepnote_index_column": 23
        },
        {
         "ISO_code": "BIH",
         "year": 2007,
         "income": "LM",
         "_deepnote_index_column": 24
        },
        {
         "ISO_code": "BWA",
         "year": 2007,
         "income": "UM",
         "_deepnote_index_column": 25
        },
        {
         "ISO_code": "BRA",
         "year": 2007,
         "income": "UM",
         "_deepnote_index_column": 26
        },
        {
         "ISO_code": "VGB",
         "year": 2007,
         "income": "..",
         "_deepnote_index_column": 27
        },
        {
         "ISO_code": "BRN",
         "year": 2007,
         "income": "H",
         "_deepnote_index_column": 28
        },
        {
         "ISO_code": "BGR",
         "year": 2007,
         "income": "UM",
         "_deepnote_index_column": 29
        },
        {
         "ISO_code": "BFA",
         "year": 2007,
         "income": "L",
         "_deepnote_index_column": 30
        },
        {
         "ISO_code": "BDI",
         "year": 2007,
         "income": "L",
         "_deepnote_index_column": 31
        },
        {
         "ISO_code": "CPV",
         "year": 2007,
         "income": "LM",
         "_deepnote_index_column": 32
        },
        {
         "ISO_code": "KHM",
         "year": 2007,
         "income": "L",
         "_deepnote_index_column": 33
        },
        {
         "ISO_code": "CMR",
         "year": 2007,
         "income": "LM",
         "_deepnote_index_column": 34
        },
        {
         "ISO_code": "CAN",
         "year": 2007,
         "income": "H",
         "_deepnote_index_column": 35
        },
        {
         "ISO_code": "CYM",
         "year": 2007,
         "income": "H",
         "_deepnote_index_column": 36
        },
        {
         "ISO_code": "CAF",
         "year": 2007,
         "income": "L",
         "_deepnote_index_column": 37
        },
        {
         "ISO_code": "TCD",
         "year": 2007,
         "income": "L",
         "_deepnote_index_column": 38
        },
        {
         "ISO_code": "CHI",
         "year": 2007,
         "income": "H",
         "_deepnote_index_column": 39
        },
        {
         "ISO_code": "CHL",
         "year": 2007,
         "income": "UM",
         "_deepnote_index_column": 40
        },
        {
         "ISO_code": "CHN",
         "year": 2007,
         "income": "LM",
         "_deepnote_index_column": 41
        },
        {
         "ISO_code": "COL",
         "year": 2007,
         "income": "LM",
         "_deepnote_index_column": 42
        },
        {
         "ISO_code": "COM",
         "year": 2007,
         "income": "L",
         "_deepnote_index_column": 43
        },
        {
         "ISO_code": "COD",
         "year": 2007,
         "income": "L",
         "_deepnote_index_column": 44
        },
        {
         "ISO_code": "COG",
         "year": 2007,
         "income": "LM",
         "_deepnote_index_column": 45
        },
        {
         "ISO_code": "CRI",
         "year": 2007,
         "income": "UM",
         "_deepnote_index_column": 46
        },
        {
         "ISO_code": "CIV",
         "year": 2007,
         "income": "L",
         "_deepnote_index_column": 47
        },
        {
         "ISO_code": "HRV",
         "year": 2007,
         "income": "UM",
         "_deepnote_index_column": 48
        },
        {
         "ISO_code": "CUB",
         "year": 2007,
         "income": "UM",
         "_deepnote_index_column": 49
        },
        {
         "ISO_code": "CUW",
         "year": 2007,
         "income": "..",
         "_deepnote_index_column": 50
        },
        {
         "ISO_code": "CYP",
         "year": 2007,
         "income": "H",
         "_deepnote_index_column": 51
        },
        {
         "ISO_code": "CZE",
         "year": 2007,
         "income": "H",
         "_deepnote_index_column": 52
        },
        {
         "ISO_code": "DNK",
         "year": 2007,
         "income": "H",
         "_deepnote_index_column": 53
        },
        {
         "ISO_code": "DJI",
         "year": 2007,
         "income": "LM",
         "_deepnote_index_column": 54
        },
        {
         "ISO_code": "DMA",
         "year": 2007,
         "income": "UM",
         "_deepnote_index_column": 55
        },
        {
         "ISO_code": "DOM",
         "year": 2007,
         "income": "LM",
         "_deepnote_index_column": 56
        },
        {
         "ISO_code": "ECU",
         "year": 2007,
         "income": "LM",
         "_deepnote_index_column": 57
        },
        {
         "ISO_code": "EGY",
         "year": 2007,
         "income": "LM",
         "_deepnote_index_column": 58
        },
        {
         "ISO_code": "SLV",
         "year": 2007,
         "income": "LM",
         "_deepnote_index_column": 59
        },
        {
         "ISO_code": "GNQ",
         "year": 2007,
         "income": "H",
         "_deepnote_index_column": 60
        },
        {
         "ISO_code": "ERI",
         "year": 2007,
         "income": "L",
         "_deepnote_index_column": 61
        },
        {
         "ISO_code": "EST",
         "year": 2007,
         "income": "H",
         "_deepnote_index_column": 62
        },
        {
         "ISO_code": "SWZ",
         "year": 2007,
         "income": "LM",
         "_deepnote_index_column": 63
        },
        {
         "ISO_code": "ETH",
         "year": 2007,
         "income": "L",
         "_deepnote_index_column": 64
        },
        {
         "ISO_code": "FRO",
         "year": 2007,
         "income": "H",
         "_deepnote_index_column": 65
        },
        {
         "ISO_code": "FJI",
         "year": 2007,
         "income": "UM",
         "_deepnote_index_column": 66
        },
        {
         "ISO_code": "FIN",
         "year": 2007,
         "income": "H",
         "_deepnote_index_column": 67
        },
        {
         "ISO_code": "FRA",
         "year": 2007,
         "income": "H",
         "_deepnote_index_column": 68
        },
        {
         "ISO_code": "PYF",
         "year": 2007,
         "income": "H",
         "_deepnote_index_column": 69
        },
        {
         "ISO_code": "GAB",
         "year": 2007,
         "income": "UM",
         "_deepnote_index_column": 70
        },
        {
         "ISO_code": "GMB",
         "year": 2007,
         "income": "L",
         "_deepnote_index_column": 71
        },
        {
         "ISO_code": "GEO",
         "year": 2007,
         "income": "LM",
         "_deepnote_index_column": 72
        },
        {
         "ISO_code": "DEU",
         "year": 2007,
         "income": "H",
         "_deepnote_index_column": 73
        },
        {
         "ISO_code": "GHA",
         "year": 2007,
         "income": "L",
         "_deepnote_index_column": 74
        },
        {
         "ISO_code": "GIB",
         "year": 2007,
         "income": "..",
         "_deepnote_index_column": 75
        },
        {
         "ISO_code": "GRC",
         "year": 2007,
         "income": "H",
         "_deepnote_index_column": 76
        },
        {
         "ISO_code": "GRL",
         "year": 2007,
         "income": "H",
         "_deepnote_index_column": 77
        },
        {
         "ISO_code": "GRD",
         "year": 2007,
         "income": "UM",
         "_deepnote_index_column": 78
        },
        {
         "ISO_code": "GUM",
         "year": 2007,
         "income": "H",
         "_deepnote_index_column": 79
        },
        {
         "ISO_code": "GTM",
         "year": 2007,
         "income": "LM",
         "_deepnote_index_column": 80
        },
        {
         "ISO_code": "GIN",
         "year": 2007,
         "income": "L",
         "_deepnote_index_column": 81
        },
        {
         "ISO_code": "GNB",
         "year": 2007,
         "income": "L",
         "_deepnote_index_column": 82
        },
        {
         "ISO_code": "GUY",
         "year": 2007,
         "income": "LM",
         "_deepnote_index_column": 83
        },
        {
         "ISO_code": "HTI",
         "year": 2007,
         "income": "L",
         "_deepnote_index_column": 84
        },
        {
         "ISO_code": "HND",
         "year": 2007,
         "income": "LM",
         "_deepnote_index_column": 85
        },
        {
         "ISO_code": "HKG",
         "year": 2007,
         "income": "H",
         "_deepnote_index_column": 86
        },
        {
         "ISO_code": "HUN",
         "year": 2007,
         "income": "H",
         "_deepnote_index_column": 87
        },
        {
         "ISO_code": "ISL",
         "year": 2007,
         "income": "H",
         "_deepnote_index_column": 88
        },
        {
         "ISO_code": "IND",
         "year": 2007,
         "income": "LM",
         "_deepnote_index_column": 89
        },
        {
         "ISO_code": "IDN",
         "year": 2007,
         "income": "LM",
         "_deepnote_index_column": 90
        },
        {
         "ISO_code": "IRN",
         "year": 2007,
         "income": "LM",
         "_deepnote_index_column": 91
        },
        {
         "ISO_code": "IRQ",
         "year": 2007,
         "income": "LM",
         "_deepnote_index_column": 92
        },
        {
         "ISO_code": "IRL",
         "year": 2007,
         "income": "H",
         "_deepnote_index_column": 93
        },
        {
         "ISO_code": "IMN",
         "year": 2007,
         "income": "H",
         "_deepnote_index_column": 94
        },
        {
         "ISO_code": "ISR",
         "year": 2007,
         "income": "H",
         "_deepnote_index_column": 95
        },
        {
         "ISO_code": "ITA",
         "year": 2007,
         "income": "H",
         "_deepnote_index_column": 96
        },
        {
         "ISO_code": "JAM",
         "year": 2007,
         "income": "UM",
         "_deepnote_index_column": 97
        },
        {
         "ISO_code": "JPN",
         "year": 2007,
         "income": "H",
         "_deepnote_index_column": 98
        },
        {
         "ISO_code": "JOR",
         "year": 2007,
         "income": "LM",
         "_deepnote_index_column": 99
        },
        {
         "ISO_code": "KAZ",
         "year": 2007,
         "income": "UM",
         "_deepnote_index_column": 100
        },
        {
         "ISO_code": "KEN",
         "year": 2007,
         "income": "L",
         "_deepnote_index_column": 101
        },
        {
         "ISO_code": "KIR",
         "year": 2007,
         "income": "LM",
         "_deepnote_index_column": 102
        },
        {
         "ISO_code": "PRK",
         "year": 2007,
         "income": "L",
         "_deepnote_index_column": 103
        },
        {
         "ISO_code": "KOR",
         "year": 2007,
         "income": "H",
         "_deepnote_index_column": 104
        },
        {
         "ISO_code": "XKX",
         "year": 2007,
         "income": "..",
         "_deepnote_index_column": 105
        },
        {
         "ISO_code": "KWT",
         "year": 2007,
         "income": "H",
         "_deepnote_index_column": 106
        },
        {
         "ISO_code": "KGZ",
         "year": 2007,
         "income": "L",
         "_deepnote_index_column": 107
        },
        {
         "ISO_code": "LAO",
         "year": 2007,
         "income": "L",
         "_deepnote_index_column": 108
        },
        {
         "ISO_code": "LVA",
         "year": 2007,
         "income": "UM",
         "_deepnote_index_column": 109
        },
        {
         "ISO_code": "LBN",
         "year": 2007,
         "income": "UM",
         "_deepnote_index_column": 110
        },
        {
         "ISO_code": "LSO",
         "year": 2007,
         "income": "LM",
         "_deepnote_index_column": 111
        },
        {
         "ISO_code": "LBR",
         "year": 2007,
         "income": "L",
         "_deepnote_index_column": 112
        },
        {
         "ISO_code": "LBY",
         "year": 2007,
         "income": "UM",
         "_deepnote_index_column": 113
        },
        {
         "ISO_code": "LIE",
         "year": 2007,
         "income": "H",
         "_deepnote_index_column": 114
        },
        {
         "ISO_code": "LTU",
         "year": 2007,
         "income": "UM",
         "_deepnote_index_column": 115
        },
        {
         "ISO_code": "LUX",
         "year": 2007,
         "income": "H",
         "_deepnote_index_column": 116
        },
        {
         "ISO_code": "MAC",
         "year": 2007,
         "income": "H",
         "_deepnote_index_column": 117
        },
        {
         "ISO_code": "MDG",
         "year": 2007,
         "income": "L",
         "_deepnote_index_column": 118
        },
        {
         "ISO_code": "MWI",
         "year": 2007,
         "income": "L",
         "_deepnote_index_column": 119
        },
        {
         "ISO_code": "MYS",
         "year": 2007,
         "income": "UM",
         "_deepnote_index_column": 120
        },
        {
         "ISO_code": "MDV",
         "year": 2007,
         "income": "LM",
         "_deepnote_index_column": 121
        },
        {
         "ISO_code": "MLI",
         "year": 2007,
         "income": "L",
         "_deepnote_index_column": 122
        },
        {
         "ISO_code": "MLT",
         "year": 2007,
         "income": "H",
         "_deepnote_index_column": 123
        },
        {
         "ISO_code": "MHL",
         "year": 2007,
         "income": "LM",
         "_deepnote_index_column": 124
        },
        {
         "ISO_code": "MRT",
         "year": 2007,
         "income": "L",
         "_deepnote_index_column": 125
        },
        {
         "ISO_code": "MUS",
         "year": 2007,
         "income": "UM",
         "_deepnote_index_column": 126
        },
        {
         "ISO_code": "MEX",
         "year": 2007,
         "income": "UM",
         "_deepnote_index_column": 127
        },
        {
         "ISO_code": "FSM",
         "year": 2007,
         "income": "LM",
         "_deepnote_index_column": 128
        },
        {
         "ISO_code": "MDA",
         "year": 2007,
         "income": "LM",
         "_deepnote_index_column": 129
        },
        {
         "ISO_code": "MCO",
         "year": 2007,
         "income": "H",
         "_deepnote_index_column": 130
        },
        {
         "ISO_code": "MNG",
         "year": 2007,
         "income": "LM",
         "_deepnote_index_column": 131
        },
        {
         "ISO_code": "MNE",
         "year": 2007,
         "income": "UM",
         "_deepnote_index_column": 132
        },
        {
         "ISO_code": "MAR",
         "year": 2007,
         "income": "LM",
         "_deepnote_index_column": 133
        },
        {
         "ISO_code": "MOZ",
         "year": 2007,
         "income": "L",
         "_deepnote_index_column": 134
        },
        {
         "ISO_code": "MMR",
         "year": 2007,
         "income": "L",
         "_deepnote_index_column": 135
        },
        {
         "ISO_code": "NAM",
         "year": 2007,
         "income": "LM",
         "_deepnote_index_column": 136
        },
        {
         "ISO_code": "NRU",
         "year": 2007,
         "income": "..",
         "_deepnote_index_column": 137
        },
        {
         "ISO_code": "NPL",
         "year": 2007,
         "income": "L",
         "_deepnote_index_column": 138
        },
        {
         "ISO_code": "NLD",
         "year": 2007,
         "income": "H",
         "_deepnote_index_column": 139
        },
        {
         "ISO_code": "NCL",
         "year": 2007,
         "income": "H",
         "_deepnote_index_column": 140
        },
        {
         "ISO_code": "NZL",
         "year": 2007,
         "income": "H",
         "_deepnote_index_column": 141
        },
        {
         "ISO_code": "NIC",
         "year": 2007,
         "income": "LM",
         "_deepnote_index_column": 142
        },
        {
         "ISO_code": "NER",
         "year": 2007,
         "income": "L",
         "_deepnote_index_column": 143
        },
        {
         "ISO_code": "NGA",
         "year": 2007,
         "income": "L",
         "_deepnote_index_column": 144
        },
        {
         "ISO_code": "MKD",
         "year": 2007,
         "income": "LM",
         "_deepnote_index_column": 145
        },
        {
         "ISO_code": "MNP",
         "year": 2007,
         "income": "H",
         "_deepnote_index_column": 146
        },
        {
         "ISO_code": "NOR",
         "year": 2007,
         "income": "H",
         "_deepnote_index_column": 147
        },
        {
         "ISO_code": "OMN",
         "year": 2007,
         "income": "H",
         "_deepnote_index_column": 148
        },
        {
         "ISO_code": "PAK",
         "year": 2007,
         "income": "L",
         "_deepnote_index_column": 149
        },
        {
         "ISO_code": "PLW",
         "year": 2007,
         "income": "UM",
         "_deepnote_index_column": 150
        },
        {
         "ISO_code": "PAN",
         "year": 2007,
         "income": "UM",
         "_deepnote_index_column": 151
        },
        {
         "ISO_code": "PNG",
         "year": 2007,
         "income": "L",
         "_deepnote_index_column": 152
        },
        {
         "ISO_code": "PRY",
         "year": 2007,
         "income": "LM",
         "_deepnote_index_column": 153
        },
        {
         "ISO_code": "PER",
         "year": 2007,
         "income": "LM",
         "_deepnote_index_column": 154
        },
        {
         "ISO_code": "PHL",
         "year": 2007,
         "income": "LM",
         "_deepnote_index_column": 155
        },
        {
         "ISO_code": "POL",
         "year": 2007,
         "income": "UM",
         "_deepnote_index_column": 156
        },
        {
         "ISO_code": "PRT",
         "year": 2007,
         "income": "H",
         "_deepnote_index_column": 157
        },
        {
         "ISO_code": "PRI",
         "year": 2007,
         "income": "H",
         "_deepnote_index_column": 158
        },
        {
         "ISO_code": "QAT",
         "year": 2007,
         "income": "H",
         "_deepnote_index_column": 159
        },
        {
         "ISO_code": "ROU",
         "year": 2007,
         "income": "UM",
         "_deepnote_index_column": 160
        },
        {
         "ISO_code": "RUS",
         "year": 2007,
         "income": "UM",
         "_deepnote_index_column": 161
        },
        {
         "ISO_code": "RWA",
         "year": 2007,
         "income": "L",
         "_deepnote_index_column": 162
        },
        {
         "ISO_code": "WSM",
         "year": 2007,
         "income": "LM",
         "_deepnote_index_column": 163
        },
        {
         "ISO_code": "SMR",
         "year": 2007,
         "income": "H",
         "_deepnote_index_column": 164
        },
        {
         "ISO_code": "STP",
         "year": 2007,
         "income": "L",
         "_deepnote_index_column": 165
        }
       ],
       "rows_bottom": [
        {
         "ISO_code": "EST",
         "year": 2019,
         "income": "H",
         "_deepnote_index_column": 2810
        },
        {
         "ISO_code": "SWZ",
         "year": 2019,
         "income": "LM",
         "_deepnote_index_column": 2811
        },
        {
         "ISO_code": "ETH",
         "year": 2019,
         "income": "L",
         "_deepnote_index_column": 2812
        },
        {
         "ISO_code": "FRO",
         "year": 2019,
         "income": "H",
         "_deepnote_index_column": 2813
        },
        {
         "ISO_code": "FJI",
         "year": 2019,
         "income": "UM",
         "_deepnote_index_column": 2814
        },
        {
         "ISO_code": "FIN",
         "year": 2019,
         "income": "H",
         "_deepnote_index_column": 2815
        },
        {
         "ISO_code": "FRA",
         "year": 2019,
         "income": "H",
         "_deepnote_index_column": 2816
        },
        {
         "ISO_code": "PYF",
         "year": 2019,
         "income": "H",
         "_deepnote_index_column": 2817
        },
        {
         "ISO_code": "GAB",
         "year": 2019,
         "income": "UM",
         "_deepnote_index_column": 2818
        },
        {
         "ISO_code": "GMB",
         "year": 2019,
         "income": "L",
         "_deepnote_index_column": 2819
        },
        {
         "ISO_code": "GEO",
         "year": 2019,
         "income": "UM",
         "_deepnote_index_column": 2820
        },
        {
         "ISO_code": "DEU",
         "year": 2019,
         "income": "H",
         "_deepnote_index_column": 2821
        },
        {
         "ISO_code": "GHA",
         "year": 2019,
         "income": "LM",
         "_deepnote_index_column": 2822
        },
        {
         "ISO_code": "GIB",
         "year": 2019,
         "income": "H",
         "_deepnote_index_column": 2823
        },
        {
         "ISO_code": "GRC",
         "year": 2019,
         "income": "H",
         "_deepnote_index_column": 2824
        },
        {
         "ISO_code": "GRL",
         "year": 2019,
         "income": "H",
         "_deepnote_index_column": 2825
        },
        {
         "ISO_code": "GRD",
         "year": 2019,
         "income": "UM",
         "_deepnote_index_column": 2826
        },
        {
         "ISO_code": "GUM",
         "year": 2019,
         "income": "H",
         "_deepnote_index_column": 2827
        },
        {
         "ISO_code": "GTM",
         "year": 2019,
         "income": "UM",
         "_deepnote_index_column": 2828
        },
        {
         "ISO_code": "GIN",
         "year": 2019,
         "income": "L",
         "_deepnote_index_column": 2829
        },
        {
         "ISO_code": "GNB",
         "year": 2019,
         "income": "L",
         "_deepnote_index_column": 2830
        },
        {
         "ISO_code": "GUY",
         "year": 2019,
         "income": "UM",
         "_deepnote_index_column": 2831
        },
        {
         "ISO_code": "HTI",
         "year": 2019,
         "income": "L",
         "_deepnote_index_column": 2832
        },
        {
         "ISO_code": "HND",
         "year": 2019,
         "income": "LM",
         "_deepnote_index_column": 2833
        },
        {
         "ISO_code": "HKG",
         "year": 2019,
         "income": "H",
         "_deepnote_index_column": 2834
        },
        {
         "ISO_code": "HUN",
         "year": 2019,
         "income": "H",
         "_deepnote_index_column": 2835
        },
        {
         "ISO_code": "ISL",
         "year": 2019,
         "income": "H",
         "_deepnote_index_column": 2836
        },
        {
         "ISO_code": "IND",
         "year": 2019,
         "income": "LM",
         "_deepnote_index_column": 2837
        },
        {
         "ISO_code": "IDN",
         "year": 2019,
         "income": "UM",
         "_deepnote_index_column": 2838
        },
        {
         "ISO_code": "IRN",
         "year": 2019,
         "income": "UM",
         "_deepnote_index_column": 2839
        },
        {
         "ISO_code": "IRQ",
         "year": 2019,
         "income": "UM",
         "_deepnote_index_column": 2840
        },
        {
         "ISO_code": "IRL",
         "year": 2019,
         "income": "H",
         "_deepnote_index_column": 2841
        },
        {
         "ISO_code": "IMN",
         "year": 2019,
         "income": "H",
         "_deepnote_index_column": 2842
        },
        {
         "ISO_code": "ISR",
         "year": 2019,
         "income": "H",
         "_deepnote_index_column": 2843
        },
        {
         "ISO_code": "ITA",
         "year": 2019,
         "income": "H",
         "_deepnote_index_column": 2844
        },
        {
         "ISO_code": "JAM",
         "year": 2019,
         "income": "UM",
         "_deepnote_index_column": 2845
        },
        {
         "ISO_code": "JPN",
         "year": 2019,
         "income": "H",
         "_deepnote_index_column": 2846
        },
        {
         "ISO_code": "JOR",
         "year": 2019,
         "income": "UM",
         "_deepnote_index_column": 2847
        },
        {
         "ISO_code": "KAZ",
         "year": 2019,
         "income": "UM",
         "_deepnote_index_column": 2848
        },
        {
         "ISO_code": "KEN",
         "year": 2019,
         "income": "LM",
         "_deepnote_index_column": 2849
        },
        {
         "ISO_code": "KIR",
         "year": 2019,
         "income": "LM",
         "_deepnote_index_column": 2850
        },
        {
         "ISO_code": "PRK",
         "year": 2019,
         "income": "L",
         "_deepnote_index_column": 2851
        },
        {
         "ISO_code": "KOR",
         "year": 2019,
         "income": "H",
         "_deepnote_index_column": 2852
        },
        {
         "ISO_code": "XKX",
         "year": 2019,
         "income": "UM",
         "_deepnote_index_column": 2853
        },
        {
         "ISO_code": "KWT",
         "year": 2019,
         "income": "H",
         "_deepnote_index_column": 2854
        },
        {
         "ISO_code": "KGZ",
         "year": 2019,
         "income": "LM",
         "_deepnote_index_column": 2855
        },
        {
         "ISO_code": "LAO",
         "year": 2019,
         "income": "LM",
         "_deepnote_index_column": 2856
        },
        {
         "ISO_code": "LVA",
         "year": 2019,
         "income": "H",
         "_deepnote_index_column": 2857
        },
        {
         "ISO_code": "LBN",
         "year": 2019,
         "income": "UM",
         "_deepnote_index_column": 2858
        },
        {
         "ISO_code": "LSO",
         "year": 2019,
         "income": "LM",
         "_deepnote_index_column": 2859
        },
        {
         "ISO_code": "LBR",
         "year": 2019,
         "income": "L",
         "_deepnote_index_column": 2860
        },
        {
         "ISO_code": "LBY",
         "year": 2019,
         "income": "UM",
         "_deepnote_index_column": 2861
        },
        {
         "ISO_code": "LIE",
         "year": 2019,
         "income": "H",
         "_deepnote_index_column": 2862
        },
        {
         "ISO_code": "LTU",
         "year": 2019,
         "income": "H",
         "_deepnote_index_column": 2863
        },
        {
         "ISO_code": "LUX",
         "year": 2019,
         "income": "H",
         "_deepnote_index_column": 2864
        },
        {
         "ISO_code": "MAC",
         "year": 2019,
         "income": "H",
         "_deepnote_index_column": 2865
        },
        {
         "ISO_code": "MDG",
         "year": 2019,
         "income": "L",
         "_deepnote_index_column": 2866
        },
        {
         "ISO_code": "MWI",
         "year": 2019,
         "income": "L",
         "_deepnote_index_column": 2867
        },
        {
         "ISO_code": "MYS",
         "year": 2019,
         "income": "UM",
         "_deepnote_index_column": 2868
        },
        {
         "ISO_code": "MDV",
         "year": 2019,
         "income": "UM",
         "_deepnote_index_column": 2869
        },
        {
         "ISO_code": "MLI",
         "year": 2019,
         "income": "L",
         "_deepnote_index_column": 2870
        },
        {
         "ISO_code": "MLT",
         "year": 2019,
         "income": "H",
         "_deepnote_index_column": 2871
        },
        {
         "ISO_code": "MHL",
         "year": 2019,
         "income": "UM",
         "_deepnote_index_column": 2872
        },
        {
         "ISO_code": "MRT",
         "year": 2019,
         "income": "LM",
         "_deepnote_index_column": 2873
        },
        {
         "ISO_code": "MUS",
         "year": 2019,
         "income": "H",
         "_deepnote_index_column": 2874
        },
        {
         "ISO_code": "MEX",
         "year": 2019,
         "income": "UM",
         "_deepnote_index_column": 2875
        },
        {
         "ISO_code": "FSM",
         "year": 2019,
         "income": "LM",
         "_deepnote_index_column": 2876
        },
        {
         "ISO_code": "MDA",
         "year": 2019,
         "income": "LM",
         "_deepnote_index_column": 2877
        },
        {
         "ISO_code": "MCO",
         "year": 2019,
         "income": "H",
         "_deepnote_index_column": 2878
        },
        {
         "ISO_code": "MNG",
         "year": 2019,
         "income": "LM",
         "_deepnote_index_column": 2879
        },
        {
         "ISO_code": "MNE",
         "year": 2019,
         "income": "UM",
         "_deepnote_index_column": 2880
        },
        {
         "ISO_code": "MAR",
         "year": 2019,
         "income": "LM",
         "_deepnote_index_column": 2881
        },
        {
         "ISO_code": "MOZ",
         "year": 2019,
         "income": "L",
         "_deepnote_index_column": 2882
        },
        {
         "ISO_code": "MMR",
         "year": 2019,
         "income": "LM",
         "_deepnote_index_column": 2883
        },
        {
         "ISO_code": "NAM",
         "year": 2019,
         "income": "UM",
         "_deepnote_index_column": 2884
        },
        {
         "ISO_code": "NRU",
         "year": 2019,
         "income": "H",
         "_deepnote_index_column": 2885
        },
        {
         "ISO_code": "NPL",
         "year": 2019,
         "income": "LM",
         "_deepnote_index_column": 2886
        },
        {
         "ISO_code": "NLD",
         "year": 2019,
         "income": "H",
         "_deepnote_index_column": 2887
        },
        {
         "ISO_code": "NCL",
         "year": 2019,
         "income": "H",
         "_deepnote_index_column": 2888
        },
        {
         "ISO_code": "NZL",
         "year": 2019,
         "income": "H",
         "_deepnote_index_column": 2889
        },
        {
         "ISO_code": "NIC",
         "year": 2019,
         "income": "LM",
         "_deepnote_index_column": 2890
        },
        {
         "ISO_code": "NER",
         "year": 2019,
         "income": "L",
         "_deepnote_index_column": 2891
        },
        {
         "ISO_code": "NGA",
         "year": 2019,
         "income": "LM",
         "_deepnote_index_column": 2892
        },
        {
         "ISO_code": "MKD",
         "year": 2019,
         "income": "UM",
         "_deepnote_index_column": 2893
        },
        {
         "ISO_code": "MNP",
         "year": 2019,
         "income": "H",
         "_deepnote_index_column": 2894
        },
        {
         "ISO_code": "NOR",
         "year": 2019,
         "income": "H",
         "_deepnote_index_column": 2895
        },
        {
         "ISO_code": "OMN",
         "year": 2019,
         "income": "H",
         "_deepnote_index_column": 2896
        },
        {
         "ISO_code": "PAK",
         "year": 2019,
         "income": "LM",
         "_deepnote_index_column": 2897
        },
        {
         "ISO_code": "PLW",
         "year": 2019,
         "income": "H",
         "_deepnote_index_column": 2898
        },
        {
         "ISO_code": "PAN",
         "year": 2019,
         "income": "H",
         "_deepnote_index_column": 2899
        },
        {
         "ISO_code": "PNG",
         "year": 2019,
         "income": "LM",
         "_deepnote_index_column": 2900
        },
        {
         "ISO_code": "PRY",
         "year": 2019,
         "income": "UM",
         "_deepnote_index_column": 2901
        },
        {
         "ISO_code": "PER",
         "year": 2019,
         "income": "UM",
         "_deepnote_index_column": 2902
        },
        {
         "ISO_code": "PHL",
         "year": 2019,
         "income": "LM",
         "_deepnote_index_column": 2903
        },
        {
         "ISO_code": "POL",
         "year": 2019,
         "income": "H",
         "_deepnote_index_column": 2904
        },
        {
         "ISO_code": "PRT",
         "year": 2019,
         "income": "H",
         "_deepnote_index_column": 2905
        },
        {
         "ISO_code": "PRI",
         "year": 2019,
         "income": "H",
         "_deepnote_index_column": 2906
        },
        {
         "ISO_code": "QAT",
         "year": 2019,
         "income": "H",
         "_deepnote_index_column": 2907
        },
        {
         "ISO_code": "ROU",
         "year": 2019,
         "income": "H",
         "_deepnote_index_column": 2908
        },
        {
         "ISO_code": "RUS",
         "year": 2019,
         "income": "UM",
         "_deepnote_index_column": 2909
        },
        {
         "ISO_code": "RWA",
         "year": 2019,
         "income": "L",
         "_deepnote_index_column": 2910
        },
        {
         "ISO_code": "WSM",
         "year": 2019,
         "income": "UM",
         "_deepnote_index_column": 2911
        },
        {
         "ISO_code": "SMR",
         "year": 2019,
         "income": "H",
         "_deepnote_index_column": 2912
        },
        {
         "ISO_code": "STP",
         "year": 2019,
         "income": "LM",
         "_deepnote_index_column": 2913
        },
        {
         "ISO_code": "SAU",
         "year": 2019,
         "income": "H",
         "_deepnote_index_column": 2914
        },
        {
         "ISO_code": "SEN",
         "year": 2019,
         "income": "LM",
         "_deepnote_index_column": 2915
        },
        {
         "ISO_code": "SRB",
         "year": 2019,
         "income": "UM",
         "_deepnote_index_column": 2916
        },
        {
         "ISO_code": "SYC",
         "year": 2019,
         "income": "H",
         "_deepnote_index_column": 2917
        },
        {
         "ISO_code": "SLE",
         "year": 2019,
         "income": "L",
         "_deepnote_index_column": 2918
        },
        {
         "ISO_code": "SGP",
         "year": 2019,
         "income": "H",
         "_deepnote_index_column": 2919
        },
        {
         "ISO_code": "SXM",
         "year": 2019,
         "income": "H",
         "_deepnote_index_column": 2920
        },
        {
         "ISO_code": "SVK",
         "year": 2019,
         "income": "H",
         "_deepnote_index_column": 2921
        },
        {
         "ISO_code": "SVN",
         "year": 2019,
         "income": "H",
         "_deepnote_index_column": 2922
        },
        {
         "ISO_code": "SLB",
         "year": 2019,
         "income": "LM",
         "_deepnote_index_column": 2923
        },
        {
         "ISO_code": "SOM",
         "year": 2019,
         "income": "L",
         "_deepnote_index_column": 2924
        },
        {
         "ISO_code": "ZAF",
         "year": 2019,
         "income": "UM",
         "_deepnote_index_column": 2925
        },
        {
         "ISO_code": "SSD",
         "year": 2019,
         "income": "L",
         "_deepnote_index_column": 2926
        },
        {
         "ISO_code": "ESP",
         "year": 2019,
         "income": "H",
         "_deepnote_index_column": 2927
        },
        {
         "ISO_code": "LKA",
         "year": 2019,
         "income": "LM",
         "_deepnote_index_column": 2928
        },
        {
         "ISO_code": "KNA",
         "year": 2019,
         "income": "H",
         "_deepnote_index_column": 2929
        },
        {
         "ISO_code": "LCA",
         "year": 2019,
         "income": "UM",
         "_deepnote_index_column": 2930
        },
        {
         "ISO_code": "MAF",
         "year": 2019,
         "income": "H",
         "_deepnote_index_column": 2931
        },
        {
         "ISO_code": "VCT",
         "year": 2019,
         "income": "UM",
         "_deepnote_index_column": 2932
        },
        {
         "ISO_code": "SDN",
         "year": 2019,
         "income": "L",
         "_deepnote_index_column": 2933
        },
        {
         "ISO_code": "SUR",
         "year": 2019,
         "income": "UM",
         "_deepnote_index_column": 2934
        },
        {
         "ISO_code": "SWE",
         "year": 2019,
         "income": "H",
         "_deepnote_index_column": 2935
        },
        {
         "ISO_code": "CHE",
         "year": 2019,
         "income": "H",
         "_deepnote_index_column": 2936
        },
        {
         "ISO_code": "SYR",
         "year": 2019,
         "income": "L",
         "_deepnote_index_column": 2937
        },
        {
         "ISO_code": "TWN",
         "year": 2019,
         "income": "H",
         "_deepnote_index_column": 2938
        },
        {
         "ISO_code": "TJK",
         "year": 2019,
         "income": "L",
         "_deepnote_index_column": 2939
        },
        {
         "ISO_code": "TZA",
         "year": 2019,
         "income": "LM",
         "_deepnote_index_column": 2940
        },
        {
         "ISO_code": "THA",
         "year": 2019,
         "income": "UM",
         "_deepnote_index_column": 2941
        },
        {
         "ISO_code": "TLS",
         "year": 2019,
         "income": "LM",
         "_deepnote_index_column": 2942
        },
        {
         "ISO_code": "TGO",
         "year": 2019,
         "income": "L",
         "_deepnote_index_column": 2943
        },
        {
         "ISO_code": "TON",
         "year": 2019,
         "income": "UM",
         "_deepnote_index_column": 2944
        },
        {
         "ISO_code": "TTO",
         "year": 2019,
         "income": "H",
         "_deepnote_index_column": 2945
        },
        {
         "ISO_code": "TUN",
         "year": 2019,
         "income": "LM",
         "_deepnote_index_column": 2946
        },
        {
         "ISO_code": "TUR",
         "year": 2019,
         "income": "UM",
         "_deepnote_index_column": 2947
        },
        {
         "ISO_code": "TKM",
         "year": 2019,
         "income": "UM",
         "_deepnote_index_column": 2948
        },
        {
         "ISO_code": "TCA",
         "year": 2019,
         "income": "H",
         "_deepnote_index_column": 2949
        },
        {
         "ISO_code": "TUV",
         "year": 2019,
         "income": "UM",
         "_deepnote_index_column": 2950
        },
        {
         "ISO_code": "UGA",
         "year": 2019,
         "income": "L",
         "_deepnote_index_column": 2951
        },
        {
         "ISO_code": "UKR",
         "year": 2019,
         "income": "LM",
         "_deepnote_index_column": 2952
        },
        {
         "ISO_code": "ARE",
         "year": 2019,
         "income": "H",
         "_deepnote_index_column": 2953
        },
        {
         "ISO_code": "GBR",
         "year": 2019,
         "income": "H",
         "_deepnote_index_column": 2954
        },
        {
         "ISO_code": "USA",
         "year": 2019,
         "income": "H",
         "_deepnote_index_column": 2955
        },
        {
         "ISO_code": "URY",
         "year": 2019,
         "income": "H",
         "_deepnote_index_column": 2956
        },
        {
         "ISO_code": "UZB",
         "year": 2019,
         "income": "LM",
         "_deepnote_index_column": 2957
        },
        {
         "ISO_code": "VUT",
         "year": 2019,
         "income": "LM",
         "_deepnote_index_column": 2958
        },
        {
         "ISO_code": "VEN",
         "year": 2019,
         "income": "UM",
         "_deepnote_index_column": 2959
        },
        {
         "ISO_code": "VNM",
         "year": 2019,
         "income": "LM",
         "_deepnote_index_column": 2960
        },
        {
         "ISO_code": "VIR",
         "year": 2019,
         "income": "H",
         "_deepnote_index_column": 2961
        },
        {
         "ISO_code": "PSE",
         "year": 2019,
         "income": "LM",
         "_deepnote_index_column": 2962
        },
        {
         "ISO_code": "YEM",
         "year": 2019,
         "income": "L",
         "_deepnote_index_column": 2963
        },
        {
         "ISO_code": "ZMB",
         "year": 2019,
         "income": "LM",
         "_deepnote_index_column": 2964
        },
        {
         "ISO_code": "ZWE",
         "year": 2019,
         "income": "LM",
         "_deepnote_index_column": 2965
        },
        {
         "ISO_code": "nan",
         "year": 2019,
         "income": "nan",
         "_deepnote_index_column": 2966
        },
        {
         "ISO_code": "nan",
         "year": 2019,
         "income": "nan",
         "_deepnote_index_column": 2967
        },
        {
         "ISO_code": "nan",
         "year": 2019,
         "income": "nan",
         "_deepnote_index_column": 2968
        },
        {
         "ISO_code": "CSK",
         "year": 2019,
         "income": "nan",
         "_deepnote_index_column": 2969
        },
        {
         "ISO_code": "MYT",
         "year": 2019,
         "income": "nan",
         "_deepnote_index_column": 2970
        },
        {
         "ISO_code": "ANT",
         "year": 2019,
         "income": "nan",
         "_deepnote_index_column": 2971
        },
        {
         "ISO_code": "YUG",
         "year": 2019,
         "income": "nan",
         "_deepnote_index_column": 2972
        },
        {
         "ISO_code": "SUN",
         "year": 2019,
         "income": "nan",
         "_deepnote_index_column": 2973
        },
        {
         "ISO_code": "YUGf",
         "year": 2019,
         "income": "nan",
         "_deepnote_index_column": 2974
        },
        {
         "ISO_code": "nan",
         "year": 2019,
         "income": "nan",
         "_deepnote_index_column": 2975
        },
        {
         "ISO_code": "nan",
         "year": 2019,
         "income": "nan",
         "_deepnote_index_column": 2976
        }
       ]
      },
      "text/plain": "     ISO_code  year income\n0         AFG  2007      L\n1         ALB  2007     LM\n2         DZA  2007     LM\n3         ASM  2007     UM\n4         AND  2007      H\n...       ...   ...    ...\n2972      YUG  2019    NaN\n2973      SUN  2019    NaN\n2974     YUGf  2019    NaN\n2975      NaN  2019    NaN\n2976      NaN  2019    NaN\n\n[2977 rows x 3 columns]",
      "text/html": "<div>\n<style scoped>\n    .dataframe tbody tr th:only-of-type {\n        vertical-align: middle;\n    }\n\n    .dataframe tbody tr th {\n        vertical-align: top;\n    }\n\n    .dataframe thead th {\n        text-align: right;\n    }\n</style>\n<table border=\"1\" class=\"dataframe\">\n  <thead>\n    <tr style=\"text-align: right;\">\n      <th></th>\n      <th>ISO_code</th>\n      <th>year</th>\n      <th>income</th>\n    </tr>\n  </thead>\n  <tbody>\n    <tr>\n      <th>0</th>\n      <td>AFG</td>\n      <td>2007</td>\n      <td>L</td>\n    </tr>\n    <tr>\n      <th>1</th>\n      <td>ALB</td>\n      <td>2007</td>\n      <td>LM</td>\n    </tr>\n    <tr>\n      <th>2</th>\n      <td>DZA</td>\n      <td>2007</td>\n      <td>LM</td>\n    </tr>\n    <tr>\n      <th>3</th>\n      <td>ASM</td>\n      <td>2007</td>\n      <td>UM</td>\n    </tr>\n    <tr>\n      <th>4</th>\n      <td>AND</td>\n      <td>2007</td>\n      <td>H</td>\n    </tr>\n    <tr>\n      <th>...</th>\n      <td>...</td>\n      <td>...</td>\n      <td>...</td>\n    </tr>\n    <tr>\n      <th>2972</th>\n      <td>YUG</td>\n      <td>2019</td>\n      <td>NaN</td>\n    </tr>\n    <tr>\n      <th>2973</th>\n      <td>SUN</td>\n      <td>2019</td>\n      <td>NaN</td>\n    </tr>\n    <tr>\n      <th>2974</th>\n      <td>YUGf</td>\n      <td>2019</td>\n      <td>NaN</td>\n    </tr>\n    <tr>\n      <th>2975</th>\n      <td>NaN</td>\n      <td>2019</td>\n      <td>NaN</td>\n    </tr>\n    <tr>\n      <th>2976</th>\n      <td>NaN</td>\n      <td>2019</td>\n      <td>NaN</td>\n    </tr>\n  </tbody>\n</table>\n<p>2977 rows × 3 columns</p>\n</div>"
     },
     "metadata": {}
    }
   ]
  },
  {
   "cell_type": "code",
   "metadata": {
    "deepnote_to_be_reexecuted": false,
    "source_hash": "1275e6ea",
    "execution_start": 1622349426621,
    "execution_millis": 5,
    "cell_id": "00007-c2c38823-e0f7-48f4-add8-62cb2ff1b53c",
    "deepnote_cell_type": "code"
   },
   "source": "# now merge to add income class\nhfi_mod3 = pd.merge(income_group, hfi_mod2, on = [\"ISO_code\", \"year\"], how = 'right')\n\nhfi_mod3.income.value_counts()",
   "execution_count": 7,
   "outputs": [
    {
     "output_type": "execute_result",
     "execution_count": 7,
     "data": {
      "text/plain": "H     544\nUM    461\nLM    446\nL     320\nName: income, dtype: int64"
     },
     "metadata": {}
    }
   ]
  },
  {
   "cell_type": "code",
   "metadata": {
    "deepnote_to_be_reexecuted": false,
    "source_hash": "b0a4eb9e",
    "execution_start": 1622349426622,
    "execution_millis": 4,
    "cell_id": "00008-e5c1ec27-c996-4141-ad08-099b6442824b",
    "deepnote_cell_type": "code"
   },
   "source": "hfi_mod3['income'].loc[(hfi_mod3['income'] == 'H')] = 'High'\nhfi_mod3['income'].loc[(hfi_mod3['income'] == 'UM')] = 'Upper middle'\nhfi_mod3['income'].loc[(hfi_mod3['income'] == 'LM')] = 'Lower middle'\nhfi_mod3['income'].loc[(hfi_mod3['income'] == 'L')] = 'Low'\nhfi_mod3[hfi_mod3['income'].isnull()].country.value_counts()",
   "execution_count": 8,
   "outputs": [
    {
     "name": "stderr",
     "text": "/shared-libs/python3.7/py/lib/python3.7/site-packages/pandas/core/indexing.py:1637: SettingWithCopyWarning: \nA value is trying to be set on a copy of a slice from a DataFrame\n\nSee the caveats in the documentation: https://pandas.pydata.org/pandas-docs/stable/user_guide/indexing.html#returning-a-view-versus-a-copy\n  self._setitem_single_block(indexer, value, name)\n",
     "output_type": "stream"
    },
    {
     "output_type": "execute_result",
     "execution_count": 8,
     "data": {
      "text/plain": "Barbados    11\nName: country, dtype: int64"
     },
     "metadata": {}
    }
   ]
  },
  {
   "cell_type": "code",
   "metadata": {
    "deepnote_to_be_reexecuted": false,
    "source_hash": "41115b1c",
    "execution_start": 1622349426623,
    "execution_millis": 89,
    "cell_id": "00009-f2968d57-a6de-415a-8b50-47f78ca01815",
    "deepnote_cell_type": "code"
   },
   "source": "hfi_mod3['income'].loc[(hfi_mod3['country'] == 'Barbados')] = 'High'\nhfi_mod3[hfi_mod3['income'].isnull()]\nhfi_mod3",
   "execution_count": 9,
   "outputs": [
    {
     "output_type": "execute_result",
     "execution_count": 9,
     "data": {
      "application/vnd.deepnote.dataframe.v2+json": {
       "row_count": 1782,
       "column_count": 20,
       "columns": [
        {
         "name": "ISO_code",
         "dtype": "object",
         "stats": {
          "unique_count": 162,
          "nan_count": 0,
          "categories": [
           {
            "name": "ALB",
            "count": 11
           },
           {
            "name": "DZA",
            "count": 11
           },
           {
            "name": "160 others",
            "count": 1760
           }
          ]
         }
        },
        {
         "name": "year",
         "dtype": "int64",
         "stats": {
          "unique_count": 11,
          "nan_count": 0,
          "min": "2008",
          "max": "2018",
          "histogram": [
           {
            "bin_start": 2008,
            "bin_end": 2009,
            "count": 162
           },
           {
            "bin_start": 2009,
            "bin_end": 2010,
            "count": 162
           },
           {
            "bin_start": 2010,
            "bin_end": 2011,
            "count": 162
           },
           {
            "bin_start": 2011,
            "bin_end": 2012,
            "count": 162
           },
           {
            "bin_start": 2012,
            "bin_end": 2013,
            "count": 162
           },
           {
            "bin_start": 2013,
            "bin_end": 2014,
            "count": 162
           },
           {
            "bin_start": 2014,
            "bin_end": 2015,
            "count": 162
           },
           {
            "bin_start": 2015,
            "bin_end": 2016,
            "count": 162
           },
           {
            "bin_start": 2016,
            "bin_end": 2017,
            "count": 162
           },
           {
            "bin_start": 2017,
            "bin_end": 2018,
            "count": 324
           }
          ]
         }
        },
        {
         "name": "income",
         "dtype": "object",
         "stats": {
          "unique_count": 4,
          "nan_count": 0,
          "categories": [
           {
            "name": "High",
            "count": 555
           },
           {
            "name": "Upper middle",
            "count": 461
           },
           {
            "name": "2 others",
            "count": 766
           }
          ]
         }
        },
        {
         "name": "country",
         "dtype": "object",
         "stats": {
          "unique_count": 162,
          "nan_count": 0,
          "categories": [
           {
            "name": "Albania",
            "count": 11
           },
           {
            "name": "Algeria",
            "count": 11
           },
           {
            "name": "160 others",
            "count": 1760
           }
          ]
         }
        },
        {
         "name": "region",
         "dtype": "object",
         "stats": {
          "unique_count": 10,
          "nan_count": 0,
          "categories": [
           {
            "name": "Sub-Saharan Africa",
            "count": 462
           },
           {
            "name": "Latin America & the Caribbean",
            "count": 286
           },
           {
            "name": "8 others",
            "count": 1034
           }
          ]
         }
        },
        {
         "name": "hf_score",
         "dtype": "float64",
         "stats": {
          "unique_count": 419,
          "nan_count": 80,
          "min": "3.6",
          "max": "8.99",
          "histogram": [
           {
            "bin_start": 3.6,
            "bin_end": 4.139,
            "count": 9
           },
           {
            "bin_start": 4.139,
            "bin_end": 4.678,
            "count": 21
           },
           {
            "bin_start": 4.678,
            "bin_end": 5.2170000000000005,
            "count": 54
           },
           {
            "bin_start": 5.2170000000000005,
            "bin_end": 5.756,
            "count": 141
           },
           {
            "bin_start": 5.756,
            "bin_end": 6.295,
            "count": 233
           },
           {
            "bin_start": 6.295,
            "bin_end": 6.834,
            "count": 275
           },
           {
            "bin_start": 6.834,
            "bin_end": 7.373,
            "count": 355
           },
           {
            "bin_start": 7.373,
            "bin_end": 7.912000000000001,
            "count": 173
           },
           {
            "bin_start": 7.912000000000001,
            "bin_end": 8.451,
            "count": 282
           },
           {
            "bin_start": 8.451,
            "bin_end": 8.99,
            "count": 159
           }
          ]
         }
        },
        {
         "name": "pf_rol",
         "dtype": "float64",
         "stats": {
          "unique_count": 71,
          "nan_count": 80,
          "min": "1.7",
          "max": "8.8",
          "histogram": [
           {
            "bin_start": 1.7,
            "bin_end": 2.41,
            "count": 17
           },
           {
            "bin_start": 2.41,
            "bin_end": 3.12,
            "count": 71
           },
           {
            "bin_start": 3.12,
            "bin_end": 3.83,
            "count": 228
           },
           {
            "bin_start": 3.83,
            "bin_end": 4.54,
            "count": 353
           },
           {
            "bin_start": 4.54,
            "bin_end": 5.25,
            "count": 289
           },
           {
            "bin_start": 5.25,
            "bin_end": 5.960000000000001,
            "count": 199
           },
           {
            "bin_start": 5.960000000000001,
            "bin_end": 6.670000000000001,
            "count": 168
           },
           {
            "bin_start": 6.670000000000001,
            "bin_end": 7.380000000000001,
            "count": 142
           },
           {
            "bin_start": 7.380000000000001,
            "bin_end": 8.09,
            "count": 149
           },
           {
            "bin_start": 8.09,
            "bin_end": 8.8,
            "count": 86
           }
          ]
         }
        },
        {
         "name": "pf_ss",
         "dtype": "float64",
         "stats": {
          "unique_count": 66,
          "nan_count": 80,
          "min": "3.5",
          "max": "10.0",
          "histogram": [
           {
            "bin_start": 3.5,
            "bin_end": 4.15,
            "count": 14
           },
           {
            "bin_start": 4.15,
            "bin_end": 4.8,
            "count": 30
           },
           {
            "bin_start": 4.8,
            "bin_end": 5.45,
            "count": 50
           },
           {
            "bin_start": 5.45,
            "bin_end": 6.1,
            "count": 78
           },
           {
            "bin_start": 6.1,
            "bin_end": 6.75,
            "count": 158
           },
           {
            "bin_start": 6.75,
            "bin_end": 7.4,
            "count": 143
           },
           {
            "bin_start": 7.4,
            "bin_end": 8.05,
            "count": 272
           },
           {
            "bin_start": 8.05,
            "bin_end": 8.7,
            "count": 232
           },
           {
            "bin_start": 8.7,
            "bin_end": 9.350000000000001,
            "count": 269
           },
           {
            "bin_start": 9.350000000000001,
            "bin_end": 10,
            "count": 456
           }
          ]
         }
        },
        {
         "name": "pf_movement",
         "dtype": "float64",
         "stats": {
          "unique_count": 13,
          "nan_count": 80,
          "min": "0.0",
          "max": "10.0",
          "histogram": [
           {
            "bin_start": 0,
            "bin_end": 1,
            "count": 33
           },
           {
            "bin_start": 1,
            "bin_end": 2,
            "count": 48
           },
           {
            "bin_start": 2,
            "bin_end": 3,
            "count": 4
           },
           {
            "bin_start": 3,
            "bin_end": 4,
            "count": 85
           },
           {
            "bin_start": 4,
            "bin_end": 5,
            "count": 24
           },
           {
            "bin_start": 5,
            "bin_end": 6,
            "count": 190
           },
           {
            "bin_start": 6,
            "bin_end": 7,
            "count": 221
           },
           {
            "bin_start": 7,
            "bin_end": 8,
            "count": 35
           },
           {
            "bin_start": 8,
            "bin_end": 9,
            "count": 271
           },
           {
            "bin_start": 9,
            "bin_end": 10,
            "count": 791
           }
          ]
         }
        },
        {
         "name": "pf_religion",
         "dtype": "float64",
         "stats": {
          "unique_count": 83,
          "nan_count": 11,
          "min": "0.6",
          "max": "9.9",
          "histogram": [
           {
            "bin_start": 0.6,
            "bin_end": 1.53,
            "count": 8
           },
           {
            "bin_start": 1.53,
            "bin_end": 2.46,
            "count": 7
           },
           {
            "bin_start": 2.46,
            "bin_end": 3.39,
            "count": 33
           },
           {
            "bin_start": 3.39,
            "bin_end": 4.32,
            "count": 66
           },
           {
            "bin_start": 4.32,
            "bin_end": 5.25,
            "count": 94
           },
           {
            "bin_start": 5.25,
            "bin_end": 6.18,
            "count": 139
           },
           {
            "bin_start": 6.18,
            "bin_end": 7.11,
            "count": 255
           },
           {
            "bin_start": 7.11,
            "bin_end": 8.040000000000001,
            "count": 370
           },
           {
            "bin_start": 8.040000000000001,
            "bin_end": 8.97,
            "count": 530
           },
           {
            "bin_start": 8.97,
            "bin_end": 9.9,
            "count": 269
           }
          ]
         }
        },
        {
         "name": "pf_association",
         "dtype": "float64",
         "stats": {
          "unique_count": 95,
          "nan_count": 33,
          "min": "0.5",
          "max": "10.0",
          "histogram": [
           {
            "bin_start": 0.5,
            "bin_end": 1.45,
            "count": 42
           },
           {
            "bin_start": 1.45,
            "bin_end": 2.4,
            "count": 63
           },
           {
            "bin_start": 2.4,
            "bin_end": 3.3499999999999996,
            "count": 53
           },
           {
            "bin_start": 3.3499999999999996,
            "bin_end": 4.3,
            "count": 71
           },
           {
            "bin_start": 4.3,
            "bin_end": 5.25,
            "count": 119
           },
           {
            "bin_start": 5.25,
            "bin_end": 6.199999999999999,
            "count": 99
           },
           {
            "bin_start": 6.199999999999999,
            "bin_end": 7.1499999999999995,
            "count": 200
           },
           {
            "bin_start": 7.1499999999999995,
            "bin_end": 8.1,
            "count": 256
           },
           {
            "bin_start": 8.1,
            "bin_end": 9.049999999999999,
            "count": 429
           },
           {
            "bin_start": 9.049999999999999,
            "bin_end": 10,
            "count": 417
           }
          ]
         }
        },
        {
         "name": "pf_expression",
         "dtype": "float64",
         "stats": {
          "unique_count": 70,
          "nan_count": 80,
          "min": "0.1",
          "max": "10.0",
          "histogram": [
           {
            "bin_start": 0.1,
            "bin_end": 1.09,
            "count": 1
           },
           {
            "bin_start": 1.09,
            "bin_end": 2.08,
            "count": 0
           },
           {
            "bin_start": 2.08,
            "bin_end": 3.07,
            "count": 4
           },
           {
            "bin_start": 3.07,
            "bin_end": 4.06,
            "count": 12
           },
           {
            "bin_start": 4.06,
            "bin_end": 5.05,
            "count": 35
           },
           {
            "bin_start": 5.05,
            "bin_end": 6.039999999999999,
            "count": 68
           },
           {
            "bin_start": 6.039999999999999,
            "bin_end": 7.029999999999999,
            "count": 137
           },
           {
            "bin_start": 7.029999999999999,
            "bin_end": 8.02,
            "count": 296
           },
           {
            "bin_start": 8.02,
            "bin_end": 9.01,
            "count": 422
           },
           {
            "bin_start": 9.01,
            "bin_end": 10,
            "count": 727
           }
          ]
         }
        },
        {
         "name": "pf_identity",
         "dtype": "float64",
         "stats": {
          "unique_count": 25,
          "nan_count": 80,
          "min": "0.0",
          "max": "10.0",
          "histogram": [
           {
            "bin_start": 0,
            "bin_end": 1,
            "count": 117
           },
           {
            "bin_start": 1,
            "bin_end": 2,
            "count": 44
           },
           {
            "bin_start": 2,
            "bin_end": 3,
            "count": 97
           },
           {
            "bin_start": 3,
            "bin_end": 4,
            "count": 65
           },
           {
            "bin_start": 4,
            "bin_end": 5,
            "count": 20
           },
           {
            "bin_start": 5,
            "bin_end": 6,
            "count": 165
           },
           {
            "bin_start": 6,
            "bin_end": 7,
            "count": 139
           },
           {
            "bin_start": 7,
            "bin_end": 8,
            "count": 130
           },
           {
            "bin_start": 8,
            "bin_end": 9,
            "count": 141
           },
           {
            "bin_start": 9,
            "bin_end": 10,
            "count": 784
           }
          ]
         }
        },
        {
         "name": "pf_score",
         "dtype": "float64",
         "stats": {
          "unique_count": 499,
          "nan_count": 80,
          "min": "2.31",
          "max": "9.59",
          "histogram": [
           {
            "bin_start": 2.31,
            "bin_end": 3.0380000000000003,
            "count": 9
           },
           {
            "bin_start": 3.0380000000000003,
            "bin_end": 3.766,
            "count": 9
           },
           {
            "bin_start": 3.766,
            "bin_end": 4.494,
            "count": 34
           },
           {
            "bin_start": 4.494,
            "bin_end": 5.2219999999999995,
            "count": 80
           },
           {
            "bin_start": 5.2219999999999995,
            "bin_end": 5.949999999999999,
            "count": 229
           },
           {
            "bin_start": 5.949999999999999,
            "bin_end": 6.678000000000001,
            "count": 281
           },
           {
            "bin_start": 6.678000000000001,
            "bin_end": 7.406000000000001,
            "count": 309
           },
           {
            "bin_start": 7.406000000000001,
            "bin_end": 8.134,
            "count": 260
           },
           {
            "bin_start": 8.134,
            "bin_end": 8.862,
            "count": 243
           },
           {
            "bin_start": 8.862,
            "bin_end": 9.59,
            "count": 248
           }
          ]
         }
        },
        {
         "name": "ef_government",
         "dtype": "float64",
         "stats": {
          "unique_count": 75,
          "nan_count": 6,
          "min": "0.1",
          "max": "9.5",
          "histogram": [
           {
            "bin_start": 0.1,
            "bin_end": 1.04,
            "count": 3
           },
           {
            "bin_start": 1.04,
            "bin_end": 1.9800000000000002,
            "count": 9
           },
           {
            "bin_start": 1.9800000000000002,
            "bin_end": 2.9200000000000004,
            "count": 12
           },
           {
            "bin_start": 2.9200000000000004,
            "bin_end": 3.8600000000000003,
            "count": 15
           },
           {
            "bin_start": 3.8600000000000003,
            "bin_end": 4.8,
            "count": 87
           },
           {
            "bin_start": 4.8,
            "bin_end": 5.74,
            "count": 329
           },
           {
            "bin_start": 5.74,
            "bin_end": 6.68,
            "count": 441
           },
           {
            "bin_start": 6.68,
            "bin_end": 7.62,
            "count": 513
           },
           {
            "bin_start": 7.62,
            "bin_end": 8.56,
            "count": 278
           },
           {
            "bin_start": 8.56,
            "bin_end": 9.5,
            "count": 89
           }
          ]
         }
        },
        {
         "name": "ef_legal",
         "dtype": "float64",
         "stats": {
          "unique_count": 109,
          "nan_count": 0,
          "min": "2.2",
          "max": "8.5",
          "histogram": [
           {
            "bin_start": 2.2,
            "bin_end": 2.83,
            "count": 30
           },
           {
            "bin_start": 2.83,
            "bin_end": 3.46,
            "count": 137
           },
           {
            "bin_start": 3.46,
            "bin_end": 4.09,
            "count": 200
           },
           {
            "bin_start": 4.09,
            "bin_end": 4.720000000000001,
            "count": 321
           },
           {
            "bin_start": 4.720000000000001,
            "bin_end": 5.35,
            "count": 310
           },
           {
            "bin_start": 5.35,
            "bin_end": 5.98,
            "count": 278
           },
           {
            "bin_start": 5.98,
            "bin_end": 6.61,
            "count": 192
           },
           {
            "bin_start": 6.61,
            "bin_end": 7.24,
            "count": 102
           },
           {
            "bin_start": 7.24,
            "bin_end": 7.87,
            "count": 99
           },
           {
            "bin_start": 7.87,
            "bin_end": 8.5,
            "count": 113
           }
          ]
         }
        },
        {
         "name": "ef_money",
         "dtype": "float64",
         "stats": {
          "unique_count": 70,
          "nan_count": 80,
          "min": "0.7",
          "max": "9.9",
          "histogram": [
           {
            "bin_start": 0.7,
            "bin_end": 1.62,
            "count": 5
           },
           {
            "bin_start": 1.62,
            "bin_end": 2.54,
            "count": 5
           },
           {
            "bin_start": 2.54,
            "bin_end": 3.460000000000001,
            "count": 1
           },
           {
            "bin_start": 3.460000000000001,
            "bin_end": 4.380000000000001,
            "count": 7
           },
           {
            "bin_start": 4.380000000000001,
            "bin_end": 5.300000000000001,
            "count": 31
           },
           {
            "bin_start": 5.300000000000001,
            "bin_end": 6.2200000000000015,
            "count": 88
           },
           {
            "bin_start": 6.2200000000000015,
            "bin_end": 7.1400000000000015,
            "count": 316
           },
           {
            "bin_start": 7.1400000000000015,
            "bin_end": 8.06,
            "count": 251
           },
           {
            "bin_start": 8.06,
            "bin_end": 8.98,
            "count": 309
           },
           {
            "bin_start": 8.98,
            "bin_end": 9.9,
            "count": 689
           }
          ]
         }
        },
        {
         "name": "ef_trade",
         "dtype": "float64",
         "stats": {
          "unique_count": 72,
          "nan_count": 81,
          "min": "1.8",
          "max": "9.6",
          "histogram": [
           {
            "bin_start": 1.8,
            "bin_end": 2.58,
            "count": 8
           },
           {
            "bin_start": 2.58,
            "bin_end": 3.3600000000000003,
            "count": 18
           },
           {
            "bin_start": 3.3600000000000003,
            "bin_end": 4.14,
            "count": 11
           },
           {
            "bin_start": 4.14,
            "bin_end": 4.92,
            "count": 54
           },
           {
            "bin_start": 4.92,
            "bin_end": 5.7,
            "count": 124
           },
           {
            "bin_start": 5.7,
            "bin_end": 6.4799999999999995,
            "count": 335
           },
           {
            "bin_start": 6.4799999999999995,
            "bin_end": 7.26,
            "count": 328
           },
           {
            "bin_start": 7.26,
            "bin_end": 8.040000000000001,
            "count": 348
           },
           {
            "bin_start": 8.040000000000001,
            "bin_end": 8.82,
            "count": 424
           },
           {
            "bin_start": 8.82,
            "bin_end": 9.6,
            "count": 51
           }
          ]
         }
        },
        {
         "name": "ef_regulation",
         "dtype": "float64",
         "stats": {
          "unique_count": 61,
          "nan_count": 67,
          "min": "2.5",
          "max": "9.5",
          "histogram": [
           {
            "bin_start": 2.5,
            "bin_end": 3.2,
            "count": 6
           },
           {
            "bin_start": 3.2,
            "bin_end": 3.9,
            "count": 2
           },
           {
            "bin_start": 3.9,
            "bin_end": 4.6,
            "count": 21
           },
           {
            "bin_start": 4.6,
            "bin_end": 5.3,
            "count": 79
           },
           {
            "bin_start": 5.3,
            "bin_end": 6,
            "count": 131
           },
           {
            "bin_start": 6,
            "bin_end": 6.699999999999999,
            "count": 293
           },
           {
            "bin_start": 6.699999999999999,
            "bin_end": 7.3999999999999995,
            "count": 467
           },
           {
            "bin_start": 7.3999999999999995,
            "bin_end": 8.1,
            "count": 444
           },
           {
            "bin_start": 8.1,
            "bin_end": 8.8,
            "count": 218
           },
           {
            "bin_start": 8.8,
            "bin_end": 9.5,
            "count": 54
           }
          ]
         }
        },
        {
         "name": "ef_score",
         "dtype": "float64",
         "stats": {
          "unique_count": 386,
          "nan_count": 80,
          "min": "2.72",
          "max": "8.97",
          "histogram": [
           {
            "bin_start": 2.72,
            "bin_end": 3.345,
            "count": 6
           },
           {
            "bin_start": 3.345,
            "bin_end": 3.97,
            "count": 6
           },
           {
            "bin_start": 3.97,
            "bin_end": 4.595000000000001,
            "count": 9
           },
           {
            "bin_start": 4.595000000000001,
            "bin_end": 5.220000000000001,
            "count": 66
           },
           {
            "bin_start": 5.220000000000001,
            "bin_end": 5.845000000000001,
            "count": 154
           },
           {
            "bin_start": 5.845000000000001,
            "bin_end": 6.470000000000001,
            "count": 319
           },
           {
            "bin_start": 6.470000000000001,
            "bin_end": 7.095000000000001,
            "count": 379
           },
           {
            "bin_start": 7.095000000000001,
            "bin_end": 7.720000000000001,
            "count": 465
           },
           {
            "bin_start": 7.720000000000001,
            "bin_end": 8.345,
            "count": 261
           },
           {
            "bin_start": 8.345,
            "bin_end": 8.97,
            "count": 37
           }
          ]
         }
        },
        {
         "name": "_deepnote_index_column",
         "dtype": "int64"
        }
       ],
       "rows_top": [
        {
         "ISO_code": "ALB",
         "year": 2018,
         "income": "Upper middle",
         "country": "Albania",
         "region": "Eastern Europe",
         "hf_score": 7.81,
         "pf_rol": 5,
         "pf_ss": 9.3,
         "pf_movement": 10,
         "pf_religion": 8.9,
         "pf_association": 8.6,
         "pf_expression": 9.2,
         "pf_identity": 5.8,
         "pf_score": 7.81,
         "ef_government": 8.1,
         "ef_legal": 5.2,
         "ef_money": 9.8,
         "ef_trade": 8.2,
         "ef_regulation": 7.7,
         "ef_score": 7.8,
         "_deepnote_index_column": 0
        },
        {
         "ISO_code": "ALB",
         "year": 2017,
         "income": "Upper middle",
         "country": "Albania",
         "region": "Eastern Europe",
         "hf_score": 7.78,
         "pf_rol": 5.3,
         "pf_ss": 9.3,
         "pf_movement": 10,
         "pf_religion": 8.7,
         "pf_association": 8.4,
         "pf_expression": 9.2,
         "pf_identity": 5.8,
         "pf_score": 7.86,
         "ef_government": 7.4,
         "ef_legal": 5.4,
         "ef_money": 9.6,
         "ef_trade": 8.2,
         "ef_regulation": 7.9,
         "ef_score": 7.7,
         "_deepnote_index_column": 1
        },
        {
         "ISO_code": "ALB",
         "year": 2016,
         "income": "Upper middle",
         "country": "Albania",
         "region": "Eastern Europe",
         "hf_score": 7.63,
         "pf_rol": 5.3,
         "pf_ss": 8.7,
         "pf_movement": 8.3,
         "pf_religion": 8.9,
         "pf_association": 8.5,
         "pf_expression": 9.2,
         "pf_identity": 5.8,
         "pf_score": 7.57,
         "ef_government": 7.8,
         "ef_legal": 5.5,
         "ef_money": 9.6,
         "ef_trade": 8,
         "ef_regulation": 7.6,
         "ef_score": 7.69,
         "_deepnote_index_column": 2
        },
        {
         "ISO_code": "ALB",
         "year": 2015,
         "income": "Upper middle",
         "country": "Albania",
         "region": "Eastern Europe",
         "hf_score": 7.55,
         "pf_rol": 5.2,
         "pf_ss": 8.8,
         "pf_movement": 6.7,
         "pf_religion": 8.9,
         "pf_association": 8.5,
         "pf_expression": 9.2,
         "pf_identity": 5.8,
         "pf_score": 7.4,
         "ef_government": 7.8,
         "ef_legal": 5.4,
         "ef_money": 9.6,
         "ef_trade": 8,
         "ef_regulation": 7.7,
         "ef_score": 7.7,
         "_deepnote_index_column": 3
        },
        {
         "ISO_code": "ALB",
         "year": 2014,
         "income": "Upper middle",
         "country": "Albania",
         "region": "Eastern Europe",
         "hf_score": 7.65,
         "pf_rol": 5,
         "pf_ss": 8.6,
         "pf_movement": 6.7,
         "pf_religion": 9.4,
         "pf_association": 8.5,
         "pf_expression": 9.2,
         "pf_identity": 8.8,
         "pf_score": 7.64,
         "ef_government": 7.7,
         "ef_legal": 5.1,
         "ef_money": 9.6,
         "ef_trade": 8.1,
         "ef_regulation": 7.8,
         "ef_score": 7.65,
         "_deepnote_index_column": 4
        },
        {
         "ISO_code": "ALB",
         "year": 2013,
         "income": "Upper middle",
         "country": "Albania",
         "region": "Eastern Europe",
         "hf_score": 7.52,
         "pf_rol": 4.5,
         "pf_ss": 8.6,
         "pf_movement": 6.7,
         "pf_religion": 9.1,
         "pf_association": 8.5,
         "pf_expression": 9.2,
         "pf_identity": 8.8,
         "pf_score": 7.49,
         "ef_government": 7.9,
         "ef_legal": 5,
         "ef_money": 9.7,
         "ef_trade": 7.7,
         "ef_regulation": 7.4,
         "ef_score": 7.55,
         "_deepnote_index_column": 5
        },
        {
         "ISO_code": "ALB",
         "year": 2012,
         "income": "Upper middle",
         "country": "Albania",
         "region": "Eastern Europe",
         "hf_score": 7.54,
         "pf_rol": 4.5,
         "pf_ss": 8.9,
         "pf_movement": 6.7,
         "pf_religion": 9.4,
         "pf_association": 8.8,
         "pf_expression": 9.2,
         "pf_identity": 8.8,
         "pf_score": 7.62,
         "ef_government": 8.2,
         "ef_legal": 4.9,
         "ef_money": 9.7,
         "ef_trade": 7,
         "ef_regulation": 7.5,
         "ef_score": 7.46,
         "_deepnote_index_column": 6
        },
        {
         "ISO_code": "ALB",
         "year": 2011,
         "income": "Lower middle",
         "country": "Albania",
         "region": "Eastern Europe",
         "hf_score": 7.63,
         "pf_rol": 4.9,
         "pf_ss": 8.9,
         "pf_movement": 6.7,
         "pf_religion": 9.2,
         "pf_association": 9,
         "pf_expression": 9.2,
         "pf_identity": 8.8,
         "pf_score": 7.74,
         "ef_government": 8.1,
         "ef_legal": 5.1,
         "ef_money": 9.8,
         "ef_trade": 7,
         "ef_regulation": 7.5,
         "ef_score": 7.51,
         "_deepnote_index_column": 7
        },
        {
         "ISO_code": "ALB",
         "year": 2010,
         "income": "Upper middle",
         "country": "Albania",
         "region": "Eastern Europe",
         "hf_score": 7.75,
         "pf_rol": 4.9,
         "pf_ss": 9.4,
         "pf_movement": 10,
         "pf_religion": 9.3,
         "pf_association": 8.7,
         "pf_expression": 8.4,
         "pf_identity": 8.8,
         "pf_score": 8.09,
         "ef_government": 8.1,
         "ef_legal": 5.3,
         "ef_money": 9.7,
         "ef_trade": 7.1,
         "ef_regulation": 6.8,
         "ef_score": 7.4,
         "_deepnote_index_column": 8
        },
        {
         "ISO_code": "ALB",
         "year": 2009,
         "income": "Upper middle",
         "country": "Albania",
         "region": "Eastern Europe",
         "hf_score": 7.72,
         "pf_rol": 4.9,
         "pf_ss": 9.6,
         "pf_movement": 10,
         "pf_religion": 9.5,
         "pf_association": 8.7,
         "pf_expression": 8.4,
         "pf_identity": 8.8,
         "pf_score": 8.16,
         "ef_government": 7.8,
         "ef_legal": 5.6,
         "ef_money": 9.6,
         "ef_trade": 6.9,
         "ef_regulation": 6.4,
         "ef_score": 7.27,
         "_deepnote_index_column": 9
        },
        {
         "ISO_code": "ALB",
         "year": 2008,
         "income": "Lower middle",
         "country": "Albania",
         "region": "Eastern Europe",
         "hf_score": 7.7,
         "pf_rol": 4.9,
         "pf_ss": 9.6,
         "pf_movement": 10,
         "pf_religion": 9.2,
         "pf_association": 8.7,
         "pf_expression": 8.4,
         "pf_identity": 8.8,
         "pf_score": 8.13,
         "ef_government": 8.3,
         "ef_legal": 5.5,
         "ef_money": 9.4,
         "ef_trade": 6.5,
         "ef_regulation": 6.7,
         "ef_score": 7.27,
         "_deepnote_index_column": 10
        },
        {
         "ISO_code": "DZA",
         "year": 2018,
         "income": "Upper middle",
         "country": "Algeria",
         "region": "Middle East & North Africa",
         "hf_score": 5.2,
         "pf_rol": 5.1,
         "pf_ss": 7.8,
         "pf_movement": 5.8,
         "pf_religion": 3.7,
         "pf_association": 4.6,
         "pf_expression": 7.9,
         "pf_identity": 0,
         "pf_score": 5.42,
         "ef_government": 4.2,
         "ef_legal": 4.5,
         "ef_money": 7.9,
         "ef_trade": 2.6,
         "ef_regulation": 5.6,
         "ef_score": 4.97,
         "_deepnote_index_column": 11
        },
        {
         "ISO_code": "DZA",
         "year": 2017,
         "income": "Upper middle",
         "country": "Algeria",
         "region": "Middle East & North Africa",
         "hf_score": 5.03,
         "pf_rol": 3.8,
         "pf_ss": 7.8,
         "pf_movement": 5.8,
         "pf_religion": 3.7,
         "pf_association": 4.5,
         "pf_expression": 7.8,
         "pf_identity": 0,
         "pf_score": 5.08,
         "ef_government": 4.5,
         "ef_legal": 4.5,
         "ef_money": 7.9,
         "ef_trade": 2.6,
         "ef_regulation": 5.4,
         "ef_score": 4.98,
         "_deepnote_index_column": 12
        },
        {
         "ISO_code": "DZA",
         "year": 2016,
         "income": "Upper middle",
         "country": "Algeria",
         "region": "Middle East & North Africa",
         "hf_score": 5.3,
         "pf_rol": 3.8,
         "pf_ss": 7.8,
         "pf_movement": 6.7,
         "pf_religion": 4,
         "pf_association": 4.4,
         "pf_expression": 8.1,
         "pf_identity": 1.3,
         "pf_score": 5.33,
         "ef_government": 4.5,
         "ef_legal": 4.5,
         "ef_money": 7.9,
         "ef_trade": 4,
         "ef_regulation": 5.5,
         "ef_score": 5.26,
         "_deepnote_index_column": 13
        },
        {
         "ISO_code": "DZA",
         "year": 2015,
         "income": "Upper middle",
         "country": "Algeria",
         "region": "Middle East & North Africa",
         "hf_score": 5.07,
         "pf_rol": 3.8,
         "pf_ss": 7.7,
         "pf_movement": 5,
         "pf_religion": 4.3,
         "pf_association": 4.6,
         "pf_expression": 8.1,
         "pf_identity": 1.3,
         "pf_score": 5.2,
         "ef_government": 3.6,
         "ef_legal": 4.4,
         "ef_money": 7.4,
         "ef_trade": 3.9,
         "ef_regulation": 5.4,
         "ef_score": 4.94,
         "_deepnote_index_column": 14
        },
        {
         "ISO_code": "DZA",
         "year": 2014,
         "income": "Upper middle",
         "country": "Algeria",
         "region": "Middle East & North Africa",
         "hf_score": 5.12,
         "pf_rol": 4,
         "pf_ss": 7.4,
         "pf_movement": 5,
         "pf_religion": 4.4,
         "pf_association": 4.5,
         "pf_expression": 8.1,
         "pf_identity": 1.3,
         "pf_score": 5.16,
         "ef_government": 3.8,
         "ef_legal": 4.3,
         "ef_money": 7.3,
         "ef_trade": 4.5,
         "ef_regulation": 5.5,
         "ef_score": 5.08,
         "_deepnote_index_column": 15
        },
        {
         "ISO_code": "DZA",
         "year": 2013,
         "income": "Upper middle",
         "country": "Algeria",
         "region": "Middle East & North Africa",
         "hf_score": 5.16,
         "pf_rol": 4.1,
         "pf_ss": 7.3,
         "pf_movement": 5,
         "pf_religion": 4.5,
         "pf_association": 4,
         "pf_expression": 8.2,
         "pf_identity": 1.3,
         "pf_score": 5.16,
         "ef_government": 4.2,
         "ef_legal": 4.3,
         "ef_money": 7.2,
         "ef_trade": 4.7,
         "ef_regulation": 5.4,
         "ef_score": 5.16,
         "_deepnote_index_column": 16
        },
        {
         "ISO_code": "DZA",
         "year": 2012,
         "income": "Upper middle",
         "country": "Algeria",
         "region": "Middle East & North Africa",
         "hf_score": 5.05,
         "pf_rol": 4.1,
         "pf_ss": 8.1,
         "pf_movement": 3.3,
         "pf_religion": 4.3,
         "pf_association": 4.1,
         "pf_expression": 8.1,
         "pf_identity": 1.3,
         "pf_score": 5.15,
         "ef_government": 3.3,
         "ef_legal": 3.9,
         "ef_money": 7,
         "ef_trade": 5.1,
         "ef_regulation": 5.4,
         "ef_score": 4.95,
         "_deepnote_index_column": 17
        },
        {
         "ISO_code": "DZA",
         "year": 2011,
         "income": "Upper middle",
         "country": "Algeria",
         "region": "Middle East & North Africa",
         "hf_score": 5.19,
         "pf_rol": 4.4,
         "pf_ss": 8.2,
         "pf_movement": 3.3,
         "pf_religion": 4.2,
         "pf_association": 4.1,
         "pf_expression": 8.1,
         "pf_identity": 1.3,
         "pf_score": 5.25,
         "ef_government": 3.9,
         "ef_legal": 3.7,
         "ef_money": 7.1,
         "ef_trade": 5.5,
         "ef_regulation": 5.3,
         "ef_score": 5.12,
         "_deepnote_index_column": 18
        },
        {
         "ISO_code": "DZA",
         "year": 2010,
         "income": "Upper middle",
         "country": "Algeria",
         "region": "Middle East & North Africa",
         "hf_score": 5.3,
         "pf_rol": 4.4,
         "pf_ss": 8.4,
         "pf_movement": 5,
         "pf_religion": 4.5,
         "pf_association": 4.6,
         "pf_expression": 7.2,
         "pf_identity": 1.3,
         "pf_score": 5.47,
         "ef_government": 3.8,
         "ef_legal": 3.9,
         "ef_money": 7.2,
         "ef_trade": 5.6,
         "ef_regulation": 5.2,
         "ef_score": 5.13,
         "_deepnote_index_column": 19
        },
        {
         "ISO_code": "DZA",
         "year": 2009,
         "income": "Upper middle",
         "country": "Algeria",
         "region": "Middle East & North Africa",
         "hf_score": 5.29,
         "pf_rol": 4.4,
         "pf_ss": 8.2,
         "pf_movement": 5,
         "pf_religion": 4.5,
         "pf_association": 4.6,
         "pf_expression": 7.2,
         "pf_identity": 1.3,
         "pf_score": 5.41,
         "ef_government": 3.3,
         "ef_legal": 4,
         "ef_money": 7,
         "ef_trade": 6,
         "ef_regulation": 5.6,
         "ef_score": 5.17,
         "_deepnote_index_column": 20
        },
        {
         "ISO_code": "DZA",
         "year": 2008,
         "income": "Upper middle",
         "country": "Algeria",
         "region": "Middle East & North Africa",
         "hf_score": 5.32,
         "pf_rol": 4.5,
         "pf_ss": 8.2,
         "pf_movement": 5,
         "pf_religion": 4.5,
         "pf_association": 4.6,
         "pf_expression": 7.2,
         "pf_identity": 1.3,
         "pf_score": 5.43,
         "ef_government": 3.3,
         "ef_legal": 4,
         "ef_money": 7.6,
         "ef_trade": 5.6,
         "ef_regulation": 5.5,
         "ef_score": 5.21,
         "_deepnote_index_column": 21
        },
        {
         "ISO_code": "AGO",
         "year": 2018,
         "income": "Lower middle",
         "country": "Angola",
         "region": "Sub-Saharan Africa",
         "hf_score": 5.48,
         "pf_rol": 3.6,
         "pf_ss": 8.4,
         "pf_movement": 6.7,
         "pf_religion": 6.5,
         "pf_association": 5.3,
         "pf_expression": 7.1,
         "pf_identity": 6.7,
         "pf_score": 6.21,
         "ef_government": 7.3,
         "ef_legal": 3.4,
         "ef_money": 4.7,
         "ef_trade": 2.9,
         "ef_regulation": 5.4,
         "ef_score": 4.75,
         "_deepnote_index_column": 22
        },
        {
         "ISO_code": "AGO",
         "year": 2017,
         "income": "Lower middle",
         "country": "Angola",
         "region": "Sub-Saharan Africa",
         "hf_score": 5.39,
         "pf_rol": 3.4,
         "pf_ss": 8.1,
         "pf_movement": 6.7,
         "pf_religion": 6.6,
         "pf_association": 4.9,
         "pf_expression": 7.1,
         "pf_identity": 5,
         "pf_score": 5.91,
         "ef_government": 7,
         "ef_legal": 3.3,
         "ef_money": 5.6,
         "ef_trade": 3,
         "ef_regulation": 5.5,
         "ef_score": 4.86,
         "_deepnote_index_column": 23
        },
        {
         "ISO_code": "AGO",
         "year": 2016,
         "income": "Lower middle",
         "country": "Angola",
         "region": "Sub-Saharan Africa",
         "hf_score": 5.85,
         "pf_rol": 3.4,
         "pf_ss": 8.4,
         "pf_movement": 8.3,
         "pf_religion": 6.6,
         "pf_association": 4.9,
         "pf_expression": 7.1,
         "pf_identity": 6.7,
         "pf_score": 6.3,
         "ef_government": 7.6,
         "ef_legal": 3.3,
         "ef_money": 5.6,
         "ef_trade": 5,
         "ef_regulation": 5.4,
         "ef_score": 5.39,
         "_deepnote_index_column": 24
        }
       ],
       "rows_bottom": [
        {
         "ISO_code": "YEM",
         "year": 2010,
         "income": "Lower middle",
         "country": "Yemen, Rep.",
         "region": "Middle East & North Africa",
         "hf_score": 5.46,
         "pf_rol": 4,
         "pf_ss": 6.7,
         "pf_movement": 3.3,
         "pf_religion": 3.4,
         "pf_association": 5.7,
         "pf_expression": 6.6,
         "pf_identity": 0,
         "pf_score": 4.59,
         "ef_government": 7,
         "ef_legal": 3.6,
         "ef_money": 7.7,
         "ef_trade": 7.6,
         "ef_regulation": 5.7,
         "ef_score": 6.33,
         "_deepnote_index_column": 1757
        },
        {
         "ISO_code": "YEM",
         "year": 2009,
         "income": "Lower middle",
         "country": "Yemen, Rep.",
         "region": "Middle East & North Africa",
         "hf_score": "nan",
         "pf_rol": "nan",
         "pf_ss": "nan",
         "pf_movement": "nan",
         "pf_religion": 3.4,
         "pf_association": 5.9,
         "pf_expression": "nan",
         "pf_identity": "nan",
         "pf_score": "nan",
         "ef_government": "nan",
         "ef_legal": 3.5,
         "ef_money": "nan",
         "ef_trade": "nan",
         "ef_regulation": "nan",
         "ef_score": "nan",
         "_deepnote_index_column": 1758
        },
        {
         "ISO_code": "YEM",
         "year": 2008,
         "income": "Low",
         "country": "Yemen, Rep.",
         "region": "Middle East & North Africa",
         "hf_score": "nan",
         "pf_rol": "nan",
         "pf_ss": "nan",
         "pf_movement": "nan",
         "pf_religion": 3.4,
         "pf_association": 5.9,
         "pf_expression": "nan",
         "pf_identity": "nan",
         "pf_score": "nan",
         "ef_government": "nan",
         "ef_legal": 3.4,
         "ef_money": "nan",
         "ef_trade": "nan",
         "ef_regulation": "nan",
         "ef_score": "nan",
         "_deepnote_index_column": 1759
        },
        {
         "ISO_code": "ZMB",
         "year": 2018,
         "income": "Lower middle",
         "country": "Zambia",
         "region": "Sub-Saharan Africa",
         "hf_score": 6.71,
         "pf_rol": 4,
         "pf_ss": 8.3,
         "pf_movement": 4.2,
         "pf_religion": 7.3,
         "pf_association": 6.8,
         "pf_expression": 7.5,
         "pf_identity": 5.8,
         "pf_score": 6.23,
         "ef_government": 7.5,
         "ef_legal": 5,
         "ef_money": 9.2,
         "ef_trade": 7.7,
         "ef_regulation": 6.5,
         "ef_score": 7.19,
         "_deepnote_index_column": 1760
        },
        {
         "ISO_code": "ZMB",
         "year": 2017,
         "income": "Lower middle",
         "country": "Zambia",
         "region": "Sub-Saharan Africa",
         "hf_score": 6.7,
         "pf_rol": 4.1,
         "pf_ss": 8.3,
         "pf_movement": 4.2,
         "pf_religion": 7.1,
         "pf_association": 6.3,
         "pf_expression": 7.5,
         "pf_identity": 5.8,
         "pf_score": 6.19,
         "ef_government": 7.8,
         "ef_legal": 5.2,
         "ef_money": 9.1,
         "ef_trade": 7.4,
         "ef_regulation": 6.6,
         "ef_score": 7.2,
         "_deepnote_index_column": 1761
        },
        {
         "ISO_code": "ZMB",
         "year": 2016,
         "income": "Lower middle",
         "country": "Zambia",
         "region": "Sub-Saharan Africa",
         "hf_score": 6.61,
         "pf_rol": 4.1,
         "pf_ss": 8.3,
         "pf_movement": 5,
         "pf_religion": 7.3,
         "pf_association": 6.7,
         "pf_expression": 7.7,
         "pf_identity": 5,
         "pf_score": 6.27,
         "ef_government": 7.4,
         "ef_legal": 5.3,
         "ef_money": 8.3,
         "ef_trade": 7.4,
         "ef_regulation": 6.4,
         "ef_score": 6.94,
         "_deepnote_index_column": 1762
        },
        {
         "ISO_code": "ZMB",
         "year": 2015,
         "income": "Lower middle",
         "country": "Zambia",
         "region": "Sub-Saharan Africa",
         "hf_score": 6.73,
         "pf_rol": 4.2,
         "pf_ss": 8.3,
         "pf_movement": 5,
         "pf_religion": 7.9,
         "pf_association": 7,
         "pf_expression": 8,
         "pf_identity": 5,
         "pf_score": 6.42,
         "ef_government": 7.4,
         "ef_legal": 5.3,
         "ef_money": 8.7,
         "ef_trade": 7.2,
         "ef_regulation": 6.5,
         "ef_score": 7.04,
         "_deepnote_index_column": 1763
        },
        {
         "ISO_code": "ZMB",
         "year": 2014,
         "income": "Lower middle",
         "country": "Zambia",
         "region": "Sub-Saharan Africa",
         "hf_score": 6.76,
         "pf_rol": 4,
         "pf_ss": 8.3,
         "pf_movement": 6.7,
         "pf_religion": 7.9,
         "pf_association": 7.1,
         "pf_expression": 8,
         "pf_identity": 2.5,
         "pf_score": 6.27,
         "ef_government": 7.5,
         "ef_legal": 5.3,
         "ef_money": 9,
         "ef_trade": 7.7,
         "ef_regulation": 6.7,
         "ef_score": 7.25,
         "_deepnote_index_column": 1764
        },
        {
         "ISO_code": "ZMB",
         "year": 2013,
         "income": "Lower middle",
         "country": "Zambia",
         "region": "Sub-Saharan Africa",
         "hf_score": 6.79,
         "pf_rol": 4.1,
         "pf_ss": 8.2,
         "pf_movement": 5,
         "pf_religion": 8,
         "pf_association": 7.2,
         "pf_expression": 7.8,
         "pf_identity": 5,
         "pf_score": 6.36,
         "ef_government": 7.5,
         "ef_legal": 5.3,
         "ef_money": 8.8,
         "ef_trade": 7.8,
         "ef_regulation": 6.6,
         "ef_score": 7.21,
         "_deepnote_index_column": 1765
        },
        {
         "ISO_code": "ZMB",
         "year": 2012,
         "income": "Lower middle",
         "country": "Zambia",
         "region": "Sub-Saharan Africa",
         "hf_score": 6.96,
         "pf_rol": 4.1,
         "pf_ss": 8.8,
         "pf_movement": 5,
         "pf_religion": 7.8,
         "pf_association": 7.7,
         "pf_expression": 7.8,
         "pf_identity": 5,
         "pf_score": 6.53,
         "ef_government": 8.1,
         "ef_legal": 5.6,
         "ef_money": 9,
         "ef_trade": 7.4,
         "ef_regulation": 6.9,
         "ef_score": 7.39,
         "_deepnote_index_column": 1766
        },
        {
         "ISO_code": "ZMB",
         "year": 2011,
         "income": "Lower middle",
         "country": "Zambia",
         "region": "Sub-Saharan Africa",
         "hf_score": 7,
         "pf_rol": 4.4,
         "pf_ss": 8.8,
         "pf_movement": 5,
         "pf_religion": 7.6,
         "pf_association": 7.5,
         "pf_expression": 7.8,
         "pf_identity": 5,
         "pf_score": 6.58,
         "ef_government": 8.3,
         "ef_legal": 5.7,
         "ef_money": 8.9,
         "ef_trade": 7.2,
         "ef_regulation": 6.9,
         "ef_score": 7.42,
         "_deepnote_index_column": 1767
        },
        {
         "ISO_code": "ZMB",
         "year": 2010,
         "income": "Lower middle",
         "country": "Zambia",
         "region": "Sub-Saharan Africa",
         "hf_score": 6.91,
         "pf_rol": 4.4,
         "pf_ss": 7.5,
         "pf_movement": 6.7,
         "pf_religion": 7.7,
         "pf_association": 7.1,
         "pf_expression": 7.9,
         "pf_identity": 5,
         "pf_score": 6.42,
         "ef_government": 8.4,
         "ef_legal": 5.6,
         "ef_money": 8.9,
         "ef_trade": 7.4,
         "ef_regulation": 6.8,
         "ef_score": 7.4,
         "_deepnote_index_column": 1768
        },
        {
         "ISO_code": "ZMB",
         "year": 2009,
         "income": "Low",
         "country": "Zambia",
         "region": "Sub-Saharan Africa",
         "hf_score": 6.97,
         "pf_rol": 4.4,
         "pf_ss": 7.5,
         "pf_movement": 8.3,
         "pf_religion": 8.2,
         "pf_association": 7.3,
         "pf_expression": 7.8,
         "pf_identity": 5,
         "pf_score": 6.65,
         "ef_government": 7.9,
         "ef_legal": 5.7,
         "ef_money": 8.5,
         "ef_trade": 7.4,
         "ef_regulation": 6.9,
         "ef_score": 7.29,
         "_deepnote_index_column": 1769
        },
        {
         "ISO_code": "ZMB",
         "year": 2008,
         "income": "Low",
         "country": "Zambia",
         "region": "Sub-Saharan Africa",
         "hf_score": 6.95,
         "pf_rol": 4.4,
         "pf_ss": 7.6,
         "pf_movement": 8.3,
         "pf_religion": 8.4,
         "pf_association": 7.4,
         "pf_expression": 7.8,
         "pf_identity": 5,
         "pf_score": 6.69,
         "ef_government": 8,
         "ef_legal": 5.8,
         "ef_money": 8.4,
         "ef_trade": 7.2,
         "ef_regulation": 6.8,
         "ef_score": 7.21,
         "_deepnote_index_column": 1770
        },
        {
         "ISO_code": "ZWE",
         "year": 2018,
         "income": "Lower middle",
         "country": "Zimbabwe",
         "region": "Sub-Saharan Africa",
         "hf_score": 5.59,
         "pf_rol": 3.5,
         "pf_ss": 8.3,
         "pf_movement": 6.7,
         "pf_religion": 7.3,
         "pf_association": 5.3,
         "pf_expression": 7.5,
         "pf_identity": 4.2,
         "pf_score": 6.06,
         "ef_government": 4.5,
         "ef_legal": 4.1,
         "ef_money": 5,
         "ef_trade": 5.7,
         "ef_regulation": 6.3,
         "ef_score": 5.12,
         "_deepnote_index_column": 1771
        },
        {
         "ISO_code": "ZWE",
         "year": 2017,
         "income": "Low",
         "country": "Zimbabwe",
         "region": "Sub-Saharan Africa",
         "hf_score": 5.6,
         "pf_rol": 3.5,
         "pf_ss": 8.4,
         "pf_movement": 6.7,
         "pf_religion": 7.3,
         "pf_association": 5,
         "pf_expression": 7.5,
         "pf_identity": 4.2,
         "pf_score": 6.04,
         "ef_government": 4.3,
         "ef_legal": 4.1,
         "ef_money": 6.7,
         "ef_trade": 4,
         "ef_regulation": 6.7,
         "ef_score": 5.16,
         "_deepnote_index_column": 1772
        },
        {
         "ISO_code": "ZWE",
         "year": 2016,
         "income": "Low",
         "country": "Zimbabwe",
         "region": "Sub-Saharan Africa",
         "hf_score": 5.77,
         "pf_rol": 3.5,
         "pf_ss": 7.9,
         "pf_movement": 5,
         "pf_religion": 6.9,
         "pf_association": 5,
         "pf_expression": 7.6,
         "pf_identity": 5,
         "pf_score": 5.82,
         "ef_government": 5.1,
         "ef_legal": 3.7,
         "ef_money": 7.4,
         "ef_trade": 5.8,
         "ef_regulation": 6.5,
         "ef_score": 5.72,
         "_deepnote_index_column": 1773
        },
        {
         "ISO_code": "ZWE",
         "year": 2015,
         "income": "Low",
         "country": "Zimbabwe",
         "region": "Sub-Saharan Africa",
         "hf_score": 6.01,
         "pf_rol": 3.5,
         "pf_ss": 7.6,
         "pf_movement": 5,
         "pf_religion": 7.4,
         "pf_association": 5.1,
         "pf_expression": 7.6,
         "pf_identity": 5,
         "pf_score": 5.78,
         "ef_government": 6.8,
         "ef_legal": 3.8,
         "ef_money": 8.2,
         "ef_trade": 5.9,
         "ef_regulation": 6.6,
         "ef_score": 6.24,
         "_deepnote_index_column": 1774
        },
        {
         "ISO_code": "ZWE",
         "year": 2014,
         "income": "Low",
         "country": "Zimbabwe",
         "region": "Sub-Saharan Africa",
         "hf_score": 5.91,
         "pf_rol": 3.4,
         "pf_ss": 7.6,
         "pf_movement": 5,
         "pf_religion": 7.3,
         "pf_association": 5.1,
         "pf_expression": 7.7,
         "pf_identity": 7.5,
         "pf_score": 6.01,
         "ef_government": 6.6,
         "ef_legal": 3.6,
         "ef_money": 8,
         "ef_trade": 5.8,
         "ef_regulation": 5,
         "ef_score": 5.8,
         "_deepnote_index_column": 1775
        },
        {
         "ISO_code": "ZWE",
         "year": 2013,
         "income": "Low",
         "country": "Zimbabwe",
         "region": "Sub-Saharan Africa",
         "hf_score": 5.76,
         "pf_rol": 3.3,
         "pf_ss": 7.6,
         "pf_movement": 5,
         "pf_religion": 7.5,
         "pf_association": 5.8,
         "pf_expression": 7.6,
         "pf_identity": 7.5,
         "pf_score": 6.06,
         "ef_government": 6.5,
         "ef_legal": 3.5,
         "ef_money": 6.9,
         "ef_trade": 5.5,
         "ef_regulation": 4.9,
         "ef_score": 5.46,
         "_deepnote_index_column": 1776
        },
        {
         "ISO_code": "ZWE",
         "year": 2012,
         "income": "Low",
         "country": "Zimbabwe",
         "region": "Sub-Saharan Africa",
         "hf_score": 5.38,
         "pf_rol": 3.3,
         "pf_ss": 7.4,
         "pf_movement": 1.7,
         "pf_religion": 7.3,
         "pf_association": 6,
         "pf_expression": 7.5,
         "pf_identity": 7.5,
         "pf_score": 5.68,
         "ef_government": 7,
         "ef_legal": 3.8,
         "ef_money": 5.4,
         "ef_trade": 5.2,
         "ef_regulation": 4.1,
         "ef_score": 5.08,
         "_deepnote_index_column": 1777
        },
        {
         "ISO_code": "ZWE",
         "year": 2011,
         "income": "Low",
         "country": "Zimbabwe",
         "region": "Sub-Saharan Africa",
         "hf_score": 5.28,
         "pf_rol": 3.7,
         "pf_ss": 7.4,
         "pf_movement": 1.7,
         "pf_religion": 7.1,
         "pf_association": 6,
         "pf_expression": 7.5,
         "pf_identity": 7.5,
         "pf_score": 5.75,
         "ef_government": 6.5,
         "ef_legal": 3.7,
         "ef_money": 4.1,
         "ef_trade": 5.4,
         "ef_regulation": 4.3,
         "ef_score": 4.8,
         "_deepnote_index_column": 1778
        },
        {
         "ISO_code": "ZWE",
         "year": 2010,
         "income": "Low",
         "country": "Zimbabwe",
         "region": "Sub-Saharan Africa",
         "hf_score": 4.97,
         "pf_rol": 3.5,
         "pf_ss": 7.2,
         "pf_movement": 1.7,
         "pf_religion": 6.9,
         "pf_association": 5.9,
         "pf_expression": 7,
         "pf_identity": 7.5,
         "pf_score": 5.59,
         "ef_government": 6.6,
         "ef_legal": 3.7,
         "ef_money": 2,
         "ef_trade": 4.9,
         "ef_regulation": 4.5,
         "ef_score": 4.34,
         "_deepnote_index_column": 1779
        },
        {
         "ISO_code": "ZWE",
         "year": 2009,
         "income": "Low",
         "country": "Zimbabwe",
         "region": "Sub-Saharan Africa",
         "hf_score": 4.91,
         "pf_rol": 3.7,
         "pf_ss": 7.2,
         "pf_movement": 1.7,
         "pf_religion": 7.1,
         "pf_association": 5.7,
         "pf_expression": 7,
         "pf_identity": 7.5,
         "pf_score": 5.61,
         "ef_government": 7.4,
         "ef_legal": 3.6,
         "ef_money": 0.9,
         "ef_trade": 4.6,
         "ef_regulation": 4.6,
         "ef_score": 4.21,
         "_deepnote_index_column": 1780
        },
        {
         "ISO_code": "ZWE",
         "year": 2008,
         "income": "Low",
         "country": "Zimbabwe",
         "region": "Sub-Saharan Africa",
         "hf_score": 4.97,
         "pf_rol": 3.5,
         "pf_ss": 7.1,
         "pf_movement": 1.7,
         "pf_religion": 7,
         "pf_association": 5.7,
         "pf_expression": 6.9,
         "pf_identity": 7.5,
         "pf_score": 5.54,
         "ef_government": 7.1,
         "ef_legal": 3.8,
         "ef_money": 2.4,
         "ef_trade": 4.3,
         "ef_regulation": 4.4,
         "ef_score": 4.39,
         "_deepnote_index_column": 1781
        }
       ]
      },
      "text/plain": "     ISO_code  year        income   country              region  hf_score  \\\n0         ALB  2018  Upper middle   Albania      Eastern Europe      7.81   \n1         ALB  2017  Upper middle   Albania      Eastern Europe      7.78   \n2         ALB  2016  Upper middle   Albania      Eastern Europe      7.63   \n3         ALB  2015  Upper middle   Albania      Eastern Europe      7.55   \n4         ALB  2014  Upper middle   Albania      Eastern Europe      7.65   \n...       ...   ...           ...       ...                 ...       ...   \n1777      ZWE  2012           Low  Zimbabwe  Sub-Saharan Africa      5.38   \n1778      ZWE  2011           Low  Zimbabwe  Sub-Saharan Africa      5.28   \n1779      ZWE  2010           Low  Zimbabwe  Sub-Saharan Africa      4.97   \n1780      ZWE  2009           Low  Zimbabwe  Sub-Saharan Africa      4.91   \n1781      ZWE  2008           Low  Zimbabwe  Sub-Saharan Africa      4.97   \n\n      pf_rol  pf_ss  pf_movement  pf_religion  pf_association  pf_expression  \\\n0        5.0    9.3         10.0          8.9             8.6            9.2   \n1        5.3    9.3         10.0          8.7             8.4            9.2   \n2        5.3    8.7          8.3          8.9             8.5            9.2   \n3        5.2    8.8          6.7          8.9             8.5            9.2   \n4        5.0    8.6          6.7          9.4             8.5            9.2   \n...      ...    ...          ...          ...             ...            ...   \n1777     3.3    7.4          1.7          7.3             6.0            7.5   \n1778     3.7    7.4          1.7          7.1             6.0            7.5   \n1779     3.5    7.2          1.7          6.9             5.9            7.0   \n1780     3.7    7.2          1.7          7.1             5.7            7.0   \n1781     3.5    7.1          1.7          7.0             5.7            6.9   \n\n      pf_identity  pf_score  ef_government  ef_legal  ef_money  ef_trade  \\\n0             5.8      7.81            8.1       5.2       9.8       8.2   \n1             5.8      7.86            7.4       5.4       9.6       8.2   \n2             5.8      7.57            7.8       5.5       9.6       8.0   \n3             5.8      7.40            7.8       5.4       9.6       8.0   \n4             8.8      7.64            7.7       5.1       9.6       8.1   \n...           ...       ...            ...       ...       ...       ...   \n1777          7.5      5.68            7.0       3.8       5.4       5.2   \n1778          7.5      5.75            6.5       3.7       4.1       5.4   \n1779          7.5      5.59            6.6       3.7       2.0       4.9   \n1780          7.5      5.61            7.4       3.6       0.9       4.6   \n1781          7.5      5.54            7.1       3.8       2.4       4.3   \n\n      ef_regulation  ef_score  \n0               7.7      7.80  \n1               7.9      7.70  \n2               7.6      7.69  \n3               7.7      7.70  \n4               7.8      7.65  \n...             ...       ...  \n1777            4.1      5.08  \n1778            4.3      4.80  \n1779            4.5      4.34  \n1780            4.6      4.21  \n1781            4.4      4.39  \n\n[1782 rows x 20 columns]",
      "text/html": "<div>\n<style scoped>\n    .dataframe tbody tr th:only-of-type {\n        vertical-align: middle;\n    }\n\n    .dataframe tbody tr th {\n        vertical-align: top;\n    }\n\n    .dataframe thead th {\n        text-align: right;\n    }\n</style>\n<table border=\"1\" class=\"dataframe\">\n  <thead>\n    <tr style=\"text-align: right;\">\n      <th></th>\n      <th>ISO_code</th>\n      <th>year</th>\n      <th>income</th>\n      <th>country</th>\n      <th>region</th>\n      <th>hf_score</th>\n      <th>pf_rol</th>\n      <th>pf_ss</th>\n      <th>pf_movement</th>\n      <th>pf_religion</th>\n      <th>pf_association</th>\n      <th>pf_expression</th>\n      <th>pf_identity</th>\n      <th>pf_score</th>\n      <th>ef_government</th>\n      <th>ef_legal</th>\n      <th>ef_money</th>\n      <th>ef_trade</th>\n      <th>ef_regulation</th>\n      <th>ef_score</th>\n    </tr>\n  </thead>\n  <tbody>\n    <tr>\n      <th>0</th>\n      <td>ALB</td>\n      <td>2018</td>\n      <td>Upper middle</td>\n      <td>Albania</td>\n      <td>Eastern Europe</td>\n      <td>7.81</td>\n      <td>5.0</td>\n      <td>9.3</td>\n      <td>10.0</td>\n      <td>8.9</td>\n      <td>8.6</td>\n      <td>9.2</td>\n      <td>5.8</td>\n      <td>7.81</td>\n      <td>8.1</td>\n      <td>5.2</td>\n      <td>9.8</td>\n      <td>8.2</td>\n      <td>7.7</td>\n      <td>7.80</td>\n    </tr>\n    <tr>\n      <th>1</th>\n      <td>ALB</td>\n      <td>2017</td>\n      <td>Upper middle</td>\n      <td>Albania</td>\n      <td>Eastern Europe</td>\n      <td>7.78</td>\n      <td>5.3</td>\n      <td>9.3</td>\n      <td>10.0</td>\n      <td>8.7</td>\n      <td>8.4</td>\n      <td>9.2</td>\n      <td>5.8</td>\n      <td>7.86</td>\n      <td>7.4</td>\n      <td>5.4</td>\n      <td>9.6</td>\n      <td>8.2</td>\n      <td>7.9</td>\n      <td>7.70</td>\n    </tr>\n    <tr>\n      <th>2</th>\n      <td>ALB</td>\n      <td>2016</td>\n      <td>Upper middle</td>\n      <td>Albania</td>\n      <td>Eastern Europe</td>\n      <td>7.63</td>\n      <td>5.3</td>\n      <td>8.7</td>\n      <td>8.3</td>\n      <td>8.9</td>\n      <td>8.5</td>\n      <td>9.2</td>\n      <td>5.8</td>\n      <td>7.57</td>\n      <td>7.8</td>\n      <td>5.5</td>\n      <td>9.6</td>\n      <td>8.0</td>\n      <td>7.6</td>\n      <td>7.69</td>\n    </tr>\n    <tr>\n      <th>3</th>\n      <td>ALB</td>\n      <td>2015</td>\n      <td>Upper middle</td>\n      <td>Albania</td>\n      <td>Eastern Europe</td>\n      <td>7.55</td>\n      <td>5.2</td>\n      <td>8.8</td>\n      <td>6.7</td>\n      <td>8.9</td>\n      <td>8.5</td>\n      <td>9.2</td>\n      <td>5.8</td>\n      <td>7.40</td>\n      <td>7.8</td>\n      <td>5.4</td>\n      <td>9.6</td>\n      <td>8.0</td>\n      <td>7.7</td>\n      <td>7.70</td>\n    </tr>\n    <tr>\n      <th>4</th>\n      <td>ALB</td>\n      <td>2014</td>\n      <td>Upper middle</td>\n      <td>Albania</td>\n      <td>Eastern Europe</td>\n      <td>7.65</td>\n      <td>5.0</td>\n      <td>8.6</td>\n      <td>6.7</td>\n      <td>9.4</td>\n      <td>8.5</td>\n      <td>9.2</td>\n      <td>8.8</td>\n      <td>7.64</td>\n      <td>7.7</td>\n      <td>5.1</td>\n      <td>9.6</td>\n      <td>8.1</td>\n      <td>7.8</td>\n      <td>7.65</td>\n    </tr>\n    <tr>\n      <th>...</th>\n      <td>...</td>\n      <td>...</td>\n      <td>...</td>\n      <td>...</td>\n      <td>...</td>\n      <td>...</td>\n      <td>...</td>\n      <td>...</td>\n      <td>...</td>\n      <td>...</td>\n      <td>...</td>\n      <td>...</td>\n      <td>...</td>\n      <td>...</td>\n      <td>...</td>\n      <td>...</td>\n      <td>...</td>\n      <td>...</td>\n      <td>...</td>\n      <td>...</td>\n    </tr>\n    <tr>\n      <th>1777</th>\n      <td>ZWE</td>\n      <td>2012</td>\n      <td>Low</td>\n      <td>Zimbabwe</td>\n      <td>Sub-Saharan Africa</td>\n      <td>5.38</td>\n      <td>3.3</td>\n      <td>7.4</td>\n      <td>1.7</td>\n      <td>7.3</td>\n      <td>6.0</td>\n      <td>7.5</td>\n      <td>7.5</td>\n      <td>5.68</td>\n      <td>7.0</td>\n      <td>3.8</td>\n      <td>5.4</td>\n      <td>5.2</td>\n      <td>4.1</td>\n      <td>5.08</td>\n    </tr>\n    <tr>\n      <th>1778</th>\n      <td>ZWE</td>\n      <td>2011</td>\n      <td>Low</td>\n      <td>Zimbabwe</td>\n      <td>Sub-Saharan Africa</td>\n      <td>5.28</td>\n      <td>3.7</td>\n      <td>7.4</td>\n      <td>1.7</td>\n      <td>7.1</td>\n      <td>6.0</td>\n      <td>7.5</td>\n      <td>7.5</td>\n      <td>5.75</td>\n      <td>6.5</td>\n      <td>3.7</td>\n      <td>4.1</td>\n      <td>5.4</td>\n      <td>4.3</td>\n      <td>4.80</td>\n    </tr>\n    <tr>\n      <th>1779</th>\n      <td>ZWE</td>\n      <td>2010</td>\n      <td>Low</td>\n      <td>Zimbabwe</td>\n      <td>Sub-Saharan Africa</td>\n      <td>4.97</td>\n      <td>3.5</td>\n      <td>7.2</td>\n      <td>1.7</td>\n      <td>6.9</td>\n      <td>5.9</td>\n      <td>7.0</td>\n      <td>7.5</td>\n      <td>5.59</td>\n      <td>6.6</td>\n      <td>3.7</td>\n      <td>2.0</td>\n      <td>4.9</td>\n      <td>4.5</td>\n      <td>4.34</td>\n    </tr>\n    <tr>\n      <th>1780</th>\n      <td>ZWE</td>\n      <td>2009</td>\n      <td>Low</td>\n      <td>Zimbabwe</td>\n      <td>Sub-Saharan Africa</td>\n      <td>4.91</td>\n      <td>3.7</td>\n      <td>7.2</td>\n      <td>1.7</td>\n      <td>7.1</td>\n      <td>5.7</td>\n      <td>7.0</td>\n      <td>7.5</td>\n      <td>5.61</td>\n      <td>7.4</td>\n      <td>3.6</td>\n      <td>0.9</td>\n      <td>4.6</td>\n      <td>4.6</td>\n      <td>4.21</td>\n    </tr>\n    <tr>\n      <th>1781</th>\n      <td>ZWE</td>\n      <td>2008</td>\n      <td>Low</td>\n      <td>Zimbabwe</td>\n      <td>Sub-Saharan Africa</td>\n      <td>4.97</td>\n      <td>3.5</td>\n      <td>7.1</td>\n      <td>1.7</td>\n      <td>7.0</td>\n      <td>5.7</td>\n      <td>6.9</td>\n      <td>7.5</td>\n      <td>5.54</td>\n      <td>7.1</td>\n      <td>3.8</td>\n      <td>2.4</td>\n      <td>4.3</td>\n      <td>4.4</td>\n      <td>4.39</td>\n    </tr>\n  </tbody>\n</table>\n<p>1782 rows × 20 columns</p>\n</div>"
     },
     "metadata": {}
    }
   ]
  },
  {
   "cell_type": "code",
   "metadata": {
    "tags": [],
    "deepnote_to_be_reexecuted": false,
    "source_hash": "2da3fa7a",
    "execution_start": 1622349426710,
    "execution_millis": 10,
    "cell_id": "00010-a4669625-002d-462b-ab0c-3b3fbb51b5de",
    "deepnote_cell_type": "code"
   },
   "source": "income_group.groupby(['year', 'income']).size()",
   "execution_count": 10,
   "outputs": [
    {
     "output_type": "execute_result",
     "execution_count": 10,
     "data": {
      "text/plain": "year  income\n2007  ..        10\n      H         66\n      L         49\n      LM        54\n      UM        41\n2008  ..         9\n      H         67\n      L         43\n      LM        55\n      UM        46\n2009  ..         6\n      H         70\n      L         40\n      LM        56\n      UM        48\n2010  ..         3\n      H         71\n      L         35\n      LM        56\n      UM        54\n2011  ..         3\n      H         71\n      L         36\n      LM        54\n      UM        54\n2012  ..         3\n      H         76\n      L         36\n      LM        48\n      UM        55\n2013  ..         3\n      H         76\n      L         34\n      LM        50\n      UM        55\n2014  ..         3\n      H         80\n      L         31\n      LM        51\n      UM        53\n2015  H         79\n      L         31\n      LM        52\n      UM        56\n2016  H         78\n      L         31\n      LM        53\n      UM        56\n2017  H         81\n      L         34\n      LM        47\n      UM        56\n2018  H         80\n      L         31\n      LM        47\n      UM        60\n2019  H         83\n      L         29\n      LM        50\n      UM        56\ndtype: int64"
     },
     "metadata": {}
    }
   ]
  },
  {
   "cell_type": "code",
   "metadata": {
    "deepnote_to_be_reexecuted": false,
    "source_hash": "530cbaf9",
    "execution_start": 1622349426718,
    "execution_millis": 10,
    "cell_id": "00011-f76743fb-39cd-4a72-ad83-d4a7ffb7d144",
    "deepnote_cell_type": "code"
   },
   "source": "region_group = pd.read_csv('data/region.csv', encoding='latin1').iloc[:, 0:35].loc[:, ['Code', 'Region']]",
   "execution_count": 11,
   "outputs": []
  },
  {
   "cell_type": "code",
   "metadata": {
    "deepnote_to_be_reexecuted": false,
    "source_hash": "d1bef646",
    "execution_start": 1622349426732,
    "execution_millis": 14,
    "cell_id": "00012-770e03d0-162b-405b-9964-a72737a325c6",
    "deepnote_cell_type": "code"
   },
   "source": "# now merge to add income and region class\nhfi_mod4 = pd.merge(region_group, hfi_mod3.drop(columns = 'region'), \n                    left_on=\"Code\", right_on = \"ISO_code\", how = 'right').drop(\n    columns = ['Code', 'ISO_code']).rename(\n    columns = {'Region': 'region'}\n)\n\nhfi_mod4[hfi_mod4['region'].isnull()].country.value_counts()",
   "execution_count": 12,
   "outputs": [
    {
     "output_type": "execute_result",
     "execution_count": 12,
     "data": {
      "text/plain": "Barbados    11\nTaiwan      11\nName: country, dtype: int64"
     },
     "metadata": {}
    }
   ]
  },
  {
   "cell_type": "code",
   "metadata": {
    "deepnote_to_be_reexecuted": false,
    "source_hash": "b48a81e1",
    "execution_start": 1622349426765,
    "execution_millis": 10,
    "cell_id": "00013-811e4e2c-148b-45d4-bbad-40bd740ed6db",
    "deepnote_cell_type": "code"
   },
   "source": "hfi_mod4.region.value_counts()",
   "execution_count": 13,
   "outputs": [
    {
     "output_type": "execute_result",
     "execution_count": 13,
     "data": {
      "text/plain": "Europe & Central Asia         506\nSub-Saharan Africa            462\nLatin America & Caribbean     275\nEast Asia & Pacific           220\nMiddle East & North Africa    209\nSouth Asia                     66\nNorth America                  22\nName: region, dtype: int64"
     },
     "metadata": {}
    }
   ]
  },
  {
   "cell_type": "code",
   "metadata": {
    "deepnote_to_be_reexecuted": false,
    "source_hash": "3559316f",
    "execution_start": 1622349426766,
    "execution_millis": 9,
    "cell_id": "00014-6dbf3d87-fee4-48ea-9869-cb6cb7014522",
    "deepnote_cell_type": "code"
   },
   "source": "barbados_region = hfi_mod2[hfi_mod2['country'] == \"Barbados\"].region.values[0]\ntw_region = hfi_mod2[hfi_mod2['country'] == \"Taiwan\"].region.values[0]\nprint(tw_region, \", \", barbados_region)",
   "execution_count": 14,
   "outputs": [
    {
     "name": "stdout",
     "text": "East Asia ,  Latin America & the Caribbean\n",
     "output_type": "stream"
    }
   ]
  },
  {
   "cell_type": "code",
   "metadata": {
    "deepnote_to_be_reexecuted": false,
    "source_hash": "adaf4ba0",
    "execution_start": 1622349426766,
    "execution_millis": 11,
    "cell_id": "00015-a1d5e7c0-7ace-4f7d-a64b-1982fd72944e",
    "deepnote_cell_type": "code"
   },
   "source": "hfi_mod4['region'].loc[(hfi_mod4['country'] == 'Barbados')] = 'Latin America & Caribbean'\nhfi_mod4['region'].loc[(hfi_mod4['country'] == 'Taiwan')] = 'East Asia & Pacific'\nhfi_mod4.isna().sum()",
   "execution_count": 15,
   "outputs": [
    {
     "name": "stderr",
     "text": "/shared-libs/python3.7/py/lib/python3.7/site-packages/pandas/core/indexing.py:1637: SettingWithCopyWarning: \nA value is trying to be set on a copy of a slice from a DataFrame\n\nSee the caveats in the documentation: https://pandas.pydata.org/pandas-docs/stable/user_guide/indexing.html#returning-a-view-versus-a-copy\n  self._setitem_single_block(indexer, value, name)\n",
     "output_type": "stream"
    },
    {
     "output_type": "execute_result",
     "execution_count": 15,
     "data": {
      "text/plain": "region             0\nyear               0\nincome             0\ncountry            0\nhf_score          80\npf_rol            80\npf_ss             80\npf_movement       80\npf_religion       11\npf_association    33\npf_expression     80\npf_identity       80\npf_score          80\nef_government      6\nef_legal           0\nef_money          80\nef_trade          81\nef_regulation     67\nef_score          80\ndtype: int64"
     },
     "metadata": {}
    }
   ]
  },
  {
   "cell_type": "code",
   "metadata": {
    "deepnote_to_be_reexecuted": false,
    "source_hash": "9f755952",
    "execution_start": 1622349426771,
    "execution_millis": 23,
    "cell_id": "00016-0ad24ca6-231f-44a7-8e4b-34f115e972c0",
    "deepnote_cell_type": "code"
   },
   "source": "# write to csv, will work on this from now on\nhfi_mod4.to_csv('data/hf-index.csv', index = False)",
   "execution_count": 16,
   "outputs": []
  },
  {
   "cell_type": "code",
   "metadata": {
    "deepnote_to_be_reexecuted": false,
    "source_hash": "d3a31127",
    "execution_start": 1622349426796,
    "execution_millis": 76,
    "cell_id": "00017-0e4a8953-7491-40bf-a2de-9ddb8549e815",
    "deepnote_cell_type": "code"
   },
   "source": "# import world happiness score raw data\nhappiness_raw = pd.read_csv('data/world-happiness-2020.csv')\nhappiness_raw.head()",
   "execution_count": 17,
   "outputs": [
    {
     "output_type": "execute_result",
     "execution_count": 17,
     "data": {
      "application/vnd.deepnote.dataframe.v2+json": {
       "row_count": 5,
       "column_count": 26,
       "columns": [
        {
         "name": "Country name",
         "dtype": "object",
         "stats": {
          "unique_count": 1,
          "nan_count": 0,
          "categories": [
           {
            "name": "Afghanistan",
            "count": 5
           }
          ]
         }
        },
        {
         "name": "year",
         "dtype": "int64",
         "stats": {
          "unique_count": 5,
          "nan_count": 0,
          "min": "2008",
          "max": "2012",
          "histogram": [
           {
            "bin_start": 2008,
            "bin_end": 2008.4,
            "count": 1
           },
           {
            "bin_start": 2008.4,
            "bin_end": 2008.8,
            "count": 0
           },
           {
            "bin_start": 2008.8,
            "bin_end": 2009.2,
            "count": 1
           },
           {
            "bin_start": 2009.2,
            "bin_end": 2009.6,
            "count": 0
           },
           {
            "bin_start": 2009.6,
            "bin_end": 2010,
            "count": 0
           },
           {
            "bin_start": 2010,
            "bin_end": 2010.4,
            "count": 1
           },
           {
            "bin_start": 2010.4,
            "bin_end": 2010.8,
            "count": 0
           },
           {
            "bin_start": 2010.8,
            "bin_end": 2011.2,
            "count": 1
           },
           {
            "bin_start": 2011.2,
            "bin_end": 2011.6,
            "count": 0
           },
           {
            "bin_start": 2011.6,
            "bin_end": 2012,
            "count": 1
           }
          ]
         }
        },
        {
         "name": "Life Ladder",
         "dtype": "float64",
         "stats": {
          "unique_count": 5,
          "nan_count": 0,
          "min": "3.723589897",
          "max": "4.75838089",
          "histogram": [
           {
            "bin_start": 3.723589897,
            "bin_end": 3.8270689963,
            "count": 2
           },
           {
            "bin_start": 3.8270689963,
            "bin_end": 3.9305480956,
            "count": 1
           },
           {
            "bin_start": 3.9305480956,
            "bin_end": 4.0340271949,
            "count": 0
           },
           {
            "bin_start": 4.0340271949,
            "bin_end": 4.1375062942,
            "count": 0
           },
           {
            "bin_start": 4.1375062942,
            "bin_end": 4.2409853935,
            "count": 0
           },
           {
            "bin_start": 4.2409853935,
            "bin_end": 4.3444644928,
            "count": 0
           },
           {
            "bin_start": 4.3444644928,
            "bin_end": 4.4479435921,
            "count": 1
           },
           {
            "bin_start": 4.4479435921,
            "bin_end": 4.5514226914,
            "count": 0
           },
           {
            "bin_start": 4.5514226914,
            "bin_end": 4.654901790699999,
            "count": 0
           },
           {
            "bin_start": 4.654901790699999,
            "bin_end": 4.75838089,
            "count": 1
           }
          ]
         }
        },
        {
         "name": "Log GDP per capita",
         "dtype": "float64",
         "stats": {
          "unique_count": 5,
          "nan_count": 0,
          "min": "7.144916058",
          "max": "7.480295658",
          "histogram": [
           {
            "bin_start": 7.144916058,
            "bin_end": 7.178454018,
            "count": 1
           },
           {
            "bin_start": 7.178454018,
            "bin_end": 7.2119919779999995,
            "count": 0
           },
           {
            "bin_start": 7.2119919779999995,
            "bin_end": 7.245529938,
            "count": 0
           },
           {
            "bin_start": 7.245529938,
            "bin_end": 7.279067898,
            "count": 0
           },
           {
            "bin_start": 7.279067898,
            "bin_end": 7.3126058579999995,
            "count": 0
           },
           {
            "bin_start": 7.3126058579999995,
            "bin_end": 7.346143818,
            "count": 1
           },
           {
            "bin_start": 7.346143818,
            "bin_end": 7.379681778,
            "count": 0
           },
           {
            "bin_start": 7.379681778,
            "bin_end": 7.4132197380000004,
            "count": 1
           },
           {
            "bin_start": 7.4132197380000004,
            "bin_end": 7.446757698,
            "count": 1
           },
           {
            "bin_start": 7.446757698,
            "bin_end": 7.480295658,
            "count": 1
           }
          ]
         }
        },
        {
         "name": "Social support",
         "dtype": "float64",
         "stats": {
          "unique_count": 5,
          "nan_count": 0,
          "min": "0.450662315",
          "max": "0.55230844",
          "histogram": [
           {
            "bin_start": 0.450662315,
            "bin_end": 0.4608269275,
            "count": 1
           },
           {
            "bin_start": 0.4608269275,
            "bin_end": 0.47099154,
            "count": 0
           },
           {
            "bin_start": 0.47099154,
            "bin_end": 0.4811561525,
            "count": 0
           },
           {
            "bin_start": 0.4811561525,
            "bin_end": 0.491320765,
            "count": 0
           },
           {
            "bin_start": 0.491320765,
            "bin_end": 0.5014853775,
            "count": 0
           },
           {
            "bin_start": 0.5014853775,
            "bin_end": 0.51164999,
            "count": 0
           },
           {
            "bin_start": 0.51164999,
            "bin_end": 0.5218146025,
            "count": 2
           },
           {
            "bin_start": 0.5218146025,
            "bin_end": 0.531979215,
            "count": 0
           },
           {
            "bin_start": 0.531979215,
            "bin_end": 0.5421438275,
            "count": 1
           },
           {
            "bin_start": 0.5421438275,
            "bin_end": 0.55230844,
            "count": 1
           }
          ]
         }
        },
        {
         "name": "Healthy life expectancy at birth",
         "dtype": "float64",
         "stats": {
          "unique_count": 5,
          "nan_count": 0,
          "min": "50.79999924",
          "max": "52.24000168",
          "histogram": [
           {
            "bin_start": 50.79999924,
            "bin_end": 50.943999483999995,
            "count": 1
           },
           {
            "bin_start": 50.943999483999995,
            "bin_end": 51.087999728,
            "count": 0
           },
           {
            "bin_start": 51.087999728,
            "bin_end": 51.231999972,
            "count": 1
           },
           {
            "bin_start": 51.231999972,
            "bin_end": 51.376000216,
            "count": 0
           },
           {
            "bin_start": 51.376000216,
            "bin_end": 51.52000046,
            "count": 0
           },
           {
            "bin_start": 51.52000046,
            "bin_end": 51.664000703999996,
            "count": 1
           },
           {
            "bin_start": 51.664000703999996,
            "bin_end": 51.808000948,
            "count": 0
           },
           {
            "bin_start": 51.808000948,
            "bin_end": 51.952001192,
            "count": 1
           },
           {
            "bin_start": 51.952001192,
            "bin_end": 52.096001436,
            "count": 0
           },
           {
            "bin_start": 52.096001436,
            "bin_end": 52.24000168,
            "count": 1
           }
          ]
         }
        },
        {
         "name": "Freedom to make life choices",
         "dtype": "float64",
         "stats": {
          "unique_count": 5,
          "nan_count": 0,
          "min": "0.495901406",
          "max": "0.718114316",
          "histogram": [
           {
            "bin_start": 0.495901406,
            "bin_end": 0.518122697,
            "count": 1
           },
           {
            "bin_start": 0.518122697,
            "bin_end": 0.5403439879999999,
            "count": 1
           },
           {
            "bin_start": 0.5403439879999999,
            "bin_end": 0.562565279,
            "count": 0
           },
           {
            "bin_start": 0.562565279,
            "bin_end": 0.58478657,
            "count": 0
           },
           {
            "bin_start": 0.58478657,
            "bin_end": 0.607007861,
            "count": 1
           },
           {
            "bin_start": 0.607007861,
            "bin_end": 0.629229152,
            "count": 0
           },
           {
            "bin_start": 0.629229152,
            "bin_end": 0.651450443,
            "count": 0
           },
           {
            "bin_start": 0.651450443,
            "bin_end": 0.673671734,
            "count": 0
           },
           {
            "bin_start": 0.673671734,
            "bin_end": 0.6958930249999999,
            "count": 1
           },
           {
            "bin_start": 0.6958930249999999,
            "bin_end": 0.718114316,
            "count": 1
           }
          ]
         }
        },
        {
         "name": "Generosity",
         "dtype": "float64",
         "stats": {
          "unique_count": 5,
          "nan_count": 0,
          "min": "0.131577939",
          "max": "0.246943206",
          "histogram": [
           {
            "bin_start": 0.131577939,
            "bin_end": 0.1431144657,
            "count": 1
           },
           {
            "bin_start": 0.1431144657,
            "bin_end": 0.1546509924,
            "count": 0
           },
           {
            "bin_start": 0.1546509924,
            "bin_end": 0.16618751910000001,
            "count": 0
           },
           {
            "bin_start": 0.16618751910000001,
            "bin_end": 0.1777240458,
            "count": 1
           },
           {
            "bin_start": 0.1777240458,
            "bin_end": 0.1892605725,
            "count": 1
           },
           {
            "bin_start": 0.1892605725,
            "bin_end": 0.2007970992,
            "count": 0
           },
           {
            "bin_start": 0.2007970992,
            "bin_end": 0.2123336259,
            "count": 1
           },
           {
            "bin_start": 0.2123336259,
            "bin_end": 0.22387015259999998,
            "count": 0
           },
           {
            "bin_start": 0.22387015259999998,
            "bin_end": 0.23540667929999998,
            "count": 0
           },
           {
            "bin_start": 0.23540667929999998,
            "bin_end": 0.246943206,
            "count": 1
           }
          ]
         }
        },
        {
         "name": "Perceptions of corruption",
         "dtype": "float64",
         "stats": {
          "unique_count": 5,
          "nan_count": 0,
          "min": "0.706766069",
          "max": "0.88168633",
          "histogram": [
           {
            "bin_start": 0.706766069,
            "bin_end": 0.7242580951,
            "count": 1
           },
           {
            "bin_start": 0.7242580951,
            "bin_end": 0.7417501212000001,
            "count": 1
           },
           {
            "bin_start": 0.7417501212000001,
            "bin_end": 0.7592421473000001,
            "count": 0
           },
           {
            "bin_start": 0.7592421473000001,
            "bin_end": 0.7767341734000001,
            "count": 1
           },
           {
            "bin_start": 0.7767341734000001,
            "bin_end": 0.7942261995,
            "count": 0
           },
           {
            "bin_start": 0.7942261995,
            "bin_end": 0.8117182256,
            "count": 0
           },
           {
            "bin_start": 0.8117182256,
            "bin_end": 0.8292102517,
            "count": 0
           },
           {
            "bin_start": 0.8292102517,
            "bin_end": 0.8467022778,
            "count": 0
           },
           {
            "bin_start": 0.8467022778,
            "bin_end": 0.8641943039,
            "count": 1
           },
           {
            "bin_start": 0.8641943039,
            "bin_end": 0.88168633,
            "count": 1
           }
          ]
         }
        },
        {
         "name": "Positive affect",
         "dtype": "float64",
         "stats": {
          "unique_count": 5,
          "nan_count": 0,
          "min": "0.517637193",
          "max": "0.710384727",
          "histogram": [
           {
            "bin_start": 0.517637193,
            "bin_end": 0.5369119464,
            "count": 1
           },
           {
            "bin_start": 0.5369119464,
            "bin_end": 0.5561866998,
            "count": 0
           },
           {
            "bin_start": 0.5561866998,
            "bin_end": 0.5754614532,
            "count": 0
           },
           {
            "bin_start": 0.5754614532,
            "bin_end": 0.5947362066,
            "count": 1
           },
           {
            "bin_start": 0.5947362066,
            "bin_end": 0.61401096,
            "count": 1
           },
           {
            "bin_start": 0.61401096,
            "bin_end": 0.6332857134000001,
            "count": 1
           },
           {
            "bin_start": 0.6332857134000001,
            "bin_end": 0.6525604668,
            "count": 0
           },
           {
            "bin_start": 0.6525604668,
            "bin_end": 0.6718352202,
            "count": 0
           },
           {
            "bin_start": 0.6718352202,
            "bin_end": 0.6911099736,
            "count": 0
           },
           {
            "bin_start": 0.6911099736,
            "bin_end": 0.710384727,
            "count": 1
           }
          ]
         }
        },
        {
         "name": "Negative affect",
         "dtype": "float64",
         "stats": {
          "unique_count": 5,
          "nan_count": 0,
          "min": "0.23709242",
          "max": "0.275323808",
          "histogram": [
           {
            "bin_start": 0.23709242,
            "bin_end": 0.24091555879999998,
            "count": 1
           },
           {
            "bin_start": 0.24091555879999998,
            "bin_end": 0.2447386976,
            "count": 0
           },
           {
            "bin_start": 0.2447386976,
            "bin_end": 0.2485618364,
            "count": 0
           },
           {
            "bin_start": 0.2485618364,
            "bin_end": 0.25238497520000003,
            "count": 0
           },
           {
            "bin_start": 0.25238497520000003,
            "bin_end": 0.256208114,
            "count": 0
           },
           {
            "bin_start": 0.256208114,
            "bin_end": 0.2600312528,
            "count": 1
           },
           {
            "bin_start": 0.2600312528,
            "bin_end": 0.2638543916,
            "count": 0
           },
           {
            "bin_start": 0.2638543916,
            "bin_end": 0.2676775304,
            "count": 1
           },
           {
            "bin_start": 0.2676775304,
            "bin_end": 0.2715006692,
            "count": 1
           },
           {
            "bin_start": 0.2715006692,
            "bin_end": 0.275323808,
            "count": 1
           }
          ]
         }
        },
        {
         "name": "Confidence in national government",
         "dtype": "float64",
         "stats": {
          "unique_count": 5,
          "nan_count": 0,
          "min": "0.299357414",
          "max": "0.61207211",
          "histogram": [
           {
            "bin_start": 0.299357414,
            "bin_end": 0.3306288836,
            "count": 2
           },
           {
            "bin_start": 0.3306288836,
            "bin_end": 0.36190035319999997,
            "count": 0
           },
           {
            "bin_start": 0.36190035319999997,
            "bin_end": 0.39317182279999996,
            "count": 0
           },
           {
            "bin_start": 0.39317182279999996,
            "bin_end": 0.4244432924,
            "count": 0
           },
           {
            "bin_start": 0.4244432924,
            "bin_end": 0.45571476199999994,
            "count": 1
           },
           {
            "bin_start": 0.45571476199999994,
            "bin_end": 0.4869862316,
            "count": 0
           },
           {
            "bin_start": 0.4869862316,
            "bin_end": 0.5182577012,
            "count": 0
           },
           {
            "bin_start": 0.5182577012,
            "bin_end": 0.5495291708,
            "count": 0
           },
           {
            "bin_start": 0.5495291708,
            "bin_end": 0.5808006403999999,
            "count": 0
           },
           {
            "bin_start": 0.5808006403999999,
            "bin_end": 0.61207211,
            "count": 2
           }
          ]
         }
        },
        {
         "name": "Democratic Quality",
         "dtype": "float64",
         "stats": {
          "unique_count": 5,
          "nan_count": 0,
          "min": "-2.044092655",
          "max": "-1.842995763",
          "histogram": [
           {
            "bin_start": -2.044092655,
            "bin_end": -2.0239829658,
            "count": 1
           },
           {
            "bin_start": -2.0239829658,
            "bin_end": -2.0038732766000003,
            "count": 0
           },
           {
            "bin_start": -2.0038732766000003,
            "bin_end": -1.9837635874,
            "count": 1
           },
           {
            "bin_start": -1.9837635874,
            "bin_end": -1.9636538982,
            "count": 0
           },
           {
            "bin_start": -1.9636538982,
            "bin_end": -1.9435442090000001,
            "count": 0
           },
           {
            "bin_start": -1.9435442090000001,
            "bin_end": -1.9234345198,
            "count": 1
           },
           {
            "bin_start": -1.9234345198,
            "bin_end": -1.9033248306,
            "count": 1
           },
           {
            "bin_start": -1.9033248306,
            "bin_end": -1.8832151414,
            "count": 0
           },
           {
            "bin_start": -1.8832151414,
            "bin_end": -1.8631054522000001,
            "count": 0
           },
           {
            "bin_start": -1.8631054522000001,
            "bin_end": -1.842995763,
            "count": 1
           }
          ]
         }
        },
        {
         "name": "Delivery Quality",
         "dtype": "float64",
         "stats": {
          "unique_count": 5,
          "nan_count": 0,
          "min": "-1.655084372",
          "max": "-1.40407753",
          "histogram": [
           {
            "bin_start": -1.655084372,
            "bin_end": -1.6299836877999998,
            "count": 2
           },
           {
            "bin_start": -1.6299836877999998,
            "bin_end": -1.6048830036,
            "count": 2
           },
           {
            "bin_start": -1.6048830036,
            "bin_end": -1.5797823194,
            "count": 0
           },
           {
            "bin_start": -1.5797823194,
            "bin_end": -1.5546816352,
            "count": 0
           },
           {
            "bin_start": -1.5546816352,
            "bin_end": -1.5295809509999998,
            "count": 0
           },
           {
            "bin_start": -1.5295809509999998,
            "bin_end": -1.5044802668,
            "count": 0
           },
           {
            "bin_start": -1.5044802668,
            "bin_end": -1.4793795826,
            "count": 0
           },
           {
            "bin_start": -1.4793795826,
            "bin_end": -1.4542788984,
            "count": 0
           },
           {
            "bin_start": -1.4542788984,
            "bin_end": -1.4291782141999998,
            "count": 0
           },
           {
            "bin_start": -1.4291782141999998,
            "bin_end": -1.40407753,
            "count": 1
           }
          ]
         }
        },
        {
         "name": "Standard deviation of ladder by country-year",
         "dtype": "float64",
         "stats": {
          "unique_count": 5,
          "nan_count": 0,
          "min": "1.722687602",
          "max": "1.878621817",
          "histogram": [
           {
            "bin_start": 1.722687602,
            "bin_end": 1.7382810235,
            "count": 1
           },
           {
            "bin_start": 1.7382810235,
            "bin_end": 1.753874445,
            "count": 0
           },
           {
            "bin_start": 1.753874445,
            "bin_end": 1.7694678664999999,
            "count": 0
           },
           {
            "bin_start": 1.7694678664999999,
            "bin_end": 1.7850612879999999,
            "count": 1
           },
           {
            "bin_start": 1.7850612879999999,
            "bin_end": 1.8006547094999998,
            "count": 2
           },
           {
            "bin_start": 1.8006547094999998,
            "bin_end": 1.816248131,
            "count": 0
           },
           {
            "bin_start": 1.816248131,
            "bin_end": 1.8318415525,
            "count": 0
           },
           {
            "bin_start": 1.8318415525,
            "bin_end": 1.847434974,
            "count": 0
           },
           {
            "bin_start": 1.847434974,
            "bin_end": 1.8630283955,
            "count": 0
           },
           {
            "bin_start": 1.8630283955,
            "bin_end": 1.878621817,
            "count": 1
           }
          ]
         }
        },
        {
         "name": "Standard deviation/Mean of ladder by country-year",
         "dtype": "float64",
         "stats": {
          "unique_count": 5,
          "nan_count": 0,
          "min": "0.391361743",
          "max": "0.476599723",
          "histogram": [
           {
            "bin_start": 0.391361743,
            "bin_end": 0.39988554099999996,
            "count": 2
           },
           {
            "bin_start": 0.39988554099999996,
            "bin_end": 0.408409339,
            "count": 0
           },
           {
            "bin_start": 0.408409339,
            "bin_end": 0.416933137,
            "count": 0
           },
           {
            "bin_start": 0.416933137,
            "bin_end": 0.425456935,
            "count": 0
           },
           {
            "bin_start": 0.425456935,
            "bin_end": 0.43398073299999995,
            "count": 0
           },
           {
            "bin_start": 0.43398073299999995,
            "bin_end": 0.442504531,
            "count": 0
           },
           {
            "bin_start": 0.442504531,
            "bin_end": 0.451028329,
            "count": 0
           },
           {
            "bin_start": 0.451028329,
            "bin_end": 0.459552127,
            "count": 0
           },
           {
            "bin_start": 0.459552127,
            "bin_end": 0.46807592499999995,
            "count": 1
           },
           {
            "bin_start": 0.46807592499999995,
            "bin_end": 0.476599723,
            "count": 2
           }
          ]
         }
        },
        {
         "name": "GINI index (World Bank estimate)",
         "dtype": "float64",
         "stats": {
          "unique_count": 0,
          "nan_count": 5,
          "min": null,
          "max": null,
          "histogram": [
           {
            "bin_start": 0,
            "bin_end": 0.1,
            "count": 0
           },
           {
            "bin_start": 0.1,
            "bin_end": 0.2,
            "count": 0
           },
           {
            "bin_start": 0.2,
            "bin_end": 0.30000000000000004,
            "count": 0
           },
           {
            "bin_start": 0.30000000000000004,
            "bin_end": 0.4,
            "count": 0
           },
           {
            "bin_start": 0.4,
            "bin_end": 0.5,
            "count": 0
           },
           {
            "bin_start": 0.5,
            "bin_end": 0.6000000000000001,
            "count": 0
           },
           {
            "bin_start": 0.6000000000000001,
            "bin_end": 0.7000000000000001,
            "count": 0
           },
           {
            "bin_start": 0.7000000000000001,
            "bin_end": 0.8,
            "count": 0
           },
           {
            "bin_start": 0.8,
            "bin_end": 0.9,
            "count": 0
           },
           {
            "bin_start": 0.9,
            "bin_end": 1,
            "count": 0
           }
          ]
         }
        },
        {
         "name": "GINI index (World Bank estimate), average 2000-2017, unbalanced panel",
         "dtype": "float64",
         "stats": {
          "unique_count": 0,
          "nan_count": 5,
          "min": null,
          "max": null,
          "histogram": [
           {
            "bin_start": 0,
            "bin_end": 0.1,
            "count": 0
           },
           {
            "bin_start": 0.1,
            "bin_end": 0.2,
            "count": 0
           },
           {
            "bin_start": 0.2,
            "bin_end": 0.30000000000000004,
            "count": 0
           },
           {
            "bin_start": 0.30000000000000004,
            "bin_end": 0.4,
            "count": 0
           },
           {
            "bin_start": 0.4,
            "bin_end": 0.5,
            "count": 0
           },
           {
            "bin_start": 0.5,
            "bin_end": 0.6000000000000001,
            "count": 0
           },
           {
            "bin_start": 0.6000000000000001,
            "bin_end": 0.7000000000000001,
            "count": 0
           },
           {
            "bin_start": 0.7000000000000001,
            "bin_end": 0.8,
            "count": 0
           },
           {
            "bin_start": 0.8,
            "bin_end": 0.9,
            "count": 0
           },
           {
            "bin_start": 0.9,
            "bin_end": 1,
            "count": 0
           }
          ]
         }
        },
        {
         "name": "gini of household income reported in Gallup, by wp5-year",
         "dtype": "float64",
         "stats": {
          "unique_count": 4,
          "nan_count": 1,
          "min": "0.327318162",
          "max": "0.441905767",
          "histogram": [
           {
            "bin_start": 0.327318162,
            "bin_end": 0.3387769225,
            "count": 2
           },
           {
            "bin_start": 0.3387769225,
            "bin_end": 0.350235683,
            "count": 1
           },
           {
            "bin_start": 0.350235683,
            "bin_end": 0.3616944435,
            "count": 0
           },
           {
            "bin_start": 0.3616944435,
            "bin_end": 0.373153204,
            "count": 0
           },
           {
            "bin_start": 0.373153204,
            "bin_end": 0.3846119645,
            "count": 0
           },
           {
            "bin_start": 0.3846119645,
            "bin_end": 0.396070725,
            "count": 0
           },
           {
            "bin_start": 0.396070725,
            "bin_end": 0.4075294855,
            "count": 0
           },
           {
            "bin_start": 0.4075294855,
            "bin_end": 0.418988246,
            "count": 0
           },
           {
            "bin_start": 0.418988246,
            "bin_end": 0.4304470065,
            "count": 0
           },
           {
            "bin_start": 0.4304470065,
            "bin_end": 0.441905767,
            "count": 1
           }
          ]
         }
        },
        {
         "name": "Most people can be trusted, Gallup",
         "dtype": "float64",
         "stats": {
          "unique_count": 2,
          "nan_count": 3,
          "min": "0.275832713",
          "max": "0.286315262",
          "histogram": [
           {
            "bin_start": 0.275832713,
            "bin_end": 0.2768809679,
            "count": 1
           },
           {
            "bin_start": 0.2768809679,
            "bin_end": 0.2779292228,
            "count": 0
           },
           {
            "bin_start": 0.2779292228,
            "bin_end": 0.27897747770000003,
            "count": 0
           },
           {
            "bin_start": 0.27897747770000003,
            "bin_end": 0.2800257326,
            "count": 0
           },
           {
            "bin_start": 0.2800257326,
            "bin_end": 0.2810739875,
            "count": 0
           },
           {
            "bin_start": 0.2810739875,
            "bin_end": 0.2821222424,
            "count": 0
           },
           {
            "bin_start": 0.2821222424,
            "bin_end": 0.2831704973,
            "count": 0
           },
           {
            "bin_start": 0.2831704973,
            "bin_end": 0.28421875220000004,
            "count": 0
           },
           {
            "bin_start": 0.28421875220000004,
            "bin_end": 0.2852670071,
            "count": 0
           },
           {
            "bin_start": 0.2852670071,
            "bin_end": 0.286315262,
            "count": 1
           }
          ]
         }
        },
        {
         "name": "Most people can be trusted, WVS round 1981-1984",
         "dtype": "float64",
         "stats": {
          "unique_count": 0,
          "nan_count": 5,
          "min": null,
          "max": null,
          "histogram": [
           {
            "bin_start": 0,
            "bin_end": 0.1,
            "count": 0
           },
           {
            "bin_start": 0.1,
            "bin_end": 0.2,
            "count": 0
           },
           {
            "bin_start": 0.2,
            "bin_end": 0.30000000000000004,
            "count": 0
           },
           {
            "bin_start": 0.30000000000000004,
            "bin_end": 0.4,
            "count": 0
           },
           {
            "bin_start": 0.4,
            "bin_end": 0.5,
            "count": 0
           },
           {
            "bin_start": 0.5,
            "bin_end": 0.6000000000000001,
            "count": 0
           },
           {
            "bin_start": 0.6000000000000001,
            "bin_end": 0.7000000000000001,
            "count": 0
           },
           {
            "bin_start": 0.7000000000000001,
            "bin_end": 0.8,
            "count": 0
           },
           {
            "bin_start": 0.8,
            "bin_end": 0.9,
            "count": 0
           },
           {
            "bin_start": 0.9,
            "bin_end": 1,
            "count": 0
           }
          ]
         }
        },
        {
         "name": "Most people can be trusted, WVS round 1989-1993",
         "dtype": "float64",
         "stats": {
          "unique_count": 0,
          "nan_count": 5,
          "min": null,
          "max": null,
          "histogram": [
           {
            "bin_start": 0,
            "bin_end": 0.1,
            "count": 0
           },
           {
            "bin_start": 0.1,
            "bin_end": 0.2,
            "count": 0
           },
           {
            "bin_start": 0.2,
            "bin_end": 0.30000000000000004,
            "count": 0
           },
           {
            "bin_start": 0.30000000000000004,
            "bin_end": 0.4,
            "count": 0
           },
           {
            "bin_start": 0.4,
            "bin_end": 0.5,
            "count": 0
           },
           {
            "bin_start": 0.5,
            "bin_end": 0.6000000000000001,
            "count": 0
           },
           {
            "bin_start": 0.6000000000000001,
            "bin_end": 0.7000000000000001,
            "count": 0
           },
           {
            "bin_start": 0.7000000000000001,
            "bin_end": 0.8,
            "count": 0
           },
           {
            "bin_start": 0.8,
            "bin_end": 0.9,
            "count": 0
           },
           {
            "bin_start": 0.9,
            "bin_end": 1,
            "count": 0
           }
          ]
         }
        },
        {
         "name": "Most people can be trusted, WVS round 1994-1998",
         "dtype": "float64",
         "stats": {
          "unique_count": 0,
          "nan_count": 5,
          "min": null,
          "max": null,
          "histogram": [
           {
            "bin_start": 0,
            "bin_end": 0.1,
            "count": 0
           },
           {
            "bin_start": 0.1,
            "bin_end": 0.2,
            "count": 0
           },
           {
            "bin_start": 0.2,
            "bin_end": 0.30000000000000004,
            "count": 0
           },
           {
            "bin_start": 0.30000000000000004,
            "bin_end": 0.4,
            "count": 0
           },
           {
            "bin_start": 0.4,
            "bin_end": 0.5,
            "count": 0
           },
           {
            "bin_start": 0.5,
            "bin_end": 0.6000000000000001,
            "count": 0
           },
           {
            "bin_start": 0.6000000000000001,
            "bin_end": 0.7000000000000001,
            "count": 0
           },
           {
            "bin_start": 0.7000000000000001,
            "bin_end": 0.8,
            "count": 0
           },
           {
            "bin_start": 0.8,
            "bin_end": 0.9,
            "count": 0
           },
           {
            "bin_start": 0.9,
            "bin_end": 1,
            "count": 0
           }
          ]
         }
        },
        {
         "name": "Most people can be trusted, WVS round 1999-2004",
         "dtype": "float64",
         "stats": {
          "unique_count": 0,
          "nan_count": 5,
          "min": null,
          "max": null,
          "histogram": [
           {
            "bin_start": 0,
            "bin_end": 0.1,
            "count": 0
           },
           {
            "bin_start": 0.1,
            "bin_end": 0.2,
            "count": 0
           },
           {
            "bin_start": 0.2,
            "bin_end": 0.30000000000000004,
            "count": 0
           },
           {
            "bin_start": 0.30000000000000004,
            "bin_end": 0.4,
            "count": 0
           },
           {
            "bin_start": 0.4,
            "bin_end": 0.5,
            "count": 0
           },
           {
            "bin_start": 0.5,
            "bin_end": 0.6000000000000001,
            "count": 0
           },
           {
            "bin_start": 0.6000000000000001,
            "bin_end": 0.7000000000000001,
            "count": 0
           },
           {
            "bin_start": 0.7000000000000001,
            "bin_end": 0.8,
            "count": 0
           },
           {
            "bin_start": 0.8,
            "bin_end": 0.9,
            "count": 0
           },
           {
            "bin_start": 0.9,
            "bin_end": 1,
            "count": 0
           }
          ]
         }
        },
        {
         "name": "Most people can be trusted, WVS round 2005-2009",
         "dtype": "float64",
         "stats": {
          "unique_count": 0,
          "nan_count": 5,
          "min": null,
          "max": null,
          "histogram": [
           {
            "bin_start": 0,
            "bin_end": 0.1,
            "count": 0
           },
           {
            "bin_start": 0.1,
            "bin_end": 0.2,
            "count": 0
           },
           {
            "bin_start": 0.2,
            "bin_end": 0.30000000000000004,
            "count": 0
           },
           {
            "bin_start": 0.30000000000000004,
            "bin_end": 0.4,
            "count": 0
           },
           {
            "bin_start": 0.4,
            "bin_end": 0.5,
            "count": 0
           },
           {
            "bin_start": 0.5,
            "bin_end": 0.6000000000000001,
            "count": 0
           },
           {
            "bin_start": 0.6000000000000001,
            "bin_end": 0.7000000000000001,
            "count": 0
           },
           {
            "bin_start": 0.7000000000000001,
            "bin_end": 0.8,
            "count": 0
           },
           {
            "bin_start": 0.8,
            "bin_end": 0.9,
            "count": 0
           },
           {
            "bin_start": 0.9,
            "bin_end": 1,
            "count": 0
           }
          ]
         }
        },
        {
         "name": "Most people can be trusted, WVS round 2010-2014",
         "dtype": "float64",
         "stats": {
          "unique_count": 0,
          "nan_count": 5,
          "min": null,
          "max": null,
          "histogram": [
           {
            "bin_start": 0,
            "bin_end": 0.1,
            "count": 0
           },
           {
            "bin_start": 0.1,
            "bin_end": 0.2,
            "count": 0
           },
           {
            "bin_start": 0.2,
            "bin_end": 0.30000000000000004,
            "count": 0
           },
           {
            "bin_start": 0.30000000000000004,
            "bin_end": 0.4,
            "count": 0
           },
           {
            "bin_start": 0.4,
            "bin_end": 0.5,
            "count": 0
           },
           {
            "bin_start": 0.5,
            "bin_end": 0.6000000000000001,
            "count": 0
           },
           {
            "bin_start": 0.6000000000000001,
            "bin_end": 0.7000000000000001,
            "count": 0
           },
           {
            "bin_start": 0.7000000000000001,
            "bin_end": 0.8,
            "count": 0
           },
           {
            "bin_start": 0.8,
            "bin_end": 0.9,
            "count": 0
           },
           {
            "bin_start": 0.9,
            "bin_end": 1,
            "count": 0
           }
          ]
         }
        },
        {
         "name": "_deepnote_index_column",
         "dtype": "int64"
        }
       ],
       "rows_top": [
        {
         "Country name": "Afghanistan",
         "year": 2008,
         "Life Ladder": 3.723589897,
         "Log GDP per capita": 7.144916058,
         "Social support": 0.450662315,
         "Healthy life expectancy at birth": 50.79999924,
         "Freedom to make life choices": 0.718114316,
         "Generosity": 0.178993046,
         "Perceptions of corruption": 0.88168633,
         "Positive affect": 0.517637193,
         "Negative affect": 0.25819549,
         "Confidence in national government": 0.61207211,
         "Democratic Quality": -1.929689646,
         "Delivery Quality": -1.655084372,
         "Standard deviation of ladder by country-year": 1.774661899,
         "Standard deviation/Mean of ladder by country-year": 0.476599723,
         "GINI index (World Bank estimate)": "nan",
         "GINI index (World Bank estimate), average 2000-2017, unbalanced panel": "nan",
         "gini of household income reported in Gallup, by wp5-year": "nan",
         "Most people can be trusted, Gallup": "nan",
         "Most people can be trusted, WVS round 1981-1984": "nan",
         "Most people can be trusted, WVS round 1989-1993": "nan",
         "Most people can be trusted, WVS round 1994-1998": "nan",
         "Most people can be trusted, WVS round 1999-2004": "nan",
         "Most people can be trusted, WVS round 2005-2009": "nan",
         "Most people can be trusted, WVS round 2010-2014": "nan",
         "_deepnote_index_column": 0
        },
        {
         "Country name": "Afghanistan",
         "year": 2009,
         "Life Ladder": 4.401778221,
         "Log GDP per capita": 7.314788342,
         "Social support": 0.55230844,
         "Healthy life expectancy at birth": 51.20000076,
         "Freedom to make life choices": 0.678896368,
         "Generosity": 0.201228276,
         "Perceptions of corruption": 0.850035429,
         "Positive affect": 0.583925605,
         "Negative affect": 0.23709242,
         "Confidence in national government": 0.611545205,
         "Democratic Quality": -2.044092655,
         "Delivery Quality": -1.635024786,
         "Standard deviation of ladder by country-year": 1.722687602,
         "Standard deviation/Mean of ladder by country-year": 0.391361743,
         "GINI index (World Bank estimate)": "nan",
         "GINI index (World Bank estimate), average 2000-2017, unbalanced panel": "nan",
         "gini of household income reported in Gallup, by wp5-year": 0.441905767,
         "Most people can be trusted, Gallup": 0.286315262,
         "Most people can be trusted, WVS round 1981-1984": "nan",
         "Most people can be trusted, WVS round 1989-1993": "nan",
         "Most people can be trusted, WVS round 1994-1998": "nan",
         "Most people can be trusted, WVS round 1999-2004": "nan",
         "Most people can be trusted, WVS round 2005-2009": "nan",
         "Most people can be trusted, WVS round 2010-2014": "nan",
         "_deepnote_index_column": 1
        },
        {
         "Country name": "Afghanistan",
         "year": 2010,
         "Life Ladder": 4.75838089,
         "Log GDP per capita": 7.421525478,
         "Social support": 0.539075196,
         "Healthy life expectancy at birth": 51.59999847,
         "Freedom to make life choices": 0.60012722,
         "Generosity": 0.131577939,
         "Perceptions of corruption": 0.706766069,
         "Positive affect": 0.61826545,
         "Negative affect": 0.275323808,
         "Confidence in national government": 0.299357414,
         "Democratic Quality": -1.991810083,
         "Delivery Quality": -1.617176056,
         "Standard deviation of ladder by country-year": 1.878621817,
         "Standard deviation/Mean of ladder by country-year": 0.394802749,
         "GINI index (World Bank estimate)": "nan",
         "GINI index (World Bank estimate), average 2000-2017, unbalanced panel": "nan",
         "gini of household income reported in Gallup, by wp5-year": 0.327318162,
         "Most people can be trusted, Gallup": 0.275832713,
         "Most people can be trusted, WVS round 1981-1984": "nan",
         "Most people can be trusted, WVS round 1989-1993": "nan",
         "Most people can be trusted, WVS round 1994-1998": "nan",
         "Most people can be trusted, WVS round 1999-2004": "nan",
         "Most people can be trusted, WVS round 2005-2009": "nan",
         "Most people can be trusted, WVS round 2010-2014": "nan",
         "_deepnote_index_column": 2
        },
        {
         "Country name": "Afghanistan",
         "year": 2011,
         "Life Ladder": 3.83171916,
         "Log GDP per capita": 7.394348621,
         "Social support": 0.521103561,
         "Healthy life expectancy at birth": 51.91999817,
         "Freedom to make life choices": 0.495901406,
         "Generosity": 0.173451617,
         "Perceptions of corruption": 0.731108546,
         "Positive affect": 0.611387312,
         "Negative affect": 0.267174691,
         "Confidence in national government": 0.307385713,
         "Democratic Quality": -1.919018269,
         "Delivery Quality": -1.616221189,
         "Standard deviation of ladder by country-year": 1.78535974,
         "Standard deviation/Mean of ladder by country-year": 0.465942234,
         "GINI index (World Bank estimate)": "nan",
         "GINI index (World Bank estimate), average 2000-2017, unbalanced panel": "nan",
         "gini of household income reported in Gallup, by wp5-year": 0.336764246,
         "Most people can be trusted, Gallup": "nan",
         "Most people can be trusted, WVS round 1981-1984": "nan",
         "Most people can be trusted, WVS round 1989-1993": "nan",
         "Most people can be trusted, WVS round 1994-1998": "nan",
         "Most people can be trusted, WVS round 1999-2004": "nan",
         "Most people can be trusted, WVS round 2005-2009": "nan",
         "Most people can be trusted, WVS round 2010-2014": "nan",
         "_deepnote_index_column": 3
        },
        {
         "Country name": "Afghanistan",
         "year": 2012,
         "Life Ladder": 3.782937527,
         "Log GDP per capita": 7.480295658,
         "Social support": 0.520636737,
         "Healthy life expectancy at birth": 52.24000168,
         "Freedom to make life choices": 0.530935049,
         "Generosity": 0.246943206,
         "Perceptions of corruption": 0.775619805,
         "Positive affect": 0.710384727,
         "Negative affect": 0.267919123,
         "Confidence in national government": 0.435440153,
         "Democratic Quality": -1.842995763,
         "Delivery Quality": -1.40407753,
         "Standard deviation of ladder by country-year": 1.798283219,
         "Standard deviation/Mean of ladder by country-year": 0.47536689,
         "GINI index (World Bank estimate)": "nan",
         "GINI index (World Bank estimate), average 2000-2017, unbalanced panel": "nan",
         "gini of household income reported in Gallup, by wp5-year": 0.344539613,
         "Most people can be trusted, Gallup": "nan",
         "Most people can be trusted, WVS round 1981-1984": "nan",
         "Most people can be trusted, WVS round 1989-1993": "nan",
         "Most people can be trusted, WVS round 1994-1998": "nan",
         "Most people can be trusted, WVS round 1999-2004": "nan",
         "Most people can be trusted, WVS round 2005-2009": "nan",
         "Most people can be trusted, WVS round 2010-2014": "nan",
         "_deepnote_index_column": 4
        }
       ],
       "rows_bottom": null
      },
      "text/plain": "  Country name  year  Life Ladder  Log GDP per capita  Social support  \\\n0  Afghanistan  2008     3.723590            7.144916        0.450662   \n1  Afghanistan  2009     4.401778            7.314788        0.552308   \n2  Afghanistan  2010     4.758381            7.421525        0.539075   \n3  Afghanistan  2011     3.831719            7.394349        0.521104   \n4  Afghanistan  2012     3.782938            7.480296        0.520637   \n\n   Healthy life expectancy at birth  Freedom to make life choices  Generosity  \\\n0                         50.799999                      0.718114    0.178993   \n1                         51.200001                      0.678896    0.201228   \n2                         51.599998                      0.600127    0.131578   \n3                         51.919998                      0.495901    0.173452   \n4                         52.240002                      0.530935    0.246943   \n\n   Perceptions of corruption  Positive affect  ...  \\\n0                   0.881686         0.517637  ...   \n1                   0.850035         0.583926  ...   \n2                   0.706766         0.618265  ...   \n3                   0.731109         0.611387  ...   \n4                   0.775620         0.710385  ...   \n\n   GINI index (World Bank estimate)  \\\n0                               NaN   \n1                               NaN   \n2                               NaN   \n3                               NaN   \n4                               NaN   \n\n   GINI index (World Bank estimate), average 2000-2017, unbalanced panel  \\\n0                                                NaN                       \n1                                                NaN                       \n2                                                NaN                       \n3                                                NaN                       \n4                                                NaN                       \n\n   gini of household income reported in Gallup, by wp5-year  \\\n0                                                NaN          \n1                                           0.441906          \n2                                           0.327318          \n3                                           0.336764          \n4                                           0.344540          \n\n   Most people can be trusted, Gallup  \\\n0                                 NaN   \n1                            0.286315   \n2                            0.275833   \n3                                 NaN   \n4                                 NaN   \n\n   Most people can be trusted, WVS round 1981-1984  \\\n0                                              NaN   \n1                                              NaN   \n2                                              NaN   \n3                                              NaN   \n4                                              NaN   \n\n   Most people can be trusted, WVS round 1989-1993  \\\n0                                              NaN   \n1                                              NaN   \n2                                              NaN   \n3                                              NaN   \n4                                              NaN   \n\n   Most people can be trusted, WVS round 1994-1998  \\\n0                                              NaN   \n1                                              NaN   \n2                                              NaN   \n3                                              NaN   \n4                                              NaN   \n\n   Most people can be trusted, WVS round 1999-2004  \\\n0                                              NaN   \n1                                              NaN   \n2                                              NaN   \n3                                              NaN   \n4                                              NaN   \n\n   Most people can be trusted, WVS round 2005-2009  \\\n0                                              NaN   \n1                                              NaN   \n2                                              NaN   \n3                                              NaN   \n4                                              NaN   \n\n   Most people can be trusted, WVS round 2010-2014  \n0                                              NaN  \n1                                              NaN  \n2                                              NaN  \n3                                              NaN  \n4                                              NaN  \n\n[5 rows x 26 columns]",
      "text/html": "<div>\n<style scoped>\n    .dataframe tbody tr th:only-of-type {\n        vertical-align: middle;\n    }\n\n    .dataframe tbody tr th {\n        vertical-align: top;\n    }\n\n    .dataframe thead th {\n        text-align: right;\n    }\n</style>\n<table border=\"1\" class=\"dataframe\">\n  <thead>\n    <tr style=\"text-align: right;\">\n      <th></th>\n      <th>Country name</th>\n      <th>year</th>\n      <th>Life Ladder</th>\n      <th>Log GDP per capita</th>\n      <th>Social support</th>\n      <th>Healthy life expectancy at birth</th>\n      <th>Freedom to make life choices</th>\n      <th>Generosity</th>\n      <th>Perceptions of corruption</th>\n      <th>Positive affect</th>\n      <th>...</th>\n      <th>GINI index (World Bank estimate)</th>\n      <th>GINI index (World Bank estimate), average 2000-2017, unbalanced panel</th>\n      <th>gini of household income reported in Gallup, by wp5-year</th>\n      <th>Most people can be trusted, Gallup</th>\n      <th>Most people can be trusted, WVS round 1981-1984</th>\n      <th>Most people can be trusted, WVS round 1989-1993</th>\n      <th>Most people can be trusted, WVS round 1994-1998</th>\n      <th>Most people can be trusted, WVS round 1999-2004</th>\n      <th>Most people can be trusted, WVS round 2005-2009</th>\n      <th>Most people can be trusted, WVS round 2010-2014</th>\n    </tr>\n  </thead>\n  <tbody>\n    <tr>\n      <th>0</th>\n      <td>Afghanistan</td>\n      <td>2008</td>\n      <td>3.723590</td>\n      <td>7.144916</td>\n      <td>0.450662</td>\n      <td>50.799999</td>\n      <td>0.718114</td>\n      <td>0.178993</td>\n      <td>0.881686</td>\n      <td>0.517637</td>\n      <td>...</td>\n      <td>NaN</td>\n      <td>NaN</td>\n      <td>NaN</td>\n      <td>NaN</td>\n      <td>NaN</td>\n      <td>NaN</td>\n      <td>NaN</td>\n      <td>NaN</td>\n      <td>NaN</td>\n      <td>NaN</td>\n    </tr>\n    <tr>\n      <th>1</th>\n      <td>Afghanistan</td>\n      <td>2009</td>\n      <td>4.401778</td>\n      <td>7.314788</td>\n      <td>0.552308</td>\n      <td>51.200001</td>\n      <td>0.678896</td>\n      <td>0.201228</td>\n      <td>0.850035</td>\n      <td>0.583926</td>\n      <td>...</td>\n      <td>NaN</td>\n      <td>NaN</td>\n      <td>0.441906</td>\n      <td>0.286315</td>\n      <td>NaN</td>\n      <td>NaN</td>\n      <td>NaN</td>\n      <td>NaN</td>\n      <td>NaN</td>\n      <td>NaN</td>\n    </tr>\n    <tr>\n      <th>2</th>\n      <td>Afghanistan</td>\n      <td>2010</td>\n      <td>4.758381</td>\n      <td>7.421525</td>\n      <td>0.539075</td>\n      <td>51.599998</td>\n      <td>0.600127</td>\n      <td>0.131578</td>\n      <td>0.706766</td>\n      <td>0.618265</td>\n      <td>...</td>\n      <td>NaN</td>\n      <td>NaN</td>\n      <td>0.327318</td>\n      <td>0.275833</td>\n      <td>NaN</td>\n      <td>NaN</td>\n      <td>NaN</td>\n      <td>NaN</td>\n      <td>NaN</td>\n      <td>NaN</td>\n    </tr>\n    <tr>\n      <th>3</th>\n      <td>Afghanistan</td>\n      <td>2011</td>\n      <td>3.831719</td>\n      <td>7.394349</td>\n      <td>0.521104</td>\n      <td>51.919998</td>\n      <td>0.495901</td>\n      <td>0.173452</td>\n      <td>0.731109</td>\n      <td>0.611387</td>\n      <td>...</td>\n      <td>NaN</td>\n      <td>NaN</td>\n      <td>0.336764</td>\n      <td>NaN</td>\n      <td>NaN</td>\n      <td>NaN</td>\n      <td>NaN</td>\n      <td>NaN</td>\n      <td>NaN</td>\n      <td>NaN</td>\n    </tr>\n    <tr>\n      <th>4</th>\n      <td>Afghanistan</td>\n      <td>2012</td>\n      <td>3.782938</td>\n      <td>7.480296</td>\n      <td>0.520637</td>\n      <td>52.240002</td>\n      <td>0.530935</td>\n      <td>0.246943</td>\n      <td>0.775620</td>\n      <td>0.710385</td>\n      <td>...</td>\n      <td>NaN</td>\n      <td>NaN</td>\n      <td>0.344540</td>\n      <td>NaN</td>\n      <td>NaN</td>\n      <td>NaN</td>\n      <td>NaN</td>\n      <td>NaN</td>\n      <td>NaN</td>\n      <td>NaN</td>\n    </tr>\n  </tbody>\n</table>\n<p>5 rows × 26 columns</p>\n</div>"
     },
     "metadata": {}
    }
   ]
  },
  {
   "cell_type": "code",
   "metadata": {
    "deepnote_to_be_reexecuted": false,
    "source_hash": "a8b1b23d",
    "execution_start": 1622349426909,
    "execution_millis": 8,
    "cell_id": "00018-8a37fae5-f5e7-41bc-8727-301ba96d1b8a",
    "deepnote_cell_type": "code"
   },
   "source": "column_names = ['Country name', 'year', 'Life Ladder']\nhappiness = happiness_raw.loc[:, column_names]\nhappiness.head()",
   "execution_count": 18,
   "outputs": [
    {
     "output_type": "execute_result",
     "execution_count": 18,
     "data": {
      "application/vnd.deepnote.dataframe.v2+json": {
       "row_count": 5,
       "column_count": 3,
       "columns": [
        {
         "name": "Country name",
         "dtype": "object",
         "stats": {
          "unique_count": 1,
          "nan_count": 0,
          "categories": [
           {
            "name": "Afghanistan",
            "count": 5
           }
          ]
         }
        },
        {
         "name": "year",
         "dtype": "int64",
         "stats": {
          "unique_count": 5,
          "nan_count": 0,
          "min": "2008",
          "max": "2012",
          "histogram": [
           {
            "bin_start": 2008,
            "bin_end": 2008.4,
            "count": 1
           },
           {
            "bin_start": 2008.4,
            "bin_end": 2008.8,
            "count": 0
           },
           {
            "bin_start": 2008.8,
            "bin_end": 2009.2,
            "count": 1
           },
           {
            "bin_start": 2009.2,
            "bin_end": 2009.6,
            "count": 0
           },
           {
            "bin_start": 2009.6,
            "bin_end": 2010,
            "count": 0
           },
           {
            "bin_start": 2010,
            "bin_end": 2010.4,
            "count": 1
           },
           {
            "bin_start": 2010.4,
            "bin_end": 2010.8,
            "count": 0
           },
           {
            "bin_start": 2010.8,
            "bin_end": 2011.2,
            "count": 1
           },
           {
            "bin_start": 2011.2,
            "bin_end": 2011.6,
            "count": 0
           },
           {
            "bin_start": 2011.6,
            "bin_end": 2012,
            "count": 1
           }
          ]
         }
        },
        {
         "name": "Life Ladder",
         "dtype": "float64",
         "stats": {
          "unique_count": 5,
          "nan_count": 0,
          "min": "3.723589897",
          "max": "4.75838089",
          "histogram": [
           {
            "bin_start": 3.723589897,
            "bin_end": 3.8270689963,
            "count": 2
           },
           {
            "bin_start": 3.8270689963,
            "bin_end": 3.9305480956,
            "count": 1
           },
           {
            "bin_start": 3.9305480956,
            "bin_end": 4.0340271949,
            "count": 0
           },
           {
            "bin_start": 4.0340271949,
            "bin_end": 4.1375062942,
            "count": 0
           },
           {
            "bin_start": 4.1375062942,
            "bin_end": 4.2409853935,
            "count": 0
           },
           {
            "bin_start": 4.2409853935,
            "bin_end": 4.3444644928,
            "count": 0
           },
           {
            "bin_start": 4.3444644928,
            "bin_end": 4.4479435921,
            "count": 1
           },
           {
            "bin_start": 4.4479435921,
            "bin_end": 4.5514226914,
            "count": 0
           },
           {
            "bin_start": 4.5514226914,
            "bin_end": 4.654901790699999,
            "count": 0
           },
           {
            "bin_start": 4.654901790699999,
            "bin_end": 4.75838089,
            "count": 1
           }
          ]
         }
        },
        {
         "name": "_deepnote_index_column",
         "dtype": "int64"
        }
       ],
       "rows_top": [
        {
         "Country name": "Afghanistan",
         "year": 2008,
         "Life Ladder": 3.723589897,
         "_deepnote_index_column": 0
        },
        {
         "Country name": "Afghanistan",
         "year": 2009,
         "Life Ladder": 4.401778221,
         "_deepnote_index_column": 1
        },
        {
         "Country name": "Afghanistan",
         "year": 2010,
         "Life Ladder": 4.75838089,
         "_deepnote_index_column": 2
        },
        {
         "Country name": "Afghanistan",
         "year": 2011,
         "Life Ladder": 3.83171916,
         "_deepnote_index_column": 3
        },
        {
         "Country name": "Afghanistan",
         "year": 2012,
         "Life Ladder": 3.782937527,
         "_deepnote_index_column": 4
        }
       ],
       "rows_bottom": null
      },
      "text/plain": "  Country name  year  Life Ladder\n0  Afghanistan  2008     3.723590\n1  Afghanistan  2009     4.401778\n2  Afghanistan  2010     4.758381\n3  Afghanistan  2011     3.831719\n4  Afghanistan  2012     3.782938",
      "text/html": "<div>\n<style scoped>\n    .dataframe tbody tr th:only-of-type {\n        vertical-align: middle;\n    }\n\n    .dataframe tbody tr th {\n        vertical-align: top;\n    }\n\n    .dataframe thead th {\n        text-align: right;\n    }\n</style>\n<table border=\"1\" class=\"dataframe\">\n  <thead>\n    <tr style=\"text-align: right;\">\n      <th></th>\n      <th>Country name</th>\n      <th>year</th>\n      <th>Life Ladder</th>\n    </tr>\n  </thead>\n  <tbody>\n    <tr>\n      <th>0</th>\n      <td>Afghanistan</td>\n      <td>2008</td>\n      <td>3.723590</td>\n    </tr>\n    <tr>\n      <th>1</th>\n      <td>Afghanistan</td>\n      <td>2009</td>\n      <td>4.401778</td>\n    </tr>\n    <tr>\n      <th>2</th>\n      <td>Afghanistan</td>\n      <td>2010</td>\n      <td>4.758381</td>\n    </tr>\n    <tr>\n      <th>3</th>\n      <td>Afghanistan</td>\n      <td>2011</td>\n      <td>3.831719</td>\n    </tr>\n    <tr>\n      <th>4</th>\n      <td>Afghanistan</td>\n      <td>2012</td>\n      <td>3.782938</td>\n    </tr>\n  </tbody>\n</table>\n</div>"
     },
     "metadata": {}
    }
   ]
  },
  {
   "cell_type": "code",
   "metadata": {
    "deepnote_to_be_reexecuted": false,
    "source_hash": "8e29136f",
    "execution_start": 1622349426910,
    "execution_millis": 7,
    "cell_id": "00019-8f2dc0a9-1c5c-41b4-936c-f0c01b5a7d4c",
    "deepnote_cell_type": "code"
   },
   "source": "happiness = happiness.rename(\n    columns= {'Country name': 'country', 'Year': 'year', \n              'Life Ladder': 'life_ladder', \n              'Log GDP per capita': 'log_gdp_per_capita',\n              'Healthy life expectancy at birth': 'life_expectancy'}\n)\n\nhappiness['country'] = happiness['country'].replace(\n    ['Congo (Brazzaville)', 'Ivory Coast', 'Egypt', 'Gambia', 'Iran', 'Kyrgyzstan', \n     'Laos', 'Macedonia', 'Russia', 'Slovakia', 'Swaziland', \n     'South Korea', 'Taiwan Province of China', 'Venezuela', 'Yemen'\n    ],\n    ['Congo, Rep.', \"Cote d'Ivoire\", 'Egypt, Arab Rep.', 'Gambia, The', 'Iran, Islamic Rep.', 'Kyrgyz Republic',\n    'Lao PDR', 'North Macedonia', 'Russian Federation', 'Slovak Republic', 'Eswatini',\n    'Korea, Rep.', 'Taiwan', 'Venezuela, RB', 'Yemen, Rep.']\n)\nhappiness.head()",
   "execution_count": 19,
   "outputs": [
    {
     "output_type": "execute_result",
     "execution_count": 19,
     "data": {
      "application/vnd.deepnote.dataframe.v2+json": {
       "row_count": 5,
       "column_count": 3,
       "columns": [
        {
         "name": "country",
         "dtype": "object",
         "stats": {
          "unique_count": 1,
          "nan_count": 0,
          "categories": [
           {
            "name": "Afghanistan",
            "count": 5
           }
          ]
         }
        },
        {
         "name": "year",
         "dtype": "int64",
         "stats": {
          "unique_count": 5,
          "nan_count": 0,
          "min": "2008",
          "max": "2012",
          "histogram": [
           {
            "bin_start": 2008,
            "bin_end": 2008.4,
            "count": 1
           },
           {
            "bin_start": 2008.4,
            "bin_end": 2008.8,
            "count": 0
           },
           {
            "bin_start": 2008.8,
            "bin_end": 2009.2,
            "count": 1
           },
           {
            "bin_start": 2009.2,
            "bin_end": 2009.6,
            "count": 0
           },
           {
            "bin_start": 2009.6,
            "bin_end": 2010,
            "count": 0
           },
           {
            "bin_start": 2010,
            "bin_end": 2010.4,
            "count": 1
           },
           {
            "bin_start": 2010.4,
            "bin_end": 2010.8,
            "count": 0
           },
           {
            "bin_start": 2010.8,
            "bin_end": 2011.2,
            "count": 1
           },
           {
            "bin_start": 2011.2,
            "bin_end": 2011.6,
            "count": 0
           },
           {
            "bin_start": 2011.6,
            "bin_end": 2012,
            "count": 1
           }
          ]
         }
        },
        {
         "name": "life_ladder",
         "dtype": "float64",
         "stats": {
          "unique_count": 5,
          "nan_count": 0,
          "min": "3.723589897",
          "max": "4.75838089",
          "histogram": [
           {
            "bin_start": 3.723589897,
            "bin_end": 3.8270689963,
            "count": 2
           },
           {
            "bin_start": 3.8270689963,
            "bin_end": 3.9305480956,
            "count": 1
           },
           {
            "bin_start": 3.9305480956,
            "bin_end": 4.0340271949,
            "count": 0
           },
           {
            "bin_start": 4.0340271949,
            "bin_end": 4.1375062942,
            "count": 0
           },
           {
            "bin_start": 4.1375062942,
            "bin_end": 4.2409853935,
            "count": 0
           },
           {
            "bin_start": 4.2409853935,
            "bin_end": 4.3444644928,
            "count": 0
           },
           {
            "bin_start": 4.3444644928,
            "bin_end": 4.4479435921,
            "count": 1
           },
           {
            "bin_start": 4.4479435921,
            "bin_end": 4.5514226914,
            "count": 0
           },
           {
            "bin_start": 4.5514226914,
            "bin_end": 4.654901790699999,
            "count": 0
           },
           {
            "bin_start": 4.654901790699999,
            "bin_end": 4.75838089,
            "count": 1
           }
          ]
         }
        },
        {
         "name": "_deepnote_index_column",
         "dtype": "int64"
        }
       ],
       "rows_top": [
        {
         "country": "Afghanistan",
         "year": 2008,
         "life_ladder": 3.723589897,
         "_deepnote_index_column": 0
        },
        {
         "country": "Afghanistan",
         "year": 2009,
         "life_ladder": 4.401778221,
         "_deepnote_index_column": 1
        },
        {
         "country": "Afghanistan",
         "year": 2010,
         "life_ladder": 4.75838089,
         "_deepnote_index_column": 2
        },
        {
         "country": "Afghanistan",
         "year": 2011,
         "life_ladder": 3.83171916,
         "_deepnote_index_column": 3
        },
        {
         "country": "Afghanistan",
         "year": 2012,
         "life_ladder": 3.782937527,
         "_deepnote_index_column": 4
        }
       ],
       "rows_bottom": null
      },
      "text/plain": "       country  year  life_ladder\n0  Afghanistan  2008     3.723590\n1  Afghanistan  2009     4.401778\n2  Afghanistan  2010     4.758381\n3  Afghanistan  2011     3.831719\n4  Afghanistan  2012     3.782938",
      "text/html": "<div>\n<style scoped>\n    .dataframe tbody tr th:only-of-type {\n        vertical-align: middle;\n    }\n\n    .dataframe tbody tr th {\n        vertical-align: top;\n    }\n\n    .dataframe thead th {\n        text-align: right;\n    }\n</style>\n<table border=\"1\" class=\"dataframe\">\n  <thead>\n    <tr style=\"text-align: right;\">\n      <th></th>\n      <th>country</th>\n      <th>year</th>\n      <th>life_ladder</th>\n    </tr>\n  </thead>\n  <tbody>\n    <tr>\n      <th>0</th>\n      <td>Afghanistan</td>\n      <td>2008</td>\n      <td>3.723590</td>\n    </tr>\n    <tr>\n      <th>1</th>\n      <td>Afghanistan</td>\n      <td>2009</td>\n      <td>4.401778</td>\n    </tr>\n    <tr>\n      <th>2</th>\n      <td>Afghanistan</td>\n      <td>2010</td>\n      <td>4.758381</td>\n    </tr>\n    <tr>\n      <th>3</th>\n      <td>Afghanistan</td>\n      <td>2011</td>\n      <td>3.831719</td>\n    </tr>\n    <tr>\n      <th>4</th>\n      <td>Afghanistan</td>\n      <td>2012</td>\n      <td>3.782938</td>\n    </tr>\n  </tbody>\n</table>\n</div>"
     },
     "metadata": {}
    }
   ]
  },
  {
   "cell_type": "code",
   "metadata": {
    "deepnote_to_be_reexecuted": false,
    "source_hash": "d749cef",
    "execution_start": 1622349426914,
    "execution_millis": 7,
    "cell_id": "00020-824e2378-9a40-4234-bcc9-6ffd3699ee71",
    "deepnote_cell_type": "code"
   },
   "source": "happiness.to_csv('data/happiness.csv', index = False)",
   "execution_count": 20,
   "outputs": []
  },
  {
   "cell_type": "markdown",
   "source": "# start using our own processed data ",
   "metadata": {
    "cell_id": "00021-df5bd798-67d6-4a91-9846-d04f500a247e",
    "deepnote_cell_type": "markdown"
   }
  },
  {
   "cell_type": "code",
   "metadata": {
    "deepnote_to_be_reexecuted": false,
    "source_hash": "f5a87fe",
    "execution_start": 1622349426965,
    "execution_millis": 0,
    "cell_id": "00022-09a138f0-43b8-4560-ab92-d9d7a12cb780",
    "deepnote_cell_type": "code"
   },
   "source": "# read in data\nhfi = pd.read_csv('data/hf-index.csv')\nhappiness = pd.read_csv('data/happiness.csv')",
   "execution_count": 21,
   "outputs": []
  },
  {
   "cell_type": "code",
   "metadata": {
    "deepnote_to_be_reexecuted": false,
    "source_hash": "7aa29f9c",
    "execution_start": 1622349426966,
    "execution_millis": 70,
    "cell_id": "00023-74ac752a-4fb5-41ab-9be6-ccf689708cb6",
    "deepnote_cell_type": "code"
   },
   "source": "data1 = pd.merge(hfi[hfi.year == 2018], happiness[happiness.year == 2018], on = ['year', 'country'], how = 'left')\ndata1[pd.isnull(data1['life_ladder'])]",
   "execution_count": 22,
   "outputs": [
    {
     "output_type": "execute_result",
     "execution_count": 22,
     "data": {
      "application/vnd.deepnote.dataframe.v2+json": {
       "row_count": 28,
       "column_count": 20,
       "columns": [
        {
         "name": "region",
         "dtype": "object",
         "stats": {
          "unique_count": 6,
          "nan_count": 0,
          "categories": [
           {
            "name": "Sub-Saharan Africa",
            "count": 8
           },
           {
            "name": "Latin America & Caribbean",
            "count": 8
           },
           {
            "name": "4 others",
            "count": 12
           }
          ]
         }
        },
        {
         "name": "year",
         "dtype": "int64",
         "stats": {
          "unique_count": 1,
          "nan_count": 0,
          "min": "2018",
          "max": "2018",
          "histogram": [
           {
            "bin_start": 2017.5,
            "bin_end": 2017.6,
            "count": 0
           },
           {
            "bin_start": 2017.6,
            "bin_end": 2017.7,
            "count": 0
           },
           {
            "bin_start": 2017.7,
            "bin_end": 2017.8,
            "count": 0
           },
           {
            "bin_start": 2017.8,
            "bin_end": 2017.9,
            "count": 0
           },
           {
            "bin_start": 2017.9,
            "bin_end": 2018,
            "count": 0
           },
           {
            "bin_start": 2018,
            "bin_end": 2018.1,
            "count": 28
           },
           {
            "bin_start": 2018.1,
            "bin_end": 2018.2,
            "count": 0
           },
           {
            "bin_start": 2018.2,
            "bin_end": 2018.3,
            "count": 0
           },
           {
            "bin_start": 2018.3,
            "bin_end": 2018.4,
            "count": 0
           },
           {
            "bin_start": 2018.4,
            "bin_end": 2018.5,
            "count": 0
           }
          ]
         }
        },
        {
         "name": "income",
         "dtype": "object",
         "stats": {
          "unique_count": 4,
          "nan_count": 0,
          "categories": [
           {
            "name": "High",
            "count": 11
           },
           {
            "name": "Lower middle",
            "count": 7
           },
           {
            "name": "2 others",
            "count": 10
           }
          ]
         }
        },
        {
         "name": "country",
         "dtype": "object",
         "stats": {
          "unique_count": 28,
          "nan_count": 0,
          "categories": [
           {
            "name": "Angola",
            "count": 1
           },
           {
            "name": "Bahamas, The",
            "count": 1
           },
           {
            "name": "26 others",
            "count": 26
           }
          ]
         }
        },
        {
         "name": "hf_score",
         "dtype": "float64",
         "stats": {
          "unique_count": 28,
          "nan_count": 0,
          "min": "3.97",
          "max": "8.74",
          "histogram": [
           {
            "bin_start": 3.97,
            "bin_end": 4.447,
            "count": 2
           },
           {
            "bin_start": 4.447,
            "bin_end": 4.924,
            "count": 0
           },
           {
            "bin_start": 4.924,
            "bin_end": 5.401,
            "count": 2
           },
           {
            "bin_start": 5.401,
            "bin_end": 5.878,
            "count": 1
           },
           {
            "bin_start": 5.878,
            "bin_end": 6.355,
            "count": 5
           },
           {
            "bin_start": 6.355,
            "bin_end": 6.832000000000001,
            "count": 4
           },
           {
            "bin_start": 6.832000000000001,
            "bin_end": 7.309,
            "count": 7
           },
           {
            "bin_start": 7.309,
            "bin_end": 7.786,
            "count": 5
           },
           {
            "bin_start": 7.786,
            "bin_end": 8.263,
            "count": 0
           },
           {
            "bin_start": 8.263,
            "bin_end": 8.74,
            "count": 2
           }
          ]
         }
        },
        {
         "name": "pf_rol",
         "dtype": "float64",
         "stats": {
          "unique_count": 24,
          "nan_count": 0,
          "min": "1.8",
          "max": "7.9",
          "histogram": [
           {
            "bin_start": 1.8,
            "bin_end": 2.41,
            "count": 2
           },
           {
            "bin_start": 2.41,
            "bin_end": 3.0200000000000005,
            "count": 1
           },
           {
            "bin_start": 3.0200000000000005,
            "bin_end": 3.6300000000000003,
            "count": 4
           },
           {
            "bin_start": 3.6300000000000003,
            "bin_end": 4.24,
            "count": 1
           },
           {
            "bin_start": 4.24,
            "bin_end": 4.8500000000000005,
            "count": 5
           },
           {
            "bin_start": 4.8500000000000005,
            "bin_end": 5.460000000000001,
            "count": 3
           },
           {
            "bin_start": 5.460000000000001,
            "bin_end": 6.07,
            "count": 6
           },
           {
            "bin_start": 6.07,
            "bin_end": 6.680000000000001,
            "count": 4
           },
           {
            "bin_start": 6.680000000000001,
            "bin_end": 7.290000000000001,
            "count": 1
           },
           {
            "bin_start": 7.290000000000001,
            "bin_end": 7.9,
            "count": 1
           }
          ]
         }
        },
        {
         "name": "pf_ss",
         "dtype": "float64",
         "stats": {
          "unique_count": 20,
          "nan_count": 0,
          "min": "4.3",
          "max": "9.9",
          "histogram": [
           {
            "bin_start": 4.3,
            "bin_end": 4.859999999999999,
            "count": 2
           },
           {
            "bin_start": 4.859999999999999,
            "bin_end": 5.42,
            "count": 1
           },
           {
            "bin_start": 5.42,
            "bin_end": 5.98,
            "count": 1
           },
           {
            "bin_start": 5.98,
            "bin_end": 6.54,
            "count": 3
           },
           {
            "bin_start": 6.54,
            "bin_end": 7.1,
            "count": 2
           },
           {
            "bin_start": 7.1,
            "bin_end": 7.66,
            "count": 1
           },
           {
            "bin_start": 7.66,
            "bin_end": 8.22,
            "count": 6
           },
           {
            "bin_start": 8.22,
            "bin_end": 8.780000000000001,
            "count": 5
           },
           {
            "bin_start": 8.780000000000001,
            "bin_end": 9.34,
            "count": 4
           },
           {
            "bin_start": 9.34,
            "bin_end": 9.9,
            "count": 3
           }
          ]
         }
        },
        {
         "name": "pf_movement",
         "dtype": "float64",
         "stats": {
          "unique_count": 9,
          "nan_count": 0,
          "min": "0.8",
          "max": "10.0",
          "histogram": [
           {
            "bin_start": 0.8,
            "bin_end": 1.72,
            "count": 2
           },
           {
            "bin_start": 1.72,
            "bin_end": 2.6399999999999997,
            "count": 0
           },
           {
            "bin_start": 2.6399999999999997,
            "bin_end": 3.5599999999999996,
            "count": 2
           },
           {
            "bin_start": 3.5599999999999996,
            "bin_end": 4.4799999999999995,
            "count": 4
           },
           {
            "bin_start": 4.4799999999999995,
            "bin_end": 5.3999999999999995,
            "count": 1
           },
           {
            "bin_start": 5.3999999999999995,
            "bin_end": 6.319999999999999,
            "count": 1
           },
           {
            "bin_start": 6.319999999999999,
            "bin_end": 7.239999999999999,
            "count": 3
           },
           {
            "bin_start": 7.239999999999999,
            "bin_end": 8.16,
            "count": 4
           },
           {
            "bin_start": 8.16,
            "bin_end": 9.08,
            "count": 0
           },
           {
            "bin_start": 9.08,
            "bin_end": 10,
            "count": 11
           }
          ]
         }
        },
        {
         "name": "pf_religion",
         "dtype": "float64",
         "stats": {
          "unique_count": 20,
          "nan_count": 1,
          "min": "3.3",
          "max": "9.1",
          "histogram": [
           {
            "bin_start": 3.3,
            "bin_end": 3.88,
            "count": 2
           },
           {
            "bin_start": 3.88,
            "bin_end": 4.46,
            "count": 2
           },
           {
            "bin_start": 4.46,
            "bin_end": 5.039999999999999,
            "count": 0
           },
           {
            "bin_start": 5.039999999999999,
            "bin_end": 5.619999999999999,
            "count": 2
           },
           {
            "bin_start": 5.619999999999999,
            "bin_end": 6.199999999999999,
            "count": 1
           },
           {
            "bin_start": 6.199999999999999,
            "bin_end": 6.779999999999999,
            "count": 2
           },
           {
            "bin_start": 6.779999999999999,
            "bin_end": 7.359999999999999,
            "count": 1
           },
           {
            "bin_start": 7.359999999999999,
            "bin_end": 7.9399999999999995,
            "count": 3
           },
           {
            "bin_start": 7.9399999999999995,
            "bin_end": 8.52,
            "count": 5
           },
           {
            "bin_start": 8.52,
            "bin_end": 9.1,
            "count": 9
           }
          ]
         }
        },
        {
         "name": "pf_association",
         "dtype": "float64",
         "stats": {
          "unique_count": 23,
          "nan_count": 3,
          "min": "1.0",
          "max": "9.5",
          "histogram": [
           {
            "bin_start": 1,
            "bin_end": 1.85,
            "count": 2
           },
           {
            "bin_start": 1.85,
            "bin_end": 2.7,
            "count": 2
           },
           {
            "bin_start": 2.7,
            "bin_end": 3.55,
            "count": 0
           },
           {
            "bin_start": 3.55,
            "bin_end": 4.4,
            "count": 1
           },
           {
            "bin_start": 4.4,
            "bin_end": 5.25,
            "count": 2
           },
           {
            "bin_start": 5.25,
            "bin_end": 6.1,
            "count": 1
           },
           {
            "bin_start": 6.1,
            "bin_end": 6.95,
            "count": 3
           },
           {
            "bin_start": 6.95,
            "bin_end": 7.8,
            "count": 3
           },
           {
            "bin_start": 7.8,
            "bin_end": 8.649999999999999,
            "count": 6
           },
           {
            "bin_start": 8.649999999999999,
            "bin_end": 9.5,
            "count": 5
           }
          ]
         }
        },
        {
         "name": "pf_expression",
         "dtype": "float64",
         "stats": {
          "unique_count": 13,
          "nan_count": 0,
          "min": "2.5",
          "max": "10.0",
          "histogram": [
           {
            "bin_start": 2.5,
            "bin_end": 3.25,
            "count": 1
           },
           {
            "bin_start": 3.25,
            "bin_end": 4,
            "count": 0
           },
           {
            "bin_start": 4,
            "bin_end": 4.75,
            "count": 1
           },
           {
            "bin_start": 4.75,
            "bin_end": 5.5,
            "count": 1
           },
           {
            "bin_start": 5.5,
            "bin_end": 6.25,
            "count": 1
           },
           {
            "bin_start": 6.25,
            "bin_end": 7,
            "count": 1
           },
           {
            "bin_start": 7,
            "bin_end": 7.75,
            "count": 4
           },
           {
            "bin_start": 7.75,
            "bin_end": 8.5,
            "count": 6
           },
           {
            "bin_start": 8.5,
            "bin_end": 9.25,
            "count": 9
           },
           {
            "bin_start": 9.25,
            "bin_end": 10,
            "count": 4
           }
          ]
         }
        },
        {
         "name": "pf_identity",
         "dtype": "float64",
         "stats": {
          "unique_count": 12,
          "nan_count": 0,
          "min": "0.0",
          "max": "10.0",
          "histogram": [
           {
            "bin_start": 0,
            "bin_end": 1,
            "count": 5
           },
           {
            "bin_start": 1,
            "bin_end": 2,
            "count": 1
           },
           {
            "bin_start": 2,
            "bin_end": 3,
            "count": 0
           },
           {
            "bin_start": 3,
            "bin_end": 4,
            "count": 1
           },
           {
            "bin_start": 4,
            "bin_end": 5,
            "count": 1
           },
           {
            "bin_start": 5,
            "bin_end": 6,
            "count": 5
           },
           {
            "bin_start": 6,
            "bin_end": 7,
            "count": 3
           },
           {
            "bin_start": 7,
            "bin_end": 8,
            "count": 3
           },
           {
            "bin_start": 8,
            "bin_end": 9,
            "count": 2
           },
           {
            "bin_start": 9,
            "bin_end": 10,
            "count": 7
           }
          ]
         }
        },
        {
         "name": "pf_score",
         "dtype": "float64",
         "stats": {
          "unique_count": 27,
          "nan_count": 0,
          "min": "2.49",
          "max": "9.06",
          "histogram": [
           {
            "bin_start": 2.49,
            "bin_end": 3.1470000000000002,
            "count": 1
           },
           {
            "bin_start": 3.1470000000000002,
            "bin_end": 3.8040000000000003,
            "count": 0
           },
           {
            "bin_start": 3.8040000000000003,
            "bin_end": 4.461,
            "count": 1
           },
           {
            "bin_start": 4.461,
            "bin_end": 5.118,
            "count": 0
           },
           {
            "bin_start": 5.118,
            "bin_end": 5.775,
            "count": 6
           },
           {
            "bin_start": 5.775,
            "bin_end": 6.432,
            "count": 3
           },
           {
            "bin_start": 6.432,
            "bin_end": 7.089,
            "count": 4
           },
           {
            "bin_start": 7.089,
            "bin_end": 7.746,
            "count": 7
           },
           {
            "bin_start": 7.746,
            "bin_end": 8.403,
            "count": 4
           },
           {
            "bin_start": 8.403,
            "bin_end": 9.06,
            "count": 2
           }
          ]
         }
        },
        {
         "name": "ef_government",
         "dtype": "float64",
         "stats": {
          "unique_count": 19,
          "nan_count": 0,
          "min": "3.3",
          "max": "9.1",
          "histogram": [
           {
            "bin_start": 3.3,
            "bin_end": 3.88,
            "count": 1
           },
           {
            "bin_start": 3.88,
            "bin_end": 4.46,
            "count": 0
           },
           {
            "bin_start": 4.46,
            "bin_end": 5.039999999999999,
            "count": 2
           },
           {
            "bin_start": 5.039999999999999,
            "bin_end": 5.619999999999999,
            "count": 3
           },
           {
            "bin_start": 5.619999999999999,
            "bin_end": 6.199999999999999,
            "count": 7
           },
           {
            "bin_start": 6.199999999999999,
            "bin_end": 6.779999999999999,
            "count": 5
           },
           {
            "bin_start": 6.779999999999999,
            "bin_end": 7.359999999999999,
            "count": 3
           },
           {
            "bin_start": 7.359999999999999,
            "bin_end": 7.9399999999999995,
            "count": 2
           },
           {
            "bin_start": 7.9399999999999995,
            "bin_end": 8.52,
            "count": 4
           },
           {
            "bin_start": 8.52,
            "bin_end": 9.1,
            "count": 1
           }
          ]
         }
        },
        {
         "name": "ef_legal",
         "dtype": "float64",
         "stats": {
          "unique_count": 19,
          "nan_count": 0,
          "min": "2.8",
          "max": "8.1",
          "histogram": [
           {
            "bin_start": 2.8,
            "bin_end": 3.33,
            "count": 5
           },
           {
            "bin_start": 3.33,
            "bin_end": 3.86,
            "count": 2
           },
           {
            "bin_start": 3.86,
            "bin_end": 4.39,
            "count": 1
           },
           {
            "bin_start": 4.39,
            "bin_end": 4.92,
            "count": 6
           },
           {
            "bin_start": 4.92,
            "bin_end": 5.45,
            "count": 4
           },
           {
            "bin_start": 5.45,
            "bin_end": 5.98,
            "count": 6
           },
           {
            "bin_start": 5.98,
            "bin_end": 6.51,
            "count": 2
           },
           {
            "bin_start": 6.51,
            "bin_end": 7.04,
            "count": 0
           },
           {
            "bin_start": 7.04,
            "bin_end": 7.57,
            "count": 1
           },
           {
            "bin_start": 7.57,
            "bin_end": 8.1,
            "count": 1
           }
          ]
         }
        },
        {
         "name": "ef_money",
         "dtype": "float64",
         "stats": {
          "unique_count": 20,
          "nan_count": 0,
          "min": "2.5",
          "max": "9.8",
          "histogram": [
           {
            "bin_start": 2.5,
            "bin_end": 3.23,
            "count": 1
           },
           {
            "bin_start": 3.23,
            "bin_end": 3.96,
            "count": 0
           },
           {
            "bin_start": 3.96,
            "bin_end": 4.69,
            "count": 0
           },
           {
            "bin_start": 4.69,
            "bin_end": 5.42,
            "count": 2
           },
           {
            "bin_start": 5.42,
            "bin_end": 6.15,
            "count": 0
           },
           {
            "bin_start": 6.15,
            "bin_end": 6.880000000000001,
            "count": 4
           },
           {
            "bin_start": 6.880000000000001,
            "bin_end": 7.61,
            "count": 4
           },
           {
            "bin_start": 7.61,
            "bin_end": 8.34,
            "count": 6
           },
           {
            "bin_start": 8.34,
            "bin_end": 9.07,
            "count": 4
           },
           {
            "bin_start": 9.07,
            "bin_end": 9.8,
            "count": 7
           }
          ]
         }
        },
        {
         "name": "ef_trade",
         "dtype": "float64",
         "stats": {
          "unique_count": 22,
          "nan_count": 0,
          "min": "2.7",
          "max": "9.5",
          "histogram": [
           {
            "bin_start": 2.7,
            "bin_end": 3.38,
            "count": 2
           },
           {
            "bin_start": 3.38,
            "bin_end": 4.0600000000000005,
            "count": 0
           },
           {
            "bin_start": 4.0600000000000005,
            "bin_end": 4.74,
            "count": 1
           },
           {
            "bin_start": 4.74,
            "bin_end": 5.42,
            "count": 2
           },
           {
            "bin_start": 5.42,
            "bin_end": 6.1,
            "count": 2
           },
           {
            "bin_start": 6.1,
            "bin_end": 6.78,
            "count": 5
           },
           {
            "bin_start": 6.78,
            "bin_end": 7.46,
            "count": 7
           },
           {
            "bin_start": 7.46,
            "bin_end": 8.14,
            "count": 5
           },
           {
            "bin_start": 8.14,
            "bin_end": 8.82,
            "count": 3
           },
           {
            "bin_start": 8.82,
            "bin_end": 9.5,
            "count": 1
           }
          ]
         }
        },
        {
         "name": "ef_regulation",
         "dtype": "float64",
         "stats": {
          "unique_count": 18,
          "nan_count": 0,
          "min": "4.5",
          "max": "9.5",
          "histogram": [
           {
            "bin_start": 4.5,
            "bin_end": 5,
            "count": 1
           },
           {
            "bin_start": 5,
            "bin_end": 5.5,
            "count": 4
           },
           {
            "bin_start": 5.5,
            "bin_end": 6,
            "count": 1
           },
           {
            "bin_start": 6,
            "bin_end": 6.5,
            "count": 0
           },
           {
            "bin_start": 6.5,
            "bin_end": 7,
            "count": 4
           },
           {
            "bin_start": 7,
            "bin_end": 7.5,
            "count": 5
           },
           {
            "bin_start": 7.5,
            "bin_end": 8,
            "count": 8
           },
           {
            "bin_start": 8,
            "bin_end": 8.5,
            "count": 1
           },
           {
            "bin_start": 8.5,
            "bin_end": 9,
            "count": 3
           },
           {
            "bin_start": 9,
            "bin_end": 9.5,
            "count": 1
           }
          ]
         }
        },
        {
         "name": "ef_score",
         "dtype": "float64",
         "stats": {
          "unique_count": 26,
          "nan_count": 0,
          "min": "4.21",
          "max": "8.94",
          "histogram": [
           {
            "bin_start": 4.21,
            "bin_end": 4.683,
            "count": 1
           },
           {
            "bin_start": 4.683,
            "bin_end": 5.156,
            "count": 2
           },
           {
            "bin_start": 5.156,
            "bin_end": 5.629,
            "count": 3
           },
           {
            "bin_start": 5.629,
            "bin_end": 6.102,
            "count": 0
           },
           {
            "bin_start": 6.102,
            "bin_end": 6.574999999999999,
            "count": 5
           },
           {
            "bin_start": 6.574999999999999,
            "bin_end": 7.048,
            "count": 8
           },
           {
            "bin_start": 7.048,
            "bin_end": 7.521,
            "count": 5
           },
           {
            "bin_start": 7.521,
            "bin_end": 7.994,
            "count": 3
           },
           {
            "bin_start": 7.994,
            "bin_end": 8.466999999999999,
            "count": 0
           },
           {
            "bin_start": 8.466999999999999,
            "bin_end": 8.94,
            "count": 1
           }
          ]
         }
        },
        {
         "name": "life_ladder",
         "dtype": "float64",
         "stats": {
          "unique_count": 0,
          "nan_count": 28,
          "min": null,
          "max": null,
          "histogram": [
           {
            "bin_start": 0,
            "bin_end": 0.1,
            "count": 0
           },
           {
            "bin_start": 0.1,
            "bin_end": 0.2,
            "count": 0
           },
           {
            "bin_start": 0.2,
            "bin_end": 0.30000000000000004,
            "count": 0
           },
           {
            "bin_start": 0.30000000000000004,
            "bin_end": 0.4,
            "count": 0
           },
           {
            "bin_start": 0.4,
            "bin_end": 0.5,
            "count": 0
           },
           {
            "bin_start": 0.5,
            "bin_end": 0.6000000000000001,
            "count": 0
           },
           {
            "bin_start": 0.6000000000000001,
            "bin_end": 0.7000000000000001,
            "count": 0
           },
           {
            "bin_start": 0.7000000000000001,
            "bin_end": 0.8,
            "count": 0
           },
           {
            "bin_start": 0.8,
            "bin_end": 0.9,
            "count": 0
           },
           {
            "bin_start": 0.9,
            "bin_end": 1,
            "count": 0
           }
          ]
         }
        },
        {
         "name": "_deepnote_index_column",
         "dtype": "int64"
        }
       ],
       "rows_top": [
        {
         "region": "Sub-Saharan Africa",
         "year": 2018,
         "income": "Lower middle",
         "country": "Angola",
         "hf_score": 5.48,
         "pf_rol": 3.6,
         "pf_ss": 8.4,
         "pf_movement": 6.7,
         "pf_religion": 6.5,
         "pf_association": 5.3,
         "pf_expression": 7.1,
         "pf_identity": 6.7,
         "pf_score": 6.21,
         "ef_government": 7.3,
         "ef_legal": 3.4,
         "ef_money": 4.7,
         "ef_trade": 2.9,
         "ef_regulation": 5.4,
         "ef_score": 4.75,
         "life_ladder": "nan",
         "_deepnote_index_column": 2
        },
        {
         "region": "Latin America & Caribbean",
         "year": 2018,
         "income": "High",
         "country": "Bahamas, The",
         "hf_score": 7.72,
         "pf_rol": 6.1,
         "pf_ss": 6.7,
         "pf_movement": 10,
         "pf_religion": 7.9,
         "pf_association": "nan",
         "pf_expression": 9.2,
         "pf_identity": 10,
         "pf_score": 7.82,
         "ef_government": 9.1,
         "ef_legal": 6.2,
         "ef_money": 8.1,
         "ef_trade": 6.3,
         "ef_regulation": 8.5,
         "ef_score": 7.62,
         "life_ladder": "nan",
         "_deepnote_index_column": 8
        },
        {
         "region": "Middle East & North Africa",
         "year": 2018,
         "income": "High",
         "country": "Bahrain",
         "hf_score": 6.18,
         "pf_rol": 5.8,
         "pf_ss": 7.8,
         "pf_movement": 4.2,
         "pf_religion": 3.3,
         "pf_association": 1,
         "pf_expression": 4.6,
         "pf_identity": 5,
         "pf_score": 5.19,
         "ef_government": 6.6,
         "ef_legal": 4.7,
         "ef_money": 9.2,
         "ef_trade": 7.6,
         "ef_regulation": 7.7,
         "ef_score": 7.16,
         "life_ladder": "nan",
         "_deepnote_index_column": 9
        },
        {
         "region": "Latin America & Caribbean",
         "year": 2018,
         "income": "High",
         "country": "Barbados",
         "hf_score": 6.99,
         "pf_rol": 6.5,
         "pf_ss": 8.7,
         "pf_movement": 7.5,
         "pf_religion": 8.6,
         "pf_association": 8.5,
         "pf_expression": 10,
         "pf_identity": 5,
         "pf_score": 7.76,
         "ef_government": 5.5,
         "ef_legal": 5.7,
         "ef_money": 6.5,
         "ef_trade": 6.8,
         "ef_regulation": 6.7,
         "ef_score": 6.22,
         "life_ladder": "nan",
         "_deepnote_index_column": 11
        },
        {
         "region": "Latin America & Caribbean",
         "year": 2018,
         "income": "Upper middle",
         "country": "Belize",
         "hf_score": 6.92,
         "pf_rol": 4.4,
         "pf_ss": 6.7,
         "pf_movement": 7.5,
         "pf_religion": 9.1,
         "pf_association": "nan",
         "pf_expression": 9.2,
         "pf_identity": 10,
         "pf_score": 7.23,
         "ef_government": 7.3,
         "ef_legal": 4.8,
         "ef_money": 7.1,
         "ef_trade": 6.1,
         "ef_regulation": 7.8,
         "ef_score": 6.6,
         "life_ladder": "nan",
         "_deepnote_index_column": 14
        },
        {
         "region": "South Asia",
         "year": 2018,
         "income": "Lower middle",
         "country": "Bhutan",
         "hf_score": 6.52,
         "pf_rol": 6,
         "pf_ss": 9.7,
         "pf_movement": 3.3,
         "pf_religion": 5.7,
         "pf_association": 6.7,
         "pf_expression": 8.3,
         "pf_identity": 0.8,
         "pf_score": 6.41,
         "ef_government": 6.7,
         "ef_legal": 5.7,
         "ef_money": 7.1,
         "ef_trade": 6.1,
         "ef_regulation": 7.7,
         "ef_score": 6.63,
         "life_ladder": "nan",
         "_deepnote_index_column": 16
        },
        {
         "region": "East Asia & Pacific",
         "year": 2018,
         "income": "High",
         "country": "Brunei Darussalam",
         "hf_score": 6.01,
         "pf_rol": 6.2,
         "pf_ss": 8.3,
         "pf_movement": 4.2,
         "pf_religion": "nan",
         "pf_association": "nan",
         "pf_expression": 5,
         "pf_identity": 1.7,
         "pf_score": 5.41,
         "ef_government": 3.3,
         "ef_legal": 5.4,
         "ef_money": 8.6,
         "ef_trade": 7.1,
         "ef_regulation": 8.5,
         "ef_score": 6.6,
         "life_ladder": "nan",
         "_deepnote_index_column": 21
        },
        {
         "region": "Sub-Saharan Africa",
         "year": 2018,
         "income": "Lower middle",
         "country": "Cabo Verde",
         "hf_score": 7.75,
         "pf_rol": 5.9,
         "pf_ss": 9.1,
         "pf_movement": 10,
         "pf_religion": 8.7,
         "pf_association": 9.4,
         "pf_expression": 9.2,
         "pf_identity": 6.3,
         "pf_score": 8.09,
         "ef_government": 7.5,
         "ef_legal": 6.2,
         "ef_money": 8.4,
         "ef_trade": 7.7,
         "ef_regulation": 7.3,
         "ef_score": 7.41,
         "life_ladder": "nan",
         "_deepnote_index_column": 25
        },
        {
         "region": "Sub-Saharan Africa",
         "year": 2018,
         "income": "Low",
         "country": "Central African Republic",
         "hf_score": 5.25,
         "pf_rol": 2.4,
         "pf_ss": 4.3,
         "pf_movement": 5,
         "pf_religion": 7,
         "pf_association": 7.6,
         "pf_expression": 7.1,
         "pf_identity": 8.8,
         "pf_score": 5.22,
         "ef_government": 5.9,
         "ef_legal": 3.4,
         "ef_money": 6.5,
         "ef_trade": 5.2,
         "ef_regulation": 5.4,
         "ef_score": 5.27,
         "life_ladder": "nan",
         "_deepnote_index_column": 29
        },
        {
         "region": "Sub-Saharan Africa",
         "year": 2018,
         "income": "Low",
         "country": "Congo, Dem. Rep.",
         "hf_score": 5.29,
         "pf_rol": 2.7,
         "pf_ss": 6.4,
         "pf_movement": 6.7,
         "pf_religion": 6.5,
         "pf_association": 4.6,
         "pf_expression": 7.4,
         "pf_identity": 6.3,
         "pf_score": 5.42,
         "ef_government": 7.6,
         "ef_legal": 2.9,
         "ef_money": 4.8,
         "ef_trade": 5.2,
         "ef_regulation": 5.3,
         "ef_score": 5.15,
         "life_ladder": "nan",
         "_deepnote_index_column": 34
        },
        {
         "region": "East Asia & Pacific",
         "year": 2018,
         "income": "Upper middle",
         "country": "Fiji",
         "hf_score": 6.98,
         "pf_rol": 4.9,
         "pf_ss": 9.3,
         "pf_movement": 5.8,
         "pf_religion": 7.7,
         "pf_association": 7.3,
         "pf_expression": 8.3,
         "pf_identity": 10,
         "pf_score": 7.46,
         "ef_government": 5.7,
         "ef_legal": 5,
         "ef_money": 7,
         "ef_trade": 5.9,
         "ef_regulation": 8.9,
         "ef_score": 6.5,
         "life_ladder": "nan",
         "_deepnote_index_column": 49
        },
        {
         "region": "Sub-Saharan Africa",
         "year": 2018,
         "income": "Low",
         "country": "Guinea-Bissau",
         "hf_score": 6.15,
         "pf_rol": 3.1,
         "pf_ss": 7.5,
         "pf_movement": 10,
         "pf_religion": 9.1,
         "pf_association": 6.8,
         "pf_expression": 8.3,
         "pf_identity": 7.5,
         "pf_score": 6.84,
         "ef_government": 6.1,
         "ef_legal": 3,
         "ef_money": 6.8,
         "ef_trade": 5.8,
         "ef_regulation": 5.7,
         "ef_score": 5.46,
         "life_ladder": "nan",
         "_deepnote_index_column": 60
        },
        {
         "region": "Latin America & Caribbean",
         "year": 2018,
         "income": "Upper middle",
         "country": "Guyana",
         "hf_score": 7,
         "pf_rol": 4.6,
         "pf_ss": 7.9,
         "pf_movement": 7.5,
         "pf_religion": 8.6,
         "pf_association": 9,
         "pf_expression": 9.2,
         "pf_identity": 7.5,
         "pf_score": 7.31,
         "ef_government": 6.1,
         "ef_legal": 5.2,
         "ef_money": 8.3,
         "ef_trade": 6.7,
         "ef_regulation": 7,
         "ef_score": 6.68,
         "life_ladder": "nan",
         "_deepnote_index_column": 61
        },
        {
         "region": "East Asia & Pacific",
         "year": 2018,
         "income": "High",
         "country": "Hong Kong SAR, China",
         "hf_score": 8.74,
         "pf_rol": 7.1,
         "pf_ss": 9.9,
         "pf_movement": 10,
         "pf_religion": 8.3,
         "pf_association": 6.5,
         "pf_expression": 9.2,
         "pf_identity": 9,
         "pf_score": 8.53,
         "ef_government": 8.5,
         "ef_legal": 7.5,
         "ef_money": 9.8,
         "ef_trade": 9.5,
         "ef_regulation": 9.5,
         "ef_score": 8.94,
         "life_ladder": "nan",
         "_deepnote_index_column": 64
        },
        {
         "region": "Europe & Central Asia",
         "year": 2018,
         "income": "High",
         "country": "Iceland",
         "hf_score": 8.39,
         "pf_rol": 7.9,
         "pf_ss": 9.9,
         "pf_movement": 10,
         "pf_religion": 8,
         "pf_association": 9.5,
         "pf_expression": 9.6,
         "pf_identity": 9,
         "pf_score": 9.06,
         "ef_government": 6,
         "ef_legal": 8.1,
         "ef_money": 9.4,
         "ef_trade": 7.4,
         "ef_regulation": 7.7,
         "ef_score": 7.71,
         "life_ladder": "nan",
         "_deepnote_index_column": 66
        },
        {
         "region": "Latin America & Caribbean",
         "year": 2018,
         "income": "Upper middle",
         "country": "Jamaica",
         "hf_score": 7.44,
         "pf_rol": 5.4,
         "pf_ss": 6.5,
         "pf_movement": 10,
         "pf_religion": 9,
         "pf_association": 9.1,
         "pf_expression": 10,
         "pf_identity": 4.2,
         "pf_score": 7.19,
         "ef_government": 8.5,
         "ef_legal": 5.7,
         "ef_money": 9.1,
         "ef_trade": 7.1,
         "ef_regulation": 8.1,
         "ef_score": 7.69,
         "life_ladder": "nan",
         "_deepnote_index_column": 74
        },
        {
         "region": "Middle East & North Africa",
         "year": 2018,
         "income": "High",
         "country": "Kuwait",
         "hf_score": 6.39,
         "pf_rol": 5.5,
         "pf_ss": 7.9,
         "pf_movement": 6.7,
         "pf_religion": 5.2,
         "pf_association": 4.8,
         "pf_expression": 7.9,
         "pf_identity": 3.8,
         "pf_score": 6.18,
         "ef_government": 5.7,
         "ef_legal": 4.9,
         "ef_money": 8.2,
         "ef_trade": 7.3,
         "ef_regulation": 7,
         "ef_score": 6.6,
         "life_ladder": "nan",
         "_deepnote_index_column": 80
        },
        {
         "region": "Sub-Saharan Africa",
         "year": 2018,
         "income": "Lower middle",
         "country": "Lesotho",
         "hf_score": 6.6,
         "pf_rol": 4.6,
         "pf_ss": 5.5,
         "pf_movement": 10,
         "pf_religion": 8.7,
         "pf_association": 8.3,
         "pf_expression": 8.3,
         "pf_identity": 5,
         "pf_score": 6.55,
         "ef_government": 6.2,
         "ef_legal": 4.9,
         "ef_money": 8,
         "ef_trade": 6.6,
         "ef_regulation": 7.5,
         "ef_score": 6.65,
         "life_ladder": "nan",
         "_deepnote_index_column": 85
        },
        {
         "region": "Middle East & North Africa",
         "year": 2018,
         "income": "High",
         "country": "Oman",
         "hf_score": 6.03,
         "pf_rol": 5.9,
         "pf_ss": 8.1,
         "pf_movement": 4.2,
         "pf_religion": 5.3,
         "pf_association": 2.2,
         "pf_expression": 5.8,
         "pf_identity": 0,
         "pf_score": 5.26,
         "ef_government": 5,
         "ef_legal": 5.6,
         "ef_money": 8.4,
         "ef_trade": 8.2,
         "ef_regulation": 6.8,
         "ef_score": 6.79,
         "life_ladder": "nan",
         "_deepnote_index_column": 113
        },
        {
         "region": "East Asia & Pacific",
         "year": 2018,
         "income": "Lower middle",
         "country": "Papua New Guinea",
         "hf_score": 6.72,
         "pf_rol": 3.9,
         "pf_ss": 7.7,
         "pf_movement": 10,
         "pf_religion": 8.3,
         "pf_association": 9.1,
         "pf_expression": 9.2,
         "pf_identity": 5,
         "pf_score": 7.05,
         "ef_government": 5.8,
         "ef_legal": 4.5,
         "ef_money": 6.5,
         "ef_trade": 7.5,
         "ef_regulation": 7.7,
         "ef_score": 6.39,
         "life_ladder": "nan",
         "_deepnote_index_column": 116
        },
        {
         "region": "Latin America & Caribbean",
         "year": 2018,
         "income": "Upper middle",
         "country": "Paraguay",
         "hf_score": 7.19,
         "pf_rol": 4.3,
         "pf_ss": 7.9,
         "pf_movement": 10,
         "pf_religion": 8.5,
         "pf_association": 8.4,
         "pf_expression": 9.2,
         "pf_identity": 5,
         "pf_score": 7.14,
         "ef_government": 8.5,
         "ef_legal": 4.3,
         "ef_money": 9.5,
         "ef_trade": 7.2,
         "ef_regulation": 6.6,
         "ef_score": 7.23,
         "life_ladder": "nan",
         "_deepnote_index_column": 117
        },
        {
         "region": "Middle East & North Africa",
         "year": 2018,
         "income": "High",
         "country": "Qatar",
         "hf_score": 6.07,
         "pf_rol": 6.3,
         "pf_ss": 8.3,
         "pf_movement": 1.7,
         "pf_religion": 4.3,
         "pf_association": 2.6,
         "pf_expression": 7.5,
         "pf_identity": 0,
         "pf_score": 5.26,
         "ef_government": 5.6,
         "ef_legal": 5.5,
         "ef_money": 8.2,
         "ef_trade": 7.9,
         "ef_regulation": 7.1,
         "ef_score": 6.88,
         "life_ladder": "nan",
         "_deepnote_index_column": 122
        },
        {
         "region": "Sub-Saharan Africa",
         "year": 2018,
         "income": "High",
         "country": "Seychelles",
         "hf_score": 7.34,
         "pf_rol": 5.5,
         "pf_ss": 8.3,
         "pf_movement": 4.2,
         "pf_religion": 7.4,
         "pf_association": 7.4,
         "pf_expression": 8.3,
         "pf_identity": 10,
         "pf_score": 7.18,
         "ef_government": 6.7,
         "ef_legal": 5.5,
         "ef_money": 9.3,
         "ef_trade": 8.3,
         "ef_regulation": 7.7,
         "ef_score": 7.49,
         "life_ladder": "nan",
         "_deepnote_index_column": 129
        },
        {
         "region": "Sub-Saharan Africa",
         "year": 2018,
         "income": "Lower middle",
         "country": "Sudan",
         "hf_score": 4.01,
         "pf_rol": 3.3,
         "pf_ss": 4.8,
         "pf_movement": 3.3,
         "pf_religion": 4.1,
         "pf_association": 4,
         "pf_expression": 6.3,
         "pf_identity": 0,
         "pf_score": 3.81,
         "ef_government": 8.5,
         "ef_legal": 2.8,
         "ef_money": 2.5,
         "ef_trade": 2.7,
         "ef_regulation": 4.5,
         "ef_score": 4.21,
         "life_ladder": "nan",
         "_deepnote_index_column": 137
        },
        {
         "region": "Latin America & Caribbean",
         "year": 2018,
         "income": "Upper middle",
         "country": "Suriname",
         "hf_score": 7.31,
         "pf_rol": 5,
         "pf_ss": 9.3,
         "pf_movement": 10,
         "pf_religion": 8.9,
         "pf_association": 8.6,
         "pf_expression": 9.2,
         "pf_identity": 10,
         "pf_score": 8.24,
         "ef_government": 5.5,
         "ef_legal": 4.5,
         "ef_money": 7.6,
         "ef_trade": 6.8,
         "ef_regulation": 7.5,
         "ef_score": 6.37,
         "life_ladder": "nan",
         "_deepnote_index_column": 138
        },
        {
         "region": "Middle East & North Africa",
         "year": 2018,
         "income": "Low",
         "country": "Syrian Arab Republic",
         "hf_score": 3.97,
         "pf_rol": 1.8,
         "pf_ss": 4.9,
         "pf_movement": 0.8,
         "pf_religion": 3.4,
         "pf_association": 1.4,
         "pf_expression": 2.5,
         "pf_identity": 0,
         "pf_score": 2.49,
         "ef_government": 6.6,
         "ef_legal": 3,
         "ef_money": 8.1,
         "ef_trade": 4.6,
         "ef_regulation": 5,
         "ef_score": 5.45,
         "life_ladder": "nan",
         "_deepnote_index_column": 141
        },
        {
         "region": "East Asia & Pacific",
         "year": 2018,
         "income": "Lower middle",
         "country": "Timor-Leste",
         "hf_score": 6.89,
         "pf_rol": 3.3,
         "pf_ss": 8.9,
         "pf_movement": 10,
         "pf_religion": 8.3,
         "pf_association": 8.1,
         "pf_expression": 9.2,
         "pf_identity": 8.8,
         "pf_score": 7.48,
         "ef_government": 4.5,
         "ef_legal": 3.3,
         "ef_money": 8.4,
         "ef_trade": 8.2,
         "ef_regulation": 7.1,
         "ef_score": 6.29,
         "life_ladder": "nan",
         "_deepnote_index_column": 146
        },
        {
         "region": "Latin America & Caribbean",
         "year": 2018,
         "income": "High",
         "country": "Trinidad and Tobago",
         "hf_score": 7.13,
         "pf_rol": 4.5,
         "pf_ss": 6.5,
         "pf_movement": 7.5,
         "pf_religion": 8.9,
         "pf_association": 8.6,
         "pf_expression": 10,
         "pf_identity": 7.5,
         "pf_score": 7,
         "ef_government": 7.2,
         "ef_legal": 5.2,
         "ef_money": 9.2,
         "ef_trade": 7.9,
         "ef_regulation": 6.8,
         "ef_score": 7.26,
         "life_ladder": "nan",
         "_deepnote_index_column": 148
        }
       ],
       "rows_bottom": null
      },
      "text/plain": "                         region  year        income                   country  \\\n2            Sub-Saharan Africa  2018  Lower middle                    Angola   \n8     Latin America & Caribbean  2018          High              Bahamas, The   \n9    Middle East & North Africa  2018          High                   Bahrain   \n11    Latin America & Caribbean  2018          High                  Barbados   \n14    Latin America & Caribbean  2018  Upper middle                    Belize   \n16                   South Asia  2018  Lower middle                    Bhutan   \n21          East Asia & Pacific  2018          High         Brunei Darussalam   \n25           Sub-Saharan Africa  2018  Lower middle                Cabo Verde   \n29           Sub-Saharan Africa  2018           Low  Central African Republic   \n34           Sub-Saharan Africa  2018           Low          Congo, Dem. Rep.   \n49          East Asia & Pacific  2018  Upper middle                      Fiji   \n60           Sub-Saharan Africa  2018           Low             Guinea-Bissau   \n61    Latin America & Caribbean  2018  Upper middle                    Guyana   \n64          East Asia & Pacific  2018          High      Hong Kong SAR, China   \n66        Europe & Central Asia  2018          High                   Iceland   \n74    Latin America & Caribbean  2018  Upper middle                   Jamaica   \n80   Middle East & North Africa  2018          High                    Kuwait   \n85           Sub-Saharan Africa  2018  Lower middle                   Lesotho   \n113  Middle East & North Africa  2018          High                      Oman   \n116         East Asia & Pacific  2018  Lower middle          Papua New Guinea   \n117   Latin America & Caribbean  2018  Upper middle                  Paraguay   \n122  Middle East & North Africa  2018          High                     Qatar   \n129          Sub-Saharan Africa  2018          High                Seychelles   \n137          Sub-Saharan Africa  2018  Lower middle                     Sudan   \n138   Latin America & Caribbean  2018  Upper middle                  Suriname   \n141  Middle East & North Africa  2018           Low      Syrian Arab Republic   \n146         East Asia & Pacific  2018  Lower middle               Timor-Leste   \n148   Latin America & Caribbean  2018          High       Trinidad and Tobago   \n\n     hf_score  pf_rol  pf_ss  pf_movement  pf_religion  pf_association  \\\n2        5.48     3.6    8.4          6.7          6.5             5.3   \n8        7.72     6.1    6.7         10.0          7.9             NaN   \n9        6.18     5.8    7.8          4.2          3.3             1.0   \n11       6.99     6.5    8.7          7.5          8.6             8.5   \n14       6.92     4.4    6.7          7.5          9.1             NaN   \n16       6.52     6.0    9.7          3.3          5.7             6.7   \n21       6.01     6.2    8.3          4.2          NaN             NaN   \n25       7.75     5.9    9.1         10.0          8.7             9.4   \n29       5.25     2.4    4.3          5.0          7.0             7.6   \n34       5.29     2.7    6.4          6.7          6.5             4.6   \n49       6.98     4.9    9.3          5.8          7.7             7.3   \n60       6.15     3.1    7.5         10.0          9.1             6.8   \n61       7.00     4.6    7.9          7.5          8.6             9.0   \n64       8.74     7.1    9.9         10.0          8.3             6.5   \n66       8.39     7.9    9.9         10.0          8.0             9.5   \n74       7.44     5.4    6.5         10.0          9.0             9.1   \n80       6.39     5.5    7.9          6.7          5.2             4.8   \n85       6.60     4.6    5.5         10.0          8.7             8.3   \n113      6.03     5.9    8.1          4.2          5.3             2.2   \n116      6.72     3.9    7.7         10.0          8.3             9.1   \n117      7.19     4.3    7.9         10.0          8.5             8.4   \n122      6.07     6.3    8.3          1.7          4.3             2.6   \n129      7.34     5.5    8.3          4.2          7.4             7.4   \n137      4.01     3.3    4.8          3.3          4.1             4.0   \n138      7.31     5.0    9.3         10.0          8.9             8.6   \n141      3.97     1.8    4.9          0.8          3.4             1.4   \n146      6.89     3.3    8.9         10.0          8.3             8.1   \n148      7.13     4.5    6.5          7.5          8.9             8.6   \n\n     pf_expression  pf_identity  pf_score  ef_government  ef_legal  ef_money  \\\n2              7.1          6.7      6.21            7.3       3.4       4.7   \n8              9.2         10.0      7.82            9.1       6.2       8.1   \n9              4.6          5.0      5.19            6.6       4.7       9.2   \n11            10.0          5.0      7.76            5.5       5.7       6.5   \n14             9.2         10.0      7.23            7.3       4.8       7.1   \n16             8.3          0.8      6.41            6.7       5.7       7.1   \n21             5.0          1.7      5.41            3.3       5.4       8.6   \n25             9.2          6.3      8.09            7.5       6.2       8.4   \n29             7.1          8.8      5.22            5.9       3.4       6.5   \n34             7.4          6.3      5.42            7.6       2.9       4.8   \n49             8.3         10.0      7.46            5.7       5.0       7.0   \n60             8.3          7.5      6.84            6.1       3.0       6.8   \n61             9.2          7.5      7.31            6.1       5.2       8.3   \n64             9.2          9.0      8.53            8.5       7.5       9.8   \n66             9.6          9.0      9.06            6.0       8.1       9.4   \n74            10.0          4.2      7.19            8.5       5.7       9.1   \n80             7.9          3.8      6.18            5.7       4.9       8.2   \n85             8.3          5.0      6.55            6.2       4.9       8.0   \n113            5.8          0.0      5.26            5.0       5.6       8.4   \n116            9.2          5.0      7.05            5.8       4.5       6.5   \n117            9.2          5.0      7.14            8.5       4.3       9.5   \n122            7.5          0.0      5.26            5.6       5.5       8.2   \n129            8.3         10.0      7.18            6.7       5.5       9.3   \n137            6.3          0.0      3.81            8.5       2.8       2.5   \n138            9.2         10.0      8.24            5.5       4.5       7.6   \n141            2.5          0.0      2.49            6.6       3.0       8.1   \n146            9.2          8.8      7.48            4.5       3.3       8.4   \n148           10.0          7.5      7.00            7.2       5.2       9.2   \n\n     ef_trade  ef_regulation  ef_score  life_ladder  \n2         2.9            5.4      4.75          NaN  \n8         6.3            8.5      7.62          NaN  \n9         7.6            7.7      7.16          NaN  \n11        6.8            6.7      6.22          NaN  \n14        6.1            7.8      6.60          NaN  \n16        6.1            7.7      6.63          NaN  \n21        7.1            8.5      6.60          NaN  \n25        7.7            7.3      7.41          NaN  \n29        5.2            5.4      5.27          NaN  \n34        5.2            5.3      5.15          NaN  \n49        5.9            8.9      6.50          NaN  \n60        5.8            5.7      5.46          NaN  \n61        6.7            7.0      6.68          NaN  \n64        9.5            9.5      8.94          NaN  \n66        7.4            7.7      7.71          NaN  \n74        7.1            8.1      7.69          NaN  \n80        7.3            7.0      6.60          NaN  \n85        6.6            7.5      6.65          NaN  \n113       8.2            6.8      6.79          NaN  \n116       7.5            7.7      6.39          NaN  \n117       7.2            6.6      7.23          NaN  \n122       7.9            7.1      6.88          NaN  \n129       8.3            7.7      7.49          NaN  \n137       2.7            4.5      4.21          NaN  \n138       6.8            7.5      6.37          NaN  \n141       4.6            5.0      5.45          NaN  \n146       8.2            7.1      6.29          NaN  \n148       7.9            6.8      7.26          NaN  ",
      "text/html": "<div>\n<style scoped>\n    .dataframe tbody tr th:only-of-type {\n        vertical-align: middle;\n    }\n\n    .dataframe tbody tr th {\n        vertical-align: top;\n    }\n\n    .dataframe thead th {\n        text-align: right;\n    }\n</style>\n<table border=\"1\" class=\"dataframe\">\n  <thead>\n    <tr style=\"text-align: right;\">\n      <th></th>\n      <th>region</th>\n      <th>year</th>\n      <th>income</th>\n      <th>country</th>\n      <th>hf_score</th>\n      <th>pf_rol</th>\n      <th>pf_ss</th>\n      <th>pf_movement</th>\n      <th>pf_religion</th>\n      <th>pf_association</th>\n      <th>pf_expression</th>\n      <th>pf_identity</th>\n      <th>pf_score</th>\n      <th>ef_government</th>\n      <th>ef_legal</th>\n      <th>ef_money</th>\n      <th>ef_trade</th>\n      <th>ef_regulation</th>\n      <th>ef_score</th>\n      <th>life_ladder</th>\n    </tr>\n  </thead>\n  <tbody>\n    <tr>\n      <th>2</th>\n      <td>Sub-Saharan Africa</td>\n      <td>2018</td>\n      <td>Lower middle</td>\n      <td>Angola</td>\n      <td>5.48</td>\n      <td>3.6</td>\n      <td>8.4</td>\n      <td>6.7</td>\n      <td>6.5</td>\n      <td>5.3</td>\n      <td>7.1</td>\n      <td>6.7</td>\n      <td>6.21</td>\n      <td>7.3</td>\n      <td>3.4</td>\n      <td>4.7</td>\n      <td>2.9</td>\n      <td>5.4</td>\n      <td>4.75</td>\n      <td>NaN</td>\n    </tr>\n    <tr>\n      <th>8</th>\n      <td>Latin America &amp; Caribbean</td>\n      <td>2018</td>\n      <td>High</td>\n      <td>Bahamas, The</td>\n      <td>7.72</td>\n      <td>6.1</td>\n      <td>6.7</td>\n      <td>10.0</td>\n      <td>7.9</td>\n      <td>NaN</td>\n      <td>9.2</td>\n      <td>10.0</td>\n      <td>7.82</td>\n      <td>9.1</td>\n      <td>6.2</td>\n      <td>8.1</td>\n      <td>6.3</td>\n      <td>8.5</td>\n      <td>7.62</td>\n      <td>NaN</td>\n    </tr>\n    <tr>\n      <th>9</th>\n      <td>Middle East &amp; North Africa</td>\n      <td>2018</td>\n      <td>High</td>\n      <td>Bahrain</td>\n      <td>6.18</td>\n      <td>5.8</td>\n      <td>7.8</td>\n      <td>4.2</td>\n      <td>3.3</td>\n      <td>1.0</td>\n      <td>4.6</td>\n      <td>5.0</td>\n      <td>5.19</td>\n      <td>6.6</td>\n      <td>4.7</td>\n      <td>9.2</td>\n      <td>7.6</td>\n      <td>7.7</td>\n      <td>7.16</td>\n      <td>NaN</td>\n    </tr>\n    <tr>\n      <th>11</th>\n      <td>Latin America &amp; Caribbean</td>\n      <td>2018</td>\n      <td>High</td>\n      <td>Barbados</td>\n      <td>6.99</td>\n      <td>6.5</td>\n      <td>8.7</td>\n      <td>7.5</td>\n      <td>8.6</td>\n      <td>8.5</td>\n      <td>10.0</td>\n      <td>5.0</td>\n      <td>7.76</td>\n      <td>5.5</td>\n      <td>5.7</td>\n      <td>6.5</td>\n      <td>6.8</td>\n      <td>6.7</td>\n      <td>6.22</td>\n      <td>NaN</td>\n    </tr>\n    <tr>\n      <th>14</th>\n      <td>Latin America &amp; Caribbean</td>\n      <td>2018</td>\n      <td>Upper middle</td>\n      <td>Belize</td>\n      <td>6.92</td>\n      <td>4.4</td>\n      <td>6.7</td>\n      <td>7.5</td>\n      <td>9.1</td>\n      <td>NaN</td>\n      <td>9.2</td>\n      <td>10.0</td>\n      <td>7.23</td>\n      <td>7.3</td>\n      <td>4.8</td>\n      <td>7.1</td>\n      <td>6.1</td>\n      <td>7.8</td>\n      <td>6.60</td>\n      <td>NaN</td>\n    </tr>\n    <tr>\n      <th>16</th>\n      <td>South Asia</td>\n      <td>2018</td>\n      <td>Lower middle</td>\n      <td>Bhutan</td>\n      <td>6.52</td>\n      <td>6.0</td>\n      <td>9.7</td>\n      <td>3.3</td>\n      <td>5.7</td>\n      <td>6.7</td>\n      <td>8.3</td>\n      <td>0.8</td>\n      <td>6.41</td>\n      <td>6.7</td>\n      <td>5.7</td>\n      <td>7.1</td>\n      <td>6.1</td>\n      <td>7.7</td>\n      <td>6.63</td>\n      <td>NaN</td>\n    </tr>\n    <tr>\n      <th>21</th>\n      <td>East Asia &amp; Pacific</td>\n      <td>2018</td>\n      <td>High</td>\n      <td>Brunei Darussalam</td>\n      <td>6.01</td>\n      <td>6.2</td>\n      <td>8.3</td>\n      <td>4.2</td>\n      <td>NaN</td>\n      <td>NaN</td>\n      <td>5.0</td>\n      <td>1.7</td>\n      <td>5.41</td>\n      <td>3.3</td>\n      <td>5.4</td>\n      <td>8.6</td>\n      <td>7.1</td>\n      <td>8.5</td>\n      <td>6.60</td>\n      <td>NaN</td>\n    </tr>\n    <tr>\n      <th>25</th>\n      <td>Sub-Saharan Africa</td>\n      <td>2018</td>\n      <td>Lower middle</td>\n      <td>Cabo Verde</td>\n      <td>7.75</td>\n      <td>5.9</td>\n      <td>9.1</td>\n      <td>10.0</td>\n      <td>8.7</td>\n      <td>9.4</td>\n      <td>9.2</td>\n      <td>6.3</td>\n      <td>8.09</td>\n      <td>7.5</td>\n      <td>6.2</td>\n      <td>8.4</td>\n      <td>7.7</td>\n      <td>7.3</td>\n      <td>7.41</td>\n      <td>NaN</td>\n    </tr>\n    <tr>\n      <th>29</th>\n      <td>Sub-Saharan Africa</td>\n      <td>2018</td>\n      <td>Low</td>\n      <td>Central African Republic</td>\n      <td>5.25</td>\n      <td>2.4</td>\n      <td>4.3</td>\n      <td>5.0</td>\n      <td>7.0</td>\n      <td>7.6</td>\n      <td>7.1</td>\n      <td>8.8</td>\n      <td>5.22</td>\n      <td>5.9</td>\n      <td>3.4</td>\n      <td>6.5</td>\n      <td>5.2</td>\n      <td>5.4</td>\n      <td>5.27</td>\n      <td>NaN</td>\n    </tr>\n    <tr>\n      <th>34</th>\n      <td>Sub-Saharan Africa</td>\n      <td>2018</td>\n      <td>Low</td>\n      <td>Congo, Dem. Rep.</td>\n      <td>5.29</td>\n      <td>2.7</td>\n      <td>6.4</td>\n      <td>6.7</td>\n      <td>6.5</td>\n      <td>4.6</td>\n      <td>7.4</td>\n      <td>6.3</td>\n      <td>5.42</td>\n      <td>7.6</td>\n      <td>2.9</td>\n      <td>4.8</td>\n      <td>5.2</td>\n      <td>5.3</td>\n      <td>5.15</td>\n      <td>NaN</td>\n    </tr>\n    <tr>\n      <th>49</th>\n      <td>East Asia &amp; Pacific</td>\n      <td>2018</td>\n      <td>Upper middle</td>\n      <td>Fiji</td>\n      <td>6.98</td>\n      <td>4.9</td>\n      <td>9.3</td>\n      <td>5.8</td>\n      <td>7.7</td>\n      <td>7.3</td>\n      <td>8.3</td>\n      <td>10.0</td>\n      <td>7.46</td>\n      <td>5.7</td>\n      <td>5.0</td>\n      <td>7.0</td>\n      <td>5.9</td>\n      <td>8.9</td>\n      <td>6.50</td>\n      <td>NaN</td>\n    </tr>\n    <tr>\n      <th>60</th>\n      <td>Sub-Saharan Africa</td>\n      <td>2018</td>\n      <td>Low</td>\n      <td>Guinea-Bissau</td>\n      <td>6.15</td>\n      <td>3.1</td>\n      <td>7.5</td>\n      <td>10.0</td>\n      <td>9.1</td>\n      <td>6.8</td>\n      <td>8.3</td>\n      <td>7.5</td>\n      <td>6.84</td>\n      <td>6.1</td>\n      <td>3.0</td>\n      <td>6.8</td>\n      <td>5.8</td>\n      <td>5.7</td>\n      <td>5.46</td>\n      <td>NaN</td>\n    </tr>\n    <tr>\n      <th>61</th>\n      <td>Latin America &amp; Caribbean</td>\n      <td>2018</td>\n      <td>Upper middle</td>\n      <td>Guyana</td>\n      <td>7.00</td>\n      <td>4.6</td>\n      <td>7.9</td>\n      <td>7.5</td>\n      <td>8.6</td>\n      <td>9.0</td>\n      <td>9.2</td>\n      <td>7.5</td>\n      <td>7.31</td>\n      <td>6.1</td>\n      <td>5.2</td>\n      <td>8.3</td>\n      <td>6.7</td>\n      <td>7.0</td>\n      <td>6.68</td>\n      <td>NaN</td>\n    </tr>\n    <tr>\n      <th>64</th>\n      <td>East Asia &amp; Pacific</td>\n      <td>2018</td>\n      <td>High</td>\n      <td>Hong Kong SAR, China</td>\n      <td>8.74</td>\n      <td>7.1</td>\n      <td>9.9</td>\n      <td>10.0</td>\n      <td>8.3</td>\n      <td>6.5</td>\n      <td>9.2</td>\n      <td>9.0</td>\n      <td>8.53</td>\n      <td>8.5</td>\n      <td>7.5</td>\n      <td>9.8</td>\n      <td>9.5</td>\n      <td>9.5</td>\n      <td>8.94</td>\n      <td>NaN</td>\n    </tr>\n    <tr>\n      <th>66</th>\n      <td>Europe &amp; Central Asia</td>\n      <td>2018</td>\n      <td>High</td>\n      <td>Iceland</td>\n      <td>8.39</td>\n      <td>7.9</td>\n      <td>9.9</td>\n      <td>10.0</td>\n      <td>8.0</td>\n      <td>9.5</td>\n      <td>9.6</td>\n      <td>9.0</td>\n      <td>9.06</td>\n      <td>6.0</td>\n      <td>8.1</td>\n      <td>9.4</td>\n      <td>7.4</td>\n      <td>7.7</td>\n      <td>7.71</td>\n      <td>NaN</td>\n    </tr>\n    <tr>\n      <th>74</th>\n      <td>Latin America &amp; Caribbean</td>\n      <td>2018</td>\n      <td>Upper middle</td>\n      <td>Jamaica</td>\n      <td>7.44</td>\n      <td>5.4</td>\n      <td>6.5</td>\n      <td>10.0</td>\n      <td>9.0</td>\n      <td>9.1</td>\n      <td>10.0</td>\n      <td>4.2</td>\n      <td>7.19</td>\n      <td>8.5</td>\n      <td>5.7</td>\n      <td>9.1</td>\n      <td>7.1</td>\n      <td>8.1</td>\n      <td>7.69</td>\n      <td>NaN</td>\n    </tr>\n    <tr>\n      <th>80</th>\n      <td>Middle East &amp; North Africa</td>\n      <td>2018</td>\n      <td>High</td>\n      <td>Kuwait</td>\n      <td>6.39</td>\n      <td>5.5</td>\n      <td>7.9</td>\n      <td>6.7</td>\n      <td>5.2</td>\n      <td>4.8</td>\n      <td>7.9</td>\n      <td>3.8</td>\n      <td>6.18</td>\n      <td>5.7</td>\n      <td>4.9</td>\n      <td>8.2</td>\n      <td>7.3</td>\n      <td>7.0</td>\n      <td>6.60</td>\n      <td>NaN</td>\n    </tr>\n    <tr>\n      <th>85</th>\n      <td>Sub-Saharan Africa</td>\n      <td>2018</td>\n      <td>Lower middle</td>\n      <td>Lesotho</td>\n      <td>6.60</td>\n      <td>4.6</td>\n      <td>5.5</td>\n      <td>10.0</td>\n      <td>8.7</td>\n      <td>8.3</td>\n      <td>8.3</td>\n      <td>5.0</td>\n      <td>6.55</td>\n      <td>6.2</td>\n      <td>4.9</td>\n      <td>8.0</td>\n      <td>6.6</td>\n      <td>7.5</td>\n      <td>6.65</td>\n      <td>NaN</td>\n    </tr>\n    <tr>\n      <th>113</th>\n      <td>Middle East &amp; North Africa</td>\n      <td>2018</td>\n      <td>High</td>\n      <td>Oman</td>\n      <td>6.03</td>\n      <td>5.9</td>\n      <td>8.1</td>\n      <td>4.2</td>\n      <td>5.3</td>\n      <td>2.2</td>\n      <td>5.8</td>\n      <td>0.0</td>\n      <td>5.26</td>\n      <td>5.0</td>\n      <td>5.6</td>\n      <td>8.4</td>\n      <td>8.2</td>\n      <td>6.8</td>\n      <td>6.79</td>\n      <td>NaN</td>\n    </tr>\n    <tr>\n      <th>116</th>\n      <td>East Asia &amp; Pacific</td>\n      <td>2018</td>\n      <td>Lower middle</td>\n      <td>Papua New Guinea</td>\n      <td>6.72</td>\n      <td>3.9</td>\n      <td>7.7</td>\n      <td>10.0</td>\n      <td>8.3</td>\n      <td>9.1</td>\n      <td>9.2</td>\n      <td>5.0</td>\n      <td>7.05</td>\n      <td>5.8</td>\n      <td>4.5</td>\n      <td>6.5</td>\n      <td>7.5</td>\n      <td>7.7</td>\n      <td>6.39</td>\n      <td>NaN</td>\n    </tr>\n    <tr>\n      <th>117</th>\n      <td>Latin America &amp; Caribbean</td>\n      <td>2018</td>\n      <td>Upper middle</td>\n      <td>Paraguay</td>\n      <td>7.19</td>\n      <td>4.3</td>\n      <td>7.9</td>\n      <td>10.0</td>\n      <td>8.5</td>\n      <td>8.4</td>\n      <td>9.2</td>\n      <td>5.0</td>\n      <td>7.14</td>\n      <td>8.5</td>\n      <td>4.3</td>\n      <td>9.5</td>\n      <td>7.2</td>\n      <td>6.6</td>\n      <td>7.23</td>\n      <td>NaN</td>\n    </tr>\n    <tr>\n      <th>122</th>\n      <td>Middle East &amp; North Africa</td>\n      <td>2018</td>\n      <td>High</td>\n      <td>Qatar</td>\n      <td>6.07</td>\n      <td>6.3</td>\n      <td>8.3</td>\n      <td>1.7</td>\n      <td>4.3</td>\n      <td>2.6</td>\n      <td>7.5</td>\n      <td>0.0</td>\n      <td>5.26</td>\n      <td>5.6</td>\n      <td>5.5</td>\n      <td>8.2</td>\n      <td>7.9</td>\n      <td>7.1</td>\n      <td>6.88</td>\n      <td>NaN</td>\n    </tr>\n    <tr>\n      <th>129</th>\n      <td>Sub-Saharan Africa</td>\n      <td>2018</td>\n      <td>High</td>\n      <td>Seychelles</td>\n      <td>7.34</td>\n      <td>5.5</td>\n      <td>8.3</td>\n      <td>4.2</td>\n      <td>7.4</td>\n      <td>7.4</td>\n      <td>8.3</td>\n      <td>10.0</td>\n      <td>7.18</td>\n      <td>6.7</td>\n      <td>5.5</td>\n      <td>9.3</td>\n      <td>8.3</td>\n      <td>7.7</td>\n      <td>7.49</td>\n      <td>NaN</td>\n    </tr>\n    <tr>\n      <th>137</th>\n      <td>Sub-Saharan Africa</td>\n      <td>2018</td>\n      <td>Lower middle</td>\n      <td>Sudan</td>\n      <td>4.01</td>\n      <td>3.3</td>\n      <td>4.8</td>\n      <td>3.3</td>\n      <td>4.1</td>\n      <td>4.0</td>\n      <td>6.3</td>\n      <td>0.0</td>\n      <td>3.81</td>\n      <td>8.5</td>\n      <td>2.8</td>\n      <td>2.5</td>\n      <td>2.7</td>\n      <td>4.5</td>\n      <td>4.21</td>\n      <td>NaN</td>\n    </tr>\n    <tr>\n      <th>138</th>\n      <td>Latin America &amp; Caribbean</td>\n      <td>2018</td>\n      <td>Upper middle</td>\n      <td>Suriname</td>\n      <td>7.31</td>\n      <td>5.0</td>\n      <td>9.3</td>\n      <td>10.0</td>\n      <td>8.9</td>\n      <td>8.6</td>\n      <td>9.2</td>\n      <td>10.0</td>\n      <td>8.24</td>\n      <td>5.5</td>\n      <td>4.5</td>\n      <td>7.6</td>\n      <td>6.8</td>\n      <td>7.5</td>\n      <td>6.37</td>\n      <td>NaN</td>\n    </tr>\n    <tr>\n      <th>141</th>\n      <td>Middle East &amp; North Africa</td>\n      <td>2018</td>\n      <td>Low</td>\n      <td>Syrian Arab Republic</td>\n      <td>3.97</td>\n      <td>1.8</td>\n      <td>4.9</td>\n      <td>0.8</td>\n      <td>3.4</td>\n      <td>1.4</td>\n      <td>2.5</td>\n      <td>0.0</td>\n      <td>2.49</td>\n      <td>6.6</td>\n      <td>3.0</td>\n      <td>8.1</td>\n      <td>4.6</td>\n      <td>5.0</td>\n      <td>5.45</td>\n      <td>NaN</td>\n    </tr>\n    <tr>\n      <th>146</th>\n      <td>East Asia &amp; Pacific</td>\n      <td>2018</td>\n      <td>Lower middle</td>\n      <td>Timor-Leste</td>\n      <td>6.89</td>\n      <td>3.3</td>\n      <td>8.9</td>\n      <td>10.0</td>\n      <td>8.3</td>\n      <td>8.1</td>\n      <td>9.2</td>\n      <td>8.8</td>\n      <td>7.48</td>\n      <td>4.5</td>\n      <td>3.3</td>\n      <td>8.4</td>\n      <td>8.2</td>\n      <td>7.1</td>\n      <td>6.29</td>\n      <td>NaN</td>\n    </tr>\n    <tr>\n      <th>148</th>\n      <td>Latin America &amp; Caribbean</td>\n      <td>2018</td>\n      <td>High</td>\n      <td>Trinidad and Tobago</td>\n      <td>7.13</td>\n      <td>4.5</td>\n      <td>6.5</td>\n      <td>7.5</td>\n      <td>8.9</td>\n      <td>8.6</td>\n      <td>10.0</td>\n      <td>7.5</td>\n      <td>7.00</td>\n      <td>7.2</td>\n      <td>5.2</td>\n      <td>9.2</td>\n      <td>7.9</td>\n      <td>6.8</td>\n      <td>7.26</td>\n      <td>NaN</td>\n    </tr>\n  </tbody>\n</table>\n</div>"
     },
     "metadata": {}
    }
   ]
  },
  {
   "cell_type": "code",
   "metadata": {
    "deepnote_to_be_reexecuted": false,
    "source_hash": "a58a921c",
    "execution_start": 1622349427077,
    "execution_millis": 6,
    "cell_id": "00024-6d567185-4888-4ece-9195-299c5481722e",
    "deepnote_cell_type": "code"
   },
   "source": "data1.isna().sum()",
   "execution_count": 23,
   "outputs": [
    {
     "output_type": "execute_result",
     "execution_count": 23,
     "data": {
      "text/plain": "region             0\nyear               0\nincome             0\ncountry            0\nhf_score           0\npf_rol             0\npf_ss              0\npf_movement        0\npf_religion        1\npf_association     3\npf_expression      0\npf_identity        0\npf_score           0\nef_government      0\nef_legal           0\nef_money           0\nef_trade           0\nef_regulation      0\nef_score           0\nlife_ladder       28\ndtype: int64"
     },
     "metadata": {}
    }
   ]
  },
  {
   "cell_type": "code",
   "metadata": {
    "deepnote_to_be_reexecuted": false,
    "source_hash": "8eb02a93",
    "execution_start": 1622349427078,
    "execution_millis": 0,
    "cell_id": "00025-ab4f7f48-2864-4705-8e69-7b01fb71354c",
    "deepnote_cell_type": "code"
   },
   "source": "# merge this data\ndata1.to_csv('data/hf-whr18.csv', index = False)",
   "execution_count": 24,
   "outputs": []
  },
  {
   "cell_type": "code",
   "metadata": {
    "deepnote_to_be_reexecuted": false,
    "source_hash": "2993d1b1",
    "execution_start": 1622349427079,
    "execution_millis": 33,
    "cell_id": "00026-d97116c9-d766-47b0-936a-9f6eb47cb9f8",
    "deepnote_cell_type": "code"
   },
   "source": "data2 = pd.merge(hfi[hfi.year == 2018], happiness[happiness.year == 2018], on = ['year', 'country'], how = 'right')\ndata2[data2.isnull().any(axis = 1)]",
   "execution_count": 25,
   "outputs": [
    {
     "output_type": "execute_result",
     "execution_count": 25,
     "data": {
      "application/vnd.deepnote.dataframe.v2+json": {
       "row_count": 8,
       "column_count": 20,
       "columns": [
        {
         "name": "region",
         "dtype": "object",
         "stats": {
          "unique_count": 0,
          "nan_count": 8,
          "categories": [
           {
            "name": "Missing",
            "count": 8
           }
          ]
         }
        },
        {
         "name": "year",
         "dtype": "int64",
         "stats": {
          "unique_count": 1,
          "nan_count": 0,
          "min": "2018",
          "max": "2018",
          "histogram": [
           {
            "bin_start": 2017.5,
            "bin_end": 2017.6,
            "count": 0
           },
           {
            "bin_start": 2017.6,
            "bin_end": 2017.7,
            "count": 0
           },
           {
            "bin_start": 2017.7,
            "bin_end": 2017.8,
            "count": 0
           },
           {
            "bin_start": 2017.8,
            "bin_end": 2017.9,
            "count": 0
           },
           {
            "bin_start": 2017.9,
            "bin_end": 2018,
            "count": 0
           },
           {
            "bin_start": 2018,
            "bin_end": 2018.1,
            "count": 8
           },
           {
            "bin_start": 2018.1,
            "bin_end": 2018.2,
            "count": 0
           },
           {
            "bin_start": 2018.2,
            "bin_end": 2018.3,
            "count": 0
           },
           {
            "bin_start": 2018.3,
            "bin_end": 2018.4,
            "count": 0
           },
           {
            "bin_start": 2018.4,
            "bin_end": 2018.5,
            "count": 0
           }
          ]
         }
        },
        {
         "name": "income",
         "dtype": "object",
         "stats": {
          "unique_count": 0,
          "nan_count": 8,
          "categories": [
           {
            "name": "Missing",
            "count": 8
           }
          ]
         }
        },
        {
         "name": "country",
         "dtype": "object",
         "stats": {
          "unique_count": 8,
          "nan_count": 0,
          "categories": [
           {
            "name": "Afghanistan",
            "count": 1
           },
           {
            "name": "Comoros",
            "count": 1
           },
           {
            "name": "6 others",
            "count": 6
           }
          ]
         }
        },
        {
         "name": "hf_score",
         "dtype": "float64",
         "stats": {
          "unique_count": 0,
          "nan_count": 8,
          "min": null,
          "max": null,
          "histogram": [
           {
            "bin_start": 0,
            "bin_end": 0.1,
            "count": 0
           },
           {
            "bin_start": 0.1,
            "bin_end": 0.2,
            "count": 0
           },
           {
            "bin_start": 0.2,
            "bin_end": 0.30000000000000004,
            "count": 0
           },
           {
            "bin_start": 0.30000000000000004,
            "bin_end": 0.4,
            "count": 0
           },
           {
            "bin_start": 0.4,
            "bin_end": 0.5,
            "count": 0
           },
           {
            "bin_start": 0.5,
            "bin_end": 0.6000000000000001,
            "count": 0
           },
           {
            "bin_start": 0.6000000000000001,
            "bin_end": 0.7000000000000001,
            "count": 0
           },
           {
            "bin_start": 0.7000000000000001,
            "bin_end": 0.8,
            "count": 0
           },
           {
            "bin_start": 0.8,
            "bin_end": 0.9,
            "count": 0
           },
           {
            "bin_start": 0.9,
            "bin_end": 1,
            "count": 0
           }
          ]
         }
        },
        {
         "name": "pf_rol",
         "dtype": "float64",
         "stats": {
          "unique_count": 0,
          "nan_count": 8,
          "min": null,
          "max": null,
          "histogram": [
           {
            "bin_start": 0,
            "bin_end": 0.1,
            "count": 0
           },
           {
            "bin_start": 0.1,
            "bin_end": 0.2,
            "count": 0
           },
           {
            "bin_start": 0.2,
            "bin_end": 0.30000000000000004,
            "count": 0
           },
           {
            "bin_start": 0.30000000000000004,
            "bin_end": 0.4,
            "count": 0
           },
           {
            "bin_start": 0.4,
            "bin_end": 0.5,
            "count": 0
           },
           {
            "bin_start": 0.5,
            "bin_end": 0.6000000000000001,
            "count": 0
           },
           {
            "bin_start": 0.6000000000000001,
            "bin_end": 0.7000000000000001,
            "count": 0
           },
           {
            "bin_start": 0.7000000000000001,
            "bin_end": 0.8,
            "count": 0
           },
           {
            "bin_start": 0.8,
            "bin_end": 0.9,
            "count": 0
           },
           {
            "bin_start": 0.9,
            "bin_end": 1,
            "count": 0
           }
          ]
         }
        },
        {
         "name": "pf_ss",
         "dtype": "float64",
         "stats": {
          "unique_count": 0,
          "nan_count": 8,
          "min": null,
          "max": null,
          "histogram": [
           {
            "bin_start": 0,
            "bin_end": 0.1,
            "count": 0
           },
           {
            "bin_start": 0.1,
            "bin_end": 0.2,
            "count": 0
           },
           {
            "bin_start": 0.2,
            "bin_end": 0.30000000000000004,
            "count": 0
           },
           {
            "bin_start": 0.30000000000000004,
            "bin_end": 0.4,
            "count": 0
           },
           {
            "bin_start": 0.4,
            "bin_end": 0.5,
            "count": 0
           },
           {
            "bin_start": 0.5,
            "bin_end": 0.6000000000000001,
            "count": 0
           },
           {
            "bin_start": 0.6000000000000001,
            "bin_end": 0.7000000000000001,
            "count": 0
           },
           {
            "bin_start": 0.7000000000000001,
            "bin_end": 0.8,
            "count": 0
           },
           {
            "bin_start": 0.8,
            "bin_end": 0.9,
            "count": 0
           },
           {
            "bin_start": 0.9,
            "bin_end": 1,
            "count": 0
           }
          ]
         }
        },
        {
         "name": "pf_movement",
         "dtype": "float64",
         "stats": {
          "unique_count": 0,
          "nan_count": 8,
          "min": null,
          "max": null,
          "histogram": [
           {
            "bin_start": 0,
            "bin_end": 0.1,
            "count": 0
           },
           {
            "bin_start": 0.1,
            "bin_end": 0.2,
            "count": 0
           },
           {
            "bin_start": 0.2,
            "bin_end": 0.30000000000000004,
            "count": 0
           },
           {
            "bin_start": 0.30000000000000004,
            "bin_end": 0.4,
            "count": 0
           },
           {
            "bin_start": 0.4,
            "bin_end": 0.5,
            "count": 0
           },
           {
            "bin_start": 0.5,
            "bin_end": 0.6000000000000001,
            "count": 0
           },
           {
            "bin_start": 0.6000000000000001,
            "bin_end": 0.7000000000000001,
            "count": 0
           },
           {
            "bin_start": 0.7000000000000001,
            "bin_end": 0.8,
            "count": 0
           },
           {
            "bin_start": 0.8,
            "bin_end": 0.9,
            "count": 0
           },
           {
            "bin_start": 0.9,
            "bin_end": 1,
            "count": 0
           }
          ]
         }
        },
        {
         "name": "pf_religion",
         "dtype": "float64",
         "stats": {
          "unique_count": 0,
          "nan_count": 8,
          "min": null,
          "max": null,
          "histogram": [
           {
            "bin_start": 0,
            "bin_end": 0.1,
            "count": 0
           },
           {
            "bin_start": 0.1,
            "bin_end": 0.2,
            "count": 0
           },
           {
            "bin_start": 0.2,
            "bin_end": 0.30000000000000004,
            "count": 0
           },
           {
            "bin_start": 0.30000000000000004,
            "bin_end": 0.4,
            "count": 0
           },
           {
            "bin_start": 0.4,
            "bin_end": 0.5,
            "count": 0
           },
           {
            "bin_start": 0.5,
            "bin_end": 0.6000000000000001,
            "count": 0
           },
           {
            "bin_start": 0.6000000000000001,
            "bin_end": 0.7000000000000001,
            "count": 0
           },
           {
            "bin_start": 0.7000000000000001,
            "bin_end": 0.8,
            "count": 0
           },
           {
            "bin_start": 0.8,
            "bin_end": 0.9,
            "count": 0
           },
           {
            "bin_start": 0.9,
            "bin_end": 1,
            "count": 0
           }
          ]
         }
        },
        {
         "name": "pf_association",
         "dtype": "float64",
         "stats": {
          "unique_count": 0,
          "nan_count": 8,
          "min": null,
          "max": null,
          "histogram": [
           {
            "bin_start": 0,
            "bin_end": 0.1,
            "count": 0
           },
           {
            "bin_start": 0.1,
            "bin_end": 0.2,
            "count": 0
           },
           {
            "bin_start": 0.2,
            "bin_end": 0.30000000000000004,
            "count": 0
           },
           {
            "bin_start": 0.30000000000000004,
            "bin_end": 0.4,
            "count": 0
           },
           {
            "bin_start": 0.4,
            "bin_end": 0.5,
            "count": 0
           },
           {
            "bin_start": 0.5,
            "bin_end": 0.6000000000000001,
            "count": 0
           },
           {
            "bin_start": 0.6000000000000001,
            "bin_end": 0.7000000000000001,
            "count": 0
           },
           {
            "bin_start": 0.7000000000000001,
            "bin_end": 0.8,
            "count": 0
           },
           {
            "bin_start": 0.8,
            "bin_end": 0.9,
            "count": 0
           },
           {
            "bin_start": 0.9,
            "bin_end": 1,
            "count": 0
           }
          ]
         }
        },
        {
         "name": "pf_expression",
         "dtype": "float64",
         "stats": {
          "unique_count": 0,
          "nan_count": 8,
          "min": null,
          "max": null,
          "histogram": [
           {
            "bin_start": 0,
            "bin_end": 0.1,
            "count": 0
           },
           {
            "bin_start": 0.1,
            "bin_end": 0.2,
            "count": 0
           },
           {
            "bin_start": 0.2,
            "bin_end": 0.30000000000000004,
            "count": 0
           },
           {
            "bin_start": 0.30000000000000004,
            "bin_end": 0.4,
            "count": 0
           },
           {
            "bin_start": 0.4,
            "bin_end": 0.5,
            "count": 0
           },
           {
            "bin_start": 0.5,
            "bin_end": 0.6000000000000001,
            "count": 0
           },
           {
            "bin_start": 0.6000000000000001,
            "bin_end": 0.7000000000000001,
            "count": 0
           },
           {
            "bin_start": 0.7000000000000001,
            "bin_end": 0.8,
            "count": 0
           },
           {
            "bin_start": 0.8,
            "bin_end": 0.9,
            "count": 0
           },
           {
            "bin_start": 0.9,
            "bin_end": 1,
            "count": 0
           }
          ]
         }
        },
        {
         "name": "pf_identity",
         "dtype": "float64",
         "stats": {
          "unique_count": 0,
          "nan_count": 8,
          "min": null,
          "max": null,
          "histogram": [
           {
            "bin_start": 0,
            "bin_end": 0.1,
            "count": 0
           },
           {
            "bin_start": 0.1,
            "bin_end": 0.2,
            "count": 0
           },
           {
            "bin_start": 0.2,
            "bin_end": 0.30000000000000004,
            "count": 0
           },
           {
            "bin_start": 0.30000000000000004,
            "bin_end": 0.4,
            "count": 0
           },
           {
            "bin_start": 0.4,
            "bin_end": 0.5,
            "count": 0
           },
           {
            "bin_start": 0.5,
            "bin_end": 0.6000000000000001,
            "count": 0
           },
           {
            "bin_start": 0.6000000000000001,
            "bin_end": 0.7000000000000001,
            "count": 0
           },
           {
            "bin_start": 0.7000000000000001,
            "bin_end": 0.8,
            "count": 0
           },
           {
            "bin_start": 0.8,
            "bin_end": 0.9,
            "count": 0
           },
           {
            "bin_start": 0.9,
            "bin_end": 1,
            "count": 0
           }
          ]
         }
        },
        {
         "name": "pf_score",
         "dtype": "float64",
         "stats": {
          "unique_count": 0,
          "nan_count": 8,
          "min": null,
          "max": null,
          "histogram": [
           {
            "bin_start": 0,
            "bin_end": 0.1,
            "count": 0
           },
           {
            "bin_start": 0.1,
            "bin_end": 0.2,
            "count": 0
           },
           {
            "bin_start": 0.2,
            "bin_end": 0.30000000000000004,
            "count": 0
           },
           {
            "bin_start": 0.30000000000000004,
            "bin_end": 0.4,
            "count": 0
           },
           {
            "bin_start": 0.4,
            "bin_end": 0.5,
            "count": 0
           },
           {
            "bin_start": 0.5,
            "bin_end": 0.6000000000000001,
            "count": 0
           },
           {
            "bin_start": 0.6000000000000001,
            "bin_end": 0.7000000000000001,
            "count": 0
           },
           {
            "bin_start": 0.7000000000000001,
            "bin_end": 0.8,
            "count": 0
           },
           {
            "bin_start": 0.8,
            "bin_end": 0.9,
            "count": 0
           },
           {
            "bin_start": 0.9,
            "bin_end": 1,
            "count": 0
           }
          ]
         }
        },
        {
         "name": "ef_government",
         "dtype": "float64",
         "stats": {
          "unique_count": 0,
          "nan_count": 8,
          "min": null,
          "max": null,
          "histogram": [
           {
            "bin_start": 0,
            "bin_end": 0.1,
            "count": 0
           },
           {
            "bin_start": 0.1,
            "bin_end": 0.2,
            "count": 0
           },
           {
            "bin_start": 0.2,
            "bin_end": 0.30000000000000004,
            "count": 0
           },
           {
            "bin_start": 0.30000000000000004,
            "bin_end": 0.4,
            "count": 0
           },
           {
            "bin_start": 0.4,
            "bin_end": 0.5,
            "count": 0
           },
           {
            "bin_start": 0.5,
            "bin_end": 0.6000000000000001,
            "count": 0
           },
           {
            "bin_start": 0.6000000000000001,
            "bin_end": 0.7000000000000001,
            "count": 0
           },
           {
            "bin_start": 0.7000000000000001,
            "bin_end": 0.8,
            "count": 0
           },
           {
            "bin_start": 0.8,
            "bin_end": 0.9,
            "count": 0
           },
           {
            "bin_start": 0.9,
            "bin_end": 1,
            "count": 0
           }
          ]
         }
        },
        {
         "name": "ef_legal",
         "dtype": "float64",
         "stats": {
          "unique_count": 0,
          "nan_count": 8,
          "min": null,
          "max": null,
          "histogram": [
           {
            "bin_start": 0,
            "bin_end": 0.1,
            "count": 0
           },
           {
            "bin_start": 0.1,
            "bin_end": 0.2,
            "count": 0
           },
           {
            "bin_start": 0.2,
            "bin_end": 0.30000000000000004,
            "count": 0
           },
           {
            "bin_start": 0.30000000000000004,
            "bin_end": 0.4,
            "count": 0
           },
           {
            "bin_start": 0.4,
            "bin_end": 0.5,
            "count": 0
           },
           {
            "bin_start": 0.5,
            "bin_end": 0.6000000000000001,
            "count": 0
           },
           {
            "bin_start": 0.6000000000000001,
            "bin_end": 0.7000000000000001,
            "count": 0
           },
           {
            "bin_start": 0.7000000000000001,
            "bin_end": 0.8,
            "count": 0
           },
           {
            "bin_start": 0.8,
            "bin_end": 0.9,
            "count": 0
           },
           {
            "bin_start": 0.9,
            "bin_end": 1,
            "count": 0
           }
          ]
         }
        },
        {
         "name": "ef_money",
         "dtype": "float64",
         "stats": {
          "unique_count": 0,
          "nan_count": 8,
          "min": null,
          "max": null,
          "histogram": [
           {
            "bin_start": 0,
            "bin_end": 0.1,
            "count": 0
           },
           {
            "bin_start": 0.1,
            "bin_end": 0.2,
            "count": 0
           },
           {
            "bin_start": 0.2,
            "bin_end": 0.30000000000000004,
            "count": 0
           },
           {
            "bin_start": 0.30000000000000004,
            "bin_end": 0.4,
            "count": 0
           },
           {
            "bin_start": 0.4,
            "bin_end": 0.5,
            "count": 0
           },
           {
            "bin_start": 0.5,
            "bin_end": 0.6000000000000001,
            "count": 0
           },
           {
            "bin_start": 0.6000000000000001,
            "bin_end": 0.7000000000000001,
            "count": 0
           },
           {
            "bin_start": 0.7000000000000001,
            "bin_end": 0.8,
            "count": 0
           },
           {
            "bin_start": 0.8,
            "bin_end": 0.9,
            "count": 0
           },
           {
            "bin_start": 0.9,
            "bin_end": 1,
            "count": 0
           }
          ]
         }
        },
        {
         "name": "ef_trade",
         "dtype": "float64",
         "stats": {
          "unique_count": 0,
          "nan_count": 8,
          "min": null,
          "max": null,
          "histogram": [
           {
            "bin_start": 0,
            "bin_end": 0.1,
            "count": 0
           },
           {
            "bin_start": 0.1,
            "bin_end": 0.2,
            "count": 0
           },
           {
            "bin_start": 0.2,
            "bin_end": 0.30000000000000004,
            "count": 0
           },
           {
            "bin_start": 0.30000000000000004,
            "bin_end": 0.4,
            "count": 0
           },
           {
            "bin_start": 0.4,
            "bin_end": 0.5,
            "count": 0
           },
           {
            "bin_start": 0.5,
            "bin_end": 0.6000000000000001,
            "count": 0
           },
           {
            "bin_start": 0.6000000000000001,
            "bin_end": 0.7000000000000001,
            "count": 0
           },
           {
            "bin_start": 0.7000000000000001,
            "bin_end": 0.8,
            "count": 0
           },
           {
            "bin_start": 0.8,
            "bin_end": 0.9,
            "count": 0
           },
           {
            "bin_start": 0.9,
            "bin_end": 1,
            "count": 0
           }
          ]
         }
        },
        {
         "name": "ef_regulation",
         "dtype": "float64",
         "stats": {
          "unique_count": 0,
          "nan_count": 8,
          "min": null,
          "max": null,
          "histogram": [
           {
            "bin_start": 0,
            "bin_end": 0.1,
            "count": 0
           },
           {
            "bin_start": 0.1,
            "bin_end": 0.2,
            "count": 0
           },
           {
            "bin_start": 0.2,
            "bin_end": 0.30000000000000004,
            "count": 0
           },
           {
            "bin_start": 0.30000000000000004,
            "bin_end": 0.4,
            "count": 0
           },
           {
            "bin_start": 0.4,
            "bin_end": 0.5,
            "count": 0
           },
           {
            "bin_start": 0.5,
            "bin_end": 0.6000000000000001,
            "count": 0
           },
           {
            "bin_start": 0.6000000000000001,
            "bin_end": 0.7000000000000001,
            "count": 0
           },
           {
            "bin_start": 0.7000000000000001,
            "bin_end": 0.8,
            "count": 0
           },
           {
            "bin_start": 0.8,
            "bin_end": 0.9,
            "count": 0
           },
           {
            "bin_start": 0.9,
            "bin_end": 1,
            "count": 0
           }
          ]
         }
        },
        {
         "name": "ef_score",
         "dtype": "float64",
         "stats": {
          "unique_count": 0,
          "nan_count": 8,
          "min": null,
          "max": null,
          "histogram": [
           {
            "bin_start": 0,
            "bin_end": 0.1,
            "count": 0
           },
           {
            "bin_start": 0.1,
            "bin_end": 0.2,
            "count": 0
           },
           {
            "bin_start": 0.2,
            "bin_end": 0.30000000000000004,
            "count": 0
           },
           {
            "bin_start": 0.30000000000000004,
            "bin_end": 0.4,
            "count": 0
           },
           {
            "bin_start": 0.4,
            "bin_end": 0.5,
            "count": 0
           },
           {
            "bin_start": 0.5,
            "bin_end": 0.6000000000000001,
            "count": 0
           },
           {
            "bin_start": 0.6000000000000001,
            "bin_end": 0.7000000000000001,
            "count": 0
           },
           {
            "bin_start": 0.7000000000000001,
            "bin_end": 0.8,
            "count": 0
           },
           {
            "bin_start": 0.8,
            "bin_end": 0.9,
            "count": 0
           },
           {
            "bin_start": 0.9,
            "bin_end": 1,
            "count": 0
           }
          ]
         }
        },
        {
         "name": "life_ladder",
         "dtype": "float64",
         "stats": {
          "unique_count": 8,
          "nan_count": 0,
          "min": "2.694303274",
          "max": "6.391825676",
          "histogram": [
           {
            "bin_start": 2.694303274,
            "bin_end": 3.0640555142,
            "count": 1
           },
           {
            "bin_start": 3.0640555142,
            "bin_end": 3.4338077544,
            "count": 0
           },
           {
            "bin_start": 3.4338077544,
            "bin_end": 3.8035599946,
            "count": 0
           },
           {
            "bin_start": 3.8035599946,
            "bin_end": 4.1733122348,
            "count": 1
           },
           {
            "bin_start": 4.1733122348,
            "bin_end": 4.5430644749999995,
            "count": 0
           },
           {
            "bin_start": 4.5430644749999995,
            "bin_end": 4.9128167152,
            "count": 2
           },
           {
            "bin_start": 4.9128167152,
            "bin_end": 5.2825689554,
            "count": 1
           },
           {
            "bin_start": 5.2825689554,
            "bin_end": 5.6523211956,
            "count": 1
           },
           {
            "bin_start": 5.6523211956,
            "bin_end": 6.022073435799999,
            "count": 0
           },
           {
            "bin_start": 6.022073435799999,
            "bin_end": 6.391825676,
            "count": 2
           }
          ]
         }
        },
        {
         "name": "_deepnote_index_column",
         "dtype": "int64"
        }
       ],
       "rows_top": [
        {
         "region": "nan",
         "year": 2018,
         "income": "nan",
         "country": "Afghanistan",
         "hf_score": "nan",
         "pf_rol": "nan",
         "pf_ss": "nan",
         "pf_movement": "nan",
         "pf_religion": "nan",
         "pf_association": "nan",
         "pf_expression": "nan",
         "pf_identity": "nan",
         "pf_score": "nan",
         "ef_government": "nan",
         "ef_legal": "nan",
         "ef_money": "nan",
         "ef_trade": "nan",
         "ef_regulation": "nan",
         "ef_score": "nan",
         "life_ladder": 2.694303274,
         "_deepnote_index_column": 0
        },
        {
         "region": "nan",
         "year": 2018,
         "income": "nan",
         "country": "Comoros",
         "hf_score": "nan",
         "pf_rol": "nan",
         "pf_ss": "nan",
         "pf_movement": "nan",
         "pf_religion": "nan",
         "pf_association": "nan",
         "pf_expression": "nan",
         "pf_identity": "nan",
         "pf_score": "nan",
         "ef_government": "nan",
         "ef_legal": "nan",
         "ef_money": "nan",
         "ef_trade": "nan",
         "ef_regulation": "nan",
         "ef_score": "nan",
         "life_ladder": 3.972819567,
         "_deepnote_index_column": 26
        },
        {
         "region": "nan",
         "year": 2018,
         "income": "nan",
         "country": "Kosovo",
         "hf_score": "nan",
         "pf_rol": "nan",
         "pf_ss": "nan",
         "pf_movement": "nan",
         "pf_religion": "nan",
         "pf_association": "nan",
         "pf_expression": "nan",
         "pf_identity": "nan",
         "pf_score": "nan",
         "ef_government": "nan",
         "ef_legal": "nan",
         "ef_money": "nan",
         "ef_trade": "nan",
         "ef_regulation": "nan",
         "ef_score": "nan",
         "life_ladder": 6.391825676,
         "_deepnote_index_column": 64
        },
        {
         "region": "nan",
         "year": 2018,
         "income": "nan",
         "country": "Maldives",
         "hf_score": "nan",
         "pf_rol": "nan",
         "pf_ss": "nan",
         "pf_movement": "nan",
         "pf_religion": "nan",
         "pf_association": "nan",
         "pf_expression": "nan",
         "pf_identity": "nan",
         "pf_score": "nan",
         "ef_government": "nan",
         "ef_legal": "nan",
         "ef_money": "nan",
         "ef_trade": "nan",
         "ef_regulation": "nan",
         "ef_score": "nan",
         "life_ladder": 5.197574615,
         "_deepnote_index_column": 77
        },
        {
         "region": "nan",
         "year": 2018,
         "income": "nan",
         "country": "North Cyprus",
         "hf_score": "nan",
         "pf_rol": "nan",
         "pf_ss": "nan",
         "pf_movement": "nan",
         "pf_religion": "nan",
         "pf_association": "nan",
         "pf_expression": "nan",
         "pf_identity": "nan",
         "pf_score": "nan",
         "ef_government": "nan",
         "ef_legal": "nan",
         "ef_money": "nan",
         "ef_trade": "nan",
         "ef_regulation": "nan",
         "ef_score": "nan",
         "life_ladder": 5.608056068,
         "_deepnote_index_column": 96
        },
        {
         "region": "nan",
         "year": 2018,
         "income": "nan",
         "country": "Palestinian Territories",
         "hf_score": "nan",
         "pf_rol": "nan",
         "pf_ss": "nan",
         "pf_movement": "nan",
         "pf_religion": "nan",
         "pf_association": "nan",
         "pf_expression": "nan",
         "pf_identity": "nan",
         "pf_score": "nan",
         "ef_government": "nan",
         "ef_legal": "nan",
         "ef_money": "nan",
         "ef_trade": "nan",
         "ef_regulation": "nan",
         "ef_score": "nan",
         "life_ladder": 4.5539217,
         "_deepnote_index_column": 99
        },
        {
         "region": "nan",
         "year": 2018,
         "income": "nan",
         "country": "Turkmenistan",
         "hf_score": "nan",
         "pf_rol": "nan",
         "pf_ss": "nan",
         "pf_movement": "nan",
         "pf_religion": "nan",
         "pf_association": "nan",
         "pf_expression": "nan",
         "pf_identity": "nan",
         "pf_score": "nan",
         "ef_government": "nan",
         "ef_legal": "nan",
         "ef_money": "nan",
         "ef_trade": "nan",
         "ef_regulation": "nan",
         "ef_score": "nan",
         "life_ladder": 4.620601654,
         "_deepnote_index_column": 129
        },
        {
         "region": "nan",
         "year": 2018,
         "income": "nan",
         "country": "Uzbekistan",
         "hf_score": "nan",
         "pf_rol": "nan",
         "pf_ss": "nan",
         "pf_movement": "nan",
         "pf_religion": "nan",
         "pf_association": "nan",
         "pf_expression": "nan",
         "pf_identity": "nan",
         "pf_score": "nan",
         "ef_government": "nan",
         "ef_legal": "nan",
         "ef_money": "nan",
         "ef_trade": "nan",
         "ef_regulation": "nan",
         "ef_score": "nan",
         "life_ladder": 6.205460072,
         "_deepnote_index_column": 136
        }
       ],
       "rows_bottom": null
      },
      "text/plain": "    region  year income                  country  hf_score  pf_rol  pf_ss  \\\n0      NaN  2018    NaN              Afghanistan       NaN     NaN    NaN   \n26     NaN  2018    NaN                  Comoros       NaN     NaN    NaN   \n64     NaN  2018    NaN                   Kosovo       NaN     NaN    NaN   \n77     NaN  2018    NaN                 Maldives       NaN     NaN    NaN   \n96     NaN  2018    NaN             North Cyprus       NaN     NaN    NaN   \n99     NaN  2018    NaN  Palestinian Territories       NaN     NaN    NaN   \n129    NaN  2018    NaN             Turkmenistan       NaN     NaN    NaN   \n136    NaN  2018    NaN               Uzbekistan       NaN     NaN    NaN   \n\n     pf_movement  pf_religion  pf_association  pf_expression  pf_identity  \\\n0            NaN          NaN             NaN            NaN          NaN   \n26           NaN          NaN             NaN            NaN          NaN   \n64           NaN          NaN             NaN            NaN          NaN   \n77           NaN          NaN             NaN            NaN          NaN   \n96           NaN          NaN             NaN            NaN          NaN   \n99           NaN          NaN             NaN            NaN          NaN   \n129          NaN          NaN             NaN            NaN          NaN   \n136          NaN          NaN             NaN            NaN          NaN   \n\n     pf_score  ef_government  ef_legal  ef_money  ef_trade  ef_regulation  \\\n0         NaN            NaN       NaN       NaN       NaN            NaN   \n26        NaN            NaN       NaN       NaN       NaN            NaN   \n64        NaN            NaN       NaN       NaN       NaN            NaN   \n77        NaN            NaN       NaN       NaN       NaN            NaN   \n96        NaN            NaN       NaN       NaN       NaN            NaN   \n99        NaN            NaN       NaN       NaN       NaN            NaN   \n129       NaN            NaN       NaN       NaN       NaN            NaN   \n136       NaN            NaN       NaN       NaN       NaN            NaN   \n\n     ef_score  life_ladder  \n0         NaN     2.694303  \n26        NaN     3.972820  \n64        NaN     6.391826  \n77        NaN     5.197575  \n96        NaN     5.608056  \n99        NaN     4.553922  \n129       NaN     4.620602  \n136       NaN     6.205460  ",
      "text/html": "<div>\n<style scoped>\n    .dataframe tbody tr th:only-of-type {\n        vertical-align: middle;\n    }\n\n    .dataframe tbody tr th {\n        vertical-align: top;\n    }\n\n    .dataframe thead th {\n        text-align: right;\n    }\n</style>\n<table border=\"1\" class=\"dataframe\">\n  <thead>\n    <tr style=\"text-align: right;\">\n      <th></th>\n      <th>region</th>\n      <th>year</th>\n      <th>income</th>\n      <th>country</th>\n      <th>hf_score</th>\n      <th>pf_rol</th>\n      <th>pf_ss</th>\n      <th>pf_movement</th>\n      <th>pf_religion</th>\n      <th>pf_association</th>\n      <th>pf_expression</th>\n      <th>pf_identity</th>\n      <th>pf_score</th>\n      <th>ef_government</th>\n      <th>ef_legal</th>\n      <th>ef_money</th>\n      <th>ef_trade</th>\n      <th>ef_regulation</th>\n      <th>ef_score</th>\n      <th>life_ladder</th>\n    </tr>\n  </thead>\n  <tbody>\n    <tr>\n      <th>0</th>\n      <td>NaN</td>\n      <td>2018</td>\n      <td>NaN</td>\n      <td>Afghanistan</td>\n      <td>NaN</td>\n      <td>NaN</td>\n      <td>NaN</td>\n      <td>NaN</td>\n      <td>NaN</td>\n      <td>NaN</td>\n      <td>NaN</td>\n      <td>NaN</td>\n      <td>NaN</td>\n      <td>NaN</td>\n      <td>NaN</td>\n      <td>NaN</td>\n      <td>NaN</td>\n      <td>NaN</td>\n      <td>NaN</td>\n      <td>2.694303</td>\n    </tr>\n    <tr>\n      <th>26</th>\n      <td>NaN</td>\n      <td>2018</td>\n      <td>NaN</td>\n      <td>Comoros</td>\n      <td>NaN</td>\n      <td>NaN</td>\n      <td>NaN</td>\n      <td>NaN</td>\n      <td>NaN</td>\n      <td>NaN</td>\n      <td>NaN</td>\n      <td>NaN</td>\n      <td>NaN</td>\n      <td>NaN</td>\n      <td>NaN</td>\n      <td>NaN</td>\n      <td>NaN</td>\n      <td>NaN</td>\n      <td>NaN</td>\n      <td>3.972820</td>\n    </tr>\n    <tr>\n      <th>64</th>\n      <td>NaN</td>\n      <td>2018</td>\n      <td>NaN</td>\n      <td>Kosovo</td>\n      <td>NaN</td>\n      <td>NaN</td>\n      <td>NaN</td>\n      <td>NaN</td>\n      <td>NaN</td>\n      <td>NaN</td>\n      <td>NaN</td>\n      <td>NaN</td>\n      <td>NaN</td>\n      <td>NaN</td>\n      <td>NaN</td>\n      <td>NaN</td>\n      <td>NaN</td>\n      <td>NaN</td>\n      <td>NaN</td>\n      <td>6.391826</td>\n    </tr>\n    <tr>\n      <th>77</th>\n      <td>NaN</td>\n      <td>2018</td>\n      <td>NaN</td>\n      <td>Maldives</td>\n      <td>NaN</td>\n      <td>NaN</td>\n      <td>NaN</td>\n      <td>NaN</td>\n      <td>NaN</td>\n      <td>NaN</td>\n      <td>NaN</td>\n      <td>NaN</td>\n      <td>NaN</td>\n      <td>NaN</td>\n      <td>NaN</td>\n      <td>NaN</td>\n      <td>NaN</td>\n      <td>NaN</td>\n      <td>NaN</td>\n      <td>5.197575</td>\n    </tr>\n    <tr>\n      <th>96</th>\n      <td>NaN</td>\n      <td>2018</td>\n      <td>NaN</td>\n      <td>North Cyprus</td>\n      <td>NaN</td>\n      <td>NaN</td>\n      <td>NaN</td>\n      <td>NaN</td>\n      <td>NaN</td>\n      <td>NaN</td>\n      <td>NaN</td>\n      <td>NaN</td>\n      <td>NaN</td>\n      <td>NaN</td>\n      <td>NaN</td>\n      <td>NaN</td>\n      <td>NaN</td>\n      <td>NaN</td>\n      <td>NaN</td>\n      <td>5.608056</td>\n    </tr>\n    <tr>\n      <th>99</th>\n      <td>NaN</td>\n      <td>2018</td>\n      <td>NaN</td>\n      <td>Palestinian Territories</td>\n      <td>NaN</td>\n      <td>NaN</td>\n      <td>NaN</td>\n      <td>NaN</td>\n      <td>NaN</td>\n      <td>NaN</td>\n      <td>NaN</td>\n      <td>NaN</td>\n      <td>NaN</td>\n      <td>NaN</td>\n      <td>NaN</td>\n      <td>NaN</td>\n      <td>NaN</td>\n      <td>NaN</td>\n      <td>NaN</td>\n      <td>4.553922</td>\n    </tr>\n    <tr>\n      <th>129</th>\n      <td>NaN</td>\n      <td>2018</td>\n      <td>NaN</td>\n      <td>Turkmenistan</td>\n      <td>NaN</td>\n      <td>NaN</td>\n      <td>NaN</td>\n      <td>NaN</td>\n      <td>NaN</td>\n      <td>NaN</td>\n      <td>NaN</td>\n      <td>NaN</td>\n      <td>NaN</td>\n      <td>NaN</td>\n      <td>NaN</td>\n      <td>NaN</td>\n      <td>NaN</td>\n      <td>NaN</td>\n      <td>NaN</td>\n      <td>4.620602</td>\n    </tr>\n    <tr>\n      <th>136</th>\n      <td>NaN</td>\n      <td>2018</td>\n      <td>NaN</td>\n      <td>Uzbekistan</td>\n      <td>NaN</td>\n      <td>NaN</td>\n      <td>NaN</td>\n      <td>NaN</td>\n      <td>NaN</td>\n      <td>NaN</td>\n      <td>NaN</td>\n      <td>NaN</td>\n      <td>NaN</td>\n      <td>NaN</td>\n      <td>NaN</td>\n      <td>NaN</td>\n      <td>NaN</td>\n      <td>NaN</td>\n      <td>NaN</td>\n      <td>6.205460</td>\n    </tr>\n  </tbody>\n</table>\n</div>"
     },
     "metadata": {}
    }
   ]
  },
  {
   "cell_type": "code",
   "metadata": {
    "tags": [],
    "deepnote_to_be_reexecuted": false,
    "source_hash": "b623e53d",
    "execution_start": 1622349427107,
    "execution_millis": 1,
    "cell_id": "00027-8a9a5b61-e2f8-4053-8819-0d562b9e74b9",
    "deepnote_cell_type": "code"
   },
   "source": "",
   "execution_count": 25,
   "outputs": []
  },
  {
   "cell_type": "markdown",
   "source": "# write a meta data file",
   "metadata": {
    "cell_id": "00028-0d87fd29-5e9e-4abe-a4f0-849c1ec8f307",
    "deepnote_cell_type": "markdown"
   }
  },
  {
   "cell_type": "markdown",
   "source": "# end of writing to csv, see next pynb",
   "metadata": {
    "cell_id": "00029-9161a659-85bb-460d-999c-d501e58c520d",
    "deepnote_cell_type": "markdown"
   }
  },
  {
   "cell_type": "markdown",
   "source": "<a style='text-decoration:none;line-height:16px;display:flex;color:#5B5B62;padding:10px;justify-content:end;' href='https://deepnote.com?utm_source=created-in-deepnote-cell&projectId=f67ac267-6d1b-412b-8a5a-c5b3558f5c98' target=\"_blank\">\n<img alt='Created in deepnote.com' style='display:inline;max-height:16px;margin:0px;margin-right:7.5px;' src='data:image/svg+xml;base64,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' > </img>\nCreated in <span style='font-weight:600;margin-left:4px;'>Deepnote</span></a>",
   "metadata": {
    "tags": [],
    "created_in_deepnote_cell": true,
    "deepnote_cell_type": "markdown"
   }
  }
 ],
 "nbformat": 4,
 "nbformat_minor": 5,
 "metadata": {
  "deepnote_notebook_id": "b0adebd7-d160-4911-9639-d6453264f1b5",
  "kernelspec": {
   "display_name": "Python 3",
   "language": "python",
   "name": "python3"
  },
  "language_info": {
   "codemirror_mode": {
    "name": "ipython",
    "version": 3
   },
   "file_extension": ".py",
   "mimetype": "text/x-python",
   "name": "python",
   "nbconvert_exporter": "python",
   "pygments_lexer": "ipython3",
   "version": "3.7.10"
  },
  "toc": {
   "base_numbering": 1,
   "nav_menu": {},
   "number_sections": true,
   "sideBar": true,
   "skip_h1_title": false,
   "title_cell": "Table of Contents",
   "title_sidebar": "Contents",
   "toc_cell": false,
   "toc_position": {},
   "toc_section_display": true,
   "toc_window_display": false
  },
  "deepnote": {},
  "deepnote_execution_queue": []
 }
}